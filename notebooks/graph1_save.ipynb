{
 "cells": [
  {
   "cell_type": "code",
   "execution_count": 1,
   "metadata": {},
   "outputs": [
    {
     "name": "stderr",
     "output_type": "stream",
     "text": [
      "c:\\Users\\Monica\\Desktop\\A_Uni\\4º Year\\1C\\Web Analytics\\Final Project\\FP\\utils.py:16: DtypeWarning: Columns (15) have mixed types. Specify dtype option on import or set low_memory=False.\n",
      "  data = pd.read_csv('data/events_usa_clean.csv')\n"
     ]
    }
   ],
   "source": [
    "\n",
    "cities = ['Las Vegas', 'New York', 'Boston', 'Chicago', 'Philadelphia',\n",
    "       'Los Angeles', 'Atlanta', 'Washington', 'Seattle', 'San Diego',\n",
    "       'San Francisco', 'Houston', 'Dallas', 'Raleigh', 'Ft Lauderdale',\n",
    "       'Indianapolis', 'Columbus', 'Detroit', 'Denver', 'Nashville']\n",
    "\n",
    "from attractions_module.graph1 import *\n",
    "from utils import *\n",
    "import pickle\n",
    "\n",
    "data = load_data()\n",
    "\n",
    "segments = data['segment_name'].unique()"
   ]
  },
  {
   "cell_type": "code",
   "execution_count": null,
   "metadata": {},
   "outputs": [],
   "source": [
    "\n",
    "def save_attracion_genre_graph(city, segment, data):\n",
    "    data = data[data['venue_city'] == city]\n",
    "    data = data[data['segment_name'] == segment]\n",
    "    G = create_attraction_genre_graph(segment, data)\n",
    "    pickle.dump(G, open(f'data/graphs1/{city}_{segment}.pickle', 'wb'))\n",
    "    print(f'Saved graph for {city} and {segment}')\n",
    "\n",
    "\n"
   ]
  },
  {
   "cell_type": "code",
   "execution_count": 9,
   "metadata": {},
   "outputs": [
    {
     "name": "stdout",
     "output_type": "stream",
     "text": [
      "Saved graph for Las Vegas and Sports\n",
      "Saved graph for Las Vegas and Arts & Theatre\n",
      "Saved graph for Las Vegas and Miscellaneous\n",
      "Saved graph for Las Vegas and Music\n",
      "Saved graph for Las Vegas and Film\n",
      "Saved graph for New York and Sports\n",
      "Saved graph for New York and Arts & Theatre\n",
      "Saved graph for New York and Miscellaneous\n",
      "Saved graph for New York and Music\n",
      "Saved graph for New York and Film\n",
      "Saved graph for Boston and Sports\n",
      "Saved graph for Boston and Arts & Theatre\n",
      "Saved graph for Boston and Miscellaneous\n",
      "Saved graph for Boston and Music\n",
      "Saved graph for Boston and Film\n",
      "Saved graph for Chicago and Sports\n",
      "Saved graph for Chicago and Arts & Theatre\n",
      "Saved graph for Chicago and Miscellaneous\n",
      "Saved graph for Chicago and Music\n",
      "Saved graph for Chicago and Film\n",
      "Saved graph for Philadelphia and Sports\n",
      "Saved graph for Philadelphia and Arts & Theatre\n",
      "Saved graph for Philadelphia and Miscellaneous\n",
      "Saved graph for Philadelphia and Music\n",
      "Saved graph for Philadelphia and Film\n",
      "Saved graph for Los Angeles and Sports\n",
      "Saved graph for Los Angeles and Arts & Theatre\n",
      "Saved graph for Los Angeles and Miscellaneous\n",
      "Saved graph for Los Angeles and Music\n",
      "Saved graph for Los Angeles and Film\n",
      "Saved graph for Atlanta and Sports\n",
      "Saved graph for Atlanta and Arts & Theatre\n",
      "Saved graph for Atlanta and Miscellaneous\n",
      "Saved graph for Atlanta and Music\n",
      "Saved graph for Atlanta and Film\n",
      "Saved graph for Washington and Sports\n",
      "Saved graph for Washington and Arts & Theatre\n",
      "Saved graph for Washington and Miscellaneous\n",
      "Saved graph for Washington and Music\n",
      "Saved graph for Washington and Film\n",
      "Saved graph for Seattle and Sports\n",
      "Saved graph for Seattle and Arts & Theatre\n",
      "Saved graph for Seattle and Miscellaneous\n",
      "Saved graph for Seattle and Music\n",
      "Saved graph for Seattle and Film\n",
      "Saved graph for San Diego and Sports\n",
      "Saved graph for San Diego and Arts & Theatre\n",
      "Saved graph for San Diego and Miscellaneous\n",
      "Saved graph for San Diego and Music\n",
      "Saved graph for San Diego and Film\n",
      "Saved graph for San Francisco and Sports\n",
      "Saved graph for San Francisco and Arts & Theatre\n",
      "Saved graph for San Francisco and Miscellaneous\n",
      "Saved graph for San Francisco and Music\n",
      "Saved graph for San Francisco and Film\n",
      "Saved graph for Houston and Sports\n",
      "Saved graph for Houston and Arts & Theatre\n",
      "Saved graph for Houston and Miscellaneous\n",
      "Saved graph for Houston and Music\n",
      "Saved graph for Houston and Film\n",
      "Saved graph for Dallas and Sports\n",
      "Saved graph for Dallas and Arts & Theatre\n",
      "Saved graph for Dallas and Miscellaneous\n",
      "Saved graph for Dallas and Music\n",
      "Saved graph for Dallas and Film\n",
      "Saved graph for Raleigh and Sports\n",
      "Saved graph for Raleigh and Arts & Theatre\n",
      "Saved graph for Raleigh and Miscellaneous\n",
      "Saved graph for Raleigh and Music\n",
      "Saved graph for Raleigh and Film\n",
      "Saved graph for Ft Lauderdale and Sports\n",
      "Saved graph for Ft Lauderdale and Arts & Theatre\n",
      "Saved graph for Ft Lauderdale and Miscellaneous\n",
      "Saved graph for Ft Lauderdale and Music\n",
      "Saved graph for Ft Lauderdale and Film\n",
      "Saved graph for Indianapolis and Sports\n",
      "Saved graph for Indianapolis and Arts & Theatre\n",
      "Saved graph for Indianapolis and Miscellaneous\n",
      "Saved graph for Indianapolis and Music\n",
      "Saved graph for Indianapolis and Film\n",
      "Saved graph for Columbus and Sports\n",
      "Saved graph for Columbus and Arts & Theatre\n",
      "Saved graph for Columbus and Miscellaneous\n",
      "Saved graph for Columbus and Music\n",
      "Saved graph for Columbus and Film\n",
      "Saved graph for Detroit and Sports\n",
      "Saved graph for Detroit and Arts & Theatre\n",
      "Saved graph for Detroit and Miscellaneous\n",
      "Saved graph for Detroit and Music\n",
      "Saved graph for Detroit and Film\n",
      "Saved graph for Denver and Sports\n",
      "Saved graph for Denver and Arts & Theatre\n",
      "Saved graph for Denver and Miscellaneous\n",
      "Saved graph for Denver and Music\n",
      "Saved graph for Denver and Film\n",
      "Saved graph for Nashville and Sports\n",
      "Saved graph for Nashville and Arts & Theatre\n",
      "Saved graph for Nashville and Miscellaneous\n",
      "Saved graph for Nashville and Music\n",
      "Saved graph for Nashville and Film\n",
      "Done\n"
     ]
    }
   ],
   "source": [
    "for city in cities:\n",
    "    for segment in segments:\n",
    "        save_attracion_genre_graph(city, segment, data)\n",
    "        G = load_genre_attraction_graph(city, segment)\n",
    "\n",
    "\n",
    "print('Done')\n"
   ]
  },
  {
   "cell_type": "code",
   "execution_count": 2,
   "metadata": {},
   "outputs": [],
   "source": [
    "\n",
    "def save_attracion_genre_graph_all_ciites(segment, data):\n",
    "    city = 'all'\n",
    "    data = data[data['segment_name'] == segment]\n",
    "    G = create_attraction_genre_graph(segment, data)\n",
    "    pickle.dump(G, open(f'data/graphs1/{city}_{segment}.pickle', 'wb'))\n",
    "    print(f'Saved graph for {city} and {segment}')\n"
   ]
  },
  {
   "cell_type": "code",
   "execution_count": 3,
   "metadata": {},
   "outputs": [
    {
     "name": "stdout",
     "output_type": "stream",
     "text": [
      "Saved graph for all and Sports\n",
      "Saved graph for all and Arts & Theatre\n",
      "Saved graph for all and Miscellaneous\n",
      "Saved graph for all and Music\n",
      "Saved graph for all and Film\n"
     ]
    }
   ],
   "source": [
    "for segment in segments:\n",
    "    save_attracion_genre_graph_all_ciites(segment, data)\n",
    "    G = load_genre_attraction_graph('all', segment)"
   ]
  }
 ],
 "metadata": {
  "kernelspec": {
   "display_name": "venv",
   "language": "python",
   "name": "python3"
  },
  "language_info": {
   "codemirror_mode": {
    "name": "ipython",
    "version": 3
   },
   "file_extension": ".py",
   "mimetype": "text/x-python",
   "name": "python",
   "nbconvert_exporter": "python",
   "pygments_lexer": "ipython3",
   "version": "3.12.0"
  }
 },
 "nbformat": 4,
 "nbformat_minor": 2
}
