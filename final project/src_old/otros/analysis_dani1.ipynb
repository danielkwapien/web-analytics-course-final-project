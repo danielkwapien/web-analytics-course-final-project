{
 "cells": [
  {
   "cell_type": "code",
   "id": "initial_id",
   "metadata": {
    "collapsed": true,
    "ExecuteTime": {
     "end_time": "2024-12-01T17:54:02.159402Z",
     "start_time": "2024-12-01T17:54:02.085535Z"
    }
   },
   "source": [
    "import pandas as pd\n",
    "import numpy as np\n",
    "import matplotlib.pyplot as plt\n",
    "\n",
    "import plotly.express as px\n",
    "import plotly.graph_objects as go\n",
    "from plotly.subplots import make_subplots"
   ],
   "outputs": [],
   "execution_count": 18
  },
  {
   "metadata": {},
   "cell_type": "markdown",
   "source": "## Data Exploring",
   "id": "498a86e93440ad5f"
  },
  {
   "metadata": {
    "ExecuteTime": {
     "end_time": "2024-12-01T18:12:12.607056Z",
     "start_time": "2024-12-01T18:12:12.579848Z"
    }
   },
   "cell_type": "code",
   "source": [
    "events_df = pd.read_csv('./data/events.csv')\n",
    "events_df.head()"
   ],
   "id": "a72487a7fee594e",
   "outputs": [
    {
     "data": {
      "text/plain": [
       "        event_id                                             name   type  \\\n",
       "0  Z698xZ2qZa17W                    Paul McCartney: GOT BACK TOUR  event   \n",
       "1  Z698xZ2qZa1Ad                    Paul McCartney: GOT BACK TOUR  event   \n",
       "2  Z698xZ2qZa13A  Imagine Dragons: LOOM World Tour | VIP Packages  event   \n",
       "3  Z698xZ2qZa18q                 Imagine Dragons: LOOM World Tour  event   \n",
       "4  Z698xZ2qZa13R  Imagine Dragons: LOOM World Tour | VIP Packages  event   \n",
       "\n",
       "                                                 url locale  start_date  \\\n",
       "0  https://www.ticketmaster.es/event/paul-mccartn...  en-us  2024-12-09   \n",
       "1  https://www.ticketmaster.es/event/paul-mccartn...  en-us  2024-12-10   \n",
       "2  https://www.ticketmaster.es/event/imagine-drag...  en-us  2025-06-28   \n",
       "3  https://www.ticketmaster.es/event/imagine-drag...  en-us  2025-06-28   \n",
       "4  https://www.ticketmaster.es/event/imagine-drag...  en-us  2025-07-01   \n",
       "\n",
       "               end_date       timezone  status  span_multiple_days  \\\n",
       "0  2024-12-09T20:00:00Z  Europe/Madrid  onsale               False   \n",
       "1  2024-12-10T20:00:00Z  Europe/Madrid  onsale               False   \n",
       "2  2025-06-28T19:30:00Z  Europe/Madrid  onsale               False   \n",
       "3  2025-06-28T19:30:00Z  Europe/Madrid  onsale               False   \n",
       "4  2025-07-01T19:30:00Z  Europe/Madrid  onsale               False   \n",
       "\n",
       "        venue_id  \n",
       "0   Z198xZ2qZkek  \n",
       "1   Z198xZ2qZkek  \n",
       "2  Z598xZ2qZ6Fe1  \n",
       "3  Z598xZ2qZ6Fe1  \n",
       "4  Z598xZ2qZd7eF  "
      ],
      "text/html": [
       "<div>\n",
       "<style scoped>\n",
       "    .dataframe tbody tr th:only-of-type {\n",
       "        vertical-align: middle;\n",
       "    }\n",
       "\n",
       "    .dataframe tbody tr th {\n",
       "        vertical-align: top;\n",
       "    }\n",
       "\n",
       "    .dataframe thead th {\n",
       "        text-align: right;\n",
       "    }\n",
       "</style>\n",
       "<table border=\"1\" class=\"dataframe\">\n",
       "  <thead>\n",
       "    <tr style=\"text-align: right;\">\n",
       "      <th></th>\n",
       "      <th>event_id</th>\n",
       "      <th>name</th>\n",
       "      <th>type</th>\n",
       "      <th>url</th>\n",
       "      <th>locale</th>\n",
       "      <th>start_date</th>\n",
       "      <th>end_date</th>\n",
       "      <th>timezone</th>\n",
       "      <th>status</th>\n",
       "      <th>span_multiple_days</th>\n",
       "      <th>venue_id</th>\n",
       "    </tr>\n",
       "  </thead>\n",
       "  <tbody>\n",
       "    <tr>\n",
       "      <th>0</th>\n",
       "      <td>Z698xZ2qZa17W</td>\n",
       "      <td>Paul McCartney: GOT BACK TOUR</td>\n",
       "      <td>event</td>\n",
       "      <td>https://www.ticketmaster.es/event/paul-mccartn...</td>\n",
       "      <td>en-us</td>\n",
       "      <td>2024-12-09</td>\n",
       "      <td>2024-12-09T20:00:00Z</td>\n",
       "      <td>Europe/Madrid</td>\n",
       "      <td>onsale</td>\n",
       "      <td>False</td>\n",
       "      <td>Z198xZ2qZkek</td>\n",
       "    </tr>\n",
       "    <tr>\n",
       "      <th>1</th>\n",
       "      <td>Z698xZ2qZa1Ad</td>\n",
       "      <td>Paul McCartney: GOT BACK TOUR</td>\n",
       "      <td>event</td>\n",
       "      <td>https://www.ticketmaster.es/event/paul-mccartn...</td>\n",
       "      <td>en-us</td>\n",
       "      <td>2024-12-10</td>\n",
       "      <td>2024-12-10T20:00:00Z</td>\n",
       "      <td>Europe/Madrid</td>\n",
       "      <td>onsale</td>\n",
       "      <td>False</td>\n",
       "      <td>Z198xZ2qZkek</td>\n",
       "    </tr>\n",
       "    <tr>\n",
       "      <th>2</th>\n",
       "      <td>Z698xZ2qZa13A</td>\n",
       "      <td>Imagine Dragons: LOOM World Tour | VIP Packages</td>\n",
       "      <td>event</td>\n",
       "      <td>https://www.ticketmaster.es/event/imagine-drag...</td>\n",
       "      <td>en-us</td>\n",
       "      <td>2025-06-28</td>\n",
       "      <td>2025-06-28T19:30:00Z</td>\n",
       "      <td>Europe/Madrid</td>\n",
       "      <td>onsale</td>\n",
       "      <td>False</td>\n",
       "      <td>Z598xZ2qZ6Fe1</td>\n",
       "    </tr>\n",
       "    <tr>\n",
       "      <th>3</th>\n",
       "      <td>Z698xZ2qZa18q</td>\n",
       "      <td>Imagine Dragons: LOOM World Tour</td>\n",
       "      <td>event</td>\n",
       "      <td>https://www.ticketmaster.es/event/imagine-drag...</td>\n",
       "      <td>en-us</td>\n",
       "      <td>2025-06-28</td>\n",
       "      <td>2025-06-28T19:30:00Z</td>\n",
       "      <td>Europe/Madrid</td>\n",
       "      <td>onsale</td>\n",
       "      <td>False</td>\n",
       "      <td>Z598xZ2qZ6Fe1</td>\n",
       "    </tr>\n",
       "    <tr>\n",
       "      <th>4</th>\n",
       "      <td>Z698xZ2qZa13R</td>\n",
       "      <td>Imagine Dragons: LOOM World Tour | VIP Packages</td>\n",
       "      <td>event</td>\n",
       "      <td>https://www.ticketmaster.es/event/imagine-drag...</td>\n",
       "      <td>en-us</td>\n",
       "      <td>2025-07-01</td>\n",
       "      <td>2025-07-01T19:30:00Z</td>\n",
       "      <td>Europe/Madrid</td>\n",
       "      <td>onsale</td>\n",
       "      <td>False</td>\n",
       "      <td>Z598xZ2qZd7eF</td>\n",
       "    </tr>\n",
       "  </tbody>\n",
       "</table>\n",
       "</div>"
      ]
     },
     "execution_count": 49,
     "metadata": {},
     "output_type": "execute_result"
    }
   ],
   "execution_count": 49
  },
  {
   "metadata": {
    "ExecuteTime": {
     "end_time": "2024-12-01T17:54:02.945594Z",
     "start_time": "2024-12-01T17:54:02.925378Z"
    }
   },
   "cell_type": "code",
   "source": [
    "price_ranges_df = pd.read_csv('./data/price_ranges.csv')\n",
    "price_ranges_df.head()"
   ],
   "id": "b7b2aa24c3ee5ea3",
   "outputs": [
    {
     "data": {
      "text/plain": [
       "        event_id                     type currency  min_price  max_price\n",
       "0  Z698xZ2qZa17W  standard including fees      EUR       51.0      554.5\n",
       "1  Z698xZ2qZa17W                 standard      EUR       45.0      500.0\n",
       "2  Z698xZ2qZa1Ad  standard including fees      EUR       51.0      558.5\n",
       "3  Z698xZ2qZa1Ad                 standard      EUR       45.0      500.0\n",
       "4  Z698xZ2qZa13A                 standard      EUR      297.0     6757.5"
      ],
      "text/html": [
       "<div>\n",
       "<style scoped>\n",
       "    .dataframe tbody tr th:only-of-type {\n",
       "        vertical-align: middle;\n",
       "    }\n",
       "\n",
       "    .dataframe tbody tr th {\n",
       "        vertical-align: top;\n",
       "    }\n",
       "\n",
       "    .dataframe thead th {\n",
       "        text-align: right;\n",
       "    }\n",
       "</style>\n",
       "<table border=\"1\" class=\"dataframe\">\n",
       "  <thead>\n",
       "    <tr style=\"text-align: right;\">\n",
       "      <th></th>\n",
       "      <th>event_id</th>\n",
       "      <th>type</th>\n",
       "      <th>currency</th>\n",
       "      <th>min_price</th>\n",
       "      <th>max_price</th>\n",
       "    </tr>\n",
       "  </thead>\n",
       "  <tbody>\n",
       "    <tr>\n",
       "      <th>0</th>\n",
       "      <td>Z698xZ2qZa17W</td>\n",
       "      <td>standard including fees</td>\n",
       "      <td>EUR</td>\n",
       "      <td>51.0</td>\n",
       "      <td>554.5</td>\n",
       "    </tr>\n",
       "    <tr>\n",
       "      <th>1</th>\n",
       "      <td>Z698xZ2qZa17W</td>\n",
       "      <td>standard</td>\n",
       "      <td>EUR</td>\n",
       "      <td>45.0</td>\n",
       "      <td>500.0</td>\n",
       "    </tr>\n",
       "    <tr>\n",
       "      <th>2</th>\n",
       "      <td>Z698xZ2qZa1Ad</td>\n",
       "      <td>standard including fees</td>\n",
       "      <td>EUR</td>\n",
       "      <td>51.0</td>\n",
       "      <td>558.5</td>\n",
       "    </tr>\n",
       "    <tr>\n",
       "      <th>3</th>\n",
       "      <td>Z698xZ2qZa1Ad</td>\n",
       "      <td>standard</td>\n",
       "      <td>EUR</td>\n",
       "      <td>45.0</td>\n",
       "      <td>500.0</td>\n",
       "    </tr>\n",
       "    <tr>\n",
       "      <th>4</th>\n",
       "      <td>Z698xZ2qZa13A</td>\n",
       "      <td>standard</td>\n",
       "      <td>EUR</td>\n",
       "      <td>297.0</td>\n",
       "      <td>6757.5</td>\n",
       "    </tr>\n",
       "  </tbody>\n",
       "</table>\n",
       "</div>"
      ]
     },
     "execution_count": 20,
     "metadata": {},
     "output_type": "execute_result"
    }
   ],
   "execution_count": 20
  },
  {
   "metadata": {
    "ExecuteTime": {
     "end_time": "2024-12-01T17:54:04.082483Z",
     "start_time": "2024-12-01T17:54:04.057432Z"
    }
   },
   "cell_type": "code",
   "source": [
    "venues_df = pd.read_csv('./data/venues.csv').drop_duplicates()\n",
    "venues_df.head()"
   ],
   "id": "c7019151263976cf",
   "outputs": [
    {
     "data": {
      "text/plain": [
       "        venue_id                              name       city      state  \\\n",
       "0   Z198xZ2qZkek                     WiZink Center     Madrid     Madrid   \n",
       "1   Z198xZ2qZkek                     WiZink Center     Madrid     Madrid   \n",
       "2  Z598xZ2qZ6Fe1  Estadio Riyadh Air Metropolitano     Madrid     Madrid   \n",
       "3  Z598xZ2qZ6Fe1  Estadio Riyadh Air Metropolitano     Madrid     Madrid   \n",
       "4  Z598xZ2qZd7eF     Estadi Olímpic Lluis Companys  Barcelona  Barcelona   \n",
       "\n",
       "  country                  address  postalCode  latitude  longitude  \\\n",
       "0   Spain       Av. Felipe II, s/n     28009.0  40.42394   -3.67580   \n",
       "1   Spain       Av. Felipe II, s/n     28009.0  40.42394   -3.67580   \n",
       "2   Spain  Av. de Luis Aragonés, 4     28022.0  40.43624   -3.59947   \n",
       "3   Spain  Av. de Luis Aragonés, 4     28022.0  40.43624   -3.59947   \n",
       "4   Spain     Passeig Olímpic, 5-7      8038.0  41.36476    2.15565   \n",
       "\n",
       "   upcomingEvents  \n",
       "0              37  \n",
       "1              37  \n",
       "2               8  \n",
       "3               8  \n",
       "4               2  "
      ],
      "text/html": [
       "<div>\n",
       "<style scoped>\n",
       "    .dataframe tbody tr th:only-of-type {\n",
       "        vertical-align: middle;\n",
       "    }\n",
       "\n",
       "    .dataframe tbody tr th {\n",
       "        vertical-align: top;\n",
       "    }\n",
       "\n",
       "    .dataframe thead th {\n",
       "        text-align: right;\n",
       "    }\n",
       "</style>\n",
       "<table border=\"1\" class=\"dataframe\">\n",
       "  <thead>\n",
       "    <tr style=\"text-align: right;\">\n",
       "      <th></th>\n",
       "      <th>venue_id</th>\n",
       "      <th>name</th>\n",
       "      <th>city</th>\n",
       "      <th>state</th>\n",
       "      <th>country</th>\n",
       "      <th>address</th>\n",
       "      <th>postalCode</th>\n",
       "      <th>latitude</th>\n",
       "      <th>longitude</th>\n",
       "      <th>upcomingEvents</th>\n",
       "    </tr>\n",
       "  </thead>\n",
       "  <tbody>\n",
       "    <tr>\n",
       "      <th>0</th>\n",
       "      <td>Z198xZ2qZkek</td>\n",
       "      <td>WiZink Center</td>\n",
       "      <td>Madrid</td>\n",
       "      <td>Madrid</td>\n",
       "      <td>Spain</td>\n",
       "      <td>Av. Felipe II, s/n</td>\n",
       "      <td>28009.0</td>\n",
       "      <td>40.42394</td>\n",
       "      <td>-3.67580</td>\n",
       "      <td>37</td>\n",
       "    </tr>\n",
       "    <tr>\n",
       "      <th>1</th>\n",
       "      <td>Z198xZ2qZkek</td>\n",
       "      <td>WiZink Center</td>\n",
       "      <td>Madrid</td>\n",
       "      <td>Madrid</td>\n",
       "      <td>Spain</td>\n",
       "      <td>Av. Felipe II, s/n</td>\n",
       "      <td>28009.0</td>\n",
       "      <td>40.42394</td>\n",
       "      <td>-3.67580</td>\n",
       "      <td>37</td>\n",
       "    </tr>\n",
       "    <tr>\n",
       "      <th>2</th>\n",
       "      <td>Z598xZ2qZ6Fe1</td>\n",
       "      <td>Estadio Riyadh Air Metropolitano</td>\n",
       "      <td>Madrid</td>\n",
       "      <td>Madrid</td>\n",
       "      <td>Spain</td>\n",
       "      <td>Av. de Luis Aragonés, 4</td>\n",
       "      <td>28022.0</td>\n",
       "      <td>40.43624</td>\n",
       "      <td>-3.59947</td>\n",
       "      <td>8</td>\n",
       "    </tr>\n",
       "    <tr>\n",
       "      <th>3</th>\n",
       "      <td>Z598xZ2qZ6Fe1</td>\n",
       "      <td>Estadio Riyadh Air Metropolitano</td>\n",
       "      <td>Madrid</td>\n",
       "      <td>Madrid</td>\n",
       "      <td>Spain</td>\n",
       "      <td>Av. de Luis Aragonés, 4</td>\n",
       "      <td>28022.0</td>\n",
       "      <td>40.43624</td>\n",
       "      <td>-3.59947</td>\n",
       "      <td>8</td>\n",
       "    </tr>\n",
       "    <tr>\n",
       "      <th>4</th>\n",
       "      <td>Z598xZ2qZd7eF</td>\n",
       "      <td>Estadi Olímpic Lluis Companys</td>\n",
       "      <td>Barcelona</td>\n",
       "      <td>Barcelona</td>\n",
       "      <td>Spain</td>\n",
       "      <td>Passeig Olímpic, 5-7</td>\n",
       "      <td>8038.0</td>\n",
       "      <td>41.36476</td>\n",
       "      <td>2.15565</td>\n",
       "      <td>2</td>\n",
       "    </tr>\n",
       "  </tbody>\n",
       "</table>\n",
       "</div>"
      ]
     },
     "execution_count": 21,
     "metadata": {},
     "output_type": "execute_result"
    }
   ],
   "execution_count": 21
  },
  {
   "metadata": {
    "ExecuteTime": {
     "end_time": "2024-12-01T17:54:04.447024Z",
     "start_time": "2024-12-01T17:54:04.440276Z"
    }
   },
   "cell_type": "code",
   "source": "events_df['type'].unique()",
   "id": "425eefaea9c4646",
   "outputs": [
    {
     "data": {
      "text/plain": [
       "array(['event'], dtype=object)"
      ]
     },
     "execution_count": 22,
     "metadata": {},
     "output_type": "execute_result"
    }
   ],
   "execution_count": 22
  },
  {
   "metadata": {},
   "cell_type": "markdown",
   "source": "There is no clear relation between artists and events, so we will have to search it by artist name in the artists.csv file.",
   "id": "698b4e0327bb099c"
  },
  {
   "metadata": {
    "ExecuteTime": {
     "end_time": "2024-12-01T17:54:04.826591Z",
     "start_time": "2024-12-01T17:54:04.816802Z"
    }
   },
   "cell_type": "code",
   "source": [
    "artist_df = pd.read_csv('./data/artists.csv')\n",
    "artist_df.head()"
   ],
   "id": "4d76f8e1d654a531",
   "outputs": [
    {
     "data": {
      "text/plain": [
       "     artist_id             name        type locale  \\\n",
       "0  K8vZ9171uq0   Paul McCartney  attraction  en-us   \n",
       "1  K8vZ9171uq0   Paul McCartney  attraction  en-us   \n",
       "2  K8vZ917GSz7  Imagine Dragons  attraction  en-us   \n",
       "3  K8vZ917GSz7  Imagine Dragons  attraction  en-us   \n",
       "4  K8vZ917GSz7  Imagine Dragons  attraction  en-us   \n",
       "\n",
       "                                      external_links  \n",
       "0  {'youtube': [{'url': 'https://www.youtube.com/...  \n",
       "1  {'youtube': [{'url': 'https://www.youtube.com/...  \n",
       "2  {'youtube': [{'url': 'https://www.youtube.com/...  \n",
       "3  {'youtube': [{'url': 'https://www.youtube.com/...  \n",
       "4  {'youtube': [{'url': 'https://www.youtube.com/...  "
      ],
      "text/html": [
       "<div>\n",
       "<style scoped>\n",
       "    .dataframe tbody tr th:only-of-type {\n",
       "        vertical-align: middle;\n",
       "    }\n",
       "\n",
       "    .dataframe tbody tr th {\n",
       "        vertical-align: top;\n",
       "    }\n",
       "\n",
       "    .dataframe thead th {\n",
       "        text-align: right;\n",
       "    }\n",
       "</style>\n",
       "<table border=\"1\" class=\"dataframe\">\n",
       "  <thead>\n",
       "    <tr style=\"text-align: right;\">\n",
       "      <th></th>\n",
       "      <th>artist_id</th>\n",
       "      <th>name</th>\n",
       "      <th>type</th>\n",
       "      <th>locale</th>\n",
       "      <th>external_links</th>\n",
       "    </tr>\n",
       "  </thead>\n",
       "  <tbody>\n",
       "    <tr>\n",
       "      <th>0</th>\n",
       "      <td>K8vZ9171uq0</td>\n",
       "      <td>Paul McCartney</td>\n",
       "      <td>attraction</td>\n",
       "      <td>en-us</td>\n",
       "      <td>{'youtube': [{'url': 'https://www.youtube.com/...</td>\n",
       "    </tr>\n",
       "    <tr>\n",
       "      <th>1</th>\n",
       "      <td>K8vZ9171uq0</td>\n",
       "      <td>Paul McCartney</td>\n",
       "      <td>attraction</td>\n",
       "      <td>en-us</td>\n",
       "      <td>{'youtube': [{'url': 'https://www.youtube.com/...</td>\n",
       "    </tr>\n",
       "    <tr>\n",
       "      <th>2</th>\n",
       "      <td>K8vZ917GSz7</td>\n",
       "      <td>Imagine Dragons</td>\n",
       "      <td>attraction</td>\n",
       "      <td>en-us</td>\n",
       "      <td>{'youtube': [{'url': 'https://www.youtube.com/...</td>\n",
       "    </tr>\n",
       "    <tr>\n",
       "      <th>3</th>\n",
       "      <td>K8vZ917GSz7</td>\n",
       "      <td>Imagine Dragons</td>\n",
       "      <td>attraction</td>\n",
       "      <td>en-us</td>\n",
       "      <td>{'youtube': [{'url': 'https://www.youtube.com/...</td>\n",
       "    </tr>\n",
       "    <tr>\n",
       "      <th>4</th>\n",
       "      <td>K8vZ917GSz7</td>\n",
       "      <td>Imagine Dragons</td>\n",
       "      <td>attraction</td>\n",
       "      <td>en-us</td>\n",
       "      <td>{'youtube': [{'url': 'https://www.youtube.com/...</td>\n",
       "    </tr>\n",
       "  </tbody>\n",
       "</table>\n",
       "</div>"
      ]
     },
     "execution_count": 23,
     "metadata": {},
     "output_type": "execute_result"
    }
   ],
   "execution_count": 23
  },
  {
   "metadata": {
    "ExecuteTime": {
     "end_time": "2024-12-01T17:54:05.199484Z",
     "start_time": "2024-12-01T17:54:05.190074Z"
    }
   },
   "cell_type": "code",
   "source": [
    "genres_df = pd.read_csv('./data/genres.csv')\n",
    "genres_df.head()"
   ],
   "id": "30f54e918265a402",
   "outputs": [
    {
     "data": {
      "text/plain": [
       "      genre_id genre_name         sub_genre_id sub_genre_name\n",
       "0  KnvZfZ7vAeA       Rock  KZazBEonSMnZfZ7v6F1            Pop\n",
       "1  KnvZfZ7vAvl      Other  KZazBEonSMnZfZ7vk1I          Other\n",
       "2  KnvZfZ7vAAk  Wrestling  KZazBEonSMnZfZ7vFna      Wrestling\n",
       "3  KnvZfZ7vAev        Pop  KZazBEonSMnZfZ7vkJv    African Pop\n",
       "4  KnvZfZ7vAe6  Undefined  KZazBEonSMnZfZ7v6JI      Undefined"
      ],
      "text/html": [
       "<div>\n",
       "<style scoped>\n",
       "    .dataframe tbody tr th:only-of-type {\n",
       "        vertical-align: middle;\n",
       "    }\n",
       "\n",
       "    .dataframe tbody tr th {\n",
       "        vertical-align: top;\n",
       "    }\n",
       "\n",
       "    .dataframe thead th {\n",
       "        text-align: right;\n",
       "    }\n",
       "</style>\n",
       "<table border=\"1\" class=\"dataframe\">\n",
       "  <thead>\n",
       "    <tr style=\"text-align: right;\">\n",
       "      <th></th>\n",
       "      <th>genre_id</th>\n",
       "      <th>genre_name</th>\n",
       "      <th>sub_genre_id</th>\n",
       "      <th>sub_genre_name</th>\n",
       "    </tr>\n",
       "  </thead>\n",
       "  <tbody>\n",
       "    <tr>\n",
       "      <th>0</th>\n",
       "      <td>KnvZfZ7vAeA</td>\n",
       "      <td>Rock</td>\n",
       "      <td>KZazBEonSMnZfZ7v6F1</td>\n",
       "      <td>Pop</td>\n",
       "    </tr>\n",
       "    <tr>\n",
       "      <th>1</th>\n",
       "      <td>KnvZfZ7vAvl</td>\n",
       "      <td>Other</td>\n",
       "      <td>KZazBEonSMnZfZ7vk1I</td>\n",
       "      <td>Other</td>\n",
       "    </tr>\n",
       "    <tr>\n",
       "      <th>2</th>\n",
       "      <td>KnvZfZ7vAAk</td>\n",
       "      <td>Wrestling</td>\n",
       "      <td>KZazBEonSMnZfZ7vFna</td>\n",
       "      <td>Wrestling</td>\n",
       "    </tr>\n",
       "    <tr>\n",
       "      <th>3</th>\n",
       "      <td>KnvZfZ7vAev</td>\n",
       "      <td>Pop</td>\n",
       "      <td>KZazBEonSMnZfZ7vkJv</td>\n",
       "      <td>African Pop</td>\n",
       "    </tr>\n",
       "    <tr>\n",
       "      <th>4</th>\n",
       "      <td>KnvZfZ7vAe6</td>\n",
       "      <td>Undefined</td>\n",
       "      <td>KZazBEonSMnZfZ7v6JI</td>\n",
       "      <td>Undefined</td>\n",
       "    </tr>\n",
       "  </tbody>\n",
       "</table>\n",
       "</div>"
      ]
     },
     "execution_count": 24,
     "metadata": {},
     "output_type": "execute_result"
    }
   ],
   "execution_count": 24
  },
  {
   "metadata": {
    "ExecuteTime": {
     "end_time": "2024-12-01T18:05:48.686136Z",
     "start_time": "2024-12-01T18:05:48.649297Z"
    }
   },
   "cell_type": "code",
   "source": [
    "artist_genre_df = pd.read_csv('./data/artist_genre_data.csv')\n",
    "artist_genre_df.head()"
   ],
   "id": "7d6d06155db3ab5d",
   "outputs": [
    {
     "data": {
      "text/plain": [
       "       artist_name    artist_id genre_name     genre_id sub_genre_name  \\\n",
       "0   Paul McCartney  K8vZ9171uq0       Rock  KnvZfZ7vAeA            Pop   \n",
       "1   Paul McCartney  K8vZ9171uq0       Rock  KnvZfZ7vAeA            Pop   \n",
       "2  Imagine Dragons  K8vZ917GSz7       Rock  KnvZfZ7vAeA            Pop   \n",
       "3  Imagine Dragons  K8vZ917GSz7       Rock  KnvZfZ7vAeA            Pop   \n",
       "4  Imagine Dragons  K8vZ917GSz7       Rock  KnvZfZ7vAeA            Pop   \n",
       "\n",
       "          sub_genre_id     Genre  \n",
       "0  KZazBEonSMnZfZ7v6F1  Rock/Pop  \n",
       "1  KZazBEonSMnZfZ7v6F1  Rock/Pop  \n",
       "2  KZazBEonSMnZfZ7v6F1  Rock/Pop  \n",
       "3  KZazBEonSMnZfZ7v6F1  Rock/Pop  \n",
       "4  KZazBEonSMnZfZ7v6F1  Rock/Pop  "
      ],
      "text/html": [
       "<div>\n",
       "<style scoped>\n",
       "    .dataframe tbody tr th:only-of-type {\n",
       "        vertical-align: middle;\n",
       "    }\n",
       "\n",
       "    .dataframe tbody tr th {\n",
       "        vertical-align: top;\n",
       "    }\n",
       "\n",
       "    .dataframe thead th {\n",
       "        text-align: right;\n",
       "    }\n",
       "</style>\n",
       "<table border=\"1\" class=\"dataframe\">\n",
       "  <thead>\n",
       "    <tr style=\"text-align: right;\">\n",
       "      <th></th>\n",
       "      <th>artist_name</th>\n",
       "      <th>artist_id</th>\n",
       "      <th>genre_name</th>\n",
       "      <th>genre_id</th>\n",
       "      <th>sub_genre_name</th>\n",
       "      <th>sub_genre_id</th>\n",
       "      <th>Genre</th>\n",
       "    </tr>\n",
       "  </thead>\n",
       "  <tbody>\n",
       "    <tr>\n",
       "      <th>0</th>\n",
       "      <td>Paul McCartney</td>\n",
       "      <td>K8vZ9171uq0</td>\n",
       "      <td>Rock</td>\n",
       "      <td>KnvZfZ7vAeA</td>\n",
       "      <td>Pop</td>\n",
       "      <td>KZazBEonSMnZfZ7v6F1</td>\n",
       "      <td>Rock/Pop</td>\n",
       "    </tr>\n",
       "    <tr>\n",
       "      <th>1</th>\n",
       "      <td>Paul McCartney</td>\n",
       "      <td>K8vZ9171uq0</td>\n",
       "      <td>Rock</td>\n",
       "      <td>KnvZfZ7vAeA</td>\n",
       "      <td>Pop</td>\n",
       "      <td>KZazBEonSMnZfZ7v6F1</td>\n",
       "      <td>Rock/Pop</td>\n",
       "    </tr>\n",
       "    <tr>\n",
       "      <th>2</th>\n",
       "      <td>Imagine Dragons</td>\n",
       "      <td>K8vZ917GSz7</td>\n",
       "      <td>Rock</td>\n",
       "      <td>KnvZfZ7vAeA</td>\n",
       "      <td>Pop</td>\n",
       "      <td>KZazBEonSMnZfZ7v6F1</td>\n",
       "      <td>Rock/Pop</td>\n",
       "    </tr>\n",
       "    <tr>\n",
       "      <th>3</th>\n",
       "      <td>Imagine Dragons</td>\n",
       "      <td>K8vZ917GSz7</td>\n",
       "      <td>Rock</td>\n",
       "      <td>KnvZfZ7vAeA</td>\n",
       "      <td>Pop</td>\n",
       "      <td>KZazBEonSMnZfZ7v6F1</td>\n",
       "      <td>Rock/Pop</td>\n",
       "    </tr>\n",
       "    <tr>\n",
       "      <th>4</th>\n",
       "      <td>Imagine Dragons</td>\n",
       "      <td>K8vZ917GSz7</td>\n",
       "      <td>Rock</td>\n",
       "      <td>KnvZfZ7vAeA</td>\n",
       "      <td>Pop</td>\n",
       "      <td>KZazBEonSMnZfZ7v6F1</td>\n",
       "      <td>Rock/Pop</td>\n",
       "    </tr>\n",
       "  </tbody>\n",
       "</table>\n",
       "</div>"
      ]
     },
     "execution_count": 36,
     "metadata": {},
     "output_type": "execute_result"
    }
   ],
   "execution_count": 36
  },
  {
   "metadata": {},
   "cell_type": "markdown",
   "source": "## Analysis 1: Average ticket price per city",
   "id": "970a9e09342b9450"
  },
  {
   "metadata": {
    "ExecuteTime": {
     "end_time": "2024-12-01T17:54:05.432635Z",
     "start_time": "2024-12-01T17:54:05.405750Z"
    }
   },
   "cell_type": "code",
   "source": [
    "event_prices_df = events_df.merge(price_ranges_df[price_ranges_df['type']=='standard'], on='event_id')\n",
    "event_prices_venues_df = event_prices_df.merge(venues_df.drop_duplicates(), on='venue_id')"
   ],
   "id": "85d6b1ceca539941",
   "outputs": [],
   "execution_count": 25
  },
  {
   "metadata": {
    "ExecuteTime": {
     "end_time": "2024-12-01T17:54:05.747730Z",
     "start_time": "2024-12-01T17:54:05.723803Z"
    }
   },
   "cell_type": "code",
   "source": "event_prices_venues_df",
   "id": "363c36aa8912f03d",
   "outputs": [
    {
     "data": {
      "text/plain": [
       "               event_id                                             name_x  \\\n",
       "0         Z698xZ2qZa17W                      Paul McCartney: GOT BACK TOUR   \n",
       "1         Z698xZ2qZa1Ad                      Paul McCartney: GOT BACK TOUR   \n",
       "2         Z698xZ2qZa13A    Imagine Dragons: LOOM World Tour | VIP Packages   \n",
       "3         Z698xZ2qZa18q                   Imagine Dragons: LOOM World Tour   \n",
       "4         Z698xZ2qZa13R    Imagine Dragons: LOOM World Tour | VIP Packages   \n",
       "..                  ...                                                ...   \n",
       "179  Z698xZ2qZ16vOg_prK  Jamiroquai - The Heels Of Steel Tour | VIP Pac...   \n",
       "180  Z698xZ2qZ16vaY1d08               Jamiroquai - The Heels Of Steel Tour   \n",
       "181  Z698xZ2qZ16vO4Q4fF                OneRepublic - Escape to Europe 2025   \n",
       "182   Z698xZ2qZ1kfpaV80  OneRepublic - Escape to Europe 2025 | Paquetes...   \n",
       "183        Z198xZ2qZkA7                   FLEX PRUEBAS IMPRESION ENTRADAS.   \n",
       "\n",
       "    type_x                                                url locale  \\\n",
       "0    event  https://www.ticketmaster.es/event/paul-mccartn...  en-us   \n",
       "1    event  https://www.ticketmaster.es/event/paul-mccartn...  en-us   \n",
       "2    event  https://www.ticketmaster.es/event/imagine-drag...  en-us   \n",
       "3    event  https://www.ticketmaster.es/event/imagine-drag...  en-us   \n",
       "4    event  https://www.ticketmaster.es/event/imagine-drag...  en-us   \n",
       "..     ...                                                ...    ...   \n",
       "179  event  https://www.ticketmaster.es/event/jamiroquai-t...  en-us   \n",
       "180  event  https://www.ticketmaster.es/event/jamiroquai-t...  en-us   \n",
       "181  event  https://www.ticketmaster.es/event/onerepublic-...  en-us   \n",
       "182  event  https://www.ticketmaster.es/event/onerepublic-...  en-us   \n",
       "183  event  https://www.ticketmaster.es/event/flex-pruebas...  en-us   \n",
       "\n",
       "     start_date              end_date       timezone  status  \\\n",
       "0    2024-12-09  2024-12-09T20:00:00Z  Europe/Madrid  onsale   \n",
       "1    2024-12-10  2024-12-10T20:00:00Z  Europe/Madrid  onsale   \n",
       "2    2025-06-28  2025-06-28T19:30:00Z  Europe/Madrid  onsale   \n",
       "3    2025-06-28  2025-06-28T19:30:00Z  Europe/Madrid  onsale   \n",
       "4    2025-07-01  2025-07-01T19:30:00Z  Europe/Madrid  onsale   \n",
       "..          ...                   ...            ...     ...   \n",
       "179  2025-11-06  2025-11-06T20:00:00Z  Europe/Madrid  onsale   \n",
       "180  2025-11-06  2025-11-06T20:00:00Z  Europe/Madrid  onsale   \n",
       "181  2025-11-14  2025-11-14T20:00:00Z  Europe/Madrid  onsale   \n",
       "182  2025-11-14  2025-11-14T20:00:00Z  Europe/Madrid  onsale   \n",
       "183  2025-12-31  2025-12-31T22:00:00Z  Europe/Madrid  onsale   \n",
       "\n",
       "     span_multiple_days  ... max_price                            name_y  \\\n",
       "0                 False  ...     500.0                     WiZink Center   \n",
       "1                 False  ...     500.0                     WiZink Center   \n",
       "2                 False  ...    6757.5  Estadio Riyadh Air Metropolitano   \n",
       "3                 False  ...     260.0  Estadio Riyadh Air Metropolitano   \n",
       "4                 False  ...    6757.5     Estadi Olímpic Lluis Companys   \n",
       "..                  ...  ...       ...                               ...   \n",
       "179               False  ...     215.0                  Palau Sant Jordi   \n",
       "180               False  ...     105.0                  Palau Sant Jordi   \n",
       "181               False  ...     176.0                Palacio Vistalegre   \n",
       "182               False  ...     285.0                Palacio Vistalegre   \n",
       "183               False  ...       0.5                  Palau Sant Jordi   \n",
       "\n",
       "          city      state  country                                address  \\\n",
       "0       Madrid     Madrid    Spain                     Av. Felipe II, s/n   \n",
       "1       Madrid     Madrid    Spain                     Av. Felipe II, s/n   \n",
       "2       Madrid     Madrid    Spain                Av. de Luis Aragonés, 4   \n",
       "3       Madrid     Madrid    Spain                Av. de Luis Aragonés, 4   \n",
       "4    Barcelona  Barcelona    Spain                   Passeig Olímpic, 5-7   \n",
       "..         ...        ...      ...                                    ...   \n",
       "179  Barcelona  Barcelona    Spain                   Passeig Olímpic, 5-7   \n",
       "180  Barcelona  Barcelona    Spain                   Passeig Olímpic, 5-7   \n",
       "181     Madrid     Madrid    Spain  Acceso Sur.  C/ Matilde Hernández s/n   \n",
       "182     Madrid     Madrid    Spain  Acceso Sur.  C/ Matilde Hernández s/n   \n",
       "183  Barcelona  Barcelona    Spain                   Passeig Olímpic, 5-7   \n",
       "\n",
       "    postalCode  latitude longitude upcomingEvents  \n",
       "0      28009.0  40.42394  -3.67580             37  \n",
       "1      28009.0  40.42394  -3.67580             37  \n",
       "2      28022.0  40.43624  -3.59947              8  \n",
       "3      28022.0  40.43624  -3.59947              8  \n",
       "4       8038.0  41.36476   2.15565              2  \n",
       "..         ...       ...       ...            ...  \n",
       "179     8038.0  41.36337   2.15259             26  \n",
       "180     8038.0  41.36337   2.15259             26  \n",
       "181    28025.0  40.38600  -3.73850             33  \n",
       "182    28025.0  40.38600  -3.73850             33  \n",
       "183     8038.0  41.36337   2.15259             26  \n",
       "\n",
       "[184 rows x 24 columns]"
      ],
      "text/html": [
       "<div>\n",
       "<style scoped>\n",
       "    .dataframe tbody tr th:only-of-type {\n",
       "        vertical-align: middle;\n",
       "    }\n",
       "\n",
       "    .dataframe tbody tr th {\n",
       "        vertical-align: top;\n",
       "    }\n",
       "\n",
       "    .dataframe thead th {\n",
       "        text-align: right;\n",
       "    }\n",
       "</style>\n",
       "<table border=\"1\" class=\"dataframe\">\n",
       "  <thead>\n",
       "    <tr style=\"text-align: right;\">\n",
       "      <th></th>\n",
       "      <th>event_id</th>\n",
       "      <th>name_x</th>\n",
       "      <th>type_x</th>\n",
       "      <th>url</th>\n",
       "      <th>locale</th>\n",
       "      <th>start_date</th>\n",
       "      <th>end_date</th>\n",
       "      <th>timezone</th>\n",
       "      <th>status</th>\n",
       "      <th>span_multiple_days</th>\n",
       "      <th>...</th>\n",
       "      <th>max_price</th>\n",
       "      <th>name_y</th>\n",
       "      <th>city</th>\n",
       "      <th>state</th>\n",
       "      <th>country</th>\n",
       "      <th>address</th>\n",
       "      <th>postalCode</th>\n",
       "      <th>latitude</th>\n",
       "      <th>longitude</th>\n",
       "      <th>upcomingEvents</th>\n",
       "    </tr>\n",
       "  </thead>\n",
       "  <tbody>\n",
       "    <tr>\n",
       "      <th>0</th>\n",
       "      <td>Z698xZ2qZa17W</td>\n",
       "      <td>Paul McCartney: GOT BACK TOUR</td>\n",
       "      <td>event</td>\n",
       "      <td>https://www.ticketmaster.es/event/paul-mccartn...</td>\n",
       "      <td>en-us</td>\n",
       "      <td>2024-12-09</td>\n",
       "      <td>2024-12-09T20:00:00Z</td>\n",
       "      <td>Europe/Madrid</td>\n",
       "      <td>onsale</td>\n",
       "      <td>False</td>\n",
       "      <td>...</td>\n",
       "      <td>500.0</td>\n",
       "      <td>WiZink Center</td>\n",
       "      <td>Madrid</td>\n",
       "      <td>Madrid</td>\n",
       "      <td>Spain</td>\n",
       "      <td>Av. Felipe II, s/n</td>\n",
       "      <td>28009.0</td>\n",
       "      <td>40.42394</td>\n",
       "      <td>-3.67580</td>\n",
       "      <td>37</td>\n",
       "    </tr>\n",
       "    <tr>\n",
       "      <th>1</th>\n",
       "      <td>Z698xZ2qZa1Ad</td>\n",
       "      <td>Paul McCartney: GOT BACK TOUR</td>\n",
       "      <td>event</td>\n",
       "      <td>https://www.ticketmaster.es/event/paul-mccartn...</td>\n",
       "      <td>en-us</td>\n",
       "      <td>2024-12-10</td>\n",
       "      <td>2024-12-10T20:00:00Z</td>\n",
       "      <td>Europe/Madrid</td>\n",
       "      <td>onsale</td>\n",
       "      <td>False</td>\n",
       "      <td>...</td>\n",
       "      <td>500.0</td>\n",
       "      <td>WiZink Center</td>\n",
       "      <td>Madrid</td>\n",
       "      <td>Madrid</td>\n",
       "      <td>Spain</td>\n",
       "      <td>Av. Felipe II, s/n</td>\n",
       "      <td>28009.0</td>\n",
       "      <td>40.42394</td>\n",
       "      <td>-3.67580</td>\n",
       "      <td>37</td>\n",
       "    </tr>\n",
       "    <tr>\n",
       "      <th>2</th>\n",
       "      <td>Z698xZ2qZa13A</td>\n",
       "      <td>Imagine Dragons: LOOM World Tour | VIP Packages</td>\n",
       "      <td>event</td>\n",
       "      <td>https://www.ticketmaster.es/event/imagine-drag...</td>\n",
       "      <td>en-us</td>\n",
       "      <td>2025-06-28</td>\n",
       "      <td>2025-06-28T19:30:00Z</td>\n",
       "      <td>Europe/Madrid</td>\n",
       "      <td>onsale</td>\n",
       "      <td>False</td>\n",
       "      <td>...</td>\n",
       "      <td>6757.5</td>\n",
       "      <td>Estadio Riyadh Air Metropolitano</td>\n",
       "      <td>Madrid</td>\n",
       "      <td>Madrid</td>\n",
       "      <td>Spain</td>\n",
       "      <td>Av. de Luis Aragonés, 4</td>\n",
       "      <td>28022.0</td>\n",
       "      <td>40.43624</td>\n",
       "      <td>-3.59947</td>\n",
       "      <td>8</td>\n",
       "    </tr>\n",
       "    <tr>\n",
       "      <th>3</th>\n",
       "      <td>Z698xZ2qZa18q</td>\n",
       "      <td>Imagine Dragons: LOOM World Tour</td>\n",
       "      <td>event</td>\n",
       "      <td>https://www.ticketmaster.es/event/imagine-drag...</td>\n",
       "      <td>en-us</td>\n",
       "      <td>2025-06-28</td>\n",
       "      <td>2025-06-28T19:30:00Z</td>\n",
       "      <td>Europe/Madrid</td>\n",
       "      <td>onsale</td>\n",
       "      <td>False</td>\n",
       "      <td>...</td>\n",
       "      <td>260.0</td>\n",
       "      <td>Estadio Riyadh Air Metropolitano</td>\n",
       "      <td>Madrid</td>\n",
       "      <td>Madrid</td>\n",
       "      <td>Spain</td>\n",
       "      <td>Av. de Luis Aragonés, 4</td>\n",
       "      <td>28022.0</td>\n",
       "      <td>40.43624</td>\n",
       "      <td>-3.59947</td>\n",
       "      <td>8</td>\n",
       "    </tr>\n",
       "    <tr>\n",
       "      <th>4</th>\n",
       "      <td>Z698xZ2qZa13R</td>\n",
       "      <td>Imagine Dragons: LOOM World Tour | VIP Packages</td>\n",
       "      <td>event</td>\n",
       "      <td>https://www.ticketmaster.es/event/imagine-drag...</td>\n",
       "      <td>en-us</td>\n",
       "      <td>2025-07-01</td>\n",
       "      <td>2025-07-01T19:30:00Z</td>\n",
       "      <td>Europe/Madrid</td>\n",
       "      <td>onsale</td>\n",
       "      <td>False</td>\n",
       "      <td>...</td>\n",
       "      <td>6757.5</td>\n",
       "      <td>Estadi Olímpic Lluis Companys</td>\n",
       "      <td>Barcelona</td>\n",
       "      <td>Barcelona</td>\n",
       "      <td>Spain</td>\n",
       "      <td>Passeig Olímpic, 5-7</td>\n",
       "      <td>8038.0</td>\n",
       "      <td>41.36476</td>\n",
       "      <td>2.15565</td>\n",
       "      <td>2</td>\n",
       "    </tr>\n",
       "    <tr>\n",
       "      <th>...</th>\n",
       "      <td>...</td>\n",
       "      <td>...</td>\n",
       "      <td>...</td>\n",
       "      <td>...</td>\n",
       "      <td>...</td>\n",
       "      <td>...</td>\n",
       "      <td>...</td>\n",
       "      <td>...</td>\n",
       "      <td>...</td>\n",
       "      <td>...</td>\n",
       "      <td>...</td>\n",
       "      <td>...</td>\n",
       "      <td>...</td>\n",
       "      <td>...</td>\n",
       "      <td>...</td>\n",
       "      <td>...</td>\n",
       "      <td>...</td>\n",
       "      <td>...</td>\n",
       "      <td>...</td>\n",
       "      <td>...</td>\n",
       "      <td>...</td>\n",
       "    </tr>\n",
       "    <tr>\n",
       "      <th>179</th>\n",
       "      <td>Z698xZ2qZ16vOg_prK</td>\n",
       "      <td>Jamiroquai - The Heels Of Steel Tour | VIP Pac...</td>\n",
       "      <td>event</td>\n",
       "      <td>https://www.ticketmaster.es/event/jamiroquai-t...</td>\n",
       "      <td>en-us</td>\n",
       "      <td>2025-11-06</td>\n",
       "      <td>2025-11-06T20:00:00Z</td>\n",
       "      <td>Europe/Madrid</td>\n",
       "      <td>onsale</td>\n",
       "      <td>False</td>\n",
       "      <td>...</td>\n",
       "      <td>215.0</td>\n",
       "      <td>Palau Sant Jordi</td>\n",
       "      <td>Barcelona</td>\n",
       "      <td>Barcelona</td>\n",
       "      <td>Spain</td>\n",
       "      <td>Passeig Olímpic, 5-7</td>\n",
       "      <td>8038.0</td>\n",
       "      <td>41.36337</td>\n",
       "      <td>2.15259</td>\n",
       "      <td>26</td>\n",
       "    </tr>\n",
       "    <tr>\n",
       "      <th>180</th>\n",
       "      <td>Z698xZ2qZ16vaY1d08</td>\n",
       "      <td>Jamiroquai - The Heels Of Steel Tour</td>\n",
       "      <td>event</td>\n",
       "      <td>https://www.ticketmaster.es/event/jamiroquai-t...</td>\n",
       "      <td>en-us</td>\n",
       "      <td>2025-11-06</td>\n",
       "      <td>2025-11-06T20:00:00Z</td>\n",
       "      <td>Europe/Madrid</td>\n",
       "      <td>onsale</td>\n",
       "      <td>False</td>\n",
       "      <td>...</td>\n",
       "      <td>105.0</td>\n",
       "      <td>Palau Sant Jordi</td>\n",
       "      <td>Barcelona</td>\n",
       "      <td>Barcelona</td>\n",
       "      <td>Spain</td>\n",
       "      <td>Passeig Olímpic, 5-7</td>\n",
       "      <td>8038.0</td>\n",
       "      <td>41.36337</td>\n",
       "      <td>2.15259</td>\n",
       "      <td>26</td>\n",
       "    </tr>\n",
       "    <tr>\n",
       "      <th>181</th>\n",
       "      <td>Z698xZ2qZ16vO4Q4fF</td>\n",
       "      <td>OneRepublic - Escape to Europe 2025</td>\n",
       "      <td>event</td>\n",
       "      <td>https://www.ticketmaster.es/event/onerepublic-...</td>\n",
       "      <td>en-us</td>\n",
       "      <td>2025-11-14</td>\n",
       "      <td>2025-11-14T20:00:00Z</td>\n",
       "      <td>Europe/Madrid</td>\n",
       "      <td>onsale</td>\n",
       "      <td>False</td>\n",
       "      <td>...</td>\n",
       "      <td>176.0</td>\n",
       "      <td>Palacio Vistalegre</td>\n",
       "      <td>Madrid</td>\n",
       "      <td>Madrid</td>\n",
       "      <td>Spain</td>\n",
       "      <td>Acceso Sur.  C/ Matilde Hernández s/n</td>\n",
       "      <td>28025.0</td>\n",
       "      <td>40.38600</td>\n",
       "      <td>-3.73850</td>\n",
       "      <td>33</td>\n",
       "    </tr>\n",
       "    <tr>\n",
       "      <th>182</th>\n",
       "      <td>Z698xZ2qZ1kfpaV80</td>\n",
       "      <td>OneRepublic - Escape to Europe 2025 | Paquetes...</td>\n",
       "      <td>event</td>\n",
       "      <td>https://www.ticketmaster.es/event/onerepublic-...</td>\n",
       "      <td>en-us</td>\n",
       "      <td>2025-11-14</td>\n",
       "      <td>2025-11-14T20:00:00Z</td>\n",
       "      <td>Europe/Madrid</td>\n",
       "      <td>onsale</td>\n",
       "      <td>False</td>\n",
       "      <td>...</td>\n",
       "      <td>285.0</td>\n",
       "      <td>Palacio Vistalegre</td>\n",
       "      <td>Madrid</td>\n",
       "      <td>Madrid</td>\n",
       "      <td>Spain</td>\n",
       "      <td>Acceso Sur.  C/ Matilde Hernández s/n</td>\n",
       "      <td>28025.0</td>\n",
       "      <td>40.38600</td>\n",
       "      <td>-3.73850</td>\n",
       "      <td>33</td>\n",
       "    </tr>\n",
       "    <tr>\n",
       "      <th>183</th>\n",
       "      <td>Z198xZ2qZkA7</td>\n",
       "      <td>FLEX PRUEBAS IMPRESION ENTRADAS.</td>\n",
       "      <td>event</td>\n",
       "      <td>https://www.ticketmaster.es/event/flex-pruebas...</td>\n",
       "      <td>en-us</td>\n",
       "      <td>2025-12-31</td>\n",
       "      <td>2025-12-31T22:00:00Z</td>\n",
       "      <td>Europe/Madrid</td>\n",
       "      <td>onsale</td>\n",
       "      <td>False</td>\n",
       "      <td>...</td>\n",
       "      <td>0.5</td>\n",
       "      <td>Palau Sant Jordi</td>\n",
       "      <td>Barcelona</td>\n",
       "      <td>Barcelona</td>\n",
       "      <td>Spain</td>\n",
       "      <td>Passeig Olímpic, 5-7</td>\n",
       "      <td>8038.0</td>\n",
       "      <td>41.36337</td>\n",
       "      <td>2.15259</td>\n",
       "      <td>26</td>\n",
       "    </tr>\n",
       "  </tbody>\n",
       "</table>\n",
       "<p>184 rows × 24 columns</p>\n",
       "</div>"
      ]
     },
     "execution_count": 26,
     "metadata": {},
     "output_type": "execute_result"
    }
   ],
   "execution_count": 26
  },
  {
   "metadata": {
    "ExecuteTime": {
     "end_time": "2024-12-01T20:27:49.524923Z",
     "start_time": "2024-12-01T20:27:49.435616Z"
    }
   },
   "cell_type": "code",
   "source": [
    "event_prices_venues_df['average_price'] = (event_prices_venues_df['min_price'] + event_prices_venues_df['max_price']) / 2\n",
    "average_prices_df = event_prices_venues_df.groupby('city').agg({'average_price':'mean'}).reset_index()"
   ],
   "id": "f9f36c19852e3439",
   "outputs": [],
   "execution_count": 154
  },
  {
   "metadata": {
    "ExecuteTime": {
     "end_time": "2024-12-01T20:27:50.825378Z",
     "start_time": "2024-12-01T20:27:50.811222Z"
    }
   },
   "cell_type": "code",
   "source": "average_prices_df",
   "id": "cd6212f8f405df1c",
   "outputs": [
    {
     "data": {
      "text/plain": [
       "                          city  average_price\n",
       "0                     A Coruña     132.864583\n",
       "1                     Badalona     118.750000\n",
       "2                    Barakaldo      79.500000\n",
       "3                    Barcelona     134.084677\n",
       "4                       Bilbao      52.000000\n",
       "5                      Granada      39.250000\n",
       "6                       Madrid     158.029167\n",
       "7                      Mislata      35.000000\n",
       "8                       Málaga      39.500000\n",
       "9               Pamplona/Iruña     137.775000\n",
       "10  San Cristóbal de La Laguna      27.500000\n",
       "11                     Sevilla      42.333333\n",
       "12                    Valencia      35.000000\n",
       "13                    Zaragoza      23.000000"
      ],
      "text/html": [
       "<div>\n",
       "<style scoped>\n",
       "    .dataframe tbody tr th:only-of-type {\n",
       "        vertical-align: middle;\n",
       "    }\n",
       "\n",
       "    .dataframe tbody tr th {\n",
       "        vertical-align: top;\n",
       "    }\n",
       "\n",
       "    .dataframe thead th {\n",
       "        text-align: right;\n",
       "    }\n",
       "</style>\n",
       "<table border=\"1\" class=\"dataframe\">\n",
       "  <thead>\n",
       "    <tr style=\"text-align: right;\">\n",
       "      <th></th>\n",
       "      <th>city</th>\n",
       "      <th>average_price</th>\n",
       "    </tr>\n",
       "  </thead>\n",
       "  <tbody>\n",
       "    <tr>\n",
       "      <th>0</th>\n",
       "      <td>A Coruña</td>\n",
       "      <td>132.864583</td>\n",
       "    </tr>\n",
       "    <tr>\n",
       "      <th>1</th>\n",
       "      <td>Badalona</td>\n",
       "      <td>118.750000</td>\n",
       "    </tr>\n",
       "    <tr>\n",
       "      <th>2</th>\n",
       "      <td>Barakaldo</td>\n",
       "      <td>79.500000</td>\n",
       "    </tr>\n",
       "    <tr>\n",
       "      <th>3</th>\n",
       "      <td>Barcelona</td>\n",
       "      <td>134.084677</td>\n",
       "    </tr>\n",
       "    <tr>\n",
       "      <th>4</th>\n",
       "      <td>Bilbao</td>\n",
       "      <td>52.000000</td>\n",
       "    </tr>\n",
       "    <tr>\n",
       "      <th>5</th>\n",
       "      <td>Granada</td>\n",
       "      <td>39.250000</td>\n",
       "    </tr>\n",
       "    <tr>\n",
       "      <th>6</th>\n",
       "      <td>Madrid</td>\n",
       "      <td>158.029167</td>\n",
       "    </tr>\n",
       "    <tr>\n",
       "      <th>7</th>\n",
       "      <td>Mislata</td>\n",
       "      <td>35.000000</td>\n",
       "    </tr>\n",
       "    <tr>\n",
       "      <th>8</th>\n",
       "      <td>Málaga</td>\n",
       "      <td>39.500000</td>\n",
       "    </tr>\n",
       "    <tr>\n",
       "      <th>9</th>\n",
       "      <td>Pamplona/Iruña</td>\n",
       "      <td>137.775000</td>\n",
       "    </tr>\n",
       "    <tr>\n",
       "      <th>10</th>\n",
       "      <td>San Cristóbal de La Laguna</td>\n",
       "      <td>27.500000</td>\n",
       "    </tr>\n",
       "    <tr>\n",
       "      <th>11</th>\n",
       "      <td>Sevilla</td>\n",
       "      <td>42.333333</td>\n",
       "    </tr>\n",
       "    <tr>\n",
       "      <th>12</th>\n",
       "      <td>Valencia</td>\n",
       "      <td>35.000000</td>\n",
       "    </tr>\n",
       "    <tr>\n",
       "      <th>13</th>\n",
       "      <td>Zaragoza</td>\n",
       "      <td>23.000000</td>\n",
       "    </tr>\n",
       "  </tbody>\n",
       "</table>\n",
       "</div>"
      ]
     },
     "execution_count": 155,
     "metadata": {},
     "output_type": "execute_result"
    }
   ],
   "execution_count": 155
  },
  {
   "metadata": {},
   "cell_type": "code",
   "outputs": [],
   "execution_count": null,
   "source": [
    "city_coords = {\n",
    "    'A Coruña': (43.3709, -8.3733),\n",
    "    'Badalona': (41.4467, 2.2434),\n",
    "    'Barakaldo': (43.3066, -2.9885),\n",
    "    'Barcelona': (41.3851, 2.1734),\n",
    "    'Bilbao': (43.2631, -2.9249),\n",
    "    'Granada': (37.1786, -3.5981),\n",
    "    'Madrid': (40.4168, -3.7033),\n",
    "    'Mislata': (39.4906, -0.4406),\n",
    "    'Málaga': (36.7213, -4.4212),\n",
    "    'Pamplona/Iruña': (42.8154, -1.6444),\n",
    "    'San Cristóbal de La Laguna': (28.4636, -16.2518),\n",
    "    'Sevilla': (37.3825, -5.9845),\n",
    "    'Valencia': (39.4699, -0.3761),\n",
    "    'Zaragoza': (41.6488, -0.8765)\n",
    "}"
   ],
   "id": "d379380e2a0bc5fc"
  },
  {
   "metadata": {},
   "cell_type": "code",
   "outputs": [],
   "execution_count": null,
   "source": [
    "average_prices_df['lat'] = average_prices_df['city'].map(lambda x: city_coords[x][0])\n",
    "average_prices_df['lon'] = average_prices_df['city'].map(lambda x: city_coords[x][1])\n",
    "\n",
    "price_types = ['min_price', 'max_price']\n",
    "colors = ['rgb(33,113,181)', 'rgb(239,138,98)']"
   ],
   "id": "932cff5c16f45ac9"
  },
  {
   "metadata": {
    "ExecuteTime": {
     "end_time": "2024-12-01T20:25:14.980723Z",
     "start_time": "2024-12-01T20:25:14.916930Z"
    }
   },
   "cell_type": "code",
   "source": [
    "fig = go.Figure()\n",
    "\n",
    "for i, price_type in enumerate(price_types):\n",
    "    fig.add_trace(go.Scattermapbox(\n",
    "        lat=average_prices_df['lat'],\n",
    "        lon=average_prices_df['lon'],\n",
    "        mode='markers',\n",
    "        marker=go.scattermapbox.Marker(\n",
    "            size=average_prices_df[price_type] / 2,  \n",
    "            color=colors[i],\n",
    "            opacity=0.6\n",
    "        ),\n",
    "        text=average_prices_df.apply(lambda row: f\"{row['city']}<br>{price_type.title()}: {row[price_type]}\", axis=1),\n",
    "        name=price_type.title()\n",
    "    ))\n",
    "\n",
    "fig.update_layout(\n",
    "    mapbox=dict(\n",
    "        style=\"carto-positron\",\n",
    "        zoom=5,\n",
    "        center={\"lat\": sum(coord[0] for coord in city_coords.values()) / len(city_coords),\n",
    "                \"lon\": sum(coord[1] for coord in city_coords.values()) / len(city_coords)}\n",
    "    ),\n",
    "    margin={\"r\": 0, \"t\": 30, \"l\": 0, \"b\": 0},\n",
    "    title=\"Bubble Map of Min and Max Prices by City\",\n",
    "    height=800,\n",
    "    width=1000\n",
    ")\n",
    "\n",
    "fig.show()\n"
   ],
   "id": "4056d18425a37655",
   "outputs": [
    {
     "data": {
      "application/vnd.plotly.v1+json": {
       "data": [
        {
         "lat": [
          43.3709,
          41.4467,
          43.3066,
          41.3851,
          43.2631,
          37.1786,
          40.4168,
          39.4906,
          36.7213,
          42.8154,
          28.4636,
          37.3825,
          39.4699,
          41.6488
         ],
         "lon": [
          -8.3733,
          2.2434,
          -2.9885,
          2.1734,
          -2.9249,
          -3.5981,
          -3.7033,
          -0.4406,
          -4.4212,
          -1.6444,
          -16.2518,
          -5.9845,
          -0.3761,
          -0.8765
         ],
         "marker": {
          "color": "rgb(33,113,181)",
          "opacity": 0.6,
          "size": [
           15.0,
           25.0,
           20.0,
           35.0,
           27.5,
           17.5,
           40.0,
           22.5,
           32.5,
           25.0,
           20.0,
           30.0,
           27.5,
           25.0
          ]
         },
         "mode": "markers",
         "name": "Min_Price",
         "text": [
          "A Coruña<br>Min_Price: 30",
          "Badalona<br>Min_Price: 50",
          "Barakaldo<br>Min_Price: 40",
          "Barcelona<br>Min_Price: 70",
          "Bilbao<br>Min_Price: 55",
          "Granada<br>Min_Price: 35",
          "Madrid<br>Min_Price: 80",
          "Mislata<br>Min_Price: 45",
          "Málaga<br>Min_Price: 65",
          "Pamplona/Iruña<br>Min_Price: 50",
          "San Cristóbal de La Laguna<br>Min_Price: 40",
          "Sevilla<br>Min_Price: 60",
          "Valencia<br>Min_Price: 55",
          "Zaragoza<br>Min_Price: 50"
         ],
         "type": "scattermapbox"
        },
        {
         "lat": [
          43.3709,
          41.4467,
          43.3066,
          41.3851,
          43.2631,
          37.1786,
          40.4168,
          39.4906,
          36.7213,
          42.8154,
          28.4636,
          37.3825,
          39.4699,
          41.6488
         ],
         "lon": [
          -8.3733,
          2.2434,
          -2.9885,
          2.1734,
          -2.9249,
          -3.5981,
          -3.7033,
          -0.4406,
          -4.4212,
          -1.6444,
          -16.2518,
          -5.9845,
          -0.3761,
          -0.8765
         ],
         "marker": {
          "color": "rgb(239,138,98)",
          "opacity": 0.6,
          "size": [
           45.0,
           60.0,
           55.0,
           75.0,
           65.0,
           42.5,
           90.0,
           50.0,
           70.0,
           55.0,
           45.0,
           60.0,
           65.0,
           57.5
          ]
         },
         "mode": "markers",
         "name": "Max_Price",
         "text": [
          "A Coruña<br>Max_Price: 90",
          "Badalona<br>Max_Price: 120",
          "Barakaldo<br>Max_Price: 110",
          "Barcelona<br>Max_Price: 150",
          "Bilbao<br>Max_Price: 130",
          "Granada<br>Max_Price: 85",
          "Madrid<br>Max_Price: 180",
          "Mislata<br>Max_Price: 100",
          "Málaga<br>Max_Price: 140",
          "Pamplona/Iruña<br>Max_Price: 110",
          "San Cristóbal de La Laguna<br>Max_Price: 90",
          "Sevilla<br>Max_Price: 120",
          "Valencia<br>Max_Price: 130",
          "Zaragoza<br>Max_Price: 115"
         ],
         "type": "scattermapbox"
        }
       ],
       "layout": {
        "template": {
         "data": {
          "histogram2dcontour": [
           {
            "type": "histogram2dcontour",
            "colorbar": {
             "outlinewidth": 0,
             "ticks": ""
            },
            "colorscale": [
             [
              0.0,
              "#0d0887"
             ],
             [
              0.1111111111111111,
              "#46039f"
             ],
             [
              0.2222222222222222,
              "#7201a8"
             ],
             [
              0.3333333333333333,
              "#9c179e"
             ],
             [
              0.4444444444444444,
              "#bd3786"
             ],
             [
              0.5555555555555556,
              "#d8576b"
             ],
             [
              0.6666666666666666,
              "#ed7953"
             ],
             [
              0.7777777777777778,
              "#fb9f3a"
             ],
             [
              0.8888888888888888,
              "#fdca26"
             ],
             [
              1.0,
              "#f0f921"
             ]
            ]
           }
          ],
          "choropleth": [
           {
            "type": "choropleth",
            "colorbar": {
             "outlinewidth": 0,
             "ticks": ""
            }
           }
          ],
          "histogram2d": [
           {
            "type": "histogram2d",
            "colorbar": {
             "outlinewidth": 0,
             "ticks": ""
            },
            "colorscale": [
             [
              0.0,
              "#0d0887"
             ],
             [
              0.1111111111111111,
              "#46039f"
             ],
             [
              0.2222222222222222,
              "#7201a8"
             ],
             [
              0.3333333333333333,
              "#9c179e"
             ],
             [
              0.4444444444444444,
              "#bd3786"
             ],
             [
              0.5555555555555556,
              "#d8576b"
             ],
             [
              0.6666666666666666,
              "#ed7953"
             ],
             [
              0.7777777777777778,
              "#fb9f3a"
             ],
             [
              0.8888888888888888,
              "#fdca26"
             ],
             [
              1.0,
              "#f0f921"
             ]
            ]
           }
          ],
          "heatmap": [
           {
            "type": "heatmap",
            "colorbar": {
             "outlinewidth": 0,
             "ticks": ""
            },
            "colorscale": [
             [
              0.0,
              "#0d0887"
             ],
             [
              0.1111111111111111,
              "#46039f"
             ],
             [
              0.2222222222222222,
              "#7201a8"
             ],
             [
              0.3333333333333333,
              "#9c179e"
             ],
             [
              0.4444444444444444,
              "#bd3786"
             ],
             [
              0.5555555555555556,
              "#d8576b"
             ],
             [
              0.6666666666666666,
              "#ed7953"
             ],
             [
              0.7777777777777778,
              "#fb9f3a"
             ],
             [
              0.8888888888888888,
              "#fdca26"
             ],
             [
              1.0,
              "#f0f921"
             ]
            ]
           }
          ],
          "heatmapgl": [
           {
            "type": "heatmapgl",
            "colorbar": {
             "outlinewidth": 0,
             "ticks": ""
            },
            "colorscale": [
             [
              0.0,
              "#0d0887"
             ],
             [
              0.1111111111111111,
              "#46039f"
             ],
             [
              0.2222222222222222,
              "#7201a8"
             ],
             [
              0.3333333333333333,
              "#9c179e"
             ],
             [
              0.4444444444444444,
              "#bd3786"
             ],
             [
              0.5555555555555556,
              "#d8576b"
             ],
             [
              0.6666666666666666,
              "#ed7953"
             ],
             [
              0.7777777777777778,
              "#fb9f3a"
             ],
             [
              0.8888888888888888,
              "#fdca26"
             ],
             [
              1.0,
              "#f0f921"
             ]
            ]
           }
          ],
          "contourcarpet": [
           {
            "type": "contourcarpet",
            "colorbar": {
             "outlinewidth": 0,
             "ticks": ""
            }
           }
          ],
          "contour": [
           {
            "type": "contour",
            "colorbar": {
             "outlinewidth": 0,
             "ticks": ""
            },
            "colorscale": [
             [
              0.0,
              "#0d0887"
             ],
             [
              0.1111111111111111,
              "#46039f"
             ],
             [
              0.2222222222222222,
              "#7201a8"
             ],
             [
              0.3333333333333333,
              "#9c179e"
             ],
             [
              0.4444444444444444,
              "#bd3786"
             ],
             [
              0.5555555555555556,
              "#d8576b"
             ],
             [
              0.6666666666666666,
              "#ed7953"
             ],
             [
              0.7777777777777778,
              "#fb9f3a"
             ],
             [
              0.8888888888888888,
              "#fdca26"
             ],
             [
              1.0,
              "#f0f921"
             ]
            ]
           }
          ],
          "surface": [
           {
            "type": "surface",
            "colorbar": {
             "outlinewidth": 0,
             "ticks": ""
            },
            "colorscale": [
             [
              0.0,
              "#0d0887"
             ],
             [
              0.1111111111111111,
              "#46039f"
             ],
             [
              0.2222222222222222,
              "#7201a8"
             ],
             [
              0.3333333333333333,
              "#9c179e"
             ],
             [
              0.4444444444444444,
              "#bd3786"
             ],
             [
              0.5555555555555556,
              "#d8576b"
             ],
             [
              0.6666666666666666,
              "#ed7953"
             ],
             [
              0.7777777777777778,
              "#fb9f3a"
             ],
             [
              0.8888888888888888,
              "#fdca26"
             ],
             [
              1.0,
              "#f0f921"
             ]
            ]
           }
          ],
          "mesh3d": [
           {
            "type": "mesh3d",
            "colorbar": {
             "outlinewidth": 0,
             "ticks": ""
            }
           }
          ],
          "scatter": [
           {
            "fillpattern": {
             "fillmode": "overlay",
             "size": 10,
             "solidity": 0.2
            },
            "type": "scatter"
           }
          ],
          "parcoords": [
           {
            "type": "parcoords",
            "line": {
             "colorbar": {
              "outlinewidth": 0,
              "ticks": ""
             }
            }
           }
          ],
          "scatterpolargl": [
           {
            "type": "scatterpolargl",
            "marker": {
             "colorbar": {
              "outlinewidth": 0,
              "ticks": ""
             }
            }
           }
          ],
          "bar": [
           {
            "error_x": {
             "color": "#2a3f5f"
            },
            "error_y": {
             "color": "#2a3f5f"
            },
            "marker": {
             "line": {
              "color": "#E5ECF6",
              "width": 0.5
             },
             "pattern": {
              "fillmode": "overlay",
              "size": 10,
              "solidity": 0.2
             }
            },
            "type": "bar"
           }
          ],
          "scattergeo": [
           {
            "type": "scattergeo",
            "marker": {
             "colorbar": {
              "outlinewidth": 0,
              "ticks": ""
             }
            }
           }
          ],
          "scatterpolar": [
           {
            "type": "scatterpolar",
            "marker": {
             "colorbar": {
              "outlinewidth": 0,
              "ticks": ""
             }
            }
           }
          ],
          "histogram": [
           {
            "marker": {
             "pattern": {
              "fillmode": "overlay",
              "size": 10,
              "solidity": 0.2
             }
            },
            "type": "histogram"
           }
          ],
          "scattergl": [
           {
            "type": "scattergl",
            "marker": {
             "colorbar": {
              "outlinewidth": 0,
              "ticks": ""
             }
            }
           }
          ],
          "scatter3d": [
           {
            "type": "scatter3d",
            "line": {
             "colorbar": {
              "outlinewidth": 0,
              "ticks": ""
             }
            },
            "marker": {
             "colorbar": {
              "outlinewidth": 0,
              "ticks": ""
             }
            }
           }
          ],
          "scattermapbox": [
           {
            "type": "scattermapbox",
            "marker": {
             "colorbar": {
              "outlinewidth": 0,
              "ticks": ""
             }
            }
           }
          ],
          "scatterternary": [
           {
            "type": "scatterternary",
            "marker": {
             "colorbar": {
              "outlinewidth": 0,
              "ticks": ""
             }
            }
           }
          ],
          "scattercarpet": [
           {
            "type": "scattercarpet",
            "marker": {
             "colorbar": {
              "outlinewidth": 0,
              "ticks": ""
             }
            }
           }
          ],
          "carpet": [
           {
            "aaxis": {
             "endlinecolor": "#2a3f5f",
             "gridcolor": "white",
             "linecolor": "white",
             "minorgridcolor": "white",
             "startlinecolor": "#2a3f5f"
            },
            "baxis": {
             "endlinecolor": "#2a3f5f",
             "gridcolor": "white",
             "linecolor": "white",
             "minorgridcolor": "white",
             "startlinecolor": "#2a3f5f"
            },
            "type": "carpet"
           }
          ],
          "table": [
           {
            "cells": {
             "fill": {
              "color": "#EBF0F8"
             },
             "line": {
              "color": "white"
             }
            },
            "header": {
             "fill": {
              "color": "#C8D4E3"
             },
             "line": {
              "color": "white"
             }
            },
            "type": "table"
           }
          ],
          "barpolar": [
           {
            "marker": {
             "line": {
              "color": "#E5ECF6",
              "width": 0.5
             },
             "pattern": {
              "fillmode": "overlay",
              "size": 10,
              "solidity": 0.2
             }
            },
            "type": "barpolar"
           }
          ],
          "pie": [
           {
            "automargin": true,
            "type": "pie"
           }
          ]
         },
         "layout": {
          "autotypenumbers": "strict",
          "colorway": [
           "#636efa",
           "#EF553B",
           "#00cc96",
           "#ab63fa",
           "#FFA15A",
           "#19d3f3",
           "#FF6692",
           "#B6E880",
           "#FF97FF",
           "#FECB52"
          ],
          "font": {
           "color": "#2a3f5f"
          },
          "hovermode": "closest",
          "hoverlabel": {
           "align": "left"
          },
          "paper_bgcolor": "white",
          "plot_bgcolor": "#E5ECF6",
          "polar": {
           "bgcolor": "#E5ECF6",
           "angularaxis": {
            "gridcolor": "white",
            "linecolor": "white",
            "ticks": ""
           },
           "radialaxis": {
            "gridcolor": "white",
            "linecolor": "white",
            "ticks": ""
           }
          },
          "ternary": {
           "bgcolor": "#E5ECF6",
           "aaxis": {
            "gridcolor": "white",
            "linecolor": "white",
            "ticks": ""
           },
           "baxis": {
            "gridcolor": "white",
            "linecolor": "white",
            "ticks": ""
           },
           "caxis": {
            "gridcolor": "white",
            "linecolor": "white",
            "ticks": ""
           }
          },
          "coloraxis": {
           "colorbar": {
            "outlinewidth": 0,
            "ticks": ""
           }
          },
          "colorscale": {
           "sequential": [
            [
             0.0,
             "#0d0887"
            ],
            [
             0.1111111111111111,
             "#46039f"
            ],
            [
             0.2222222222222222,
             "#7201a8"
            ],
            [
             0.3333333333333333,
             "#9c179e"
            ],
            [
             0.4444444444444444,
             "#bd3786"
            ],
            [
             0.5555555555555556,
             "#d8576b"
            ],
            [
             0.6666666666666666,
             "#ed7953"
            ],
            [
             0.7777777777777778,
             "#fb9f3a"
            ],
            [
             0.8888888888888888,
             "#fdca26"
            ],
            [
             1.0,
             "#f0f921"
            ]
           ],
           "sequentialminus": [
            [
             0.0,
             "#0d0887"
            ],
            [
             0.1111111111111111,
             "#46039f"
            ],
            [
             0.2222222222222222,
             "#7201a8"
            ],
            [
             0.3333333333333333,
             "#9c179e"
            ],
            [
             0.4444444444444444,
             "#bd3786"
            ],
            [
             0.5555555555555556,
             "#d8576b"
            ],
            [
             0.6666666666666666,
             "#ed7953"
            ],
            [
             0.7777777777777778,
             "#fb9f3a"
            ],
            [
             0.8888888888888888,
             "#fdca26"
            ],
            [
             1.0,
             "#f0f921"
            ]
           ],
           "diverging": [
            [
             0,
             "#8e0152"
            ],
            [
             0.1,
             "#c51b7d"
            ],
            [
             0.2,
             "#de77ae"
            ],
            [
             0.3,
             "#f1b6da"
            ],
            [
             0.4,
             "#fde0ef"
            ],
            [
             0.5,
             "#f7f7f7"
            ],
            [
             0.6,
             "#e6f5d0"
            ],
            [
             0.7,
             "#b8e186"
            ],
            [
             0.8,
             "#7fbc41"
            ],
            [
             0.9,
             "#4d9221"
            ],
            [
             1,
             "#276419"
            ]
           ]
          },
          "xaxis": {
           "gridcolor": "white",
           "linecolor": "white",
           "ticks": "",
           "title": {
            "standoff": 15
           },
           "zerolinecolor": "white",
           "automargin": true,
           "zerolinewidth": 2
          },
          "yaxis": {
           "gridcolor": "white",
           "linecolor": "white",
           "ticks": "",
           "title": {
            "standoff": 15
           },
           "zerolinecolor": "white",
           "automargin": true,
           "zerolinewidth": 2
          },
          "scene": {
           "xaxis": {
            "backgroundcolor": "#E5ECF6",
            "gridcolor": "white",
            "linecolor": "white",
            "showbackground": true,
            "ticks": "",
            "zerolinecolor": "white",
            "gridwidth": 2
           },
           "yaxis": {
            "backgroundcolor": "#E5ECF6",
            "gridcolor": "white",
            "linecolor": "white",
            "showbackground": true,
            "ticks": "",
            "zerolinecolor": "white",
            "gridwidth": 2
           },
           "zaxis": {
            "backgroundcolor": "#E5ECF6",
            "gridcolor": "white",
            "linecolor": "white",
            "showbackground": true,
            "ticks": "",
            "zerolinecolor": "white",
            "gridwidth": 2
           }
          },
          "shapedefaults": {
           "line": {
            "color": "#2a3f5f"
           }
          },
          "annotationdefaults": {
           "arrowcolor": "#2a3f5f",
           "arrowhead": 0,
           "arrowwidth": 1
          },
          "geo": {
           "bgcolor": "white",
           "landcolor": "#E5ECF6",
           "subunitcolor": "white",
           "showland": true,
           "showlakes": true,
           "lakecolor": "white"
          },
          "title": {
           "x": 0.05
          },
          "mapbox": {
           "style": "light"
          }
         }
        },
        "mapbox": {
         "center": {
          "lat": 39.739992857142866,
          "lon": -3.3690285714285713
         },
         "style": "carto-positron",
         "zoom": 5
        },
        "margin": {
         "r": 0,
         "t": 30,
         "l": 0,
         "b": 0
        },
        "title": {
         "text": "Bubble Map of Min and Max Prices by City"
        },
        "height": 800,
        "width": 1000
       },
       "config": {
        "plotlyServerURL": "https://plot.ly"
       }
      },
      "text/html": [
       "<div>                            <div id=\"50b5a239-4cfc-4105-a3c1-e4795779ac59\" class=\"plotly-graph-div\" style=\"height:800px; width:1000px;\"></div>            <script type=\"text/javascript\">                require([\"plotly\"], function(Plotly) {                    window.PLOTLYENV=window.PLOTLYENV || {};                                    if (document.getElementById(\"50b5a239-4cfc-4105-a3c1-e4795779ac59\")) {                    Plotly.newPlot(                        \"50b5a239-4cfc-4105-a3c1-e4795779ac59\",                        [{\"lat\":[43.3709,41.4467,43.3066,41.3851,43.2631,37.1786,40.4168,39.4906,36.7213,42.8154,28.4636,37.3825,39.4699,41.6488],\"lon\":[-8.3733,2.2434,-2.9885,2.1734,-2.9249,-3.5981,-3.7033,-0.4406,-4.4212,-1.6444,-16.2518,-5.9845,-0.3761,-0.8765],\"marker\":{\"color\":\"rgb(33,113,181)\",\"opacity\":0.6,\"size\":[15.0,25.0,20.0,35.0,27.5,17.5,40.0,22.5,32.5,25.0,20.0,30.0,27.5,25.0]},\"mode\":\"markers\",\"name\":\"Min_Price\",\"text\":[\"A Coru\\u00f1a\\u003cbr\\u003eMin_Price: 30\",\"Badalona\\u003cbr\\u003eMin_Price: 50\",\"Barakaldo\\u003cbr\\u003eMin_Price: 40\",\"Barcelona\\u003cbr\\u003eMin_Price: 70\",\"Bilbao\\u003cbr\\u003eMin_Price: 55\",\"Granada\\u003cbr\\u003eMin_Price: 35\",\"Madrid\\u003cbr\\u003eMin_Price: 80\",\"Mislata\\u003cbr\\u003eMin_Price: 45\",\"M\\u00e1laga\\u003cbr\\u003eMin_Price: 65\",\"Pamplona\\u002fIru\\u00f1a\\u003cbr\\u003eMin_Price: 50\",\"San Crist\\u00f3bal de La Laguna\\u003cbr\\u003eMin_Price: 40\",\"Sevilla\\u003cbr\\u003eMin_Price: 60\",\"Valencia\\u003cbr\\u003eMin_Price: 55\",\"Zaragoza\\u003cbr\\u003eMin_Price: 50\"],\"type\":\"scattermapbox\"},{\"lat\":[43.3709,41.4467,43.3066,41.3851,43.2631,37.1786,40.4168,39.4906,36.7213,42.8154,28.4636,37.3825,39.4699,41.6488],\"lon\":[-8.3733,2.2434,-2.9885,2.1734,-2.9249,-3.5981,-3.7033,-0.4406,-4.4212,-1.6444,-16.2518,-5.9845,-0.3761,-0.8765],\"marker\":{\"color\":\"rgb(239,138,98)\",\"opacity\":0.6,\"size\":[45.0,60.0,55.0,75.0,65.0,42.5,90.0,50.0,70.0,55.0,45.0,60.0,65.0,57.5]},\"mode\":\"markers\",\"name\":\"Max_Price\",\"text\":[\"A Coru\\u00f1a\\u003cbr\\u003eMax_Price: 90\",\"Badalona\\u003cbr\\u003eMax_Price: 120\",\"Barakaldo\\u003cbr\\u003eMax_Price: 110\",\"Barcelona\\u003cbr\\u003eMax_Price: 150\",\"Bilbao\\u003cbr\\u003eMax_Price: 130\",\"Granada\\u003cbr\\u003eMax_Price: 85\",\"Madrid\\u003cbr\\u003eMax_Price: 180\",\"Mislata\\u003cbr\\u003eMax_Price: 100\",\"M\\u00e1laga\\u003cbr\\u003eMax_Price: 140\",\"Pamplona\\u002fIru\\u00f1a\\u003cbr\\u003eMax_Price: 110\",\"San Crist\\u00f3bal de La Laguna\\u003cbr\\u003eMax_Price: 90\",\"Sevilla\\u003cbr\\u003eMax_Price: 120\",\"Valencia\\u003cbr\\u003eMax_Price: 130\",\"Zaragoza\\u003cbr\\u003eMax_Price: 115\"],\"type\":\"scattermapbox\"}],                        {\"template\":{\"data\":{\"histogram2dcontour\":[{\"type\":\"histogram2dcontour\",\"colorbar\":{\"outlinewidth\":0,\"ticks\":\"\"},\"colorscale\":[[0.0,\"#0d0887\"],[0.1111111111111111,\"#46039f\"],[0.2222222222222222,\"#7201a8\"],[0.3333333333333333,\"#9c179e\"],[0.4444444444444444,\"#bd3786\"],[0.5555555555555556,\"#d8576b\"],[0.6666666666666666,\"#ed7953\"],[0.7777777777777778,\"#fb9f3a\"],[0.8888888888888888,\"#fdca26\"],[1.0,\"#f0f921\"]]}],\"choropleth\":[{\"type\":\"choropleth\",\"colorbar\":{\"outlinewidth\":0,\"ticks\":\"\"}}],\"histogram2d\":[{\"type\":\"histogram2d\",\"colorbar\":{\"outlinewidth\":0,\"ticks\":\"\"},\"colorscale\":[[0.0,\"#0d0887\"],[0.1111111111111111,\"#46039f\"],[0.2222222222222222,\"#7201a8\"],[0.3333333333333333,\"#9c179e\"],[0.4444444444444444,\"#bd3786\"],[0.5555555555555556,\"#d8576b\"],[0.6666666666666666,\"#ed7953\"],[0.7777777777777778,\"#fb9f3a\"],[0.8888888888888888,\"#fdca26\"],[1.0,\"#f0f921\"]]}],\"heatmap\":[{\"type\":\"heatmap\",\"colorbar\":{\"outlinewidth\":0,\"ticks\":\"\"},\"colorscale\":[[0.0,\"#0d0887\"],[0.1111111111111111,\"#46039f\"],[0.2222222222222222,\"#7201a8\"],[0.3333333333333333,\"#9c179e\"],[0.4444444444444444,\"#bd3786\"],[0.5555555555555556,\"#d8576b\"],[0.6666666666666666,\"#ed7953\"],[0.7777777777777778,\"#fb9f3a\"],[0.8888888888888888,\"#fdca26\"],[1.0,\"#f0f921\"]]}],\"heatmapgl\":[{\"type\":\"heatmapgl\",\"colorbar\":{\"outlinewidth\":0,\"ticks\":\"\"},\"colorscale\":[[0.0,\"#0d0887\"],[0.1111111111111111,\"#46039f\"],[0.2222222222222222,\"#7201a8\"],[0.3333333333333333,\"#9c179e\"],[0.4444444444444444,\"#bd3786\"],[0.5555555555555556,\"#d8576b\"],[0.6666666666666666,\"#ed7953\"],[0.7777777777777778,\"#fb9f3a\"],[0.8888888888888888,\"#fdca26\"],[1.0,\"#f0f921\"]]}],\"contourcarpet\":[{\"type\":\"contourcarpet\",\"colorbar\":{\"outlinewidth\":0,\"ticks\":\"\"}}],\"contour\":[{\"type\":\"contour\",\"colorbar\":{\"outlinewidth\":0,\"ticks\":\"\"},\"colorscale\":[[0.0,\"#0d0887\"],[0.1111111111111111,\"#46039f\"],[0.2222222222222222,\"#7201a8\"],[0.3333333333333333,\"#9c179e\"],[0.4444444444444444,\"#bd3786\"],[0.5555555555555556,\"#d8576b\"],[0.6666666666666666,\"#ed7953\"],[0.7777777777777778,\"#fb9f3a\"],[0.8888888888888888,\"#fdca26\"],[1.0,\"#f0f921\"]]}],\"surface\":[{\"type\":\"surface\",\"colorbar\":{\"outlinewidth\":0,\"ticks\":\"\"},\"colorscale\":[[0.0,\"#0d0887\"],[0.1111111111111111,\"#46039f\"],[0.2222222222222222,\"#7201a8\"],[0.3333333333333333,\"#9c179e\"],[0.4444444444444444,\"#bd3786\"],[0.5555555555555556,\"#d8576b\"],[0.6666666666666666,\"#ed7953\"],[0.7777777777777778,\"#fb9f3a\"],[0.8888888888888888,\"#fdca26\"],[1.0,\"#f0f921\"]]}],\"mesh3d\":[{\"type\":\"mesh3d\",\"colorbar\":{\"outlinewidth\":0,\"ticks\":\"\"}}],\"scatter\":[{\"fillpattern\":{\"fillmode\":\"overlay\",\"size\":10,\"solidity\":0.2},\"type\":\"scatter\"}],\"parcoords\":[{\"type\":\"parcoords\",\"line\":{\"colorbar\":{\"outlinewidth\":0,\"ticks\":\"\"}}}],\"scatterpolargl\":[{\"type\":\"scatterpolargl\",\"marker\":{\"colorbar\":{\"outlinewidth\":0,\"ticks\":\"\"}}}],\"bar\":[{\"error_x\":{\"color\":\"#2a3f5f\"},\"error_y\":{\"color\":\"#2a3f5f\"},\"marker\":{\"line\":{\"color\":\"#E5ECF6\",\"width\":0.5},\"pattern\":{\"fillmode\":\"overlay\",\"size\":10,\"solidity\":0.2}},\"type\":\"bar\"}],\"scattergeo\":[{\"type\":\"scattergeo\",\"marker\":{\"colorbar\":{\"outlinewidth\":0,\"ticks\":\"\"}}}],\"scatterpolar\":[{\"type\":\"scatterpolar\",\"marker\":{\"colorbar\":{\"outlinewidth\":0,\"ticks\":\"\"}}}],\"histogram\":[{\"marker\":{\"pattern\":{\"fillmode\":\"overlay\",\"size\":10,\"solidity\":0.2}},\"type\":\"histogram\"}],\"scattergl\":[{\"type\":\"scattergl\",\"marker\":{\"colorbar\":{\"outlinewidth\":0,\"ticks\":\"\"}}}],\"scatter3d\":[{\"type\":\"scatter3d\",\"line\":{\"colorbar\":{\"outlinewidth\":0,\"ticks\":\"\"}},\"marker\":{\"colorbar\":{\"outlinewidth\":0,\"ticks\":\"\"}}}],\"scattermapbox\":[{\"type\":\"scattermapbox\",\"marker\":{\"colorbar\":{\"outlinewidth\":0,\"ticks\":\"\"}}}],\"scatterternary\":[{\"type\":\"scatterternary\",\"marker\":{\"colorbar\":{\"outlinewidth\":0,\"ticks\":\"\"}}}],\"scattercarpet\":[{\"type\":\"scattercarpet\",\"marker\":{\"colorbar\":{\"outlinewidth\":0,\"ticks\":\"\"}}}],\"carpet\":[{\"aaxis\":{\"endlinecolor\":\"#2a3f5f\",\"gridcolor\":\"white\",\"linecolor\":\"white\",\"minorgridcolor\":\"white\",\"startlinecolor\":\"#2a3f5f\"},\"baxis\":{\"endlinecolor\":\"#2a3f5f\",\"gridcolor\":\"white\",\"linecolor\":\"white\",\"minorgridcolor\":\"white\",\"startlinecolor\":\"#2a3f5f\"},\"type\":\"carpet\"}],\"table\":[{\"cells\":{\"fill\":{\"color\":\"#EBF0F8\"},\"line\":{\"color\":\"white\"}},\"header\":{\"fill\":{\"color\":\"#C8D4E3\"},\"line\":{\"color\":\"white\"}},\"type\":\"table\"}],\"barpolar\":[{\"marker\":{\"line\":{\"color\":\"#E5ECF6\",\"width\":0.5},\"pattern\":{\"fillmode\":\"overlay\",\"size\":10,\"solidity\":0.2}},\"type\":\"barpolar\"}],\"pie\":[{\"automargin\":true,\"type\":\"pie\"}]},\"layout\":{\"autotypenumbers\":\"strict\",\"colorway\":[\"#636efa\",\"#EF553B\",\"#00cc96\",\"#ab63fa\",\"#FFA15A\",\"#19d3f3\",\"#FF6692\",\"#B6E880\",\"#FF97FF\",\"#FECB52\"],\"font\":{\"color\":\"#2a3f5f\"},\"hovermode\":\"closest\",\"hoverlabel\":{\"align\":\"left\"},\"paper_bgcolor\":\"white\",\"plot_bgcolor\":\"#E5ECF6\",\"polar\":{\"bgcolor\":\"#E5ECF6\",\"angularaxis\":{\"gridcolor\":\"white\",\"linecolor\":\"white\",\"ticks\":\"\"},\"radialaxis\":{\"gridcolor\":\"white\",\"linecolor\":\"white\",\"ticks\":\"\"}},\"ternary\":{\"bgcolor\":\"#E5ECF6\",\"aaxis\":{\"gridcolor\":\"white\",\"linecolor\":\"white\",\"ticks\":\"\"},\"baxis\":{\"gridcolor\":\"white\",\"linecolor\":\"white\",\"ticks\":\"\"},\"caxis\":{\"gridcolor\":\"white\",\"linecolor\":\"white\",\"ticks\":\"\"}},\"coloraxis\":{\"colorbar\":{\"outlinewidth\":0,\"ticks\":\"\"}},\"colorscale\":{\"sequential\":[[0.0,\"#0d0887\"],[0.1111111111111111,\"#46039f\"],[0.2222222222222222,\"#7201a8\"],[0.3333333333333333,\"#9c179e\"],[0.4444444444444444,\"#bd3786\"],[0.5555555555555556,\"#d8576b\"],[0.6666666666666666,\"#ed7953\"],[0.7777777777777778,\"#fb9f3a\"],[0.8888888888888888,\"#fdca26\"],[1.0,\"#f0f921\"]],\"sequentialminus\":[[0.0,\"#0d0887\"],[0.1111111111111111,\"#46039f\"],[0.2222222222222222,\"#7201a8\"],[0.3333333333333333,\"#9c179e\"],[0.4444444444444444,\"#bd3786\"],[0.5555555555555556,\"#d8576b\"],[0.6666666666666666,\"#ed7953\"],[0.7777777777777778,\"#fb9f3a\"],[0.8888888888888888,\"#fdca26\"],[1.0,\"#f0f921\"]],\"diverging\":[[0,\"#8e0152\"],[0.1,\"#c51b7d\"],[0.2,\"#de77ae\"],[0.3,\"#f1b6da\"],[0.4,\"#fde0ef\"],[0.5,\"#f7f7f7\"],[0.6,\"#e6f5d0\"],[0.7,\"#b8e186\"],[0.8,\"#7fbc41\"],[0.9,\"#4d9221\"],[1,\"#276419\"]]},\"xaxis\":{\"gridcolor\":\"white\",\"linecolor\":\"white\",\"ticks\":\"\",\"title\":{\"standoff\":15},\"zerolinecolor\":\"white\",\"automargin\":true,\"zerolinewidth\":2},\"yaxis\":{\"gridcolor\":\"white\",\"linecolor\":\"white\",\"ticks\":\"\",\"title\":{\"standoff\":15},\"zerolinecolor\":\"white\",\"automargin\":true,\"zerolinewidth\":2},\"scene\":{\"xaxis\":{\"backgroundcolor\":\"#E5ECF6\",\"gridcolor\":\"white\",\"linecolor\":\"white\",\"showbackground\":true,\"ticks\":\"\",\"zerolinecolor\":\"white\",\"gridwidth\":2},\"yaxis\":{\"backgroundcolor\":\"#E5ECF6\",\"gridcolor\":\"white\",\"linecolor\":\"white\",\"showbackground\":true,\"ticks\":\"\",\"zerolinecolor\":\"white\",\"gridwidth\":2},\"zaxis\":{\"backgroundcolor\":\"#E5ECF6\",\"gridcolor\":\"white\",\"linecolor\":\"white\",\"showbackground\":true,\"ticks\":\"\",\"zerolinecolor\":\"white\",\"gridwidth\":2}},\"shapedefaults\":{\"line\":{\"color\":\"#2a3f5f\"}},\"annotationdefaults\":{\"arrowcolor\":\"#2a3f5f\",\"arrowhead\":0,\"arrowwidth\":1},\"geo\":{\"bgcolor\":\"white\",\"landcolor\":\"#E5ECF6\",\"subunitcolor\":\"white\",\"showland\":true,\"showlakes\":true,\"lakecolor\":\"white\"},\"title\":{\"x\":0.05},\"mapbox\":{\"style\":\"light\"}}},\"mapbox\":{\"center\":{\"lat\":39.739992857142866,\"lon\":-3.3690285714285713},\"style\":\"carto-positron\",\"zoom\":5},\"margin\":{\"r\":0,\"t\":30,\"l\":0,\"b\":0},\"title\":{\"text\":\"Bubble Map of Min and Max Prices by City\"},\"height\":800,\"width\":1000},                        {\"responsive\": true}                    ).then(function(){\n",
       "                            \n",
       "var gd = document.getElementById('50b5a239-4cfc-4105-a3c1-e4795779ac59');\n",
       "var x = new MutationObserver(function (mutations, observer) {{\n",
       "        var display = window.getComputedStyle(gd).display;\n",
       "        if (!display || display === 'none') {{\n",
       "            console.log([gd, 'removed!']);\n",
       "            Plotly.purge(gd);\n",
       "            observer.disconnect();\n",
       "        }}\n",
       "}});\n",
       "\n",
       "// Listen for the removal of the full notebook cells\n",
       "var notebookContainer = gd.closest('#notebook-container');\n",
       "if (notebookContainer) {{\n",
       "    x.observe(notebookContainer, {childList: true});\n",
       "}}\n",
       "\n",
       "// Listen for the clearing of the current output cell\n",
       "var outputEl = gd.closest('.output');\n",
       "if (outputEl) {{\n",
       "    x.observe(outputEl, {childList: true});\n",
       "}}\n",
       "\n",
       "                        })                };                });            </script>        </div>"
      ]
     },
     "metadata": {},
     "output_type": "display_data"
    }
   ],
   "execution_count": 153
  },
  {
   "metadata": {
    "ExecuteTime": {
     "end_time": "2024-12-01T20:34:32.585642Z",
     "start_time": "2024-12-01T20:34:32.519991Z"
    }
   },
   "cell_type": "code",
   "source": [
    "fig = go.Figure()\n",
    "\n",
    "fig.add_trace(go.Scattermapbox(\n",
    "    lat=average_prices_df['lat'],\n",
    "    lon=average_prices_df['lon'],\n",
    "    mode='markers',\n",
    "    marker=go.scattermapbox.Marker(\n",
    "        size=average_prices_df['average_price']*10,  # Scale size\n",
    "        color=average_prices_df['average_price'],\n",
    "        colorscale='Viridis',  # Gradient color scale\n",
    "        showscale=True,  # Display colorbar\n",
    "        sizemode='area',\n",
    "        colorbar=dict(title=\"Avg Price\")\n",
    "    ),\n",
    "    text=average_prices_df.apply(lambda row: f\"{row['city']}<br>Avg Price: {row['average_price']:.2f}\", axis=1),\n",
    "    name=\"Average Price\"\n",
    "))\n",
    "\n",
    "# Update layout to mimic the px.scatter_mapbox style\n",
    "fig.update_layout(\n",
    "    mapbox=dict(\n",
    "        style=\"carto-positron\",\n",
    "        zoom=5,\n",
    "        center={\"lat\": average_prices_df['lat'].mean(), \"lon\": average_prices_df['lon'].mean()}\n",
    "    ),\n",
    "    margin={\"r\": 0, \"t\": 30, \"l\": 0, \"b\": 0},\n",
    "    title=\"Bubble Map of Average Prices by Venue in Madrid\",\n",
    "    height=800,\n",
    "    width=1000\n",
    ")\n",
    "\n",
    "# Show the map\n",
    "fig.show()"
   ],
   "id": "76fe654b7c3191f2",
   "outputs": [
    {
     "data": {
      "application/vnd.plotly.v1+json": {
       "data": [
        {
         "lat": [
          43.3709,
          41.4467,
          43.3066,
          41.3851,
          43.2631,
          37.1786,
          40.4168,
          39.4906,
          36.7213,
          42.8154,
          28.4636,
          37.3825,
          39.4699,
          41.6488
         ],
         "lon": [
          -8.3733,
          2.2434,
          -2.9885,
          2.1734,
          -2.9249,
          -3.5981,
          -3.7033,
          -0.4406,
          -4.4212,
          -1.6444,
          -16.2518,
          -5.9845,
          -0.3761,
          -0.8765
         ],
         "marker": {
          "color": [
           132.86458333333334,
           118.75,
           79.5,
           134.08467741935485,
           52.0,
           39.25,
           158.02916666666667,
           35.0,
           39.5,
           137.775,
           27.5,
           42.333333333333336,
           35.0,
           23.0
          ],
          "colorbar": {
           "title": {
            "text": "Avg Price"
           }
          },
          "colorscale": [
           [
            0.0,
            "#440154"
           ],
           [
            0.1111111111111111,
            "#482878"
           ],
           [
            0.2222222222222222,
            "#3e4989"
           ],
           [
            0.3333333333333333,
            "#31688e"
           ],
           [
            0.4444444444444444,
            "#26828e"
           ],
           [
            0.5555555555555556,
            "#1f9e89"
           ],
           [
            0.6666666666666666,
            "#35b779"
           ],
           [
            0.7777777777777778,
            "#6ece58"
           ],
           [
            0.8888888888888888,
            "#b5de2b"
           ],
           [
            1.0,
            "#fde725"
           ]
          ],
          "showscale": true,
          "size": [
           1328.6458333333335,
           1187.5,
           795.0,
           1340.8467741935485,
           520.0,
           392.5,
           1580.2916666666667,
           350.0,
           395.0,
           1377.75,
           275.0,
           423.33333333333337,
           350.0,
           230.0
          ],
          "sizemode": "area"
         },
         "mode": "markers",
         "name": "Average Price",
         "text": [
          "A Coruña<br>Avg Price: 132.86",
          "Badalona<br>Avg Price: 118.75",
          "Barakaldo<br>Avg Price: 79.50",
          "Barcelona<br>Avg Price: 134.08",
          "Bilbao<br>Avg Price: 52.00",
          "Granada<br>Avg Price: 39.25",
          "Madrid<br>Avg Price: 158.03",
          "Mislata<br>Avg Price: 35.00",
          "Málaga<br>Avg Price: 39.50",
          "Pamplona/Iruña<br>Avg Price: 137.78",
          "San Cristóbal de La Laguna<br>Avg Price: 27.50",
          "Sevilla<br>Avg Price: 42.33",
          "Valencia<br>Avg Price: 35.00",
          "Zaragoza<br>Avg Price: 23.00"
         ],
         "type": "scattermapbox"
        }
       ],
       "layout": {
        "template": {
         "data": {
          "histogram2dcontour": [
           {
            "type": "histogram2dcontour",
            "colorbar": {
             "outlinewidth": 0,
             "ticks": ""
            },
            "colorscale": [
             [
              0.0,
              "#0d0887"
             ],
             [
              0.1111111111111111,
              "#46039f"
             ],
             [
              0.2222222222222222,
              "#7201a8"
             ],
             [
              0.3333333333333333,
              "#9c179e"
             ],
             [
              0.4444444444444444,
              "#bd3786"
             ],
             [
              0.5555555555555556,
              "#d8576b"
             ],
             [
              0.6666666666666666,
              "#ed7953"
             ],
             [
              0.7777777777777778,
              "#fb9f3a"
             ],
             [
              0.8888888888888888,
              "#fdca26"
             ],
             [
              1.0,
              "#f0f921"
             ]
            ]
           }
          ],
          "choropleth": [
           {
            "type": "choropleth",
            "colorbar": {
             "outlinewidth": 0,
             "ticks": ""
            }
           }
          ],
          "histogram2d": [
           {
            "type": "histogram2d",
            "colorbar": {
             "outlinewidth": 0,
             "ticks": ""
            },
            "colorscale": [
             [
              0.0,
              "#0d0887"
             ],
             [
              0.1111111111111111,
              "#46039f"
             ],
             [
              0.2222222222222222,
              "#7201a8"
             ],
             [
              0.3333333333333333,
              "#9c179e"
             ],
             [
              0.4444444444444444,
              "#bd3786"
             ],
             [
              0.5555555555555556,
              "#d8576b"
             ],
             [
              0.6666666666666666,
              "#ed7953"
             ],
             [
              0.7777777777777778,
              "#fb9f3a"
             ],
             [
              0.8888888888888888,
              "#fdca26"
             ],
             [
              1.0,
              "#f0f921"
             ]
            ]
           }
          ],
          "heatmap": [
           {
            "type": "heatmap",
            "colorbar": {
             "outlinewidth": 0,
             "ticks": ""
            },
            "colorscale": [
             [
              0.0,
              "#0d0887"
             ],
             [
              0.1111111111111111,
              "#46039f"
             ],
             [
              0.2222222222222222,
              "#7201a8"
             ],
             [
              0.3333333333333333,
              "#9c179e"
             ],
             [
              0.4444444444444444,
              "#bd3786"
             ],
             [
              0.5555555555555556,
              "#d8576b"
             ],
             [
              0.6666666666666666,
              "#ed7953"
             ],
             [
              0.7777777777777778,
              "#fb9f3a"
             ],
             [
              0.8888888888888888,
              "#fdca26"
             ],
             [
              1.0,
              "#f0f921"
             ]
            ]
           }
          ],
          "heatmapgl": [
           {
            "type": "heatmapgl",
            "colorbar": {
             "outlinewidth": 0,
             "ticks": ""
            },
            "colorscale": [
             [
              0.0,
              "#0d0887"
             ],
             [
              0.1111111111111111,
              "#46039f"
             ],
             [
              0.2222222222222222,
              "#7201a8"
             ],
             [
              0.3333333333333333,
              "#9c179e"
             ],
             [
              0.4444444444444444,
              "#bd3786"
             ],
             [
              0.5555555555555556,
              "#d8576b"
             ],
             [
              0.6666666666666666,
              "#ed7953"
             ],
             [
              0.7777777777777778,
              "#fb9f3a"
             ],
             [
              0.8888888888888888,
              "#fdca26"
             ],
             [
              1.0,
              "#f0f921"
             ]
            ]
           }
          ],
          "contourcarpet": [
           {
            "type": "contourcarpet",
            "colorbar": {
             "outlinewidth": 0,
             "ticks": ""
            }
           }
          ],
          "contour": [
           {
            "type": "contour",
            "colorbar": {
             "outlinewidth": 0,
             "ticks": ""
            },
            "colorscale": [
             [
              0.0,
              "#0d0887"
             ],
             [
              0.1111111111111111,
              "#46039f"
             ],
             [
              0.2222222222222222,
              "#7201a8"
             ],
             [
              0.3333333333333333,
              "#9c179e"
             ],
             [
              0.4444444444444444,
              "#bd3786"
             ],
             [
              0.5555555555555556,
              "#d8576b"
             ],
             [
              0.6666666666666666,
              "#ed7953"
             ],
             [
              0.7777777777777778,
              "#fb9f3a"
             ],
             [
              0.8888888888888888,
              "#fdca26"
             ],
             [
              1.0,
              "#f0f921"
             ]
            ]
           }
          ],
          "surface": [
           {
            "type": "surface",
            "colorbar": {
             "outlinewidth": 0,
             "ticks": ""
            },
            "colorscale": [
             [
              0.0,
              "#0d0887"
             ],
             [
              0.1111111111111111,
              "#46039f"
             ],
             [
              0.2222222222222222,
              "#7201a8"
             ],
             [
              0.3333333333333333,
              "#9c179e"
             ],
             [
              0.4444444444444444,
              "#bd3786"
             ],
             [
              0.5555555555555556,
              "#d8576b"
             ],
             [
              0.6666666666666666,
              "#ed7953"
             ],
             [
              0.7777777777777778,
              "#fb9f3a"
             ],
             [
              0.8888888888888888,
              "#fdca26"
             ],
             [
              1.0,
              "#f0f921"
             ]
            ]
           }
          ],
          "mesh3d": [
           {
            "type": "mesh3d",
            "colorbar": {
             "outlinewidth": 0,
             "ticks": ""
            }
           }
          ],
          "scatter": [
           {
            "fillpattern": {
             "fillmode": "overlay",
             "size": 10,
             "solidity": 0.2
            },
            "type": "scatter"
           }
          ],
          "parcoords": [
           {
            "type": "parcoords",
            "line": {
             "colorbar": {
              "outlinewidth": 0,
              "ticks": ""
             }
            }
           }
          ],
          "scatterpolargl": [
           {
            "type": "scatterpolargl",
            "marker": {
             "colorbar": {
              "outlinewidth": 0,
              "ticks": ""
             }
            }
           }
          ],
          "bar": [
           {
            "error_x": {
             "color": "#2a3f5f"
            },
            "error_y": {
             "color": "#2a3f5f"
            },
            "marker": {
             "line": {
              "color": "#E5ECF6",
              "width": 0.5
             },
             "pattern": {
              "fillmode": "overlay",
              "size": 10,
              "solidity": 0.2
             }
            },
            "type": "bar"
           }
          ],
          "scattergeo": [
           {
            "type": "scattergeo",
            "marker": {
             "colorbar": {
              "outlinewidth": 0,
              "ticks": ""
             }
            }
           }
          ],
          "scatterpolar": [
           {
            "type": "scatterpolar",
            "marker": {
             "colorbar": {
              "outlinewidth": 0,
              "ticks": ""
             }
            }
           }
          ],
          "histogram": [
           {
            "marker": {
             "pattern": {
              "fillmode": "overlay",
              "size": 10,
              "solidity": 0.2
             }
            },
            "type": "histogram"
           }
          ],
          "scattergl": [
           {
            "type": "scattergl",
            "marker": {
             "colorbar": {
              "outlinewidth": 0,
              "ticks": ""
             }
            }
           }
          ],
          "scatter3d": [
           {
            "type": "scatter3d",
            "line": {
             "colorbar": {
              "outlinewidth": 0,
              "ticks": ""
             }
            },
            "marker": {
             "colorbar": {
              "outlinewidth": 0,
              "ticks": ""
             }
            }
           }
          ],
          "scattermapbox": [
           {
            "type": "scattermapbox",
            "marker": {
             "colorbar": {
              "outlinewidth": 0,
              "ticks": ""
             }
            }
           }
          ],
          "scatterternary": [
           {
            "type": "scatterternary",
            "marker": {
             "colorbar": {
              "outlinewidth": 0,
              "ticks": ""
             }
            }
           }
          ],
          "scattercarpet": [
           {
            "type": "scattercarpet",
            "marker": {
             "colorbar": {
              "outlinewidth": 0,
              "ticks": ""
             }
            }
           }
          ],
          "carpet": [
           {
            "aaxis": {
             "endlinecolor": "#2a3f5f",
             "gridcolor": "white",
             "linecolor": "white",
             "minorgridcolor": "white",
             "startlinecolor": "#2a3f5f"
            },
            "baxis": {
             "endlinecolor": "#2a3f5f",
             "gridcolor": "white",
             "linecolor": "white",
             "minorgridcolor": "white",
             "startlinecolor": "#2a3f5f"
            },
            "type": "carpet"
           }
          ],
          "table": [
           {
            "cells": {
             "fill": {
              "color": "#EBF0F8"
             },
             "line": {
              "color": "white"
             }
            },
            "header": {
             "fill": {
              "color": "#C8D4E3"
             },
             "line": {
              "color": "white"
             }
            },
            "type": "table"
           }
          ],
          "barpolar": [
           {
            "marker": {
             "line": {
              "color": "#E5ECF6",
              "width": 0.5
             },
             "pattern": {
              "fillmode": "overlay",
              "size": 10,
              "solidity": 0.2
             }
            },
            "type": "barpolar"
           }
          ],
          "pie": [
           {
            "automargin": true,
            "type": "pie"
           }
          ]
         },
         "layout": {
          "autotypenumbers": "strict",
          "colorway": [
           "#636efa",
           "#EF553B",
           "#00cc96",
           "#ab63fa",
           "#FFA15A",
           "#19d3f3",
           "#FF6692",
           "#B6E880",
           "#FF97FF",
           "#FECB52"
          ],
          "font": {
           "color": "#2a3f5f"
          },
          "hovermode": "closest",
          "hoverlabel": {
           "align": "left"
          },
          "paper_bgcolor": "white",
          "plot_bgcolor": "#E5ECF6",
          "polar": {
           "bgcolor": "#E5ECF6",
           "angularaxis": {
            "gridcolor": "white",
            "linecolor": "white",
            "ticks": ""
           },
           "radialaxis": {
            "gridcolor": "white",
            "linecolor": "white",
            "ticks": ""
           }
          },
          "ternary": {
           "bgcolor": "#E5ECF6",
           "aaxis": {
            "gridcolor": "white",
            "linecolor": "white",
            "ticks": ""
           },
           "baxis": {
            "gridcolor": "white",
            "linecolor": "white",
            "ticks": ""
           },
           "caxis": {
            "gridcolor": "white",
            "linecolor": "white",
            "ticks": ""
           }
          },
          "coloraxis": {
           "colorbar": {
            "outlinewidth": 0,
            "ticks": ""
           }
          },
          "colorscale": {
           "sequential": [
            [
             0.0,
             "#0d0887"
            ],
            [
             0.1111111111111111,
             "#46039f"
            ],
            [
             0.2222222222222222,
             "#7201a8"
            ],
            [
             0.3333333333333333,
             "#9c179e"
            ],
            [
             0.4444444444444444,
             "#bd3786"
            ],
            [
             0.5555555555555556,
             "#d8576b"
            ],
            [
             0.6666666666666666,
             "#ed7953"
            ],
            [
             0.7777777777777778,
             "#fb9f3a"
            ],
            [
             0.8888888888888888,
             "#fdca26"
            ],
            [
             1.0,
             "#f0f921"
            ]
           ],
           "sequentialminus": [
            [
             0.0,
             "#0d0887"
            ],
            [
             0.1111111111111111,
             "#46039f"
            ],
            [
             0.2222222222222222,
             "#7201a8"
            ],
            [
             0.3333333333333333,
             "#9c179e"
            ],
            [
             0.4444444444444444,
             "#bd3786"
            ],
            [
             0.5555555555555556,
             "#d8576b"
            ],
            [
             0.6666666666666666,
             "#ed7953"
            ],
            [
             0.7777777777777778,
             "#fb9f3a"
            ],
            [
             0.8888888888888888,
             "#fdca26"
            ],
            [
             1.0,
             "#f0f921"
            ]
           ],
           "diverging": [
            [
             0,
             "#8e0152"
            ],
            [
             0.1,
             "#c51b7d"
            ],
            [
             0.2,
             "#de77ae"
            ],
            [
             0.3,
             "#f1b6da"
            ],
            [
             0.4,
             "#fde0ef"
            ],
            [
             0.5,
             "#f7f7f7"
            ],
            [
             0.6,
             "#e6f5d0"
            ],
            [
             0.7,
             "#b8e186"
            ],
            [
             0.8,
             "#7fbc41"
            ],
            [
             0.9,
             "#4d9221"
            ],
            [
             1,
             "#276419"
            ]
           ]
          },
          "xaxis": {
           "gridcolor": "white",
           "linecolor": "white",
           "ticks": "",
           "title": {
            "standoff": 15
           },
           "zerolinecolor": "white",
           "automargin": true,
           "zerolinewidth": 2
          },
          "yaxis": {
           "gridcolor": "white",
           "linecolor": "white",
           "ticks": "",
           "title": {
            "standoff": 15
           },
           "zerolinecolor": "white",
           "automargin": true,
           "zerolinewidth": 2
          },
          "scene": {
           "xaxis": {
            "backgroundcolor": "#E5ECF6",
            "gridcolor": "white",
            "linecolor": "white",
            "showbackground": true,
            "ticks": "",
            "zerolinecolor": "white",
            "gridwidth": 2
           },
           "yaxis": {
            "backgroundcolor": "#E5ECF6",
            "gridcolor": "white",
            "linecolor": "white",
            "showbackground": true,
            "ticks": "",
            "zerolinecolor": "white",
            "gridwidth": 2
           },
           "zaxis": {
            "backgroundcolor": "#E5ECF6",
            "gridcolor": "white",
            "linecolor": "white",
            "showbackground": true,
            "ticks": "",
            "zerolinecolor": "white",
            "gridwidth": 2
           }
          },
          "shapedefaults": {
           "line": {
            "color": "#2a3f5f"
           }
          },
          "annotationdefaults": {
           "arrowcolor": "#2a3f5f",
           "arrowhead": 0,
           "arrowwidth": 1
          },
          "geo": {
           "bgcolor": "white",
           "landcolor": "#E5ECF6",
           "subunitcolor": "white",
           "showland": true,
           "showlakes": true,
           "lakecolor": "white"
          },
          "title": {
           "x": 0.05
          },
          "mapbox": {
           "style": "light"
          }
         }
        },
        "mapbox": {
         "center": {
          "lat": 39.73999285714286,
          "lon": -3.3690285714285713
         },
         "style": "carto-positron",
         "zoom": 5
        },
        "margin": {
         "r": 0,
         "t": 30,
         "l": 0,
         "b": 0
        },
        "title": {
         "text": "Bubble Map of Average Prices by Venue in Madrid"
        },
        "height": 800,
        "width": 1000
       },
       "config": {
        "plotlyServerURL": "https://plot.ly"
       }
      },
      "text/html": [
       "<div>                            <div id=\"ae385603-3028-4a99-94a4-3b53db60eaee\" class=\"plotly-graph-div\" style=\"height:800px; width:1000px;\"></div>            <script type=\"text/javascript\">                require([\"plotly\"], function(Plotly) {                    window.PLOTLYENV=window.PLOTLYENV || {};                                    if (document.getElementById(\"ae385603-3028-4a99-94a4-3b53db60eaee\")) {                    Plotly.newPlot(                        \"ae385603-3028-4a99-94a4-3b53db60eaee\",                        [{\"lat\":[43.3709,41.4467,43.3066,41.3851,43.2631,37.1786,40.4168,39.4906,36.7213,42.8154,28.4636,37.3825,39.4699,41.6488],\"lon\":[-8.3733,2.2434,-2.9885,2.1734,-2.9249,-3.5981,-3.7033,-0.4406,-4.4212,-1.6444,-16.2518,-5.9845,-0.3761,-0.8765],\"marker\":{\"color\":[132.86458333333334,118.75,79.5,134.08467741935485,52.0,39.25,158.02916666666667,35.0,39.5,137.775,27.5,42.333333333333336,35.0,23.0],\"colorbar\":{\"title\":{\"text\":\"Avg Price\"}},\"colorscale\":[[0.0,\"#440154\"],[0.1111111111111111,\"#482878\"],[0.2222222222222222,\"#3e4989\"],[0.3333333333333333,\"#31688e\"],[0.4444444444444444,\"#26828e\"],[0.5555555555555556,\"#1f9e89\"],[0.6666666666666666,\"#35b779\"],[0.7777777777777778,\"#6ece58\"],[0.8888888888888888,\"#b5de2b\"],[1.0,\"#fde725\"]],\"showscale\":true,\"size\":[1328.6458333333335,1187.5,795.0,1340.8467741935485,520.0,392.5,1580.2916666666667,350.0,395.0,1377.75,275.0,423.33333333333337,350.0,230.0],\"sizemode\":\"area\"},\"mode\":\"markers\",\"name\":\"Average Price\",\"text\":[\"A Coru\\u00f1a\\u003cbr\\u003eAvg Price: 132.86\",\"Badalona\\u003cbr\\u003eAvg Price: 118.75\",\"Barakaldo\\u003cbr\\u003eAvg Price: 79.50\",\"Barcelona\\u003cbr\\u003eAvg Price: 134.08\",\"Bilbao\\u003cbr\\u003eAvg Price: 52.00\",\"Granada\\u003cbr\\u003eAvg Price: 39.25\",\"Madrid\\u003cbr\\u003eAvg Price: 158.03\",\"Mislata\\u003cbr\\u003eAvg Price: 35.00\",\"M\\u00e1laga\\u003cbr\\u003eAvg Price: 39.50\",\"Pamplona\\u002fIru\\u00f1a\\u003cbr\\u003eAvg Price: 137.78\",\"San Crist\\u00f3bal de La Laguna\\u003cbr\\u003eAvg Price: 27.50\",\"Sevilla\\u003cbr\\u003eAvg Price: 42.33\",\"Valencia\\u003cbr\\u003eAvg Price: 35.00\",\"Zaragoza\\u003cbr\\u003eAvg Price: 23.00\"],\"type\":\"scattermapbox\"}],                        {\"template\":{\"data\":{\"histogram2dcontour\":[{\"type\":\"histogram2dcontour\",\"colorbar\":{\"outlinewidth\":0,\"ticks\":\"\"},\"colorscale\":[[0.0,\"#0d0887\"],[0.1111111111111111,\"#46039f\"],[0.2222222222222222,\"#7201a8\"],[0.3333333333333333,\"#9c179e\"],[0.4444444444444444,\"#bd3786\"],[0.5555555555555556,\"#d8576b\"],[0.6666666666666666,\"#ed7953\"],[0.7777777777777778,\"#fb9f3a\"],[0.8888888888888888,\"#fdca26\"],[1.0,\"#f0f921\"]]}],\"choropleth\":[{\"type\":\"choropleth\",\"colorbar\":{\"outlinewidth\":0,\"ticks\":\"\"}}],\"histogram2d\":[{\"type\":\"histogram2d\",\"colorbar\":{\"outlinewidth\":0,\"ticks\":\"\"},\"colorscale\":[[0.0,\"#0d0887\"],[0.1111111111111111,\"#46039f\"],[0.2222222222222222,\"#7201a8\"],[0.3333333333333333,\"#9c179e\"],[0.4444444444444444,\"#bd3786\"],[0.5555555555555556,\"#d8576b\"],[0.6666666666666666,\"#ed7953\"],[0.7777777777777778,\"#fb9f3a\"],[0.8888888888888888,\"#fdca26\"],[1.0,\"#f0f921\"]]}],\"heatmap\":[{\"type\":\"heatmap\",\"colorbar\":{\"outlinewidth\":0,\"ticks\":\"\"},\"colorscale\":[[0.0,\"#0d0887\"],[0.1111111111111111,\"#46039f\"],[0.2222222222222222,\"#7201a8\"],[0.3333333333333333,\"#9c179e\"],[0.4444444444444444,\"#bd3786\"],[0.5555555555555556,\"#d8576b\"],[0.6666666666666666,\"#ed7953\"],[0.7777777777777778,\"#fb9f3a\"],[0.8888888888888888,\"#fdca26\"],[1.0,\"#f0f921\"]]}],\"heatmapgl\":[{\"type\":\"heatmapgl\",\"colorbar\":{\"outlinewidth\":0,\"ticks\":\"\"},\"colorscale\":[[0.0,\"#0d0887\"],[0.1111111111111111,\"#46039f\"],[0.2222222222222222,\"#7201a8\"],[0.3333333333333333,\"#9c179e\"],[0.4444444444444444,\"#bd3786\"],[0.5555555555555556,\"#d8576b\"],[0.6666666666666666,\"#ed7953\"],[0.7777777777777778,\"#fb9f3a\"],[0.8888888888888888,\"#fdca26\"],[1.0,\"#f0f921\"]]}],\"contourcarpet\":[{\"type\":\"contourcarpet\",\"colorbar\":{\"outlinewidth\":0,\"ticks\":\"\"}}],\"contour\":[{\"type\":\"contour\",\"colorbar\":{\"outlinewidth\":0,\"ticks\":\"\"},\"colorscale\":[[0.0,\"#0d0887\"],[0.1111111111111111,\"#46039f\"],[0.2222222222222222,\"#7201a8\"],[0.3333333333333333,\"#9c179e\"],[0.4444444444444444,\"#bd3786\"],[0.5555555555555556,\"#d8576b\"],[0.6666666666666666,\"#ed7953\"],[0.7777777777777778,\"#fb9f3a\"],[0.8888888888888888,\"#fdca26\"],[1.0,\"#f0f921\"]]}],\"surface\":[{\"type\":\"surface\",\"colorbar\":{\"outlinewidth\":0,\"ticks\":\"\"},\"colorscale\":[[0.0,\"#0d0887\"],[0.1111111111111111,\"#46039f\"],[0.2222222222222222,\"#7201a8\"],[0.3333333333333333,\"#9c179e\"],[0.4444444444444444,\"#bd3786\"],[0.5555555555555556,\"#d8576b\"],[0.6666666666666666,\"#ed7953\"],[0.7777777777777778,\"#fb9f3a\"],[0.8888888888888888,\"#fdca26\"],[1.0,\"#f0f921\"]]}],\"mesh3d\":[{\"type\":\"mesh3d\",\"colorbar\":{\"outlinewidth\":0,\"ticks\":\"\"}}],\"scatter\":[{\"fillpattern\":{\"fillmode\":\"overlay\",\"size\":10,\"solidity\":0.2},\"type\":\"scatter\"}],\"parcoords\":[{\"type\":\"parcoords\",\"line\":{\"colorbar\":{\"outlinewidth\":0,\"ticks\":\"\"}}}],\"scatterpolargl\":[{\"type\":\"scatterpolargl\",\"marker\":{\"colorbar\":{\"outlinewidth\":0,\"ticks\":\"\"}}}],\"bar\":[{\"error_x\":{\"color\":\"#2a3f5f\"},\"error_y\":{\"color\":\"#2a3f5f\"},\"marker\":{\"line\":{\"color\":\"#E5ECF6\",\"width\":0.5},\"pattern\":{\"fillmode\":\"overlay\",\"size\":10,\"solidity\":0.2}},\"type\":\"bar\"}],\"scattergeo\":[{\"type\":\"scattergeo\",\"marker\":{\"colorbar\":{\"outlinewidth\":0,\"ticks\":\"\"}}}],\"scatterpolar\":[{\"type\":\"scatterpolar\",\"marker\":{\"colorbar\":{\"outlinewidth\":0,\"ticks\":\"\"}}}],\"histogram\":[{\"marker\":{\"pattern\":{\"fillmode\":\"overlay\",\"size\":10,\"solidity\":0.2}},\"type\":\"histogram\"}],\"scattergl\":[{\"type\":\"scattergl\",\"marker\":{\"colorbar\":{\"outlinewidth\":0,\"ticks\":\"\"}}}],\"scatter3d\":[{\"type\":\"scatter3d\",\"line\":{\"colorbar\":{\"outlinewidth\":0,\"ticks\":\"\"}},\"marker\":{\"colorbar\":{\"outlinewidth\":0,\"ticks\":\"\"}}}],\"scattermapbox\":[{\"type\":\"scattermapbox\",\"marker\":{\"colorbar\":{\"outlinewidth\":0,\"ticks\":\"\"}}}],\"scatterternary\":[{\"type\":\"scatterternary\",\"marker\":{\"colorbar\":{\"outlinewidth\":0,\"ticks\":\"\"}}}],\"scattercarpet\":[{\"type\":\"scattercarpet\",\"marker\":{\"colorbar\":{\"outlinewidth\":0,\"ticks\":\"\"}}}],\"carpet\":[{\"aaxis\":{\"endlinecolor\":\"#2a3f5f\",\"gridcolor\":\"white\",\"linecolor\":\"white\",\"minorgridcolor\":\"white\",\"startlinecolor\":\"#2a3f5f\"},\"baxis\":{\"endlinecolor\":\"#2a3f5f\",\"gridcolor\":\"white\",\"linecolor\":\"white\",\"minorgridcolor\":\"white\",\"startlinecolor\":\"#2a3f5f\"},\"type\":\"carpet\"}],\"table\":[{\"cells\":{\"fill\":{\"color\":\"#EBF0F8\"},\"line\":{\"color\":\"white\"}},\"header\":{\"fill\":{\"color\":\"#C8D4E3\"},\"line\":{\"color\":\"white\"}},\"type\":\"table\"}],\"barpolar\":[{\"marker\":{\"line\":{\"color\":\"#E5ECF6\",\"width\":0.5},\"pattern\":{\"fillmode\":\"overlay\",\"size\":10,\"solidity\":0.2}},\"type\":\"barpolar\"}],\"pie\":[{\"automargin\":true,\"type\":\"pie\"}]},\"layout\":{\"autotypenumbers\":\"strict\",\"colorway\":[\"#636efa\",\"#EF553B\",\"#00cc96\",\"#ab63fa\",\"#FFA15A\",\"#19d3f3\",\"#FF6692\",\"#B6E880\",\"#FF97FF\",\"#FECB52\"],\"font\":{\"color\":\"#2a3f5f\"},\"hovermode\":\"closest\",\"hoverlabel\":{\"align\":\"left\"},\"paper_bgcolor\":\"white\",\"plot_bgcolor\":\"#E5ECF6\",\"polar\":{\"bgcolor\":\"#E5ECF6\",\"angularaxis\":{\"gridcolor\":\"white\",\"linecolor\":\"white\",\"ticks\":\"\"},\"radialaxis\":{\"gridcolor\":\"white\",\"linecolor\":\"white\",\"ticks\":\"\"}},\"ternary\":{\"bgcolor\":\"#E5ECF6\",\"aaxis\":{\"gridcolor\":\"white\",\"linecolor\":\"white\",\"ticks\":\"\"},\"baxis\":{\"gridcolor\":\"white\",\"linecolor\":\"white\",\"ticks\":\"\"},\"caxis\":{\"gridcolor\":\"white\",\"linecolor\":\"white\",\"ticks\":\"\"}},\"coloraxis\":{\"colorbar\":{\"outlinewidth\":0,\"ticks\":\"\"}},\"colorscale\":{\"sequential\":[[0.0,\"#0d0887\"],[0.1111111111111111,\"#46039f\"],[0.2222222222222222,\"#7201a8\"],[0.3333333333333333,\"#9c179e\"],[0.4444444444444444,\"#bd3786\"],[0.5555555555555556,\"#d8576b\"],[0.6666666666666666,\"#ed7953\"],[0.7777777777777778,\"#fb9f3a\"],[0.8888888888888888,\"#fdca26\"],[1.0,\"#f0f921\"]],\"sequentialminus\":[[0.0,\"#0d0887\"],[0.1111111111111111,\"#46039f\"],[0.2222222222222222,\"#7201a8\"],[0.3333333333333333,\"#9c179e\"],[0.4444444444444444,\"#bd3786\"],[0.5555555555555556,\"#d8576b\"],[0.6666666666666666,\"#ed7953\"],[0.7777777777777778,\"#fb9f3a\"],[0.8888888888888888,\"#fdca26\"],[1.0,\"#f0f921\"]],\"diverging\":[[0,\"#8e0152\"],[0.1,\"#c51b7d\"],[0.2,\"#de77ae\"],[0.3,\"#f1b6da\"],[0.4,\"#fde0ef\"],[0.5,\"#f7f7f7\"],[0.6,\"#e6f5d0\"],[0.7,\"#b8e186\"],[0.8,\"#7fbc41\"],[0.9,\"#4d9221\"],[1,\"#276419\"]]},\"xaxis\":{\"gridcolor\":\"white\",\"linecolor\":\"white\",\"ticks\":\"\",\"title\":{\"standoff\":15},\"zerolinecolor\":\"white\",\"automargin\":true,\"zerolinewidth\":2},\"yaxis\":{\"gridcolor\":\"white\",\"linecolor\":\"white\",\"ticks\":\"\",\"title\":{\"standoff\":15},\"zerolinecolor\":\"white\",\"automargin\":true,\"zerolinewidth\":2},\"scene\":{\"xaxis\":{\"backgroundcolor\":\"#E5ECF6\",\"gridcolor\":\"white\",\"linecolor\":\"white\",\"showbackground\":true,\"ticks\":\"\",\"zerolinecolor\":\"white\",\"gridwidth\":2},\"yaxis\":{\"backgroundcolor\":\"#E5ECF6\",\"gridcolor\":\"white\",\"linecolor\":\"white\",\"showbackground\":true,\"ticks\":\"\",\"zerolinecolor\":\"white\",\"gridwidth\":2},\"zaxis\":{\"backgroundcolor\":\"#E5ECF6\",\"gridcolor\":\"white\",\"linecolor\":\"white\",\"showbackground\":true,\"ticks\":\"\",\"zerolinecolor\":\"white\",\"gridwidth\":2}},\"shapedefaults\":{\"line\":{\"color\":\"#2a3f5f\"}},\"annotationdefaults\":{\"arrowcolor\":\"#2a3f5f\",\"arrowhead\":0,\"arrowwidth\":1},\"geo\":{\"bgcolor\":\"white\",\"landcolor\":\"#E5ECF6\",\"subunitcolor\":\"white\",\"showland\":true,\"showlakes\":true,\"lakecolor\":\"white\"},\"title\":{\"x\":0.05},\"mapbox\":{\"style\":\"light\"}}},\"mapbox\":{\"center\":{\"lat\":39.73999285714286,\"lon\":-3.3690285714285713},\"style\":\"carto-positron\",\"zoom\":5},\"margin\":{\"r\":0,\"t\":30,\"l\":0,\"b\":0},\"title\":{\"text\":\"Bubble Map of Average Prices by Venue in Madrid\"},\"height\":800,\"width\":1000},                        {\"responsive\": true}                    ).then(function(){\n",
       "                            \n",
       "var gd = document.getElementById('ae385603-3028-4a99-94a4-3b53db60eaee');\n",
       "var x = new MutationObserver(function (mutations, observer) {{\n",
       "        var display = window.getComputedStyle(gd).display;\n",
       "        if (!display || display === 'none') {{\n",
       "            console.log([gd, 'removed!']);\n",
       "            Plotly.purge(gd);\n",
       "            observer.disconnect();\n",
       "        }}\n",
       "}});\n",
       "\n",
       "// Listen for the removal of the full notebook cells\n",
       "var notebookContainer = gd.closest('#notebook-container');\n",
       "if (notebookContainer) {{\n",
       "    x.observe(notebookContainer, {childList: true});\n",
       "}}\n",
       "\n",
       "// Listen for the clearing of the current output cell\n",
       "var outputEl = gd.closest('.output');\n",
       "if (outputEl) {{\n",
       "    x.observe(outputEl, {childList: true});\n",
       "}}\n",
       "\n",
       "                        })                };                });            </script>        </div>"
      ]
     },
     "metadata": {},
     "output_type": "display_data"
    }
   ],
   "execution_count": 164
  },
  {
   "metadata": {},
   "cell_type": "markdown",
   "source": "## Analysis 2: Similirity in distribution of prices per city",
   "id": "5652c0add7f468bd"
  },
  {
   "metadata": {},
   "cell_type": "code",
   "outputs": [],
   "execution_count": null,
   "source": "cities = event_prices_venues_df['state'].unique()",
   "id": "80725da1c338e72b"
  },
  {
   "metadata": {
    "ExecuteTime": {
     "end_time": "2024-12-01T19:42:38.197467Z",
     "start_time": "2024-12-01T19:42:38.078382Z"
    }
   },
   "cell_type": "code",
   "source": [
    "subplot_titles = []\n",
    "for city in cities:\n",
    "    subplot_titles.append(f\"{city} Min Price Distribution\")\n",
    "    subplot_titles.append(f\"{city} Max Price Distribution\")\n",
    "    \n",
    "fig = make_subplots(\n",
    "    rows=len(cities),\n",
    "    cols=2,\n",
    "    subplot_titles=subplot_titles,\n",
    "    vertical_spacing=0.05\n",
    ")\n",
    "\n",
    "for i, city in enumerate(cities, start=1):\n",
    "    city_data = event_prices_venues_df[event_prices_venues_df['state'] == city]\n",
    "    \n",
    "    # Calculate frequency for min_price\n",
    "    min_price_counts = city_data['min_price'].value_counts().sort_index()\n",
    "    min_price_x = min_price_counts.index\n",
    "    min_price_y = min_price_counts.values\n",
    "    \n",
    "    # Calculate frequency for max_price\n",
    "    max_price_counts = city_data['max_price'].value_counts().sort_index()\n",
    "    max_price_x = max_price_counts.index\n",
    "    max_price_y = max_price_counts.values\n",
    "    \n",
    "    fig.add_trace(\n",
    "        go.Scatter(\n",
    "            x=min_price_x,\n",
    "            y=min_price_y,\n",
    "            mode='lines+markers',\n",
    "            name=f'{city} Min Price',\n",
    "            line=dict(color='blue', width=2),\n",
    "            opacity=0.7\n",
    "        ),\n",
    "        row=i,\n",
    "        col=1\n",
    "    )\n",
    "    \n",
    "    fig.add_trace(\n",
    "        go.Scatter(\n",
    "            x=max_price_x,\n",
    "            y=max_price_y,\n",
    "            mode='lines+markers',\n",
    "            name=f'{city} Max Price',\n",
    "            line=dict(color='orange', width=2),\n",
    "            opacity=0.7\n",
    "        ),\n",
    "        row=i,\n",
    "        col=2\n",
    "    )\n",
    "\n",
    "fig.update_layout(\n",
    "    height=300 * len(cities),  \n",
    "    width=1200,\n",
    "    title_text=\"Min and Max Price Distributions by City (Lines)\",\n",
    "    showlegend=False\n",
    ")\n",
    "\n",
    "# Update axis labels\n",
    "for i in range(1, len(cities) + 1):\n",
    "    fig.update_xaxes(title_text=\"Price\", row=i, col=1)\n",
    "    fig.update_xaxes(title_text=\"Price\", row=i, col=2)\n",
    "    fig.update_yaxes(title_text=\"Count\", row=i, col=1)\n",
    "    fig.update_yaxes(title_text=\"Count\", row=i, col=2)\n",
    "\n",
    "# Show the plot\n",
    "fig.show()\n"
   ],
   "id": "dafaade9e2d9f5fc",
   "outputs": [
    {
     "data": {
      "application/vnd.plotly.v1+json": {
       "data": [
        {
         "line": {
          "color": "blue",
          "width": 2
         },
         "mode": "lines+markers",
         "name": "Madrid Min Price",
         "opacity": 0.7,
         "x": [
          22.0,
          23.0,
          25.0,
          26.0,
          27.0,
          28.0,
          30.0,
          32.0,
          32.14,
          35.0,
          36.0,
          40.0,
          42.0,
          42.14,
          45.0,
          55.0,
          60.0,
          65.0,
          68.0,
          75.0,
          87.0,
          100.0,
          110.0,
          121.0,
          160.0,
          175.0,
          220.0,
          297.0,
          300.0,
          310.0,
          376.5
         ],
         "y": [
          2,
          4,
          5,
          2,
          2,
          2,
          8,
          1,
          1,
          2,
          1,
          2,
          2,
          1,
          7,
          5,
          3,
          2,
          1,
          1,
          1,
          1,
          1,
          2,
          1,
          1,
          1,
          1,
          1,
          1,
          1
         ],
         "type": "scatter",
         "xaxis": "x",
         "yaxis": "y"
        },
        {
         "line": {
          "color": "orange",
          "width": 2
         },
         "mode": "lines+markers",
         "name": "Madrid Max Price",
         "opacity": 0.7,
         "x": [
          22.0,
          23.0,
          25.0,
          26.0,
          27.0,
          28.0,
          30.0,
          32.0,
          35.0,
          40.0,
          45.0,
          55.0,
          65.0,
          68.0,
          75.0,
          85.0,
          87.0,
          95.0,
          106.0,
          107.0,
          115.0,
          121.0,
          125.0,
          130.0,
          160.0,
          167.0,
          176.0,
          190.0,
          195.0,
          210.0,
          220.0,
          230.0,
          260.0,
          265.0,
          270.0,
          275.0,
          285.0,
          300.0,
          310.0,
          355.0,
          374.11,
          391.96,
          450.0,
          500.0,
          736.5,
          6757.5
         ],
         "y": [
          2,
          3,
          3,
          2,
          2,
          3,
          3,
          1,
          1,
          2,
          1,
          1,
          3,
          1,
          1,
          1,
          1,
          1,
          1,
          2,
          2,
          2,
          1,
          1,
          1,
          1,
          1,
          2,
          1,
          1,
          1,
          1,
          1,
          2,
          1,
          1,
          1,
          1,
          1,
          1,
          1,
          1,
          1,
          2,
          1,
          1
         ],
         "type": "scatter",
         "xaxis": "x2",
         "yaxis": "y2"
        },
        {
         "line": {
          "color": "blue",
          "width": 2
         },
         "mode": "lines+markers",
         "name": "Barcelona Min Price",
         "opacity": 0.7,
         "x": [
          0.5,
          20.0,
          23.0,
          25.0,
          26.0,
          26.5,
          27.0,
          28.0,
          30.0,
          31.0,
          32.6,
          35.0,
          38.0,
          40.0,
          42.0,
          45.0,
          50.0,
          55.0,
          56.9,
          60.0,
          65.0,
          66.0,
          68.0,
          87.0,
          100.0,
          106.0,
          110.0,
          121.0,
          125.0,
          205.0,
          297.0
         ],
         "y": [
          1,
          1,
          3,
          4,
          2,
          4,
          4,
          1,
          10,
          1,
          1,
          4,
          1,
          3,
          1,
          2,
          3,
          1,
          1,
          2,
          2,
          2,
          1,
          1,
          1,
          1,
          1,
          1,
          2,
          1,
          1
         ],
         "type": "scatter",
         "xaxis": "x3",
         "yaxis": "y3"
        },
        {
         "line": {
          "color": "orange",
          "width": 2
         },
         "mode": "lines+markers",
         "name": "Barcelona Max Price",
         "opacity": 0.7,
         "x": [
          0.5,
          23.0,
          25.0,
          26.0,
          27.0,
          28.0,
          30.0,
          35.0,
          38.0,
          40.0,
          45.0,
          48.0,
          50.0,
          55.0,
          60.0,
          65.0,
          68.0,
          75.0,
          86.0,
          87.0,
          105.0,
          106.0,
          110.0,
          112.0,
          121.0,
          130.0,
          150.0,
          160.0,
          172.5,
          180.0,
          215.0,
          220.0,
          235.0,
          250.0,
          265.0,
          305.0,
          313.5,
          6757.5
         ],
         "y": [
          1,
          3,
          4,
          2,
          2,
          1,
          6,
          1,
          1,
          2,
          1,
          1,
          1,
          1,
          1,
          1,
          1,
          3,
          1,
          1,
          1,
          1,
          1,
          1,
          1,
          1,
          2,
          1,
          1,
          1,
          1,
          6,
          5,
          1,
          1,
          1,
          2,
          1
         ],
         "type": "scatter",
         "xaxis": "x4",
         "yaxis": "y4"
        },
        {
         "line": {
          "color": "blue",
          "width": 2
         },
         "mode": "lines+markers",
         "name": "Santa Cruz de Tenerife Min Price",
         "opacity": 0.7,
         "x": [
          15.0,
          40.0
         ],
         "y": [
          1,
          1
         ],
         "type": "scatter",
         "xaxis": "x5",
         "yaxis": "y5"
        },
        {
         "line": {
          "color": "orange",
          "width": 2
         },
         "mode": "lines+markers",
         "name": "Santa Cruz de Tenerife Max Price",
         "opacity": 0.7,
         "x": [
          15.0,
          40.0
         ],
         "y": [
          1,
          1
         ],
         "type": "scatter",
         "xaxis": "x6",
         "yaxis": "y6"
        },
        {
         "line": {
          "color": "blue",
          "width": 2
         },
         "mode": "lines+markers",
         "name": "Valencia Min Price",
         "opacity": 0.7,
         "x": [
          22.0,
          36.0
         ],
         "y": [
          2,
          2
         ],
         "type": "scatter",
         "xaxis": "x7",
         "yaxis": "y7"
        },
        {
         "line": {
          "color": "orange",
          "width": 2
         },
         "mode": "lines+markers",
         "name": "Valencia Max Price",
         "opacity": 0.7,
         "x": [
          22.0,
          60.0
         ],
         "y": [
          2,
          2
         ],
         "type": "scatter",
         "xaxis": "x8",
         "yaxis": "y8"
        },
        {
         "line": {
          "color": "blue",
          "width": 2
         },
         "mode": "lines+markers",
         "name": "Málaga Min Price",
         "opacity": 0.7,
         "x": [
          22.0,
          38.0,
          45.0,
          53.0
         ],
         "y": [
          1,
          1,
          1,
          1
         ],
         "type": "scatter",
         "xaxis": "x9",
         "yaxis": "y9"
        },
        {
         "line": {
          "color": "orange",
          "width": 2
         },
         "mode": "lines+markers",
         "name": "Málaga Max Price",
         "opacity": 0.7,
         "x": [
          22.0,
          38.0,
          45.0,
          53.0
         ],
         "y": [
          1,
          1,
          1,
          1
         ],
         "type": "scatter",
         "xaxis": "x10",
         "yaxis": "y10"
        },
        {
         "line": {
          "color": "blue",
          "width": 2
         },
         "mode": "lines+markers",
         "name": "La Corunna Min Price",
         "opacity": 0.7,
         "x": [
          20.0,
          26.5,
          30.0,
          31.0,
          35.0,
          40.0,
          45.0,
          47.0,
          55.0,
          70.0,
          75.0,
          195.0,
          220.0,
          331.5
         ],
         "y": [
          1,
          3,
          2,
          4,
          5,
          1,
          1,
          1,
          1,
          1,
          1,
          1,
          1,
          1
         ],
         "type": "scatter",
         "xaxis": "x11",
         "yaxis": "y11"
        },
        {
         "line": {
          "color": "orange",
          "width": 2
         },
         "mode": "lines+markers",
         "name": "La Corunna Max Price",
         "opacity": 0.7,
         "x": [
          20.0,
          37.0,
          40.0,
          65.0,
          112.0,
          155.0,
          205.0,
          210.0,
          215.0,
          355.0,
          691.5
         ],
         "y": [
          1,
          1,
          1,
          1,
          1,
          1,
          6,
          3,
          7,
          1,
          1
         ],
         "type": "scatter",
         "xaxis": "x12",
         "yaxis": "y12"
        },
        {
         "line": {
          "color": "blue",
          "width": 2
         },
         "mode": "lines+markers",
         "name": "Saragossa Min Price",
         "opacity": 0.7,
         "x": [
          23.0
         ],
         "y": [
          1
         ],
         "type": "scatter",
         "xaxis": "x13",
         "yaxis": "y13"
        },
        {
         "line": {
          "color": "orange",
          "width": 2
         },
         "mode": "lines+markers",
         "name": "Saragossa Max Price",
         "opacity": 0.7,
         "x": [
          23.0
         ],
         "y": [
          1
         ],
         "type": "scatter",
         "xaxis": "x14",
         "yaxis": "y14"
        },
        {
         "line": {
          "color": "blue",
          "width": 2
         },
         "mode": "lines+markers",
         "name": "Seville Min Price",
         "opacity": 0.7,
         "x": [
          23.0,
          37.0,
          52.0
         ],
         "y": [
          1,
          1,
          1
         ],
         "type": "scatter",
         "xaxis": "x15",
         "yaxis": "y15"
        },
        {
         "line": {
          "color": "orange",
          "width": 2
         },
         "mode": "lines+markers",
         "name": "Seville Max Price",
         "opacity": 0.7,
         "x": [
          23.0,
          42.0,
          77.0
         ],
         "y": [
          1,
          1,
          1
         ],
         "type": "scatter",
         "xaxis": "x16",
         "yaxis": "y16"
        },
        {
         "line": {
          "color": "blue",
          "width": 2
         },
         "mode": "lines+markers",
         "name": "Biscay Min Price",
         "opacity": 0.7,
         "x": [
          23.0,
          32.0,
          36.0,
          100.0
         ],
         "y": [
          1,
          1,
          1,
          1
         ],
         "type": "scatter",
         "xaxis": "x17",
         "yaxis": "y17"
        },
        {
         "line": {
          "color": "orange",
          "width": 2
         },
         "mode": "lines+markers",
         "name": "Biscay Max Price",
         "opacity": 0.7,
         "x": [
          23.0,
          80.0,
          106.0,
          126.0
         ],
         "y": [
          1,
          1,
          1,
          1
         ],
         "type": "scatter",
         "xaxis": "x18",
         "yaxis": "y18"
        },
        {
         "line": {
          "color": "blue",
          "width": 2
         },
         "mode": "lines+markers",
         "name": "Navarre Min Price",
         "opacity": 0.7,
         "x": [
          26.5,
          30.0,
          31.0,
          35.0,
          65.0,
          210.0
         ],
         "y": [
          3,
          1,
          1,
          3,
          1,
          1
         ],
         "type": "scatter",
         "xaxis": "x19",
         "yaxis": "y19"
        },
        {
         "line": {
          "color": "orange",
          "width": 2
         },
         "mode": "lines+markers",
         "name": "Navarre Max Price",
         "opacity": 0.7,
         "x": [
          190.0,
          205.0,
          220.0,
          345.0
         ],
         "y": [
          1,
          4,
          4,
          1
         ],
         "type": "scatter",
         "xaxis": "x20",
         "yaxis": "y20"
        },
        {
         "line": {
          "color": "blue",
          "width": 2
         },
         "mode": "lines+markers",
         "name": "Granada Min Price",
         "opacity": 0.7,
         "x": [
          35.0,
          40.0
         ],
         "y": [
          1,
          1
         ],
         "type": "scatter",
         "xaxis": "x21",
         "yaxis": "y21"
        },
        {
         "line": {
          "color": "orange",
          "width": 2
         },
         "mode": "lines+markers",
         "name": "Granada Max Price",
         "opacity": 0.7,
         "x": [
          40.0,
          42.0
         ],
         "y": [
          1,
          1
         ],
         "type": "scatter",
         "xaxis": "x22",
         "yaxis": "y22"
        }
       ],
       "layout": {
        "template": {
         "data": {
          "histogram2dcontour": [
           {
            "type": "histogram2dcontour",
            "colorbar": {
             "outlinewidth": 0,
             "ticks": ""
            },
            "colorscale": [
             [
              0.0,
              "#0d0887"
             ],
             [
              0.1111111111111111,
              "#46039f"
             ],
             [
              0.2222222222222222,
              "#7201a8"
             ],
             [
              0.3333333333333333,
              "#9c179e"
             ],
             [
              0.4444444444444444,
              "#bd3786"
             ],
             [
              0.5555555555555556,
              "#d8576b"
             ],
             [
              0.6666666666666666,
              "#ed7953"
             ],
             [
              0.7777777777777778,
              "#fb9f3a"
             ],
             [
              0.8888888888888888,
              "#fdca26"
             ],
             [
              1.0,
              "#f0f921"
             ]
            ]
           }
          ],
          "choropleth": [
           {
            "type": "choropleth",
            "colorbar": {
             "outlinewidth": 0,
             "ticks": ""
            }
           }
          ],
          "histogram2d": [
           {
            "type": "histogram2d",
            "colorbar": {
             "outlinewidth": 0,
             "ticks": ""
            },
            "colorscale": [
             [
              0.0,
              "#0d0887"
             ],
             [
              0.1111111111111111,
              "#46039f"
             ],
             [
              0.2222222222222222,
              "#7201a8"
             ],
             [
              0.3333333333333333,
              "#9c179e"
             ],
             [
              0.4444444444444444,
              "#bd3786"
             ],
             [
              0.5555555555555556,
              "#d8576b"
             ],
             [
              0.6666666666666666,
              "#ed7953"
             ],
             [
              0.7777777777777778,
              "#fb9f3a"
             ],
             [
              0.8888888888888888,
              "#fdca26"
             ],
             [
              1.0,
              "#f0f921"
             ]
            ]
           }
          ],
          "heatmap": [
           {
            "type": "heatmap",
            "colorbar": {
             "outlinewidth": 0,
             "ticks": ""
            },
            "colorscale": [
             [
              0.0,
              "#0d0887"
             ],
             [
              0.1111111111111111,
              "#46039f"
             ],
             [
              0.2222222222222222,
              "#7201a8"
             ],
             [
              0.3333333333333333,
              "#9c179e"
             ],
             [
              0.4444444444444444,
              "#bd3786"
             ],
             [
              0.5555555555555556,
              "#d8576b"
             ],
             [
              0.6666666666666666,
              "#ed7953"
             ],
             [
              0.7777777777777778,
              "#fb9f3a"
             ],
             [
              0.8888888888888888,
              "#fdca26"
             ],
             [
              1.0,
              "#f0f921"
             ]
            ]
           }
          ],
          "heatmapgl": [
           {
            "type": "heatmapgl",
            "colorbar": {
             "outlinewidth": 0,
             "ticks": ""
            },
            "colorscale": [
             [
              0.0,
              "#0d0887"
             ],
             [
              0.1111111111111111,
              "#46039f"
             ],
             [
              0.2222222222222222,
              "#7201a8"
             ],
             [
              0.3333333333333333,
              "#9c179e"
             ],
             [
              0.4444444444444444,
              "#bd3786"
             ],
             [
              0.5555555555555556,
              "#d8576b"
             ],
             [
              0.6666666666666666,
              "#ed7953"
             ],
             [
              0.7777777777777778,
              "#fb9f3a"
             ],
             [
              0.8888888888888888,
              "#fdca26"
             ],
             [
              1.0,
              "#f0f921"
             ]
            ]
           }
          ],
          "contourcarpet": [
           {
            "type": "contourcarpet",
            "colorbar": {
             "outlinewidth": 0,
             "ticks": ""
            }
           }
          ],
          "contour": [
           {
            "type": "contour",
            "colorbar": {
             "outlinewidth": 0,
             "ticks": ""
            },
            "colorscale": [
             [
              0.0,
              "#0d0887"
             ],
             [
              0.1111111111111111,
              "#46039f"
             ],
             [
              0.2222222222222222,
              "#7201a8"
             ],
             [
              0.3333333333333333,
              "#9c179e"
             ],
             [
              0.4444444444444444,
              "#bd3786"
             ],
             [
              0.5555555555555556,
              "#d8576b"
             ],
             [
              0.6666666666666666,
              "#ed7953"
             ],
             [
              0.7777777777777778,
              "#fb9f3a"
             ],
             [
              0.8888888888888888,
              "#fdca26"
             ],
             [
              1.0,
              "#f0f921"
             ]
            ]
           }
          ],
          "surface": [
           {
            "type": "surface",
            "colorbar": {
             "outlinewidth": 0,
             "ticks": ""
            },
            "colorscale": [
             [
              0.0,
              "#0d0887"
             ],
             [
              0.1111111111111111,
              "#46039f"
             ],
             [
              0.2222222222222222,
              "#7201a8"
             ],
             [
              0.3333333333333333,
              "#9c179e"
             ],
             [
              0.4444444444444444,
              "#bd3786"
             ],
             [
              0.5555555555555556,
              "#d8576b"
             ],
             [
              0.6666666666666666,
              "#ed7953"
             ],
             [
              0.7777777777777778,
              "#fb9f3a"
             ],
             [
              0.8888888888888888,
              "#fdca26"
             ],
             [
              1.0,
              "#f0f921"
             ]
            ]
           }
          ],
          "mesh3d": [
           {
            "type": "mesh3d",
            "colorbar": {
             "outlinewidth": 0,
             "ticks": ""
            }
           }
          ],
          "scatter": [
           {
            "fillpattern": {
             "fillmode": "overlay",
             "size": 10,
             "solidity": 0.2
            },
            "type": "scatter"
           }
          ],
          "parcoords": [
           {
            "type": "parcoords",
            "line": {
             "colorbar": {
              "outlinewidth": 0,
              "ticks": ""
             }
            }
           }
          ],
          "scatterpolargl": [
           {
            "type": "scatterpolargl",
            "marker": {
             "colorbar": {
              "outlinewidth": 0,
              "ticks": ""
             }
            }
           }
          ],
          "bar": [
           {
            "error_x": {
             "color": "#2a3f5f"
            },
            "error_y": {
             "color": "#2a3f5f"
            },
            "marker": {
             "line": {
              "color": "#E5ECF6",
              "width": 0.5
             },
             "pattern": {
              "fillmode": "overlay",
              "size": 10,
              "solidity": 0.2
             }
            },
            "type": "bar"
           }
          ],
          "scattergeo": [
           {
            "type": "scattergeo",
            "marker": {
             "colorbar": {
              "outlinewidth": 0,
              "ticks": ""
             }
            }
           }
          ],
          "scatterpolar": [
           {
            "type": "scatterpolar",
            "marker": {
             "colorbar": {
              "outlinewidth": 0,
              "ticks": ""
             }
            }
           }
          ],
          "histogram": [
           {
            "marker": {
             "pattern": {
              "fillmode": "overlay",
              "size": 10,
              "solidity": 0.2
             }
            },
            "type": "histogram"
           }
          ],
          "scattergl": [
           {
            "type": "scattergl",
            "marker": {
             "colorbar": {
              "outlinewidth": 0,
              "ticks": ""
             }
            }
           }
          ],
          "scatter3d": [
           {
            "type": "scatter3d",
            "line": {
             "colorbar": {
              "outlinewidth": 0,
              "ticks": ""
             }
            },
            "marker": {
             "colorbar": {
              "outlinewidth": 0,
              "ticks": ""
             }
            }
           }
          ],
          "scattermapbox": [
           {
            "type": "scattermapbox",
            "marker": {
             "colorbar": {
              "outlinewidth": 0,
              "ticks": ""
             }
            }
           }
          ],
          "scatterternary": [
           {
            "type": "scatterternary",
            "marker": {
             "colorbar": {
              "outlinewidth": 0,
              "ticks": ""
             }
            }
           }
          ],
          "scattercarpet": [
           {
            "type": "scattercarpet",
            "marker": {
             "colorbar": {
              "outlinewidth": 0,
              "ticks": ""
             }
            }
           }
          ],
          "carpet": [
           {
            "aaxis": {
             "endlinecolor": "#2a3f5f",
             "gridcolor": "white",
             "linecolor": "white",
             "minorgridcolor": "white",
             "startlinecolor": "#2a3f5f"
            },
            "baxis": {
             "endlinecolor": "#2a3f5f",
             "gridcolor": "white",
             "linecolor": "white",
             "minorgridcolor": "white",
             "startlinecolor": "#2a3f5f"
            },
            "type": "carpet"
           }
          ],
          "table": [
           {
            "cells": {
             "fill": {
              "color": "#EBF0F8"
             },
             "line": {
              "color": "white"
             }
            },
            "header": {
             "fill": {
              "color": "#C8D4E3"
             },
             "line": {
              "color": "white"
             }
            },
            "type": "table"
           }
          ],
          "barpolar": [
           {
            "marker": {
             "line": {
              "color": "#E5ECF6",
              "width": 0.5
             },
             "pattern": {
              "fillmode": "overlay",
              "size": 10,
              "solidity": 0.2
             }
            },
            "type": "barpolar"
           }
          ],
          "pie": [
           {
            "automargin": true,
            "type": "pie"
           }
          ]
         },
         "layout": {
          "autotypenumbers": "strict",
          "colorway": [
           "#636efa",
           "#EF553B",
           "#00cc96",
           "#ab63fa",
           "#FFA15A",
           "#19d3f3",
           "#FF6692",
           "#B6E880",
           "#FF97FF",
           "#FECB52"
          ],
          "font": {
           "color": "#2a3f5f"
          },
          "hovermode": "closest",
          "hoverlabel": {
           "align": "left"
          },
          "paper_bgcolor": "white",
          "plot_bgcolor": "#E5ECF6",
          "polar": {
           "bgcolor": "#E5ECF6",
           "angularaxis": {
            "gridcolor": "white",
            "linecolor": "white",
            "ticks": ""
           },
           "radialaxis": {
            "gridcolor": "white",
            "linecolor": "white",
            "ticks": ""
           }
          },
          "ternary": {
           "bgcolor": "#E5ECF6",
           "aaxis": {
            "gridcolor": "white",
            "linecolor": "white",
            "ticks": ""
           },
           "baxis": {
            "gridcolor": "white",
            "linecolor": "white",
            "ticks": ""
           },
           "caxis": {
            "gridcolor": "white",
            "linecolor": "white",
            "ticks": ""
           }
          },
          "coloraxis": {
           "colorbar": {
            "outlinewidth": 0,
            "ticks": ""
           }
          },
          "colorscale": {
           "sequential": [
            [
             0.0,
             "#0d0887"
            ],
            [
             0.1111111111111111,
             "#46039f"
            ],
            [
             0.2222222222222222,
             "#7201a8"
            ],
            [
             0.3333333333333333,
             "#9c179e"
            ],
            [
             0.4444444444444444,
             "#bd3786"
            ],
            [
             0.5555555555555556,
             "#d8576b"
            ],
            [
             0.6666666666666666,
             "#ed7953"
            ],
            [
             0.7777777777777778,
             "#fb9f3a"
            ],
            [
             0.8888888888888888,
             "#fdca26"
            ],
            [
             1.0,
             "#f0f921"
            ]
           ],
           "sequentialminus": [
            [
             0.0,
             "#0d0887"
            ],
            [
             0.1111111111111111,
             "#46039f"
            ],
            [
             0.2222222222222222,
             "#7201a8"
            ],
            [
             0.3333333333333333,
             "#9c179e"
            ],
            [
             0.4444444444444444,
             "#bd3786"
            ],
            [
             0.5555555555555556,
             "#d8576b"
            ],
            [
             0.6666666666666666,
             "#ed7953"
            ],
            [
             0.7777777777777778,
             "#fb9f3a"
            ],
            [
             0.8888888888888888,
             "#fdca26"
            ],
            [
             1.0,
             "#f0f921"
            ]
           ],
           "diverging": [
            [
             0,
             "#8e0152"
            ],
            [
             0.1,
             "#c51b7d"
            ],
            [
             0.2,
             "#de77ae"
            ],
            [
             0.3,
             "#f1b6da"
            ],
            [
             0.4,
             "#fde0ef"
            ],
            [
             0.5,
             "#f7f7f7"
            ],
            [
             0.6,
             "#e6f5d0"
            ],
            [
             0.7,
             "#b8e186"
            ],
            [
             0.8,
             "#7fbc41"
            ],
            [
             0.9,
             "#4d9221"
            ],
            [
             1,
             "#276419"
            ]
           ]
          },
          "xaxis": {
           "gridcolor": "white",
           "linecolor": "white",
           "ticks": "",
           "title": {
            "standoff": 15
           },
           "zerolinecolor": "white",
           "automargin": true,
           "zerolinewidth": 2
          },
          "yaxis": {
           "gridcolor": "white",
           "linecolor": "white",
           "ticks": "",
           "title": {
            "standoff": 15
           },
           "zerolinecolor": "white",
           "automargin": true,
           "zerolinewidth": 2
          },
          "scene": {
           "xaxis": {
            "backgroundcolor": "#E5ECF6",
            "gridcolor": "white",
            "linecolor": "white",
            "showbackground": true,
            "ticks": "",
            "zerolinecolor": "white",
            "gridwidth": 2
           },
           "yaxis": {
            "backgroundcolor": "#E5ECF6",
            "gridcolor": "white",
            "linecolor": "white",
            "showbackground": true,
            "ticks": "",
            "zerolinecolor": "white",
            "gridwidth": 2
           },
           "zaxis": {
            "backgroundcolor": "#E5ECF6",
            "gridcolor": "white",
            "linecolor": "white",
            "showbackground": true,
            "ticks": "",
            "zerolinecolor": "white",
            "gridwidth": 2
           }
          },
          "shapedefaults": {
           "line": {
            "color": "#2a3f5f"
           }
          },
          "annotationdefaults": {
           "arrowcolor": "#2a3f5f",
           "arrowhead": 0,
           "arrowwidth": 1
          },
          "geo": {
           "bgcolor": "white",
           "landcolor": "#E5ECF6",
           "subunitcolor": "white",
           "showland": true,
           "showlakes": true,
           "lakecolor": "white"
          },
          "title": {
           "x": 0.05
          },
          "mapbox": {
           "style": "light"
          }
         }
        },
        "xaxis": {
         "anchor": "y",
         "domain": [
          0.0,
          0.45
         ],
         "title": {
          "text": "Price"
         }
        },
        "yaxis": {
         "anchor": "x",
         "domain": [
          0.9545454545454546,
          1.0
         ],
         "title": {
          "text": "Count"
         }
        },
        "xaxis2": {
         "anchor": "y2",
         "domain": [
          0.55,
          1.0
         ],
         "title": {
          "text": "Price"
         }
        },
        "yaxis2": {
         "anchor": "x2",
         "domain": [
          0.9545454545454546,
          1.0
         ],
         "title": {
          "text": "Count"
         }
        },
        "xaxis3": {
         "anchor": "y3",
         "domain": [
          0.0,
          0.45
         ],
         "title": {
          "text": "Price"
         }
        },
        "yaxis3": {
         "anchor": "x3",
         "domain": [
          0.8590909090909091,
          0.9045454545454545
         ],
         "title": {
          "text": "Count"
         }
        },
        "xaxis4": {
         "anchor": "y4",
         "domain": [
          0.55,
          1.0
         ],
         "title": {
          "text": "Price"
         }
        },
        "yaxis4": {
         "anchor": "x4",
         "domain": [
          0.8590909090909091,
          0.9045454545454545
         ],
         "title": {
          "text": "Count"
         }
        },
        "xaxis5": {
         "anchor": "y5",
         "domain": [
          0.0,
          0.45
         ],
         "title": {
          "text": "Price"
         }
        },
        "yaxis5": {
         "anchor": "x5",
         "domain": [
          0.7636363636363637,
          0.8090909090909091
         ],
         "title": {
          "text": "Count"
         }
        },
        "xaxis6": {
         "anchor": "y6",
         "domain": [
          0.55,
          1.0
         ],
         "title": {
          "text": "Price"
         }
        },
        "yaxis6": {
         "anchor": "x6",
         "domain": [
          0.7636363636363637,
          0.8090909090909091
         ],
         "title": {
          "text": "Count"
         }
        },
        "xaxis7": {
         "anchor": "y7",
         "domain": [
          0.0,
          0.45
         ],
         "title": {
          "text": "Price"
         }
        },
        "yaxis7": {
         "anchor": "x7",
         "domain": [
          0.6681818181818182,
          0.7136363636363636
         ],
         "title": {
          "text": "Count"
         }
        },
        "xaxis8": {
         "anchor": "y8",
         "domain": [
          0.55,
          1.0
         ],
         "title": {
          "text": "Price"
         }
        },
        "yaxis8": {
         "anchor": "x8",
         "domain": [
          0.6681818181818182,
          0.7136363636363636
         ],
         "title": {
          "text": "Count"
         }
        },
        "xaxis9": {
         "anchor": "y9",
         "domain": [
          0.0,
          0.45
         ],
         "title": {
          "text": "Price"
         }
        },
        "yaxis9": {
         "anchor": "x9",
         "domain": [
          0.5727272727272728,
          0.6181818181818182
         ],
         "title": {
          "text": "Count"
         }
        },
        "xaxis10": {
         "anchor": "y10",
         "domain": [
          0.55,
          1.0
         ],
         "title": {
          "text": "Price"
         }
        },
        "yaxis10": {
         "anchor": "x10",
         "domain": [
          0.5727272727272728,
          0.6181818181818182
         ],
         "title": {
          "text": "Count"
         }
        },
        "xaxis11": {
         "anchor": "y11",
         "domain": [
          0.0,
          0.45
         ],
         "title": {
          "text": "Price"
         }
        },
        "yaxis11": {
         "anchor": "x11",
         "domain": [
          0.4772727272727273,
          0.5227272727272727
         ],
         "title": {
          "text": "Count"
         }
        },
        "xaxis12": {
         "anchor": "y12",
         "domain": [
          0.55,
          1.0
         ],
         "title": {
          "text": "Price"
         }
        },
        "yaxis12": {
         "anchor": "x12",
         "domain": [
          0.4772727272727273,
          0.5227272727272727
         ],
         "title": {
          "text": "Count"
         }
        },
        "xaxis13": {
         "anchor": "y13",
         "domain": [
          0.0,
          0.45
         ],
         "title": {
          "text": "Price"
         }
        },
        "yaxis13": {
         "anchor": "x13",
         "domain": [
          0.38181818181818183,
          0.4272727272727273
         ],
         "title": {
          "text": "Count"
         }
        },
        "xaxis14": {
         "anchor": "y14",
         "domain": [
          0.55,
          1.0
         ],
         "title": {
          "text": "Price"
         }
        },
        "yaxis14": {
         "anchor": "x14",
         "domain": [
          0.38181818181818183,
          0.4272727272727273
         ],
         "title": {
          "text": "Count"
         }
        },
        "xaxis15": {
         "anchor": "y15",
         "domain": [
          0.0,
          0.45
         ],
         "title": {
          "text": "Price"
         }
        },
        "yaxis15": {
         "anchor": "x15",
         "domain": [
          0.2863636363636364,
          0.33181818181818185
         ],
         "title": {
          "text": "Count"
         }
        },
        "xaxis16": {
         "anchor": "y16",
         "domain": [
          0.55,
          1.0
         ],
         "title": {
          "text": "Price"
         }
        },
        "yaxis16": {
         "anchor": "x16",
         "domain": [
          0.2863636363636364,
          0.33181818181818185
         ],
         "title": {
          "text": "Count"
         }
        },
        "xaxis17": {
         "anchor": "y17",
         "domain": [
          0.0,
          0.45
         ],
         "title": {
          "text": "Price"
         }
        },
        "yaxis17": {
         "anchor": "x17",
         "domain": [
          0.19090909090909092,
          0.2363636363636364
         ],
         "title": {
          "text": "Count"
         }
        },
        "xaxis18": {
         "anchor": "y18",
         "domain": [
          0.55,
          1.0
         ],
         "title": {
          "text": "Price"
         }
        },
        "yaxis18": {
         "anchor": "x18",
         "domain": [
          0.19090909090909092,
          0.2363636363636364
         ],
         "title": {
          "text": "Count"
         }
        },
        "xaxis19": {
         "anchor": "y19",
         "domain": [
          0.0,
          0.45
         ],
         "title": {
          "text": "Price"
         }
        },
        "yaxis19": {
         "anchor": "x19",
         "domain": [
          0.09545454545454546,
          0.14090909090909093
         ],
         "title": {
          "text": "Count"
         }
        },
        "xaxis20": {
         "anchor": "y20",
         "domain": [
          0.55,
          1.0
         ],
         "title": {
          "text": "Price"
         }
        },
        "yaxis20": {
         "anchor": "x20",
         "domain": [
          0.09545454545454546,
          0.14090909090909093
         ],
         "title": {
          "text": "Count"
         }
        },
        "xaxis21": {
         "anchor": "y21",
         "domain": [
          0.0,
          0.45
         ],
         "title": {
          "text": "Price"
         }
        },
        "yaxis21": {
         "anchor": "x21",
         "domain": [
          0.0,
          0.045454545454545456
         ],
         "title": {
          "text": "Count"
         }
        },
        "xaxis22": {
         "anchor": "y22",
         "domain": [
          0.55,
          1.0
         ],
         "title": {
          "text": "Price"
         }
        },
        "yaxis22": {
         "anchor": "x22",
         "domain": [
          0.0,
          0.045454545454545456
         ],
         "title": {
          "text": "Count"
         }
        },
        "annotations": [
         {
          "font": {
           "size": 16
          },
          "showarrow": false,
          "text": "Madrid Min Price Distribution",
          "x": 0.225,
          "xanchor": "center",
          "xref": "paper",
          "y": 1.0,
          "yanchor": "bottom",
          "yref": "paper"
         },
         {
          "font": {
           "size": 16
          },
          "showarrow": false,
          "text": "Madrid Max Price Distribution",
          "x": 0.775,
          "xanchor": "center",
          "xref": "paper",
          "y": 1.0,
          "yanchor": "bottom",
          "yref": "paper"
         },
         {
          "font": {
           "size": 16
          },
          "showarrow": false,
          "text": "Barcelona Min Price Distribution",
          "x": 0.225,
          "xanchor": "center",
          "xref": "paper",
          "y": 0.9045454545454545,
          "yanchor": "bottom",
          "yref": "paper"
         },
         {
          "font": {
           "size": 16
          },
          "showarrow": false,
          "text": "Barcelona Max Price Distribution",
          "x": 0.775,
          "xanchor": "center",
          "xref": "paper",
          "y": 0.9045454545454545,
          "yanchor": "bottom",
          "yref": "paper"
         },
         {
          "font": {
           "size": 16
          },
          "showarrow": false,
          "text": "Santa Cruz de Tenerife Min Price Distribution",
          "x": 0.225,
          "xanchor": "center",
          "xref": "paper",
          "y": 0.8090909090909091,
          "yanchor": "bottom",
          "yref": "paper"
         },
         {
          "font": {
           "size": 16
          },
          "showarrow": false,
          "text": "Santa Cruz de Tenerife Max Price Distribution",
          "x": 0.775,
          "xanchor": "center",
          "xref": "paper",
          "y": 0.8090909090909091,
          "yanchor": "bottom",
          "yref": "paper"
         },
         {
          "font": {
           "size": 16
          },
          "showarrow": false,
          "text": "Valencia Min Price Distribution",
          "x": 0.225,
          "xanchor": "center",
          "xref": "paper",
          "y": 0.7136363636363636,
          "yanchor": "bottom",
          "yref": "paper"
         },
         {
          "font": {
           "size": 16
          },
          "showarrow": false,
          "text": "Valencia Max Price Distribution",
          "x": 0.775,
          "xanchor": "center",
          "xref": "paper",
          "y": 0.7136363636363636,
          "yanchor": "bottom",
          "yref": "paper"
         },
         {
          "font": {
           "size": 16
          },
          "showarrow": false,
          "text": "Málaga Min Price Distribution",
          "x": 0.225,
          "xanchor": "center",
          "xref": "paper",
          "y": 0.6181818181818182,
          "yanchor": "bottom",
          "yref": "paper"
         },
         {
          "font": {
           "size": 16
          },
          "showarrow": false,
          "text": "Málaga Max Price Distribution",
          "x": 0.775,
          "xanchor": "center",
          "xref": "paper",
          "y": 0.6181818181818182,
          "yanchor": "bottom",
          "yref": "paper"
         },
         {
          "font": {
           "size": 16
          },
          "showarrow": false,
          "text": "La Corunna Min Price Distribution",
          "x": 0.225,
          "xanchor": "center",
          "xref": "paper",
          "y": 0.5227272727272727,
          "yanchor": "bottom",
          "yref": "paper"
         },
         {
          "font": {
           "size": 16
          },
          "showarrow": false,
          "text": "La Corunna Max Price Distribution",
          "x": 0.775,
          "xanchor": "center",
          "xref": "paper",
          "y": 0.5227272727272727,
          "yanchor": "bottom",
          "yref": "paper"
         },
         {
          "font": {
           "size": 16
          },
          "showarrow": false,
          "text": "Saragossa Min Price Distribution",
          "x": 0.225,
          "xanchor": "center",
          "xref": "paper",
          "y": 0.4272727272727273,
          "yanchor": "bottom",
          "yref": "paper"
         },
         {
          "font": {
           "size": 16
          },
          "showarrow": false,
          "text": "Saragossa Max Price Distribution",
          "x": 0.775,
          "xanchor": "center",
          "xref": "paper",
          "y": 0.4272727272727273,
          "yanchor": "bottom",
          "yref": "paper"
         },
         {
          "font": {
           "size": 16
          },
          "showarrow": false,
          "text": "Seville Min Price Distribution",
          "x": 0.225,
          "xanchor": "center",
          "xref": "paper",
          "y": 0.33181818181818185,
          "yanchor": "bottom",
          "yref": "paper"
         },
         {
          "font": {
           "size": 16
          },
          "showarrow": false,
          "text": "Seville Max Price Distribution",
          "x": 0.775,
          "xanchor": "center",
          "xref": "paper",
          "y": 0.33181818181818185,
          "yanchor": "bottom",
          "yref": "paper"
         },
         {
          "font": {
           "size": 16
          },
          "showarrow": false,
          "text": "Biscay Min Price Distribution",
          "x": 0.225,
          "xanchor": "center",
          "xref": "paper",
          "y": 0.2363636363636364,
          "yanchor": "bottom",
          "yref": "paper"
         },
         {
          "font": {
           "size": 16
          },
          "showarrow": false,
          "text": "Biscay Max Price Distribution",
          "x": 0.775,
          "xanchor": "center",
          "xref": "paper",
          "y": 0.2363636363636364,
          "yanchor": "bottom",
          "yref": "paper"
         },
         {
          "font": {
           "size": 16
          },
          "showarrow": false,
          "text": "Navarre Min Price Distribution",
          "x": 0.225,
          "xanchor": "center",
          "xref": "paper",
          "y": 0.14090909090909093,
          "yanchor": "bottom",
          "yref": "paper"
         },
         {
          "font": {
           "size": 16
          },
          "showarrow": false,
          "text": "Navarre Max Price Distribution",
          "x": 0.775,
          "xanchor": "center",
          "xref": "paper",
          "y": 0.14090909090909093,
          "yanchor": "bottom",
          "yref": "paper"
         },
         {
          "font": {
           "size": 16
          },
          "showarrow": false,
          "text": "Granada Min Price Distribution",
          "x": 0.225,
          "xanchor": "center",
          "xref": "paper",
          "y": 0.045454545454545456,
          "yanchor": "bottom",
          "yref": "paper"
         },
         {
          "font": {
           "size": 16
          },
          "showarrow": false,
          "text": "Granada Max Price Distribution",
          "x": 0.775,
          "xanchor": "center",
          "xref": "paper",
          "y": 0.045454545454545456,
          "yanchor": "bottom",
          "yref": "paper"
         }
        ],
        "title": {
         "text": "Min and Max Price Distributions by City (Lines)"
        },
        "height": 3300,
        "width": 1200,
        "showlegend": false
       },
       "config": {
        "plotlyServerURL": "https://plot.ly"
       }
      },
      "text/html": [
       "<div>                            <div id=\"33b0c155-92e6-46aa-b70a-4dc0cbc897cd\" class=\"plotly-graph-div\" style=\"height:3300px; width:1200px;\"></div>            <script type=\"text/javascript\">                require([\"plotly\"], function(Plotly) {                    window.PLOTLYENV=window.PLOTLYENV || {};                                    if (document.getElementById(\"33b0c155-92e6-46aa-b70a-4dc0cbc897cd\")) {                    Plotly.newPlot(                        \"33b0c155-92e6-46aa-b70a-4dc0cbc897cd\",                        [{\"line\":{\"color\":\"blue\",\"width\":2},\"mode\":\"lines+markers\",\"name\":\"Madrid Min Price\",\"opacity\":0.7,\"x\":[22.0,23.0,25.0,26.0,27.0,28.0,30.0,32.0,32.14,35.0,36.0,40.0,42.0,42.14,45.0,55.0,60.0,65.0,68.0,75.0,87.0,100.0,110.0,121.0,160.0,175.0,220.0,297.0,300.0,310.0,376.5],\"y\":[2,4,5,2,2,2,8,1,1,2,1,2,2,1,7,5,3,2,1,1,1,1,1,2,1,1,1,1,1,1,1],\"type\":\"scatter\",\"xaxis\":\"x\",\"yaxis\":\"y\"},{\"line\":{\"color\":\"orange\",\"width\":2},\"mode\":\"lines+markers\",\"name\":\"Madrid Max Price\",\"opacity\":0.7,\"x\":[22.0,23.0,25.0,26.0,27.0,28.0,30.0,32.0,35.0,40.0,45.0,55.0,65.0,68.0,75.0,85.0,87.0,95.0,106.0,107.0,115.0,121.0,125.0,130.0,160.0,167.0,176.0,190.0,195.0,210.0,220.0,230.0,260.0,265.0,270.0,275.0,285.0,300.0,310.0,355.0,374.11,391.96,450.0,500.0,736.5,6757.5],\"y\":[2,3,3,2,2,3,3,1,1,2,1,1,3,1,1,1,1,1,1,2,2,2,1,1,1,1,1,2,1,1,1,1,1,2,1,1,1,1,1,1,1,1,1,2,1,1],\"type\":\"scatter\",\"xaxis\":\"x2\",\"yaxis\":\"y2\"},{\"line\":{\"color\":\"blue\",\"width\":2},\"mode\":\"lines+markers\",\"name\":\"Barcelona Min Price\",\"opacity\":0.7,\"x\":[0.5,20.0,23.0,25.0,26.0,26.5,27.0,28.0,30.0,31.0,32.6,35.0,38.0,40.0,42.0,45.0,50.0,55.0,56.9,60.0,65.0,66.0,68.0,87.0,100.0,106.0,110.0,121.0,125.0,205.0,297.0],\"y\":[1,1,3,4,2,4,4,1,10,1,1,4,1,3,1,2,3,1,1,2,2,2,1,1,1,1,1,1,2,1,1],\"type\":\"scatter\",\"xaxis\":\"x3\",\"yaxis\":\"y3\"},{\"line\":{\"color\":\"orange\",\"width\":2},\"mode\":\"lines+markers\",\"name\":\"Barcelona Max Price\",\"opacity\":0.7,\"x\":[0.5,23.0,25.0,26.0,27.0,28.0,30.0,35.0,38.0,40.0,45.0,48.0,50.0,55.0,60.0,65.0,68.0,75.0,86.0,87.0,105.0,106.0,110.0,112.0,121.0,130.0,150.0,160.0,172.5,180.0,215.0,220.0,235.0,250.0,265.0,305.0,313.5,6757.5],\"y\":[1,3,4,2,2,1,6,1,1,2,1,1,1,1,1,1,1,3,1,1,1,1,1,1,1,1,2,1,1,1,1,6,5,1,1,1,2,1],\"type\":\"scatter\",\"xaxis\":\"x4\",\"yaxis\":\"y4\"},{\"line\":{\"color\":\"blue\",\"width\":2},\"mode\":\"lines+markers\",\"name\":\"Santa Cruz de Tenerife Min Price\",\"opacity\":0.7,\"x\":[15.0,40.0],\"y\":[1,1],\"type\":\"scatter\",\"xaxis\":\"x5\",\"yaxis\":\"y5\"},{\"line\":{\"color\":\"orange\",\"width\":2},\"mode\":\"lines+markers\",\"name\":\"Santa Cruz de Tenerife Max Price\",\"opacity\":0.7,\"x\":[15.0,40.0],\"y\":[1,1],\"type\":\"scatter\",\"xaxis\":\"x6\",\"yaxis\":\"y6\"},{\"line\":{\"color\":\"blue\",\"width\":2},\"mode\":\"lines+markers\",\"name\":\"Valencia Min Price\",\"opacity\":0.7,\"x\":[22.0,36.0],\"y\":[2,2],\"type\":\"scatter\",\"xaxis\":\"x7\",\"yaxis\":\"y7\"},{\"line\":{\"color\":\"orange\",\"width\":2},\"mode\":\"lines+markers\",\"name\":\"Valencia Max Price\",\"opacity\":0.7,\"x\":[22.0,60.0],\"y\":[2,2],\"type\":\"scatter\",\"xaxis\":\"x8\",\"yaxis\":\"y8\"},{\"line\":{\"color\":\"blue\",\"width\":2},\"mode\":\"lines+markers\",\"name\":\"M\\u00e1laga Min Price\",\"opacity\":0.7,\"x\":[22.0,38.0,45.0,53.0],\"y\":[1,1,1,1],\"type\":\"scatter\",\"xaxis\":\"x9\",\"yaxis\":\"y9\"},{\"line\":{\"color\":\"orange\",\"width\":2},\"mode\":\"lines+markers\",\"name\":\"M\\u00e1laga Max Price\",\"opacity\":0.7,\"x\":[22.0,38.0,45.0,53.0],\"y\":[1,1,1,1],\"type\":\"scatter\",\"xaxis\":\"x10\",\"yaxis\":\"y10\"},{\"line\":{\"color\":\"blue\",\"width\":2},\"mode\":\"lines+markers\",\"name\":\"La Corunna Min Price\",\"opacity\":0.7,\"x\":[20.0,26.5,30.0,31.0,35.0,40.0,45.0,47.0,55.0,70.0,75.0,195.0,220.0,331.5],\"y\":[1,3,2,4,5,1,1,1,1,1,1,1,1,1],\"type\":\"scatter\",\"xaxis\":\"x11\",\"yaxis\":\"y11\"},{\"line\":{\"color\":\"orange\",\"width\":2},\"mode\":\"lines+markers\",\"name\":\"La Corunna Max Price\",\"opacity\":0.7,\"x\":[20.0,37.0,40.0,65.0,112.0,155.0,205.0,210.0,215.0,355.0,691.5],\"y\":[1,1,1,1,1,1,6,3,7,1,1],\"type\":\"scatter\",\"xaxis\":\"x12\",\"yaxis\":\"y12\"},{\"line\":{\"color\":\"blue\",\"width\":2},\"mode\":\"lines+markers\",\"name\":\"Saragossa Min Price\",\"opacity\":0.7,\"x\":[23.0],\"y\":[1],\"type\":\"scatter\",\"xaxis\":\"x13\",\"yaxis\":\"y13\"},{\"line\":{\"color\":\"orange\",\"width\":2},\"mode\":\"lines+markers\",\"name\":\"Saragossa Max Price\",\"opacity\":0.7,\"x\":[23.0],\"y\":[1],\"type\":\"scatter\",\"xaxis\":\"x14\",\"yaxis\":\"y14\"},{\"line\":{\"color\":\"blue\",\"width\":2},\"mode\":\"lines+markers\",\"name\":\"Seville Min Price\",\"opacity\":0.7,\"x\":[23.0,37.0,52.0],\"y\":[1,1,1],\"type\":\"scatter\",\"xaxis\":\"x15\",\"yaxis\":\"y15\"},{\"line\":{\"color\":\"orange\",\"width\":2},\"mode\":\"lines+markers\",\"name\":\"Seville Max Price\",\"opacity\":0.7,\"x\":[23.0,42.0,77.0],\"y\":[1,1,1],\"type\":\"scatter\",\"xaxis\":\"x16\",\"yaxis\":\"y16\"},{\"line\":{\"color\":\"blue\",\"width\":2},\"mode\":\"lines+markers\",\"name\":\"Biscay Min Price\",\"opacity\":0.7,\"x\":[23.0,32.0,36.0,100.0],\"y\":[1,1,1,1],\"type\":\"scatter\",\"xaxis\":\"x17\",\"yaxis\":\"y17\"},{\"line\":{\"color\":\"orange\",\"width\":2},\"mode\":\"lines+markers\",\"name\":\"Biscay Max Price\",\"opacity\":0.7,\"x\":[23.0,80.0,106.0,126.0],\"y\":[1,1,1,1],\"type\":\"scatter\",\"xaxis\":\"x18\",\"yaxis\":\"y18\"},{\"line\":{\"color\":\"blue\",\"width\":2},\"mode\":\"lines+markers\",\"name\":\"Navarre Min Price\",\"opacity\":0.7,\"x\":[26.5,30.0,31.0,35.0,65.0,210.0],\"y\":[3,1,1,3,1,1],\"type\":\"scatter\",\"xaxis\":\"x19\",\"yaxis\":\"y19\"},{\"line\":{\"color\":\"orange\",\"width\":2},\"mode\":\"lines+markers\",\"name\":\"Navarre Max Price\",\"opacity\":0.7,\"x\":[190.0,205.0,220.0,345.0],\"y\":[1,4,4,1],\"type\":\"scatter\",\"xaxis\":\"x20\",\"yaxis\":\"y20\"},{\"line\":{\"color\":\"blue\",\"width\":2},\"mode\":\"lines+markers\",\"name\":\"Granada Min Price\",\"opacity\":0.7,\"x\":[35.0,40.0],\"y\":[1,1],\"type\":\"scatter\",\"xaxis\":\"x21\",\"yaxis\":\"y21\"},{\"line\":{\"color\":\"orange\",\"width\":2},\"mode\":\"lines+markers\",\"name\":\"Granada Max Price\",\"opacity\":0.7,\"x\":[40.0,42.0],\"y\":[1,1],\"type\":\"scatter\",\"xaxis\":\"x22\",\"yaxis\":\"y22\"}],                        {\"template\":{\"data\":{\"histogram2dcontour\":[{\"type\":\"histogram2dcontour\",\"colorbar\":{\"outlinewidth\":0,\"ticks\":\"\"},\"colorscale\":[[0.0,\"#0d0887\"],[0.1111111111111111,\"#46039f\"],[0.2222222222222222,\"#7201a8\"],[0.3333333333333333,\"#9c179e\"],[0.4444444444444444,\"#bd3786\"],[0.5555555555555556,\"#d8576b\"],[0.6666666666666666,\"#ed7953\"],[0.7777777777777778,\"#fb9f3a\"],[0.8888888888888888,\"#fdca26\"],[1.0,\"#f0f921\"]]}],\"choropleth\":[{\"type\":\"choropleth\",\"colorbar\":{\"outlinewidth\":0,\"ticks\":\"\"}}],\"histogram2d\":[{\"type\":\"histogram2d\",\"colorbar\":{\"outlinewidth\":0,\"ticks\":\"\"},\"colorscale\":[[0.0,\"#0d0887\"],[0.1111111111111111,\"#46039f\"],[0.2222222222222222,\"#7201a8\"],[0.3333333333333333,\"#9c179e\"],[0.4444444444444444,\"#bd3786\"],[0.5555555555555556,\"#d8576b\"],[0.6666666666666666,\"#ed7953\"],[0.7777777777777778,\"#fb9f3a\"],[0.8888888888888888,\"#fdca26\"],[1.0,\"#f0f921\"]]}],\"heatmap\":[{\"type\":\"heatmap\",\"colorbar\":{\"outlinewidth\":0,\"ticks\":\"\"},\"colorscale\":[[0.0,\"#0d0887\"],[0.1111111111111111,\"#46039f\"],[0.2222222222222222,\"#7201a8\"],[0.3333333333333333,\"#9c179e\"],[0.4444444444444444,\"#bd3786\"],[0.5555555555555556,\"#d8576b\"],[0.6666666666666666,\"#ed7953\"],[0.7777777777777778,\"#fb9f3a\"],[0.8888888888888888,\"#fdca26\"],[1.0,\"#f0f921\"]]}],\"heatmapgl\":[{\"type\":\"heatmapgl\",\"colorbar\":{\"outlinewidth\":0,\"ticks\":\"\"},\"colorscale\":[[0.0,\"#0d0887\"],[0.1111111111111111,\"#46039f\"],[0.2222222222222222,\"#7201a8\"],[0.3333333333333333,\"#9c179e\"],[0.4444444444444444,\"#bd3786\"],[0.5555555555555556,\"#d8576b\"],[0.6666666666666666,\"#ed7953\"],[0.7777777777777778,\"#fb9f3a\"],[0.8888888888888888,\"#fdca26\"],[1.0,\"#f0f921\"]]}],\"contourcarpet\":[{\"type\":\"contourcarpet\",\"colorbar\":{\"outlinewidth\":0,\"ticks\":\"\"}}],\"contour\":[{\"type\":\"contour\",\"colorbar\":{\"outlinewidth\":0,\"ticks\":\"\"},\"colorscale\":[[0.0,\"#0d0887\"],[0.1111111111111111,\"#46039f\"],[0.2222222222222222,\"#7201a8\"],[0.3333333333333333,\"#9c179e\"],[0.4444444444444444,\"#bd3786\"],[0.5555555555555556,\"#d8576b\"],[0.6666666666666666,\"#ed7953\"],[0.7777777777777778,\"#fb9f3a\"],[0.8888888888888888,\"#fdca26\"],[1.0,\"#f0f921\"]]}],\"surface\":[{\"type\":\"surface\",\"colorbar\":{\"outlinewidth\":0,\"ticks\":\"\"},\"colorscale\":[[0.0,\"#0d0887\"],[0.1111111111111111,\"#46039f\"],[0.2222222222222222,\"#7201a8\"],[0.3333333333333333,\"#9c179e\"],[0.4444444444444444,\"#bd3786\"],[0.5555555555555556,\"#d8576b\"],[0.6666666666666666,\"#ed7953\"],[0.7777777777777778,\"#fb9f3a\"],[0.8888888888888888,\"#fdca26\"],[1.0,\"#f0f921\"]]}],\"mesh3d\":[{\"type\":\"mesh3d\",\"colorbar\":{\"outlinewidth\":0,\"ticks\":\"\"}}],\"scatter\":[{\"fillpattern\":{\"fillmode\":\"overlay\",\"size\":10,\"solidity\":0.2},\"type\":\"scatter\"}],\"parcoords\":[{\"type\":\"parcoords\",\"line\":{\"colorbar\":{\"outlinewidth\":0,\"ticks\":\"\"}}}],\"scatterpolargl\":[{\"type\":\"scatterpolargl\",\"marker\":{\"colorbar\":{\"outlinewidth\":0,\"ticks\":\"\"}}}],\"bar\":[{\"error_x\":{\"color\":\"#2a3f5f\"},\"error_y\":{\"color\":\"#2a3f5f\"},\"marker\":{\"line\":{\"color\":\"#E5ECF6\",\"width\":0.5},\"pattern\":{\"fillmode\":\"overlay\",\"size\":10,\"solidity\":0.2}},\"type\":\"bar\"}],\"scattergeo\":[{\"type\":\"scattergeo\",\"marker\":{\"colorbar\":{\"outlinewidth\":0,\"ticks\":\"\"}}}],\"scatterpolar\":[{\"type\":\"scatterpolar\",\"marker\":{\"colorbar\":{\"outlinewidth\":0,\"ticks\":\"\"}}}],\"histogram\":[{\"marker\":{\"pattern\":{\"fillmode\":\"overlay\",\"size\":10,\"solidity\":0.2}},\"type\":\"histogram\"}],\"scattergl\":[{\"type\":\"scattergl\",\"marker\":{\"colorbar\":{\"outlinewidth\":0,\"ticks\":\"\"}}}],\"scatter3d\":[{\"type\":\"scatter3d\",\"line\":{\"colorbar\":{\"outlinewidth\":0,\"ticks\":\"\"}},\"marker\":{\"colorbar\":{\"outlinewidth\":0,\"ticks\":\"\"}}}],\"scattermapbox\":[{\"type\":\"scattermapbox\",\"marker\":{\"colorbar\":{\"outlinewidth\":0,\"ticks\":\"\"}}}],\"scatterternary\":[{\"type\":\"scatterternary\",\"marker\":{\"colorbar\":{\"outlinewidth\":0,\"ticks\":\"\"}}}],\"scattercarpet\":[{\"type\":\"scattercarpet\",\"marker\":{\"colorbar\":{\"outlinewidth\":0,\"ticks\":\"\"}}}],\"carpet\":[{\"aaxis\":{\"endlinecolor\":\"#2a3f5f\",\"gridcolor\":\"white\",\"linecolor\":\"white\",\"minorgridcolor\":\"white\",\"startlinecolor\":\"#2a3f5f\"},\"baxis\":{\"endlinecolor\":\"#2a3f5f\",\"gridcolor\":\"white\",\"linecolor\":\"white\",\"minorgridcolor\":\"white\",\"startlinecolor\":\"#2a3f5f\"},\"type\":\"carpet\"}],\"table\":[{\"cells\":{\"fill\":{\"color\":\"#EBF0F8\"},\"line\":{\"color\":\"white\"}},\"header\":{\"fill\":{\"color\":\"#C8D4E3\"},\"line\":{\"color\":\"white\"}},\"type\":\"table\"}],\"barpolar\":[{\"marker\":{\"line\":{\"color\":\"#E5ECF6\",\"width\":0.5},\"pattern\":{\"fillmode\":\"overlay\",\"size\":10,\"solidity\":0.2}},\"type\":\"barpolar\"}],\"pie\":[{\"automargin\":true,\"type\":\"pie\"}]},\"layout\":{\"autotypenumbers\":\"strict\",\"colorway\":[\"#636efa\",\"#EF553B\",\"#00cc96\",\"#ab63fa\",\"#FFA15A\",\"#19d3f3\",\"#FF6692\",\"#B6E880\",\"#FF97FF\",\"#FECB52\"],\"font\":{\"color\":\"#2a3f5f\"},\"hovermode\":\"closest\",\"hoverlabel\":{\"align\":\"left\"},\"paper_bgcolor\":\"white\",\"plot_bgcolor\":\"#E5ECF6\",\"polar\":{\"bgcolor\":\"#E5ECF6\",\"angularaxis\":{\"gridcolor\":\"white\",\"linecolor\":\"white\",\"ticks\":\"\"},\"radialaxis\":{\"gridcolor\":\"white\",\"linecolor\":\"white\",\"ticks\":\"\"}},\"ternary\":{\"bgcolor\":\"#E5ECF6\",\"aaxis\":{\"gridcolor\":\"white\",\"linecolor\":\"white\",\"ticks\":\"\"},\"baxis\":{\"gridcolor\":\"white\",\"linecolor\":\"white\",\"ticks\":\"\"},\"caxis\":{\"gridcolor\":\"white\",\"linecolor\":\"white\",\"ticks\":\"\"}},\"coloraxis\":{\"colorbar\":{\"outlinewidth\":0,\"ticks\":\"\"}},\"colorscale\":{\"sequential\":[[0.0,\"#0d0887\"],[0.1111111111111111,\"#46039f\"],[0.2222222222222222,\"#7201a8\"],[0.3333333333333333,\"#9c179e\"],[0.4444444444444444,\"#bd3786\"],[0.5555555555555556,\"#d8576b\"],[0.6666666666666666,\"#ed7953\"],[0.7777777777777778,\"#fb9f3a\"],[0.8888888888888888,\"#fdca26\"],[1.0,\"#f0f921\"]],\"sequentialminus\":[[0.0,\"#0d0887\"],[0.1111111111111111,\"#46039f\"],[0.2222222222222222,\"#7201a8\"],[0.3333333333333333,\"#9c179e\"],[0.4444444444444444,\"#bd3786\"],[0.5555555555555556,\"#d8576b\"],[0.6666666666666666,\"#ed7953\"],[0.7777777777777778,\"#fb9f3a\"],[0.8888888888888888,\"#fdca26\"],[1.0,\"#f0f921\"]],\"diverging\":[[0,\"#8e0152\"],[0.1,\"#c51b7d\"],[0.2,\"#de77ae\"],[0.3,\"#f1b6da\"],[0.4,\"#fde0ef\"],[0.5,\"#f7f7f7\"],[0.6,\"#e6f5d0\"],[0.7,\"#b8e186\"],[0.8,\"#7fbc41\"],[0.9,\"#4d9221\"],[1,\"#276419\"]]},\"xaxis\":{\"gridcolor\":\"white\",\"linecolor\":\"white\",\"ticks\":\"\",\"title\":{\"standoff\":15},\"zerolinecolor\":\"white\",\"automargin\":true,\"zerolinewidth\":2},\"yaxis\":{\"gridcolor\":\"white\",\"linecolor\":\"white\",\"ticks\":\"\",\"title\":{\"standoff\":15},\"zerolinecolor\":\"white\",\"automargin\":true,\"zerolinewidth\":2},\"scene\":{\"xaxis\":{\"backgroundcolor\":\"#E5ECF6\",\"gridcolor\":\"white\",\"linecolor\":\"white\",\"showbackground\":true,\"ticks\":\"\",\"zerolinecolor\":\"white\",\"gridwidth\":2},\"yaxis\":{\"backgroundcolor\":\"#E5ECF6\",\"gridcolor\":\"white\",\"linecolor\":\"white\",\"showbackground\":true,\"ticks\":\"\",\"zerolinecolor\":\"white\",\"gridwidth\":2},\"zaxis\":{\"backgroundcolor\":\"#E5ECF6\",\"gridcolor\":\"white\",\"linecolor\":\"white\",\"showbackground\":true,\"ticks\":\"\",\"zerolinecolor\":\"white\",\"gridwidth\":2}},\"shapedefaults\":{\"line\":{\"color\":\"#2a3f5f\"}},\"annotationdefaults\":{\"arrowcolor\":\"#2a3f5f\",\"arrowhead\":0,\"arrowwidth\":1},\"geo\":{\"bgcolor\":\"white\",\"landcolor\":\"#E5ECF6\",\"subunitcolor\":\"white\",\"showland\":true,\"showlakes\":true,\"lakecolor\":\"white\"},\"title\":{\"x\":0.05},\"mapbox\":{\"style\":\"light\"}}},\"xaxis\":{\"anchor\":\"y\",\"domain\":[0.0,0.45],\"title\":{\"text\":\"Price\"}},\"yaxis\":{\"anchor\":\"x\",\"domain\":[0.9545454545454546,1.0],\"title\":{\"text\":\"Count\"}},\"xaxis2\":{\"anchor\":\"y2\",\"domain\":[0.55,1.0],\"title\":{\"text\":\"Price\"}},\"yaxis2\":{\"anchor\":\"x2\",\"domain\":[0.9545454545454546,1.0],\"title\":{\"text\":\"Count\"}},\"xaxis3\":{\"anchor\":\"y3\",\"domain\":[0.0,0.45],\"title\":{\"text\":\"Price\"}},\"yaxis3\":{\"anchor\":\"x3\",\"domain\":[0.8590909090909091,0.9045454545454545],\"title\":{\"text\":\"Count\"}},\"xaxis4\":{\"anchor\":\"y4\",\"domain\":[0.55,1.0],\"title\":{\"text\":\"Price\"}},\"yaxis4\":{\"anchor\":\"x4\",\"domain\":[0.8590909090909091,0.9045454545454545],\"title\":{\"text\":\"Count\"}},\"xaxis5\":{\"anchor\":\"y5\",\"domain\":[0.0,0.45],\"title\":{\"text\":\"Price\"}},\"yaxis5\":{\"anchor\":\"x5\",\"domain\":[0.7636363636363637,0.8090909090909091],\"title\":{\"text\":\"Count\"}},\"xaxis6\":{\"anchor\":\"y6\",\"domain\":[0.55,1.0],\"title\":{\"text\":\"Price\"}},\"yaxis6\":{\"anchor\":\"x6\",\"domain\":[0.7636363636363637,0.8090909090909091],\"title\":{\"text\":\"Count\"}},\"xaxis7\":{\"anchor\":\"y7\",\"domain\":[0.0,0.45],\"title\":{\"text\":\"Price\"}},\"yaxis7\":{\"anchor\":\"x7\",\"domain\":[0.6681818181818182,0.7136363636363636],\"title\":{\"text\":\"Count\"}},\"xaxis8\":{\"anchor\":\"y8\",\"domain\":[0.55,1.0],\"title\":{\"text\":\"Price\"}},\"yaxis8\":{\"anchor\":\"x8\",\"domain\":[0.6681818181818182,0.7136363636363636],\"title\":{\"text\":\"Count\"}},\"xaxis9\":{\"anchor\":\"y9\",\"domain\":[0.0,0.45],\"title\":{\"text\":\"Price\"}},\"yaxis9\":{\"anchor\":\"x9\",\"domain\":[0.5727272727272728,0.6181818181818182],\"title\":{\"text\":\"Count\"}},\"xaxis10\":{\"anchor\":\"y10\",\"domain\":[0.55,1.0],\"title\":{\"text\":\"Price\"}},\"yaxis10\":{\"anchor\":\"x10\",\"domain\":[0.5727272727272728,0.6181818181818182],\"title\":{\"text\":\"Count\"}},\"xaxis11\":{\"anchor\":\"y11\",\"domain\":[0.0,0.45],\"title\":{\"text\":\"Price\"}},\"yaxis11\":{\"anchor\":\"x11\",\"domain\":[0.4772727272727273,0.5227272727272727],\"title\":{\"text\":\"Count\"}},\"xaxis12\":{\"anchor\":\"y12\",\"domain\":[0.55,1.0],\"title\":{\"text\":\"Price\"}},\"yaxis12\":{\"anchor\":\"x12\",\"domain\":[0.4772727272727273,0.5227272727272727],\"title\":{\"text\":\"Count\"}},\"xaxis13\":{\"anchor\":\"y13\",\"domain\":[0.0,0.45],\"title\":{\"text\":\"Price\"}},\"yaxis13\":{\"anchor\":\"x13\",\"domain\":[0.38181818181818183,0.4272727272727273],\"title\":{\"text\":\"Count\"}},\"xaxis14\":{\"anchor\":\"y14\",\"domain\":[0.55,1.0],\"title\":{\"text\":\"Price\"}},\"yaxis14\":{\"anchor\":\"x14\",\"domain\":[0.38181818181818183,0.4272727272727273],\"title\":{\"text\":\"Count\"}},\"xaxis15\":{\"anchor\":\"y15\",\"domain\":[0.0,0.45],\"title\":{\"text\":\"Price\"}},\"yaxis15\":{\"anchor\":\"x15\",\"domain\":[0.2863636363636364,0.33181818181818185],\"title\":{\"text\":\"Count\"}},\"xaxis16\":{\"anchor\":\"y16\",\"domain\":[0.55,1.0],\"title\":{\"text\":\"Price\"}},\"yaxis16\":{\"anchor\":\"x16\",\"domain\":[0.2863636363636364,0.33181818181818185],\"title\":{\"text\":\"Count\"}},\"xaxis17\":{\"anchor\":\"y17\",\"domain\":[0.0,0.45],\"title\":{\"text\":\"Price\"}},\"yaxis17\":{\"anchor\":\"x17\",\"domain\":[0.19090909090909092,0.2363636363636364],\"title\":{\"text\":\"Count\"}},\"xaxis18\":{\"anchor\":\"y18\",\"domain\":[0.55,1.0],\"title\":{\"text\":\"Price\"}},\"yaxis18\":{\"anchor\":\"x18\",\"domain\":[0.19090909090909092,0.2363636363636364],\"title\":{\"text\":\"Count\"}},\"xaxis19\":{\"anchor\":\"y19\",\"domain\":[0.0,0.45],\"title\":{\"text\":\"Price\"}},\"yaxis19\":{\"anchor\":\"x19\",\"domain\":[0.09545454545454546,0.14090909090909093],\"title\":{\"text\":\"Count\"}},\"xaxis20\":{\"anchor\":\"y20\",\"domain\":[0.55,1.0],\"title\":{\"text\":\"Price\"}},\"yaxis20\":{\"anchor\":\"x20\",\"domain\":[0.09545454545454546,0.14090909090909093],\"title\":{\"text\":\"Count\"}},\"xaxis21\":{\"anchor\":\"y21\",\"domain\":[0.0,0.45],\"title\":{\"text\":\"Price\"}},\"yaxis21\":{\"anchor\":\"x21\",\"domain\":[0.0,0.045454545454545456],\"title\":{\"text\":\"Count\"}},\"xaxis22\":{\"anchor\":\"y22\",\"domain\":[0.55,1.0],\"title\":{\"text\":\"Price\"}},\"yaxis22\":{\"anchor\":\"x22\",\"domain\":[0.0,0.045454545454545456],\"title\":{\"text\":\"Count\"}},\"annotations\":[{\"font\":{\"size\":16},\"showarrow\":false,\"text\":\"Madrid Min Price Distribution\",\"x\":0.225,\"xanchor\":\"center\",\"xref\":\"paper\",\"y\":1.0,\"yanchor\":\"bottom\",\"yref\":\"paper\"},{\"font\":{\"size\":16},\"showarrow\":false,\"text\":\"Madrid Max Price Distribution\",\"x\":0.775,\"xanchor\":\"center\",\"xref\":\"paper\",\"y\":1.0,\"yanchor\":\"bottom\",\"yref\":\"paper\"},{\"font\":{\"size\":16},\"showarrow\":false,\"text\":\"Barcelona Min Price Distribution\",\"x\":0.225,\"xanchor\":\"center\",\"xref\":\"paper\",\"y\":0.9045454545454545,\"yanchor\":\"bottom\",\"yref\":\"paper\"},{\"font\":{\"size\":16},\"showarrow\":false,\"text\":\"Barcelona Max Price Distribution\",\"x\":0.775,\"xanchor\":\"center\",\"xref\":\"paper\",\"y\":0.9045454545454545,\"yanchor\":\"bottom\",\"yref\":\"paper\"},{\"font\":{\"size\":16},\"showarrow\":false,\"text\":\"Santa Cruz de Tenerife Min Price Distribution\",\"x\":0.225,\"xanchor\":\"center\",\"xref\":\"paper\",\"y\":0.8090909090909091,\"yanchor\":\"bottom\",\"yref\":\"paper\"},{\"font\":{\"size\":16},\"showarrow\":false,\"text\":\"Santa Cruz de Tenerife Max Price Distribution\",\"x\":0.775,\"xanchor\":\"center\",\"xref\":\"paper\",\"y\":0.8090909090909091,\"yanchor\":\"bottom\",\"yref\":\"paper\"},{\"font\":{\"size\":16},\"showarrow\":false,\"text\":\"Valencia Min Price Distribution\",\"x\":0.225,\"xanchor\":\"center\",\"xref\":\"paper\",\"y\":0.7136363636363636,\"yanchor\":\"bottom\",\"yref\":\"paper\"},{\"font\":{\"size\":16},\"showarrow\":false,\"text\":\"Valencia Max Price Distribution\",\"x\":0.775,\"xanchor\":\"center\",\"xref\":\"paper\",\"y\":0.7136363636363636,\"yanchor\":\"bottom\",\"yref\":\"paper\"},{\"font\":{\"size\":16},\"showarrow\":false,\"text\":\"M\\u00e1laga Min Price Distribution\",\"x\":0.225,\"xanchor\":\"center\",\"xref\":\"paper\",\"y\":0.6181818181818182,\"yanchor\":\"bottom\",\"yref\":\"paper\"},{\"font\":{\"size\":16},\"showarrow\":false,\"text\":\"M\\u00e1laga Max Price Distribution\",\"x\":0.775,\"xanchor\":\"center\",\"xref\":\"paper\",\"y\":0.6181818181818182,\"yanchor\":\"bottom\",\"yref\":\"paper\"},{\"font\":{\"size\":16},\"showarrow\":false,\"text\":\"La Corunna Min Price Distribution\",\"x\":0.225,\"xanchor\":\"center\",\"xref\":\"paper\",\"y\":0.5227272727272727,\"yanchor\":\"bottom\",\"yref\":\"paper\"},{\"font\":{\"size\":16},\"showarrow\":false,\"text\":\"La Corunna Max Price Distribution\",\"x\":0.775,\"xanchor\":\"center\",\"xref\":\"paper\",\"y\":0.5227272727272727,\"yanchor\":\"bottom\",\"yref\":\"paper\"},{\"font\":{\"size\":16},\"showarrow\":false,\"text\":\"Saragossa Min Price Distribution\",\"x\":0.225,\"xanchor\":\"center\",\"xref\":\"paper\",\"y\":0.4272727272727273,\"yanchor\":\"bottom\",\"yref\":\"paper\"},{\"font\":{\"size\":16},\"showarrow\":false,\"text\":\"Saragossa Max Price Distribution\",\"x\":0.775,\"xanchor\":\"center\",\"xref\":\"paper\",\"y\":0.4272727272727273,\"yanchor\":\"bottom\",\"yref\":\"paper\"},{\"font\":{\"size\":16},\"showarrow\":false,\"text\":\"Seville Min Price Distribution\",\"x\":0.225,\"xanchor\":\"center\",\"xref\":\"paper\",\"y\":0.33181818181818185,\"yanchor\":\"bottom\",\"yref\":\"paper\"},{\"font\":{\"size\":16},\"showarrow\":false,\"text\":\"Seville Max Price Distribution\",\"x\":0.775,\"xanchor\":\"center\",\"xref\":\"paper\",\"y\":0.33181818181818185,\"yanchor\":\"bottom\",\"yref\":\"paper\"},{\"font\":{\"size\":16},\"showarrow\":false,\"text\":\"Biscay Min Price Distribution\",\"x\":0.225,\"xanchor\":\"center\",\"xref\":\"paper\",\"y\":0.2363636363636364,\"yanchor\":\"bottom\",\"yref\":\"paper\"},{\"font\":{\"size\":16},\"showarrow\":false,\"text\":\"Biscay Max Price Distribution\",\"x\":0.775,\"xanchor\":\"center\",\"xref\":\"paper\",\"y\":0.2363636363636364,\"yanchor\":\"bottom\",\"yref\":\"paper\"},{\"font\":{\"size\":16},\"showarrow\":false,\"text\":\"Navarre Min Price Distribution\",\"x\":0.225,\"xanchor\":\"center\",\"xref\":\"paper\",\"y\":0.14090909090909093,\"yanchor\":\"bottom\",\"yref\":\"paper\"},{\"font\":{\"size\":16},\"showarrow\":false,\"text\":\"Navarre Max Price Distribution\",\"x\":0.775,\"xanchor\":\"center\",\"xref\":\"paper\",\"y\":0.14090909090909093,\"yanchor\":\"bottom\",\"yref\":\"paper\"},{\"font\":{\"size\":16},\"showarrow\":false,\"text\":\"Granada Min Price Distribution\",\"x\":0.225,\"xanchor\":\"center\",\"xref\":\"paper\",\"y\":0.045454545454545456,\"yanchor\":\"bottom\",\"yref\":\"paper\"},{\"font\":{\"size\":16},\"showarrow\":false,\"text\":\"Granada Max Price Distribution\",\"x\":0.775,\"xanchor\":\"center\",\"xref\":\"paper\",\"y\":0.045454545454545456,\"yanchor\":\"bottom\",\"yref\":\"paper\"}],\"title\":{\"text\":\"Min and Max Price Distributions by City (Lines)\"},\"height\":3300,\"width\":1200,\"showlegend\":false},                        {\"responsive\": true}                    ).then(function(){\n",
       "                            \n",
       "var gd = document.getElementById('33b0c155-92e6-46aa-b70a-4dc0cbc897cd');\n",
       "var x = new MutationObserver(function (mutations, observer) {{\n",
       "        var display = window.getComputedStyle(gd).display;\n",
       "        if (!display || display === 'none') {{\n",
       "            console.log([gd, 'removed!']);\n",
       "            Plotly.purge(gd);\n",
       "            observer.disconnect();\n",
       "        }}\n",
       "}});\n",
       "\n",
       "// Listen for the removal of the full notebook cells\n",
       "var notebookContainer = gd.closest('#notebook-container');\n",
       "if (notebookContainer) {{\n",
       "    x.observe(notebookContainer, {childList: true});\n",
       "}}\n",
       "\n",
       "// Listen for the clearing of the current output cell\n",
       "var outputEl = gd.closest('.output');\n",
       "if (outputEl) {{\n",
       "    x.observe(outputEl, {childList: true});\n",
       "}}\n",
       "\n",
       "                        })                };                });            </script>        </div>"
      ]
     },
     "metadata": {},
     "output_type": "display_data"
    }
   ],
   "execution_count": 105
  },
  {
   "metadata": {
    "ExecuteTime": {
     "end_time": "2024-12-01T20:35:38.470729Z",
     "start_time": "2024-12-01T20:35:38.321170Z"
    }
   },
   "cell_type": "code",
   "source": [
    "subplot_titles = [f\"{city} Average Price Distribution\" for city in cities]\n",
    "\n",
    "fig = make_subplots(\n",
    "    rows=len(cities),\n",
    "    cols=1,\n",
    "    subplot_titles=subplot_titles,\n",
    "    vertical_spacing=0.05\n",
    ")\n",
    "\n",
    "for i, city in enumerate(cities, start=1):\n",
    "    city_data = event_prices_venues_df[event_prices_venues_df['state'] == city]\n",
    "    \n",
    "    city_data['average_price'] = city_data[['min_price', 'max_price']].mean(axis=1)\n",
    "    \n",
    "    avg_price_counts = city_data['average_price'].value_counts().sort_index()\n",
    "    avg_price_x = avg_price_counts.index\n",
    "    avg_price_y = avg_price_counts.values\n",
    "    \n",
    "    fig.add_trace(\n",
    "        go.Scatter(\n",
    "            x=avg_price_x,\n",
    "            y=avg_price_y,\n",
    "            mode='lines+markers',\n",
    "            name=f'{city} Average Price',\n",
    "            line=dict(color='green', width=2),\n",
    "            opacity=0.7\n",
    "        ),\n",
    "        row=i,\n",
    "        col=1\n",
    "    )\n",
    "\n",
    "\n",
    "fig.update_layout(\n",
    "    height=300 * len(cities),  \n",
    "    width=800,\n",
    "    title_text=\"Average Price Distributions by City (Lines)\",\n",
    "    showlegend=False\n",
    ")\n",
    "\n",
    "for i in range(1, len(cities) + 1):\n",
    "    fig.update_xaxes(title_text=\"Average Price\", row=i, col=1)\n",
    "    fig.update_yaxes(title_text=\"Count\", row=i, col=1)\n",
    "\n",
    "fig.show()\n"
   ],
   "id": "f58e3e106e6f7956",
   "outputs": [
    {
     "name": "stderr",
     "output_type": "stream",
     "text": [
      "/var/folders/cg/jyq82rhn3xd2pzr3wjw1vl400000gn/T/ipykernel_65036/668947881.py:23: SettingWithCopyWarning:\n",
      "\n",
      "\n",
      "A value is trying to be set on a copy of a slice from a DataFrame.\n",
      "Try using .loc[row_indexer,col_indexer] = value instead\n",
      "\n",
      "See the caveats in the documentation: https://pandas.pydata.org/pandas-docs/stable/user_guide/indexing.html#returning-a-view-versus-a-copy\n",
      "\n",
      "/var/folders/cg/jyq82rhn3xd2pzr3wjw1vl400000gn/T/ipykernel_65036/668947881.py:23: SettingWithCopyWarning:\n",
      "\n",
      "\n",
      "A value is trying to be set on a copy of a slice from a DataFrame.\n",
      "Try using .loc[row_indexer,col_indexer] = value instead\n",
      "\n",
      "See the caveats in the documentation: https://pandas.pydata.org/pandas-docs/stable/user_guide/indexing.html#returning-a-view-versus-a-copy\n",
      "\n",
      "/var/folders/cg/jyq82rhn3xd2pzr3wjw1vl400000gn/T/ipykernel_65036/668947881.py:23: SettingWithCopyWarning:\n",
      "\n",
      "\n",
      "A value is trying to be set on a copy of a slice from a DataFrame.\n",
      "Try using .loc[row_indexer,col_indexer] = value instead\n",
      "\n",
      "See the caveats in the documentation: https://pandas.pydata.org/pandas-docs/stable/user_guide/indexing.html#returning-a-view-versus-a-copy\n",
      "\n",
      "/var/folders/cg/jyq82rhn3xd2pzr3wjw1vl400000gn/T/ipykernel_65036/668947881.py:23: SettingWithCopyWarning:\n",
      "\n",
      "\n",
      "A value is trying to be set on a copy of a slice from a DataFrame.\n",
      "Try using .loc[row_indexer,col_indexer] = value instead\n",
      "\n",
      "See the caveats in the documentation: https://pandas.pydata.org/pandas-docs/stable/user_guide/indexing.html#returning-a-view-versus-a-copy\n",
      "\n",
      "/var/folders/cg/jyq82rhn3xd2pzr3wjw1vl400000gn/T/ipykernel_65036/668947881.py:23: SettingWithCopyWarning:\n",
      "\n",
      "\n",
      "A value is trying to be set on a copy of a slice from a DataFrame.\n",
      "Try using .loc[row_indexer,col_indexer] = value instead\n",
      "\n",
      "See the caveats in the documentation: https://pandas.pydata.org/pandas-docs/stable/user_guide/indexing.html#returning-a-view-versus-a-copy\n",
      "\n",
      "/var/folders/cg/jyq82rhn3xd2pzr3wjw1vl400000gn/T/ipykernel_65036/668947881.py:23: SettingWithCopyWarning:\n",
      "\n",
      "\n",
      "A value is trying to be set on a copy of a slice from a DataFrame.\n",
      "Try using .loc[row_indexer,col_indexer] = value instead\n",
      "\n",
      "See the caveats in the documentation: https://pandas.pydata.org/pandas-docs/stable/user_guide/indexing.html#returning-a-view-versus-a-copy\n",
      "\n",
      "/var/folders/cg/jyq82rhn3xd2pzr3wjw1vl400000gn/T/ipykernel_65036/668947881.py:23: SettingWithCopyWarning:\n",
      "\n",
      "\n",
      "A value is trying to be set on a copy of a slice from a DataFrame.\n",
      "Try using .loc[row_indexer,col_indexer] = value instead\n",
      "\n",
      "See the caveats in the documentation: https://pandas.pydata.org/pandas-docs/stable/user_guide/indexing.html#returning-a-view-versus-a-copy\n",
      "\n",
      "/var/folders/cg/jyq82rhn3xd2pzr3wjw1vl400000gn/T/ipykernel_65036/668947881.py:23: SettingWithCopyWarning:\n",
      "\n",
      "\n",
      "A value is trying to be set on a copy of a slice from a DataFrame.\n",
      "Try using .loc[row_indexer,col_indexer] = value instead\n",
      "\n",
      "See the caveats in the documentation: https://pandas.pydata.org/pandas-docs/stable/user_guide/indexing.html#returning-a-view-versus-a-copy\n",
      "\n",
      "/var/folders/cg/jyq82rhn3xd2pzr3wjw1vl400000gn/T/ipykernel_65036/668947881.py:23: SettingWithCopyWarning:\n",
      "\n",
      "\n",
      "A value is trying to be set on a copy of a slice from a DataFrame.\n",
      "Try using .loc[row_indexer,col_indexer] = value instead\n",
      "\n",
      "See the caveats in the documentation: https://pandas.pydata.org/pandas-docs/stable/user_guide/indexing.html#returning-a-view-versus-a-copy\n",
      "\n",
      "/var/folders/cg/jyq82rhn3xd2pzr3wjw1vl400000gn/T/ipykernel_65036/668947881.py:23: SettingWithCopyWarning:\n",
      "\n",
      "\n",
      "A value is trying to be set on a copy of a slice from a DataFrame.\n",
      "Try using .loc[row_indexer,col_indexer] = value instead\n",
      "\n",
      "See the caveats in the documentation: https://pandas.pydata.org/pandas-docs/stable/user_guide/indexing.html#returning-a-view-versus-a-copy\n",
      "\n",
      "/var/folders/cg/jyq82rhn3xd2pzr3wjw1vl400000gn/T/ipykernel_65036/668947881.py:23: SettingWithCopyWarning:\n",
      "\n",
      "\n",
      "A value is trying to be set on a copy of a slice from a DataFrame.\n",
      "Try using .loc[row_indexer,col_indexer] = value instead\n",
      "\n",
      "See the caveats in the documentation: https://pandas.pydata.org/pandas-docs/stable/user_guide/indexing.html#returning-a-view-versus-a-copy\n",
      "\n"
     ]
    },
    {
     "data": {
      "application/vnd.plotly.v1+json": {
       "data": [
        {
         "line": {
          "color": "green",
          "width": 2
         },
         "mode": "lines+markers",
         "name": "Madrid Average Price",
         "opacity": 0.7,
         "x": [
          22.0,
          23.0,
          25.0,
          25.5,
          26.0,
          27.0,
          28.0,
          30.0,
          32.0,
          35.0,
          40.0,
          45.0,
          47.5,
          52.5,
          55.0,
          57.5,
          65.0,
          68.0,
          70.0,
          71.0,
          74.5,
          87.0,
          87.5,
          106.0,
          117.5,
          118.0,
          121.0,
          122.5,
          125.0,
          127.5,
          132.5,
          152.5,
          160.0,
          162.5,
          167.5,
          182.5,
          208.125,
          212.04999999999998,
          230.0,
          257.5,
          272.5,
          287.5,
          300.0,
          310.0,
          556.5,
          3527.25
         ],
         "y": [
          2,
          3,
          3,
          1,
          2,
          2,
          2,
          3,
          1,
          1,
          2,
          1,
          3,
          1,
          1,
          1,
          1,
          1,
          2,
          1,
          2,
          1,
          1,
          1,
          1,
          1,
          2,
          2,
          1,
          1,
          1,
          1,
          1,
          3,
          1,
          1,
          1,
          1,
          1,
          1,
          2,
          1,
          1,
          1,
          1,
          1
         ],
         "type": "scatter",
         "xaxis": "x",
         "yaxis": "y"
        },
        {
         "line": {
          "color": "green",
          "width": 2
         },
         "mode": "lines+markers",
         "name": "Barcelona Average Price",
         "opacity": 0.7,
         "x": [
          0.5,
          23.0,
          25.0,
          26.0,
          27.0,
          28.0,
          28.5,
          30.0,
          33.5,
          35.0,
          38.0,
          40.0,
          44.0,
          45.0,
          50.0,
          52.5,
          55.0,
          59.3,
          60.0,
          62.5,
          68.0,
          72.5,
          77.0,
          82.5,
          85.0,
          87.0,
          106.0,
          112.5,
          114.7,
          121.0,
          123.25,
          125.5,
          132.5,
          135.0,
          137.5,
          165.0,
          182.5,
          185.0,
          189.75,
          210.0,
          3527.25
         ],
         "y": [
          1,
          3,
          4,
          2,
          2,
          1,
          1,
          5,
          1,
          1,
          1,
          1,
          1,
          1,
          2,
          1,
          1,
          1,
          1,
          2,
          1,
          1,
          1,
          1,
          1,
          1,
          1,
          2,
          1,
          1,
          4,
          1,
          4,
          2,
          2,
          1,
          1,
          1,
          2,
          1,
          1
         ],
         "type": "scatter",
         "xaxis": "x2",
         "yaxis": "y2"
        },
        {
         "line": {
          "color": "green",
          "width": 2
         },
         "mode": "lines+markers",
         "name": "Santa Cruz de Tenerife Average Price",
         "opacity": 0.7,
         "x": [
          15.0,
          40.0
         ],
         "y": [
          1,
          1
         ],
         "type": "scatter",
         "xaxis": "x3",
         "yaxis": "y3"
        },
        {
         "line": {
          "color": "green",
          "width": 2
         },
         "mode": "lines+markers",
         "name": "Valencia Average Price",
         "opacity": 0.7,
         "x": [
          22.0,
          48.0
         ],
         "y": [
          2,
          2
         ],
         "type": "scatter",
         "xaxis": "x4",
         "yaxis": "y4"
        },
        {
         "line": {
          "color": "green",
          "width": 2
         },
         "mode": "lines+markers",
         "name": "Málaga Average Price",
         "opacity": 0.7,
         "x": [
          22.0,
          38.0,
          45.0,
          53.0
         ],
         "y": [
          1,
          1,
          1,
          1
         ],
         "type": "scatter",
         "xaxis": "x5",
         "yaxis": "y5"
        },
        {
         "line": {
          "color": "green",
          "width": 2
         },
         "mode": "lines+markers",
         "name": "La Corunna Average Price",
         "opacity": 0.7,
         "x": [
          20.0,
          36.0,
          40.0,
          55.0,
          79.5,
          105.0,
          115.75,
          118.0,
          118.25,
          122.5,
          125.0,
          140.0,
          145.0,
          202.5,
          287.5,
          511.5
         ],
         "y": [
          1,
          1,
          1,
          1,
          1,
          1,
          2,
          4,
          1,
          2,
          4,
          1,
          1,
          1,
          1,
          1
         ],
         "type": "scatter",
         "xaxis": "x6",
         "yaxis": "y6"
        },
        {
         "line": {
          "color": "green",
          "width": 2
         },
         "mode": "lines+markers",
         "name": "Saragossa Average Price",
         "opacity": 0.7,
         "x": [
          23.0
         ],
         "y": [
          1
         ],
         "type": "scatter",
         "xaxis": "x7",
         "yaxis": "y7"
        },
        {
         "line": {
          "color": "green",
          "width": 2
         },
         "mode": "lines+markers",
         "name": "Seville Average Price",
         "opacity": 0.7,
         "x": [
          23.0,
          39.5,
          64.5
         ],
         "y": [
          1,
          1,
          1
         ],
         "type": "scatter",
         "xaxis": "x8",
         "yaxis": "y8"
        },
        {
         "line": {
          "color": "green",
          "width": 2
         },
         "mode": "lines+markers",
         "name": "Biscay Average Price",
         "opacity": 0.7,
         "x": [
          23.0,
          56.0,
          81.0,
          103.0
         ],
         "y": [
          1,
          1,
          1,
          1
         ],
         "type": "scatter",
         "xaxis": "x9",
         "yaxis": "y9"
        },
        {
         "line": {
          "color": "green",
          "width": 2
         },
         "mode": "lines+markers",
         "name": "Navarre Average Price",
         "opacity": 0.7,
         "x": [
          115.75,
          118.0,
          125.0,
          127.5,
          277.5
         ],
         "y": [
          3,
          1,
          1,
          4,
          1
         ],
         "type": "scatter",
         "xaxis": "x10",
         "yaxis": "y10"
        },
        {
         "line": {
          "color": "green",
          "width": 2
         },
         "mode": "lines+markers",
         "name": "Granada Average Price",
         "opacity": 0.7,
         "x": [
          38.5,
          40.0
         ],
         "y": [
          1,
          1
         ],
         "type": "scatter",
         "xaxis": "x11",
         "yaxis": "y11"
        }
       ],
       "layout": {
        "template": {
         "data": {
          "histogram2dcontour": [
           {
            "type": "histogram2dcontour",
            "colorbar": {
             "outlinewidth": 0,
             "ticks": ""
            },
            "colorscale": [
             [
              0.0,
              "#0d0887"
             ],
             [
              0.1111111111111111,
              "#46039f"
             ],
             [
              0.2222222222222222,
              "#7201a8"
             ],
             [
              0.3333333333333333,
              "#9c179e"
             ],
             [
              0.4444444444444444,
              "#bd3786"
             ],
             [
              0.5555555555555556,
              "#d8576b"
             ],
             [
              0.6666666666666666,
              "#ed7953"
             ],
             [
              0.7777777777777778,
              "#fb9f3a"
             ],
             [
              0.8888888888888888,
              "#fdca26"
             ],
             [
              1.0,
              "#f0f921"
             ]
            ]
           }
          ],
          "choropleth": [
           {
            "type": "choropleth",
            "colorbar": {
             "outlinewidth": 0,
             "ticks": ""
            }
           }
          ],
          "histogram2d": [
           {
            "type": "histogram2d",
            "colorbar": {
             "outlinewidth": 0,
             "ticks": ""
            },
            "colorscale": [
             [
              0.0,
              "#0d0887"
             ],
             [
              0.1111111111111111,
              "#46039f"
             ],
             [
              0.2222222222222222,
              "#7201a8"
             ],
             [
              0.3333333333333333,
              "#9c179e"
             ],
             [
              0.4444444444444444,
              "#bd3786"
             ],
             [
              0.5555555555555556,
              "#d8576b"
             ],
             [
              0.6666666666666666,
              "#ed7953"
             ],
             [
              0.7777777777777778,
              "#fb9f3a"
             ],
             [
              0.8888888888888888,
              "#fdca26"
             ],
             [
              1.0,
              "#f0f921"
             ]
            ]
           }
          ],
          "heatmap": [
           {
            "type": "heatmap",
            "colorbar": {
             "outlinewidth": 0,
             "ticks": ""
            },
            "colorscale": [
             [
              0.0,
              "#0d0887"
             ],
             [
              0.1111111111111111,
              "#46039f"
             ],
             [
              0.2222222222222222,
              "#7201a8"
             ],
             [
              0.3333333333333333,
              "#9c179e"
             ],
             [
              0.4444444444444444,
              "#bd3786"
             ],
             [
              0.5555555555555556,
              "#d8576b"
             ],
             [
              0.6666666666666666,
              "#ed7953"
             ],
             [
              0.7777777777777778,
              "#fb9f3a"
             ],
             [
              0.8888888888888888,
              "#fdca26"
             ],
             [
              1.0,
              "#f0f921"
             ]
            ]
           }
          ],
          "heatmapgl": [
           {
            "type": "heatmapgl",
            "colorbar": {
             "outlinewidth": 0,
             "ticks": ""
            },
            "colorscale": [
             [
              0.0,
              "#0d0887"
             ],
             [
              0.1111111111111111,
              "#46039f"
             ],
             [
              0.2222222222222222,
              "#7201a8"
             ],
             [
              0.3333333333333333,
              "#9c179e"
             ],
             [
              0.4444444444444444,
              "#bd3786"
             ],
             [
              0.5555555555555556,
              "#d8576b"
             ],
             [
              0.6666666666666666,
              "#ed7953"
             ],
             [
              0.7777777777777778,
              "#fb9f3a"
             ],
             [
              0.8888888888888888,
              "#fdca26"
             ],
             [
              1.0,
              "#f0f921"
             ]
            ]
           }
          ],
          "contourcarpet": [
           {
            "type": "contourcarpet",
            "colorbar": {
             "outlinewidth": 0,
             "ticks": ""
            }
           }
          ],
          "contour": [
           {
            "type": "contour",
            "colorbar": {
             "outlinewidth": 0,
             "ticks": ""
            },
            "colorscale": [
             [
              0.0,
              "#0d0887"
             ],
             [
              0.1111111111111111,
              "#46039f"
             ],
             [
              0.2222222222222222,
              "#7201a8"
             ],
             [
              0.3333333333333333,
              "#9c179e"
             ],
             [
              0.4444444444444444,
              "#bd3786"
             ],
             [
              0.5555555555555556,
              "#d8576b"
             ],
             [
              0.6666666666666666,
              "#ed7953"
             ],
             [
              0.7777777777777778,
              "#fb9f3a"
             ],
             [
              0.8888888888888888,
              "#fdca26"
             ],
             [
              1.0,
              "#f0f921"
             ]
            ]
           }
          ],
          "surface": [
           {
            "type": "surface",
            "colorbar": {
             "outlinewidth": 0,
             "ticks": ""
            },
            "colorscale": [
             [
              0.0,
              "#0d0887"
             ],
             [
              0.1111111111111111,
              "#46039f"
             ],
             [
              0.2222222222222222,
              "#7201a8"
             ],
             [
              0.3333333333333333,
              "#9c179e"
             ],
             [
              0.4444444444444444,
              "#bd3786"
             ],
             [
              0.5555555555555556,
              "#d8576b"
             ],
             [
              0.6666666666666666,
              "#ed7953"
             ],
             [
              0.7777777777777778,
              "#fb9f3a"
             ],
             [
              0.8888888888888888,
              "#fdca26"
             ],
             [
              1.0,
              "#f0f921"
             ]
            ]
           }
          ],
          "mesh3d": [
           {
            "type": "mesh3d",
            "colorbar": {
             "outlinewidth": 0,
             "ticks": ""
            }
           }
          ],
          "scatter": [
           {
            "fillpattern": {
             "fillmode": "overlay",
             "size": 10,
             "solidity": 0.2
            },
            "type": "scatter"
           }
          ],
          "parcoords": [
           {
            "type": "parcoords",
            "line": {
             "colorbar": {
              "outlinewidth": 0,
              "ticks": ""
             }
            }
           }
          ],
          "scatterpolargl": [
           {
            "type": "scatterpolargl",
            "marker": {
             "colorbar": {
              "outlinewidth": 0,
              "ticks": ""
             }
            }
           }
          ],
          "bar": [
           {
            "error_x": {
             "color": "#2a3f5f"
            },
            "error_y": {
             "color": "#2a3f5f"
            },
            "marker": {
             "line": {
              "color": "#E5ECF6",
              "width": 0.5
             },
             "pattern": {
              "fillmode": "overlay",
              "size": 10,
              "solidity": 0.2
             }
            },
            "type": "bar"
           }
          ],
          "scattergeo": [
           {
            "type": "scattergeo",
            "marker": {
             "colorbar": {
              "outlinewidth": 0,
              "ticks": ""
             }
            }
           }
          ],
          "scatterpolar": [
           {
            "type": "scatterpolar",
            "marker": {
             "colorbar": {
              "outlinewidth": 0,
              "ticks": ""
             }
            }
           }
          ],
          "histogram": [
           {
            "marker": {
             "pattern": {
              "fillmode": "overlay",
              "size": 10,
              "solidity": 0.2
             }
            },
            "type": "histogram"
           }
          ],
          "scattergl": [
           {
            "type": "scattergl",
            "marker": {
             "colorbar": {
              "outlinewidth": 0,
              "ticks": ""
             }
            }
           }
          ],
          "scatter3d": [
           {
            "type": "scatter3d",
            "line": {
             "colorbar": {
              "outlinewidth": 0,
              "ticks": ""
             }
            },
            "marker": {
             "colorbar": {
              "outlinewidth": 0,
              "ticks": ""
             }
            }
           }
          ],
          "scattermapbox": [
           {
            "type": "scattermapbox",
            "marker": {
             "colorbar": {
              "outlinewidth": 0,
              "ticks": ""
             }
            }
           }
          ],
          "scatterternary": [
           {
            "type": "scatterternary",
            "marker": {
             "colorbar": {
              "outlinewidth": 0,
              "ticks": ""
             }
            }
           }
          ],
          "scattercarpet": [
           {
            "type": "scattercarpet",
            "marker": {
             "colorbar": {
              "outlinewidth": 0,
              "ticks": ""
             }
            }
           }
          ],
          "carpet": [
           {
            "aaxis": {
             "endlinecolor": "#2a3f5f",
             "gridcolor": "white",
             "linecolor": "white",
             "minorgridcolor": "white",
             "startlinecolor": "#2a3f5f"
            },
            "baxis": {
             "endlinecolor": "#2a3f5f",
             "gridcolor": "white",
             "linecolor": "white",
             "minorgridcolor": "white",
             "startlinecolor": "#2a3f5f"
            },
            "type": "carpet"
           }
          ],
          "table": [
           {
            "cells": {
             "fill": {
              "color": "#EBF0F8"
             },
             "line": {
              "color": "white"
             }
            },
            "header": {
             "fill": {
              "color": "#C8D4E3"
             },
             "line": {
              "color": "white"
             }
            },
            "type": "table"
           }
          ],
          "barpolar": [
           {
            "marker": {
             "line": {
              "color": "#E5ECF6",
              "width": 0.5
             },
             "pattern": {
              "fillmode": "overlay",
              "size": 10,
              "solidity": 0.2
             }
            },
            "type": "barpolar"
           }
          ],
          "pie": [
           {
            "automargin": true,
            "type": "pie"
           }
          ]
         },
         "layout": {
          "autotypenumbers": "strict",
          "colorway": [
           "#636efa",
           "#EF553B",
           "#00cc96",
           "#ab63fa",
           "#FFA15A",
           "#19d3f3",
           "#FF6692",
           "#B6E880",
           "#FF97FF",
           "#FECB52"
          ],
          "font": {
           "color": "#2a3f5f"
          },
          "hovermode": "closest",
          "hoverlabel": {
           "align": "left"
          },
          "paper_bgcolor": "white",
          "plot_bgcolor": "#E5ECF6",
          "polar": {
           "bgcolor": "#E5ECF6",
           "angularaxis": {
            "gridcolor": "white",
            "linecolor": "white",
            "ticks": ""
           },
           "radialaxis": {
            "gridcolor": "white",
            "linecolor": "white",
            "ticks": ""
           }
          },
          "ternary": {
           "bgcolor": "#E5ECF6",
           "aaxis": {
            "gridcolor": "white",
            "linecolor": "white",
            "ticks": ""
           },
           "baxis": {
            "gridcolor": "white",
            "linecolor": "white",
            "ticks": ""
           },
           "caxis": {
            "gridcolor": "white",
            "linecolor": "white",
            "ticks": ""
           }
          },
          "coloraxis": {
           "colorbar": {
            "outlinewidth": 0,
            "ticks": ""
           }
          },
          "colorscale": {
           "sequential": [
            [
             0.0,
             "#0d0887"
            ],
            [
             0.1111111111111111,
             "#46039f"
            ],
            [
             0.2222222222222222,
             "#7201a8"
            ],
            [
             0.3333333333333333,
             "#9c179e"
            ],
            [
             0.4444444444444444,
             "#bd3786"
            ],
            [
             0.5555555555555556,
             "#d8576b"
            ],
            [
             0.6666666666666666,
             "#ed7953"
            ],
            [
             0.7777777777777778,
             "#fb9f3a"
            ],
            [
             0.8888888888888888,
             "#fdca26"
            ],
            [
             1.0,
             "#f0f921"
            ]
           ],
           "sequentialminus": [
            [
             0.0,
             "#0d0887"
            ],
            [
             0.1111111111111111,
             "#46039f"
            ],
            [
             0.2222222222222222,
             "#7201a8"
            ],
            [
             0.3333333333333333,
             "#9c179e"
            ],
            [
             0.4444444444444444,
             "#bd3786"
            ],
            [
             0.5555555555555556,
             "#d8576b"
            ],
            [
             0.6666666666666666,
             "#ed7953"
            ],
            [
             0.7777777777777778,
             "#fb9f3a"
            ],
            [
             0.8888888888888888,
             "#fdca26"
            ],
            [
             1.0,
             "#f0f921"
            ]
           ],
           "diverging": [
            [
             0,
             "#8e0152"
            ],
            [
             0.1,
             "#c51b7d"
            ],
            [
             0.2,
             "#de77ae"
            ],
            [
             0.3,
             "#f1b6da"
            ],
            [
             0.4,
             "#fde0ef"
            ],
            [
             0.5,
             "#f7f7f7"
            ],
            [
             0.6,
             "#e6f5d0"
            ],
            [
             0.7,
             "#b8e186"
            ],
            [
             0.8,
             "#7fbc41"
            ],
            [
             0.9,
             "#4d9221"
            ],
            [
             1,
             "#276419"
            ]
           ]
          },
          "xaxis": {
           "gridcolor": "white",
           "linecolor": "white",
           "ticks": "",
           "title": {
            "standoff": 15
           },
           "zerolinecolor": "white",
           "automargin": true,
           "zerolinewidth": 2
          },
          "yaxis": {
           "gridcolor": "white",
           "linecolor": "white",
           "ticks": "",
           "title": {
            "standoff": 15
           },
           "zerolinecolor": "white",
           "automargin": true,
           "zerolinewidth": 2
          },
          "scene": {
           "xaxis": {
            "backgroundcolor": "#E5ECF6",
            "gridcolor": "white",
            "linecolor": "white",
            "showbackground": true,
            "ticks": "",
            "zerolinecolor": "white",
            "gridwidth": 2
           },
           "yaxis": {
            "backgroundcolor": "#E5ECF6",
            "gridcolor": "white",
            "linecolor": "white",
            "showbackground": true,
            "ticks": "",
            "zerolinecolor": "white",
            "gridwidth": 2
           },
           "zaxis": {
            "backgroundcolor": "#E5ECF6",
            "gridcolor": "white",
            "linecolor": "white",
            "showbackground": true,
            "ticks": "",
            "zerolinecolor": "white",
            "gridwidth": 2
           }
          },
          "shapedefaults": {
           "line": {
            "color": "#2a3f5f"
           }
          },
          "annotationdefaults": {
           "arrowcolor": "#2a3f5f",
           "arrowhead": 0,
           "arrowwidth": 1
          },
          "geo": {
           "bgcolor": "white",
           "landcolor": "#E5ECF6",
           "subunitcolor": "white",
           "showland": true,
           "showlakes": true,
           "lakecolor": "white"
          },
          "title": {
           "x": 0.05
          },
          "mapbox": {
           "style": "light"
          }
         }
        },
        "xaxis": {
         "anchor": "y",
         "domain": [
          0.0,
          1.0
         ],
         "title": {
          "text": "Average Price"
         }
        },
        "yaxis": {
         "anchor": "x",
         "domain": [
          0.9545454545454546,
          1.0
         ],
         "title": {
          "text": "Count"
         }
        },
        "xaxis2": {
         "anchor": "y2",
         "domain": [
          0.0,
          1.0
         ],
         "title": {
          "text": "Average Price"
         }
        },
        "yaxis2": {
         "anchor": "x2",
         "domain": [
          0.8590909090909091,
          0.9045454545454545
         ],
         "title": {
          "text": "Count"
         }
        },
        "xaxis3": {
         "anchor": "y3",
         "domain": [
          0.0,
          1.0
         ],
         "title": {
          "text": "Average Price"
         }
        },
        "yaxis3": {
         "anchor": "x3",
         "domain": [
          0.7636363636363637,
          0.8090909090909091
         ],
         "title": {
          "text": "Count"
         }
        },
        "xaxis4": {
         "anchor": "y4",
         "domain": [
          0.0,
          1.0
         ],
         "title": {
          "text": "Average Price"
         }
        },
        "yaxis4": {
         "anchor": "x4",
         "domain": [
          0.6681818181818182,
          0.7136363636363636
         ],
         "title": {
          "text": "Count"
         }
        },
        "xaxis5": {
         "anchor": "y5",
         "domain": [
          0.0,
          1.0
         ],
         "title": {
          "text": "Average Price"
         }
        },
        "yaxis5": {
         "anchor": "x5",
         "domain": [
          0.5727272727272728,
          0.6181818181818182
         ],
         "title": {
          "text": "Count"
         }
        },
        "xaxis6": {
         "anchor": "y6",
         "domain": [
          0.0,
          1.0
         ],
         "title": {
          "text": "Average Price"
         }
        },
        "yaxis6": {
         "anchor": "x6",
         "domain": [
          0.4772727272727273,
          0.5227272727272727
         ],
         "title": {
          "text": "Count"
         }
        },
        "xaxis7": {
         "anchor": "y7",
         "domain": [
          0.0,
          1.0
         ],
         "title": {
          "text": "Average Price"
         }
        },
        "yaxis7": {
         "anchor": "x7",
         "domain": [
          0.38181818181818183,
          0.4272727272727273
         ],
         "title": {
          "text": "Count"
         }
        },
        "xaxis8": {
         "anchor": "y8",
         "domain": [
          0.0,
          1.0
         ],
         "title": {
          "text": "Average Price"
         }
        },
        "yaxis8": {
         "anchor": "x8",
         "domain": [
          0.2863636363636364,
          0.33181818181818185
         ],
         "title": {
          "text": "Count"
         }
        },
        "xaxis9": {
         "anchor": "y9",
         "domain": [
          0.0,
          1.0
         ],
         "title": {
          "text": "Average Price"
         }
        },
        "yaxis9": {
         "anchor": "x9",
         "domain": [
          0.19090909090909092,
          0.2363636363636364
         ],
         "title": {
          "text": "Count"
         }
        },
        "xaxis10": {
         "anchor": "y10",
         "domain": [
          0.0,
          1.0
         ],
         "title": {
          "text": "Average Price"
         }
        },
        "yaxis10": {
         "anchor": "x10",
         "domain": [
          0.09545454545454546,
          0.14090909090909093
         ],
         "title": {
          "text": "Count"
         }
        },
        "xaxis11": {
         "anchor": "y11",
         "domain": [
          0.0,
          1.0
         ],
         "title": {
          "text": "Average Price"
         }
        },
        "yaxis11": {
         "anchor": "x11",
         "domain": [
          0.0,
          0.045454545454545456
         ],
         "title": {
          "text": "Count"
         }
        },
        "annotations": [
         {
          "font": {
           "size": 16
          },
          "showarrow": false,
          "text": "Madrid Average Price Distribution",
          "x": 0.5,
          "xanchor": "center",
          "xref": "paper",
          "y": 1.0,
          "yanchor": "bottom",
          "yref": "paper"
         },
         {
          "font": {
           "size": 16
          },
          "showarrow": false,
          "text": "Barcelona Average Price Distribution",
          "x": 0.5,
          "xanchor": "center",
          "xref": "paper",
          "y": 0.9045454545454545,
          "yanchor": "bottom",
          "yref": "paper"
         },
         {
          "font": {
           "size": 16
          },
          "showarrow": false,
          "text": "Santa Cruz de Tenerife Average Price Distribution",
          "x": 0.5,
          "xanchor": "center",
          "xref": "paper",
          "y": 0.8090909090909091,
          "yanchor": "bottom",
          "yref": "paper"
         },
         {
          "font": {
           "size": 16
          },
          "showarrow": false,
          "text": "Valencia Average Price Distribution",
          "x": 0.5,
          "xanchor": "center",
          "xref": "paper",
          "y": 0.7136363636363636,
          "yanchor": "bottom",
          "yref": "paper"
         },
         {
          "font": {
           "size": 16
          },
          "showarrow": false,
          "text": "Málaga Average Price Distribution",
          "x": 0.5,
          "xanchor": "center",
          "xref": "paper",
          "y": 0.6181818181818182,
          "yanchor": "bottom",
          "yref": "paper"
         },
         {
          "font": {
           "size": 16
          },
          "showarrow": false,
          "text": "La Corunna Average Price Distribution",
          "x": 0.5,
          "xanchor": "center",
          "xref": "paper",
          "y": 0.5227272727272727,
          "yanchor": "bottom",
          "yref": "paper"
         },
         {
          "font": {
           "size": 16
          },
          "showarrow": false,
          "text": "Saragossa Average Price Distribution",
          "x": 0.5,
          "xanchor": "center",
          "xref": "paper",
          "y": 0.4272727272727273,
          "yanchor": "bottom",
          "yref": "paper"
         },
         {
          "font": {
           "size": 16
          },
          "showarrow": false,
          "text": "Seville Average Price Distribution",
          "x": 0.5,
          "xanchor": "center",
          "xref": "paper",
          "y": 0.33181818181818185,
          "yanchor": "bottom",
          "yref": "paper"
         },
         {
          "font": {
           "size": 16
          },
          "showarrow": false,
          "text": "Biscay Average Price Distribution",
          "x": 0.5,
          "xanchor": "center",
          "xref": "paper",
          "y": 0.2363636363636364,
          "yanchor": "bottom",
          "yref": "paper"
         },
         {
          "font": {
           "size": 16
          },
          "showarrow": false,
          "text": "Navarre Average Price Distribution",
          "x": 0.5,
          "xanchor": "center",
          "xref": "paper",
          "y": 0.14090909090909093,
          "yanchor": "bottom",
          "yref": "paper"
         },
         {
          "font": {
           "size": 16
          },
          "showarrow": false,
          "text": "Granada Average Price Distribution",
          "x": 0.5,
          "xanchor": "center",
          "xref": "paper",
          "y": 0.045454545454545456,
          "yanchor": "bottom",
          "yref": "paper"
         }
        ],
        "title": {
         "text": "Average Price Distributions by City (Lines)"
        },
        "height": 3300,
        "width": 800,
        "showlegend": false
       },
       "config": {
        "plotlyServerURL": "https://plot.ly"
       }
      },
      "text/html": [
       "<div>                            <div id=\"22135602-f629-40fa-8f1c-270158aebef7\" class=\"plotly-graph-div\" style=\"height:3300px; width:800px;\"></div>            <script type=\"text/javascript\">                require([\"plotly\"], function(Plotly) {                    window.PLOTLYENV=window.PLOTLYENV || {};                                    if (document.getElementById(\"22135602-f629-40fa-8f1c-270158aebef7\")) {                    Plotly.newPlot(                        \"22135602-f629-40fa-8f1c-270158aebef7\",                        [{\"line\":{\"color\":\"green\",\"width\":2},\"mode\":\"lines+markers\",\"name\":\"Madrid Average Price\",\"opacity\":0.7,\"x\":[22.0,23.0,25.0,25.5,26.0,27.0,28.0,30.0,32.0,35.0,40.0,45.0,47.5,52.5,55.0,57.5,65.0,68.0,70.0,71.0,74.5,87.0,87.5,106.0,117.5,118.0,121.0,122.5,125.0,127.5,132.5,152.5,160.0,162.5,167.5,182.5,208.125,212.04999999999998,230.0,257.5,272.5,287.5,300.0,310.0,556.5,3527.25],\"y\":[2,3,3,1,2,2,2,3,1,1,2,1,3,1,1,1,1,1,2,1,2,1,1,1,1,1,2,2,1,1,1,1,1,3,1,1,1,1,1,1,2,1,1,1,1,1],\"type\":\"scatter\",\"xaxis\":\"x\",\"yaxis\":\"y\"},{\"line\":{\"color\":\"green\",\"width\":2},\"mode\":\"lines+markers\",\"name\":\"Barcelona Average Price\",\"opacity\":0.7,\"x\":[0.5,23.0,25.0,26.0,27.0,28.0,28.5,30.0,33.5,35.0,38.0,40.0,44.0,45.0,50.0,52.5,55.0,59.3,60.0,62.5,68.0,72.5,77.0,82.5,85.0,87.0,106.0,112.5,114.7,121.0,123.25,125.5,132.5,135.0,137.5,165.0,182.5,185.0,189.75,210.0,3527.25],\"y\":[1,3,4,2,2,1,1,5,1,1,1,1,1,1,2,1,1,1,1,2,1,1,1,1,1,1,1,2,1,1,4,1,4,2,2,1,1,1,2,1,1],\"type\":\"scatter\",\"xaxis\":\"x2\",\"yaxis\":\"y2\"},{\"line\":{\"color\":\"green\",\"width\":2},\"mode\":\"lines+markers\",\"name\":\"Santa Cruz de Tenerife Average Price\",\"opacity\":0.7,\"x\":[15.0,40.0],\"y\":[1,1],\"type\":\"scatter\",\"xaxis\":\"x3\",\"yaxis\":\"y3\"},{\"line\":{\"color\":\"green\",\"width\":2},\"mode\":\"lines+markers\",\"name\":\"Valencia Average Price\",\"opacity\":0.7,\"x\":[22.0,48.0],\"y\":[2,2],\"type\":\"scatter\",\"xaxis\":\"x4\",\"yaxis\":\"y4\"},{\"line\":{\"color\":\"green\",\"width\":2},\"mode\":\"lines+markers\",\"name\":\"M\\u00e1laga Average Price\",\"opacity\":0.7,\"x\":[22.0,38.0,45.0,53.0],\"y\":[1,1,1,1],\"type\":\"scatter\",\"xaxis\":\"x5\",\"yaxis\":\"y5\"},{\"line\":{\"color\":\"green\",\"width\":2},\"mode\":\"lines+markers\",\"name\":\"La Corunna Average Price\",\"opacity\":0.7,\"x\":[20.0,36.0,40.0,55.0,79.5,105.0,115.75,118.0,118.25,122.5,125.0,140.0,145.0,202.5,287.5,511.5],\"y\":[1,1,1,1,1,1,2,4,1,2,4,1,1,1,1,1],\"type\":\"scatter\",\"xaxis\":\"x6\",\"yaxis\":\"y6\"},{\"line\":{\"color\":\"green\",\"width\":2},\"mode\":\"lines+markers\",\"name\":\"Saragossa Average Price\",\"opacity\":0.7,\"x\":[23.0],\"y\":[1],\"type\":\"scatter\",\"xaxis\":\"x7\",\"yaxis\":\"y7\"},{\"line\":{\"color\":\"green\",\"width\":2},\"mode\":\"lines+markers\",\"name\":\"Seville Average Price\",\"opacity\":0.7,\"x\":[23.0,39.5,64.5],\"y\":[1,1,1],\"type\":\"scatter\",\"xaxis\":\"x8\",\"yaxis\":\"y8\"},{\"line\":{\"color\":\"green\",\"width\":2},\"mode\":\"lines+markers\",\"name\":\"Biscay Average Price\",\"opacity\":0.7,\"x\":[23.0,56.0,81.0,103.0],\"y\":[1,1,1,1],\"type\":\"scatter\",\"xaxis\":\"x9\",\"yaxis\":\"y9\"},{\"line\":{\"color\":\"green\",\"width\":2},\"mode\":\"lines+markers\",\"name\":\"Navarre Average Price\",\"opacity\":0.7,\"x\":[115.75,118.0,125.0,127.5,277.5],\"y\":[3,1,1,4,1],\"type\":\"scatter\",\"xaxis\":\"x10\",\"yaxis\":\"y10\"},{\"line\":{\"color\":\"green\",\"width\":2},\"mode\":\"lines+markers\",\"name\":\"Granada Average Price\",\"opacity\":0.7,\"x\":[38.5,40.0],\"y\":[1,1],\"type\":\"scatter\",\"xaxis\":\"x11\",\"yaxis\":\"y11\"}],                        {\"template\":{\"data\":{\"histogram2dcontour\":[{\"type\":\"histogram2dcontour\",\"colorbar\":{\"outlinewidth\":0,\"ticks\":\"\"},\"colorscale\":[[0.0,\"#0d0887\"],[0.1111111111111111,\"#46039f\"],[0.2222222222222222,\"#7201a8\"],[0.3333333333333333,\"#9c179e\"],[0.4444444444444444,\"#bd3786\"],[0.5555555555555556,\"#d8576b\"],[0.6666666666666666,\"#ed7953\"],[0.7777777777777778,\"#fb9f3a\"],[0.8888888888888888,\"#fdca26\"],[1.0,\"#f0f921\"]]}],\"choropleth\":[{\"type\":\"choropleth\",\"colorbar\":{\"outlinewidth\":0,\"ticks\":\"\"}}],\"histogram2d\":[{\"type\":\"histogram2d\",\"colorbar\":{\"outlinewidth\":0,\"ticks\":\"\"},\"colorscale\":[[0.0,\"#0d0887\"],[0.1111111111111111,\"#46039f\"],[0.2222222222222222,\"#7201a8\"],[0.3333333333333333,\"#9c179e\"],[0.4444444444444444,\"#bd3786\"],[0.5555555555555556,\"#d8576b\"],[0.6666666666666666,\"#ed7953\"],[0.7777777777777778,\"#fb9f3a\"],[0.8888888888888888,\"#fdca26\"],[1.0,\"#f0f921\"]]}],\"heatmap\":[{\"type\":\"heatmap\",\"colorbar\":{\"outlinewidth\":0,\"ticks\":\"\"},\"colorscale\":[[0.0,\"#0d0887\"],[0.1111111111111111,\"#46039f\"],[0.2222222222222222,\"#7201a8\"],[0.3333333333333333,\"#9c179e\"],[0.4444444444444444,\"#bd3786\"],[0.5555555555555556,\"#d8576b\"],[0.6666666666666666,\"#ed7953\"],[0.7777777777777778,\"#fb9f3a\"],[0.8888888888888888,\"#fdca26\"],[1.0,\"#f0f921\"]]}],\"heatmapgl\":[{\"type\":\"heatmapgl\",\"colorbar\":{\"outlinewidth\":0,\"ticks\":\"\"},\"colorscale\":[[0.0,\"#0d0887\"],[0.1111111111111111,\"#46039f\"],[0.2222222222222222,\"#7201a8\"],[0.3333333333333333,\"#9c179e\"],[0.4444444444444444,\"#bd3786\"],[0.5555555555555556,\"#d8576b\"],[0.6666666666666666,\"#ed7953\"],[0.7777777777777778,\"#fb9f3a\"],[0.8888888888888888,\"#fdca26\"],[1.0,\"#f0f921\"]]}],\"contourcarpet\":[{\"type\":\"contourcarpet\",\"colorbar\":{\"outlinewidth\":0,\"ticks\":\"\"}}],\"contour\":[{\"type\":\"contour\",\"colorbar\":{\"outlinewidth\":0,\"ticks\":\"\"},\"colorscale\":[[0.0,\"#0d0887\"],[0.1111111111111111,\"#46039f\"],[0.2222222222222222,\"#7201a8\"],[0.3333333333333333,\"#9c179e\"],[0.4444444444444444,\"#bd3786\"],[0.5555555555555556,\"#d8576b\"],[0.6666666666666666,\"#ed7953\"],[0.7777777777777778,\"#fb9f3a\"],[0.8888888888888888,\"#fdca26\"],[1.0,\"#f0f921\"]]}],\"surface\":[{\"type\":\"surface\",\"colorbar\":{\"outlinewidth\":0,\"ticks\":\"\"},\"colorscale\":[[0.0,\"#0d0887\"],[0.1111111111111111,\"#46039f\"],[0.2222222222222222,\"#7201a8\"],[0.3333333333333333,\"#9c179e\"],[0.4444444444444444,\"#bd3786\"],[0.5555555555555556,\"#d8576b\"],[0.6666666666666666,\"#ed7953\"],[0.7777777777777778,\"#fb9f3a\"],[0.8888888888888888,\"#fdca26\"],[1.0,\"#f0f921\"]]}],\"mesh3d\":[{\"type\":\"mesh3d\",\"colorbar\":{\"outlinewidth\":0,\"ticks\":\"\"}}],\"scatter\":[{\"fillpattern\":{\"fillmode\":\"overlay\",\"size\":10,\"solidity\":0.2},\"type\":\"scatter\"}],\"parcoords\":[{\"type\":\"parcoords\",\"line\":{\"colorbar\":{\"outlinewidth\":0,\"ticks\":\"\"}}}],\"scatterpolargl\":[{\"type\":\"scatterpolargl\",\"marker\":{\"colorbar\":{\"outlinewidth\":0,\"ticks\":\"\"}}}],\"bar\":[{\"error_x\":{\"color\":\"#2a3f5f\"},\"error_y\":{\"color\":\"#2a3f5f\"},\"marker\":{\"line\":{\"color\":\"#E5ECF6\",\"width\":0.5},\"pattern\":{\"fillmode\":\"overlay\",\"size\":10,\"solidity\":0.2}},\"type\":\"bar\"}],\"scattergeo\":[{\"type\":\"scattergeo\",\"marker\":{\"colorbar\":{\"outlinewidth\":0,\"ticks\":\"\"}}}],\"scatterpolar\":[{\"type\":\"scatterpolar\",\"marker\":{\"colorbar\":{\"outlinewidth\":0,\"ticks\":\"\"}}}],\"histogram\":[{\"marker\":{\"pattern\":{\"fillmode\":\"overlay\",\"size\":10,\"solidity\":0.2}},\"type\":\"histogram\"}],\"scattergl\":[{\"type\":\"scattergl\",\"marker\":{\"colorbar\":{\"outlinewidth\":0,\"ticks\":\"\"}}}],\"scatter3d\":[{\"type\":\"scatter3d\",\"line\":{\"colorbar\":{\"outlinewidth\":0,\"ticks\":\"\"}},\"marker\":{\"colorbar\":{\"outlinewidth\":0,\"ticks\":\"\"}}}],\"scattermapbox\":[{\"type\":\"scattermapbox\",\"marker\":{\"colorbar\":{\"outlinewidth\":0,\"ticks\":\"\"}}}],\"scatterternary\":[{\"type\":\"scatterternary\",\"marker\":{\"colorbar\":{\"outlinewidth\":0,\"ticks\":\"\"}}}],\"scattercarpet\":[{\"type\":\"scattercarpet\",\"marker\":{\"colorbar\":{\"outlinewidth\":0,\"ticks\":\"\"}}}],\"carpet\":[{\"aaxis\":{\"endlinecolor\":\"#2a3f5f\",\"gridcolor\":\"white\",\"linecolor\":\"white\",\"minorgridcolor\":\"white\",\"startlinecolor\":\"#2a3f5f\"},\"baxis\":{\"endlinecolor\":\"#2a3f5f\",\"gridcolor\":\"white\",\"linecolor\":\"white\",\"minorgridcolor\":\"white\",\"startlinecolor\":\"#2a3f5f\"},\"type\":\"carpet\"}],\"table\":[{\"cells\":{\"fill\":{\"color\":\"#EBF0F8\"},\"line\":{\"color\":\"white\"}},\"header\":{\"fill\":{\"color\":\"#C8D4E3\"},\"line\":{\"color\":\"white\"}},\"type\":\"table\"}],\"barpolar\":[{\"marker\":{\"line\":{\"color\":\"#E5ECF6\",\"width\":0.5},\"pattern\":{\"fillmode\":\"overlay\",\"size\":10,\"solidity\":0.2}},\"type\":\"barpolar\"}],\"pie\":[{\"automargin\":true,\"type\":\"pie\"}]},\"layout\":{\"autotypenumbers\":\"strict\",\"colorway\":[\"#636efa\",\"#EF553B\",\"#00cc96\",\"#ab63fa\",\"#FFA15A\",\"#19d3f3\",\"#FF6692\",\"#B6E880\",\"#FF97FF\",\"#FECB52\"],\"font\":{\"color\":\"#2a3f5f\"},\"hovermode\":\"closest\",\"hoverlabel\":{\"align\":\"left\"},\"paper_bgcolor\":\"white\",\"plot_bgcolor\":\"#E5ECF6\",\"polar\":{\"bgcolor\":\"#E5ECF6\",\"angularaxis\":{\"gridcolor\":\"white\",\"linecolor\":\"white\",\"ticks\":\"\"},\"radialaxis\":{\"gridcolor\":\"white\",\"linecolor\":\"white\",\"ticks\":\"\"}},\"ternary\":{\"bgcolor\":\"#E5ECF6\",\"aaxis\":{\"gridcolor\":\"white\",\"linecolor\":\"white\",\"ticks\":\"\"},\"baxis\":{\"gridcolor\":\"white\",\"linecolor\":\"white\",\"ticks\":\"\"},\"caxis\":{\"gridcolor\":\"white\",\"linecolor\":\"white\",\"ticks\":\"\"}},\"coloraxis\":{\"colorbar\":{\"outlinewidth\":0,\"ticks\":\"\"}},\"colorscale\":{\"sequential\":[[0.0,\"#0d0887\"],[0.1111111111111111,\"#46039f\"],[0.2222222222222222,\"#7201a8\"],[0.3333333333333333,\"#9c179e\"],[0.4444444444444444,\"#bd3786\"],[0.5555555555555556,\"#d8576b\"],[0.6666666666666666,\"#ed7953\"],[0.7777777777777778,\"#fb9f3a\"],[0.8888888888888888,\"#fdca26\"],[1.0,\"#f0f921\"]],\"sequentialminus\":[[0.0,\"#0d0887\"],[0.1111111111111111,\"#46039f\"],[0.2222222222222222,\"#7201a8\"],[0.3333333333333333,\"#9c179e\"],[0.4444444444444444,\"#bd3786\"],[0.5555555555555556,\"#d8576b\"],[0.6666666666666666,\"#ed7953\"],[0.7777777777777778,\"#fb9f3a\"],[0.8888888888888888,\"#fdca26\"],[1.0,\"#f0f921\"]],\"diverging\":[[0,\"#8e0152\"],[0.1,\"#c51b7d\"],[0.2,\"#de77ae\"],[0.3,\"#f1b6da\"],[0.4,\"#fde0ef\"],[0.5,\"#f7f7f7\"],[0.6,\"#e6f5d0\"],[0.7,\"#b8e186\"],[0.8,\"#7fbc41\"],[0.9,\"#4d9221\"],[1,\"#276419\"]]},\"xaxis\":{\"gridcolor\":\"white\",\"linecolor\":\"white\",\"ticks\":\"\",\"title\":{\"standoff\":15},\"zerolinecolor\":\"white\",\"automargin\":true,\"zerolinewidth\":2},\"yaxis\":{\"gridcolor\":\"white\",\"linecolor\":\"white\",\"ticks\":\"\",\"title\":{\"standoff\":15},\"zerolinecolor\":\"white\",\"automargin\":true,\"zerolinewidth\":2},\"scene\":{\"xaxis\":{\"backgroundcolor\":\"#E5ECF6\",\"gridcolor\":\"white\",\"linecolor\":\"white\",\"showbackground\":true,\"ticks\":\"\",\"zerolinecolor\":\"white\",\"gridwidth\":2},\"yaxis\":{\"backgroundcolor\":\"#E5ECF6\",\"gridcolor\":\"white\",\"linecolor\":\"white\",\"showbackground\":true,\"ticks\":\"\",\"zerolinecolor\":\"white\",\"gridwidth\":2},\"zaxis\":{\"backgroundcolor\":\"#E5ECF6\",\"gridcolor\":\"white\",\"linecolor\":\"white\",\"showbackground\":true,\"ticks\":\"\",\"zerolinecolor\":\"white\",\"gridwidth\":2}},\"shapedefaults\":{\"line\":{\"color\":\"#2a3f5f\"}},\"annotationdefaults\":{\"arrowcolor\":\"#2a3f5f\",\"arrowhead\":0,\"arrowwidth\":1},\"geo\":{\"bgcolor\":\"white\",\"landcolor\":\"#E5ECF6\",\"subunitcolor\":\"white\",\"showland\":true,\"showlakes\":true,\"lakecolor\":\"white\"},\"title\":{\"x\":0.05},\"mapbox\":{\"style\":\"light\"}}},\"xaxis\":{\"anchor\":\"y\",\"domain\":[0.0,1.0],\"title\":{\"text\":\"Average Price\"}},\"yaxis\":{\"anchor\":\"x\",\"domain\":[0.9545454545454546,1.0],\"title\":{\"text\":\"Count\"}},\"xaxis2\":{\"anchor\":\"y2\",\"domain\":[0.0,1.0],\"title\":{\"text\":\"Average Price\"}},\"yaxis2\":{\"anchor\":\"x2\",\"domain\":[0.8590909090909091,0.9045454545454545],\"title\":{\"text\":\"Count\"}},\"xaxis3\":{\"anchor\":\"y3\",\"domain\":[0.0,1.0],\"title\":{\"text\":\"Average Price\"}},\"yaxis3\":{\"anchor\":\"x3\",\"domain\":[0.7636363636363637,0.8090909090909091],\"title\":{\"text\":\"Count\"}},\"xaxis4\":{\"anchor\":\"y4\",\"domain\":[0.0,1.0],\"title\":{\"text\":\"Average Price\"}},\"yaxis4\":{\"anchor\":\"x4\",\"domain\":[0.6681818181818182,0.7136363636363636],\"title\":{\"text\":\"Count\"}},\"xaxis5\":{\"anchor\":\"y5\",\"domain\":[0.0,1.0],\"title\":{\"text\":\"Average Price\"}},\"yaxis5\":{\"anchor\":\"x5\",\"domain\":[0.5727272727272728,0.6181818181818182],\"title\":{\"text\":\"Count\"}},\"xaxis6\":{\"anchor\":\"y6\",\"domain\":[0.0,1.0],\"title\":{\"text\":\"Average Price\"}},\"yaxis6\":{\"anchor\":\"x6\",\"domain\":[0.4772727272727273,0.5227272727272727],\"title\":{\"text\":\"Count\"}},\"xaxis7\":{\"anchor\":\"y7\",\"domain\":[0.0,1.0],\"title\":{\"text\":\"Average Price\"}},\"yaxis7\":{\"anchor\":\"x7\",\"domain\":[0.38181818181818183,0.4272727272727273],\"title\":{\"text\":\"Count\"}},\"xaxis8\":{\"anchor\":\"y8\",\"domain\":[0.0,1.0],\"title\":{\"text\":\"Average Price\"}},\"yaxis8\":{\"anchor\":\"x8\",\"domain\":[0.2863636363636364,0.33181818181818185],\"title\":{\"text\":\"Count\"}},\"xaxis9\":{\"anchor\":\"y9\",\"domain\":[0.0,1.0],\"title\":{\"text\":\"Average Price\"}},\"yaxis9\":{\"anchor\":\"x9\",\"domain\":[0.19090909090909092,0.2363636363636364],\"title\":{\"text\":\"Count\"}},\"xaxis10\":{\"anchor\":\"y10\",\"domain\":[0.0,1.0],\"title\":{\"text\":\"Average Price\"}},\"yaxis10\":{\"anchor\":\"x10\",\"domain\":[0.09545454545454546,0.14090909090909093],\"title\":{\"text\":\"Count\"}},\"xaxis11\":{\"anchor\":\"y11\",\"domain\":[0.0,1.0],\"title\":{\"text\":\"Average Price\"}},\"yaxis11\":{\"anchor\":\"x11\",\"domain\":[0.0,0.045454545454545456],\"title\":{\"text\":\"Count\"}},\"annotations\":[{\"font\":{\"size\":16},\"showarrow\":false,\"text\":\"Madrid Average Price Distribution\",\"x\":0.5,\"xanchor\":\"center\",\"xref\":\"paper\",\"y\":1.0,\"yanchor\":\"bottom\",\"yref\":\"paper\"},{\"font\":{\"size\":16},\"showarrow\":false,\"text\":\"Barcelona Average Price Distribution\",\"x\":0.5,\"xanchor\":\"center\",\"xref\":\"paper\",\"y\":0.9045454545454545,\"yanchor\":\"bottom\",\"yref\":\"paper\"},{\"font\":{\"size\":16},\"showarrow\":false,\"text\":\"Santa Cruz de Tenerife Average Price Distribution\",\"x\":0.5,\"xanchor\":\"center\",\"xref\":\"paper\",\"y\":0.8090909090909091,\"yanchor\":\"bottom\",\"yref\":\"paper\"},{\"font\":{\"size\":16},\"showarrow\":false,\"text\":\"Valencia Average Price Distribution\",\"x\":0.5,\"xanchor\":\"center\",\"xref\":\"paper\",\"y\":0.7136363636363636,\"yanchor\":\"bottom\",\"yref\":\"paper\"},{\"font\":{\"size\":16},\"showarrow\":false,\"text\":\"M\\u00e1laga Average Price Distribution\",\"x\":0.5,\"xanchor\":\"center\",\"xref\":\"paper\",\"y\":0.6181818181818182,\"yanchor\":\"bottom\",\"yref\":\"paper\"},{\"font\":{\"size\":16},\"showarrow\":false,\"text\":\"La Corunna Average Price Distribution\",\"x\":0.5,\"xanchor\":\"center\",\"xref\":\"paper\",\"y\":0.5227272727272727,\"yanchor\":\"bottom\",\"yref\":\"paper\"},{\"font\":{\"size\":16},\"showarrow\":false,\"text\":\"Saragossa Average Price Distribution\",\"x\":0.5,\"xanchor\":\"center\",\"xref\":\"paper\",\"y\":0.4272727272727273,\"yanchor\":\"bottom\",\"yref\":\"paper\"},{\"font\":{\"size\":16},\"showarrow\":false,\"text\":\"Seville Average Price Distribution\",\"x\":0.5,\"xanchor\":\"center\",\"xref\":\"paper\",\"y\":0.33181818181818185,\"yanchor\":\"bottom\",\"yref\":\"paper\"},{\"font\":{\"size\":16},\"showarrow\":false,\"text\":\"Biscay Average Price Distribution\",\"x\":0.5,\"xanchor\":\"center\",\"xref\":\"paper\",\"y\":0.2363636363636364,\"yanchor\":\"bottom\",\"yref\":\"paper\"},{\"font\":{\"size\":16},\"showarrow\":false,\"text\":\"Navarre Average Price Distribution\",\"x\":0.5,\"xanchor\":\"center\",\"xref\":\"paper\",\"y\":0.14090909090909093,\"yanchor\":\"bottom\",\"yref\":\"paper\"},{\"font\":{\"size\":16},\"showarrow\":false,\"text\":\"Granada Average Price Distribution\",\"x\":0.5,\"xanchor\":\"center\",\"xref\":\"paper\",\"y\":0.045454545454545456,\"yanchor\":\"bottom\",\"yref\":\"paper\"}],\"title\":{\"text\":\"Average Price Distributions by City (Lines)\"},\"height\":3300,\"width\":800,\"showlegend\":false},                        {\"responsive\": true}                    ).then(function(){\n",
       "                            \n",
       "var gd = document.getElementById('22135602-f629-40fa-8f1c-270158aebef7');\n",
       "var x = new MutationObserver(function (mutations, observer) {{\n",
       "        var display = window.getComputedStyle(gd).display;\n",
       "        if (!display || display === 'none') {{\n",
       "            console.log([gd, 'removed!']);\n",
       "            Plotly.purge(gd);\n",
       "            observer.disconnect();\n",
       "        }}\n",
       "}});\n",
       "\n",
       "// Listen for the removal of the full notebook cells\n",
       "var notebookContainer = gd.closest('#notebook-container');\n",
       "if (notebookContainer) {{\n",
       "    x.observe(notebookContainer, {childList: true});\n",
       "}}\n",
       "\n",
       "// Listen for the clearing of the current output cell\n",
       "var outputEl = gd.closest('.output');\n",
       "if (outputEl) {{\n",
       "    x.observe(outputEl, {childList: true});\n",
       "}}\n",
       "\n",
       "                        })                };                });            </script>        </div>"
      ]
     },
     "metadata": {},
     "output_type": "display_data"
    }
   ],
   "execution_count": 165
  },
  {
   "metadata": {},
   "cell_type": "markdown",
   "source": "## Analysis 3: Average prices by genre",
   "id": "9042a1900bf27391"
  },
  {
   "metadata": {
    "ExecuteTime": {
     "end_time": "2024-12-01T18:45:42.899780Z",
     "start_time": "2024-12-01T18:45:42.457542Z"
    }
   },
   "cell_type": "code",
   "source": "events_df = pd.read_csv('./data/ticketmaster_cleaned_events.csv')",
   "id": "85e02614c63cd905",
   "outputs": [],
   "execution_count": 64
  },
  {
   "metadata": {
    "ExecuteTime": {
     "end_time": "2024-12-01T19:09:48.923758Z",
     "start_time": "2024-12-01T19:09:48.862383Z"
    }
   },
   "cell_type": "code",
   "source": "events_df.head()",
   "id": "2d560400f8bb4a10",
   "outputs": [
    {
     "data": {
      "text/plain": [
       "        event_id                                       event_name event_type  \\\n",
       "0  Z698xZ2qZa17W                    Paul McCartney: GOT BACK TOUR      event   \n",
       "1  Z698xZ2qZa1Ad                    Paul McCartney: GOT BACK TOUR      event   \n",
       "2  Z698xZ2qZa13A  Imagine Dragons: LOOM World Tour | VIP Packages      event   \n",
       "3  Z698xZ2qZa18q                 Imagine Dragons: LOOM World Tour      event   \n",
       "4  Z698xZ2qZa13R  Imagine Dragons: LOOM World Tour | VIP Packages      event   \n",
       "\n",
       "                                           event_url locale  start_date  \\\n",
       "0  https://www.ticketmaster.es/event/paul-mccartn...  en-us  2024-12-09   \n",
       "1  https://www.ticketmaster.es/event/paul-mccartn...  en-us  2024-12-10   \n",
       "2  https://www.ticketmaster.es/event/imagine-drag...  en-us  2025-06-28   \n",
       "3  https://www.ticketmaster.es/event/imagine-drag...  en-us  2025-06-28   \n",
       "4  https://www.ticketmaster.es/event/imagine-drag...  en-us  2025-07-01   \n",
       "\n",
       "  start_time       timezone  status       venue_id  ... venue_city  \\\n",
       "0   21:00:00  Europe/Madrid  onsale   Z198xZ2qZkek  ...     Madrid   \n",
       "1   21:00:00  Europe/Madrid  onsale   Z198xZ2qZkek  ...     Madrid   \n",
       "2   21:30:00  Europe/Madrid  onsale  Z598xZ2qZ6Fe1  ...     Madrid   \n",
       "3   21:30:00  Europe/Madrid  onsale  Z598xZ2qZ6Fe1  ...     Madrid   \n",
       "4   21:30:00  Europe/Madrid  onsale  Z598xZ2qZd7eF  ...  Barcelona   \n",
       "\n",
       "  venue_state venue_country            venue_address venue_postal_code  \\\n",
       "0      Madrid         Spain       Av. Felipe II, s/n           28009.0   \n",
       "1      Madrid         Spain       Av. Felipe II, s/n           28009.0   \n",
       "2      Madrid         Spain  Av. de Luis Aragonés, 4           28022.0   \n",
       "3      Madrid         Spain  Av. de Luis Aragonés, 4           28022.0   \n",
       "4   Barcelona         Spain     Passeig Olímpic, 5-7            8038.0   \n",
       "\n",
       "   venue_latitude  venue_longitude  segment_name genre_name sub_genre_name  \n",
       "0        40.42394         -3.67580         Music       Rock            Pop  \n",
       "1        40.42394         -3.67580         Music       Rock            Pop  \n",
       "2        40.43624         -3.59947         Music       Rock            Pop  \n",
       "3        40.43624         -3.59947         Music       Rock            Pop  \n",
       "4        41.36476          2.15565         Music       Rock            Pop  \n",
       "\n",
       "[5 rows x 21 columns]"
      ],
      "text/html": [
       "<div>\n",
       "<style scoped>\n",
       "    .dataframe tbody tr th:only-of-type {\n",
       "        vertical-align: middle;\n",
       "    }\n",
       "\n",
       "    .dataframe tbody tr th {\n",
       "        vertical-align: top;\n",
       "    }\n",
       "\n",
       "    .dataframe thead th {\n",
       "        text-align: right;\n",
       "    }\n",
       "</style>\n",
       "<table border=\"1\" class=\"dataframe\">\n",
       "  <thead>\n",
       "    <tr style=\"text-align: right;\">\n",
       "      <th></th>\n",
       "      <th>event_id</th>\n",
       "      <th>event_name</th>\n",
       "      <th>event_type</th>\n",
       "      <th>event_url</th>\n",
       "      <th>locale</th>\n",
       "      <th>start_date</th>\n",
       "      <th>start_time</th>\n",
       "      <th>timezone</th>\n",
       "      <th>status</th>\n",
       "      <th>venue_id</th>\n",
       "      <th>...</th>\n",
       "      <th>venue_city</th>\n",
       "      <th>venue_state</th>\n",
       "      <th>venue_country</th>\n",
       "      <th>venue_address</th>\n",
       "      <th>venue_postal_code</th>\n",
       "      <th>venue_latitude</th>\n",
       "      <th>venue_longitude</th>\n",
       "      <th>segment_name</th>\n",
       "      <th>genre_name</th>\n",
       "      <th>sub_genre_name</th>\n",
       "    </tr>\n",
       "  </thead>\n",
       "  <tbody>\n",
       "    <tr>\n",
       "      <th>0</th>\n",
       "      <td>Z698xZ2qZa17W</td>\n",
       "      <td>Paul McCartney: GOT BACK TOUR</td>\n",
       "      <td>event</td>\n",
       "      <td>https://www.ticketmaster.es/event/paul-mccartn...</td>\n",
       "      <td>en-us</td>\n",
       "      <td>2024-12-09</td>\n",
       "      <td>21:00:00</td>\n",
       "      <td>Europe/Madrid</td>\n",
       "      <td>onsale</td>\n",
       "      <td>Z198xZ2qZkek</td>\n",
       "      <td>...</td>\n",
       "      <td>Madrid</td>\n",
       "      <td>Madrid</td>\n",
       "      <td>Spain</td>\n",
       "      <td>Av. Felipe II, s/n</td>\n",
       "      <td>28009.0</td>\n",
       "      <td>40.42394</td>\n",
       "      <td>-3.67580</td>\n",
       "      <td>Music</td>\n",
       "      <td>Rock</td>\n",
       "      <td>Pop</td>\n",
       "    </tr>\n",
       "    <tr>\n",
       "      <th>1</th>\n",
       "      <td>Z698xZ2qZa1Ad</td>\n",
       "      <td>Paul McCartney: GOT BACK TOUR</td>\n",
       "      <td>event</td>\n",
       "      <td>https://www.ticketmaster.es/event/paul-mccartn...</td>\n",
       "      <td>en-us</td>\n",
       "      <td>2024-12-10</td>\n",
       "      <td>21:00:00</td>\n",
       "      <td>Europe/Madrid</td>\n",
       "      <td>onsale</td>\n",
       "      <td>Z198xZ2qZkek</td>\n",
       "      <td>...</td>\n",
       "      <td>Madrid</td>\n",
       "      <td>Madrid</td>\n",
       "      <td>Spain</td>\n",
       "      <td>Av. Felipe II, s/n</td>\n",
       "      <td>28009.0</td>\n",
       "      <td>40.42394</td>\n",
       "      <td>-3.67580</td>\n",
       "      <td>Music</td>\n",
       "      <td>Rock</td>\n",
       "      <td>Pop</td>\n",
       "    </tr>\n",
       "    <tr>\n",
       "      <th>2</th>\n",
       "      <td>Z698xZ2qZa13A</td>\n",
       "      <td>Imagine Dragons: LOOM World Tour | VIP Packages</td>\n",
       "      <td>event</td>\n",
       "      <td>https://www.ticketmaster.es/event/imagine-drag...</td>\n",
       "      <td>en-us</td>\n",
       "      <td>2025-06-28</td>\n",
       "      <td>21:30:00</td>\n",
       "      <td>Europe/Madrid</td>\n",
       "      <td>onsale</td>\n",
       "      <td>Z598xZ2qZ6Fe1</td>\n",
       "      <td>...</td>\n",
       "      <td>Madrid</td>\n",
       "      <td>Madrid</td>\n",
       "      <td>Spain</td>\n",
       "      <td>Av. de Luis Aragonés, 4</td>\n",
       "      <td>28022.0</td>\n",
       "      <td>40.43624</td>\n",
       "      <td>-3.59947</td>\n",
       "      <td>Music</td>\n",
       "      <td>Rock</td>\n",
       "      <td>Pop</td>\n",
       "    </tr>\n",
       "    <tr>\n",
       "      <th>3</th>\n",
       "      <td>Z698xZ2qZa18q</td>\n",
       "      <td>Imagine Dragons: LOOM World Tour</td>\n",
       "      <td>event</td>\n",
       "      <td>https://www.ticketmaster.es/event/imagine-drag...</td>\n",
       "      <td>en-us</td>\n",
       "      <td>2025-06-28</td>\n",
       "      <td>21:30:00</td>\n",
       "      <td>Europe/Madrid</td>\n",
       "      <td>onsale</td>\n",
       "      <td>Z598xZ2qZ6Fe1</td>\n",
       "      <td>...</td>\n",
       "      <td>Madrid</td>\n",
       "      <td>Madrid</td>\n",
       "      <td>Spain</td>\n",
       "      <td>Av. de Luis Aragonés, 4</td>\n",
       "      <td>28022.0</td>\n",
       "      <td>40.43624</td>\n",
       "      <td>-3.59947</td>\n",
       "      <td>Music</td>\n",
       "      <td>Rock</td>\n",
       "      <td>Pop</td>\n",
       "    </tr>\n",
       "    <tr>\n",
       "      <th>4</th>\n",
       "      <td>Z698xZ2qZa13R</td>\n",
       "      <td>Imagine Dragons: LOOM World Tour | VIP Packages</td>\n",
       "      <td>event</td>\n",
       "      <td>https://www.ticketmaster.es/event/imagine-drag...</td>\n",
       "      <td>en-us</td>\n",
       "      <td>2025-07-01</td>\n",
       "      <td>21:30:00</td>\n",
       "      <td>Europe/Madrid</td>\n",
       "      <td>onsale</td>\n",
       "      <td>Z598xZ2qZd7eF</td>\n",
       "      <td>...</td>\n",
       "      <td>Barcelona</td>\n",
       "      <td>Barcelona</td>\n",
       "      <td>Spain</td>\n",
       "      <td>Passeig Olímpic, 5-7</td>\n",
       "      <td>8038.0</td>\n",
       "      <td>41.36476</td>\n",
       "      <td>2.15565</td>\n",
       "      <td>Music</td>\n",
       "      <td>Rock</td>\n",
       "      <td>Pop</td>\n",
       "    </tr>\n",
       "  </tbody>\n",
       "</table>\n",
       "<p>5 rows × 21 columns</p>\n",
       "</div>"
      ]
     },
     "execution_count": 67,
     "metadata": {},
     "output_type": "execute_result"
    }
   ],
   "execution_count": 67
  },
  {
   "metadata": {
    "ExecuteTime": {
     "end_time": "2024-12-01T19:18:49.141169Z",
     "start_time": "2024-12-01T19:18:49.117247Z"
    }
   },
   "cell_type": "code",
   "source": "events_prices_df = events_df.merge(price_ranges_df, on='event_id', how='inner')",
   "id": "8c56c75bd4d58751",
   "outputs": [],
   "execution_count": 77
  },
  {
   "metadata": {
    "ExecuteTime": {
     "end_time": "2024-12-01T19:19:06.204816Z",
     "start_time": "2024-12-01T19:19:06.167070Z"
    }
   },
   "cell_type": "code",
   "source": "events_prices_df = events_prices_df[events_prices_df['type'] == 'standard'].drop_duplicates(subset='event_id')",
   "id": "c565ac385e18aa19",
   "outputs": [],
   "execution_count": 78
  },
  {
   "metadata": {
    "ExecuteTime": {
     "end_time": "2024-12-01T19:23:25.447678Z",
     "start_time": "2024-12-01T19:23:25.413491Z"
    }
   },
   "cell_type": "code",
   "source": "events_prices_df",
   "id": "c9069cb395942a05",
   "outputs": [
    {
     "data": {
      "text/plain": [
       "               event_id                                         event_name  \\\n",
       "1         Z698xZ2qZa17W                      Paul McCartney: GOT BACK TOUR   \n",
       "3         Z698xZ2qZa1Ad                      Paul McCartney: GOT BACK TOUR   \n",
       "4         Z698xZ2qZa13A    Imagine Dragons: LOOM World Tour | VIP Packages   \n",
       "6         Z698xZ2qZa18q                   Imagine Dragons: LOOM World Tour   \n",
       "8         Z698xZ2qZa13R    Imagine Dragons: LOOM World Tour | VIP Packages   \n",
       "..                  ...                                                ...   \n",
       "338  Z698xZ2qZ16vOg_prK  Jamiroquai - The Heels Of Steel Tour | VIP Pac...   \n",
       "340  Z698xZ2qZ16vaY1d08               Jamiroquai - The Heels Of Steel Tour   \n",
       "342  Z698xZ2qZ16vO4Q4fF                OneRepublic - Escape to Europe 2025   \n",
       "345   Z698xZ2qZ1kfpaV80  OneRepublic - Escape to Europe 2025 | Paquetes...   \n",
       "347        Z198xZ2qZkA7                   FLEX PRUEBAS IMPRESION ENTRADAS.   \n",
       "\n",
       "    event_type                                          event_url locale  \\\n",
       "1        event  https://www.ticketmaster.es/event/paul-mccartn...  en-us   \n",
       "3        event  https://www.ticketmaster.es/event/paul-mccartn...  en-us   \n",
       "4        event  https://www.ticketmaster.es/event/imagine-drag...  en-us   \n",
       "6        event  https://www.ticketmaster.es/event/imagine-drag...  en-us   \n",
       "8        event  https://www.ticketmaster.es/event/imagine-drag...  en-us   \n",
       "..         ...                                                ...    ...   \n",
       "338      event  https://www.ticketmaster.es/event/jamiroquai-t...  en-us   \n",
       "340      event  https://www.ticketmaster.es/event/jamiroquai-t...  en-us   \n",
       "342      event  https://www.ticketmaster.es/event/onerepublic-...  en-us   \n",
       "345      event  https://www.ticketmaster.es/event/onerepublic-...  en-us   \n",
       "347      event  https://www.ticketmaster.es/event/flex-pruebas...  en-us   \n",
       "\n",
       "     start_date start_time       timezone  status       venue_id  ...  \\\n",
       "1    2024-12-09   21:00:00  Europe/Madrid  onsale   Z198xZ2qZkek  ...   \n",
       "3    2024-12-10   21:00:00  Europe/Madrid  onsale   Z198xZ2qZkek  ...   \n",
       "4    2025-06-28   21:30:00  Europe/Madrid  onsale  Z598xZ2qZ6Fe1  ...   \n",
       "6    2025-06-28   21:30:00  Europe/Madrid  onsale  Z598xZ2qZ6Fe1  ...   \n",
       "8    2025-07-01   21:30:00  Europe/Madrid  onsale  Z598xZ2qZd7eF  ...   \n",
       "..          ...        ...            ...     ...            ...  ...   \n",
       "338  2025-11-06   21:00:00  Europe/Madrid  onsale  Z598xZ2qZe6d7  ...   \n",
       "340  2025-11-06   21:00:00  Europe/Madrid  onsale  Z598xZ2qZe6d7  ...   \n",
       "342  2025-11-14   21:00:00  Europe/Madrid  onsale  Z598xZ2qZe7v1  ...   \n",
       "345  2025-11-14   21:00:00  Europe/Madrid  onsale  Z598xZ2qZe7v1  ...   \n",
       "347  2025-12-31   21:00:00  Europe/Madrid  onsale  Z598xZ2qZe6d7  ...   \n",
       "\n",
       "    venue_postal_code venue_latitude venue_longitude segment_name genre_name  \\\n",
       "1             28009.0       40.42394        -3.67580        Music       Rock   \n",
       "3             28009.0       40.42394        -3.67580        Music       Rock   \n",
       "4             28022.0       40.43624        -3.59947        Music       Rock   \n",
       "6             28022.0       40.43624        -3.59947        Music       Rock   \n",
       "8              8038.0       41.36476         2.15565        Music       Rock   \n",
       "..                ...            ...             ...          ...        ...   \n",
       "338            8038.0       41.36337         2.15259        Music       Rock   \n",
       "340            8038.0       41.36337         2.15259        Music       Rock   \n",
       "342           28025.0       40.38600        -3.73850        Music       Rock   \n",
       "345           28025.0       40.38600        -3.73850        Music       Rock   \n",
       "347            8038.0       41.36337         2.15259        Music       Rock   \n",
       "\n",
       "     sub_genre_name      type  currency min_price max_price  \n",
       "1               Pop  standard       EUR      45.0     500.0  \n",
       "3               Pop  standard       EUR      45.0     500.0  \n",
       "4               Pop  standard       EUR     297.0    6757.5  \n",
       "6               Pop  standard       EUR      65.0     260.0  \n",
       "8               Pop  standard       EUR     297.0    6757.5  \n",
       "..              ...       ...       ...       ...       ...  \n",
       "338             Pop  standard       EUR     205.0     215.0  \n",
       "340             Pop  standard       EUR      60.0     105.0  \n",
       "342             Pop  standard       EUR      60.0     176.0  \n",
       "345             Pop  standard       EUR     175.0     285.0  \n",
       "347             Pop  standard       EUR       0.5       0.5  \n",
       "\n",
       "[174 rows x 25 columns]"
      ],
      "text/html": [
       "<div>\n",
       "<style scoped>\n",
       "    .dataframe tbody tr th:only-of-type {\n",
       "        vertical-align: middle;\n",
       "    }\n",
       "\n",
       "    .dataframe tbody tr th {\n",
       "        vertical-align: top;\n",
       "    }\n",
       "\n",
       "    .dataframe thead th {\n",
       "        text-align: right;\n",
       "    }\n",
       "</style>\n",
       "<table border=\"1\" class=\"dataframe\">\n",
       "  <thead>\n",
       "    <tr style=\"text-align: right;\">\n",
       "      <th></th>\n",
       "      <th>event_id</th>\n",
       "      <th>event_name</th>\n",
       "      <th>event_type</th>\n",
       "      <th>event_url</th>\n",
       "      <th>locale</th>\n",
       "      <th>start_date</th>\n",
       "      <th>start_time</th>\n",
       "      <th>timezone</th>\n",
       "      <th>status</th>\n",
       "      <th>venue_id</th>\n",
       "      <th>...</th>\n",
       "      <th>venue_postal_code</th>\n",
       "      <th>venue_latitude</th>\n",
       "      <th>venue_longitude</th>\n",
       "      <th>segment_name</th>\n",
       "      <th>genre_name</th>\n",
       "      <th>sub_genre_name</th>\n",
       "      <th>type</th>\n",
       "      <th>currency</th>\n",
       "      <th>min_price</th>\n",
       "      <th>max_price</th>\n",
       "    </tr>\n",
       "  </thead>\n",
       "  <tbody>\n",
       "    <tr>\n",
       "      <th>1</th>\n",
       "      <td>Z698xZ2qZa17W</td>\n",
       "      <td>Paul McCartney: GOT BACK TOUR</td>\n",
       "      <td>event</td>\n",
       "      <td>https://www.ticketmaster.es/event/paul-mccartn...</td>\n",
       "      <td>en-us</td>\n",
       "      <td>2024-12-09</td>\n",
       "      <td>21:00:00</td>\n",
       "      <td>Europe/Madrid</td>\n",
       "      <td>onsale</td>\n",
       "      <td>Z198xZ2qZkek</td>\n",
       "      <td>...</td>\n",
       "      <td>28009.0</td>\n",
       "      <td>40.42394</td>\n",
       "      <td>-3.67580</td>\n",
       "      <td>Music</td>\n",
       "      <td>Rock</td>\n",
       "      <td>Pop</td>\n",
       "      <td>standard</td>\n",
       "      <td>EUR</td>\n",
       "      <td>45.0</td>\n",
       "      <td>500.0</td>\n",
       "    </tr>\n",
       "    <tr>\n",
       "      <th>3</th>\n",
       "      <td>Z698xZ2qZa1Ad</td>\n",
       "      <td>Paul McCartney: GOT BACK TOUR</td>\n",
       "      <td>event</td>\n",
       "      <td>https://www.ticketmaster.es/event/paul-mccartn...</td>\n",
       "      <td>en-us</td>\n",
       "      <td>2024-12-10</td>\n",
       "      <td>21:00:00</td>\n",
       "      <td>Europe/Madrid</td>\n",
       "      <td>onsale</td>\n",
       "      <td>Z198xZ2qZkek</td>\n",
       "      <td>...</td>\n",
       "      <td>28009.0</td>\n",
       "      <td>40.42394</td>\n",
       "      <td>-3.67580</td>\n",
       "      <td>Music</td>\n",
       "      <td>Rock</td>\n",
       "      <td>Pop</td>\n",
       "      <td>standard</td>\n",
       "      <td>EUR</td>\n",
       "      <td>45.0</td>\n",
       "      <td>500.0</td>\n",
       "    </tr>\n",
       "    <tr>\n",
       "      <th>4</th>\n",
       "      <td>Z698xZ2qZa13A</td>\n",
       "      <td>Imagine Dragons: LOOM World Tour | VIP Packages</td>\n",
       "      <td>event</td>\n",
       "      <td>https://www.ticketmaster.es/event/imagine-drag...</td>\n",
       "      <td>en-us</td>\n",
       "      <td>2025-06-28</td>\n",
       "      <td>21:30:00</td>\n",
       "      <td>Europe/Madrid</td>\n",
       "      <td>onsale</td>\n",
       "      <td>Z598xZ2qZ6Fe1</td>\n",
       "      <td>...</td>\n",
       "      <td>28022.0</td>\n",
       "      <td>40.43624</td>\n",
       "      <td>-3.59947</td>\n",
       "      <td>Music</td>\n",
       "      <td>Rock</td>\n",
       "      <td>Pop</td>\n",
       "      <td>standard</td>\n",
       "      <td>EUR</td>\n",
       "      <td>297.0</td>\n",
       "      <td>6757.5</td>\n",
       "    </tr>\n",
       "    <tr>\n",
       "      <th>6</th>\n",
       "      <td>Z698xZ2qZa18q</td>\n",
       "      <td>Imagine Dragons: LOOM World Tour</td>\n",
       "      <td>event</td>\n",
       "      <td>https://www.ticketmaster.es/event/imagine-drag...</td>\n",
       "      <td>en-us</td>\n",
       "      <td>2025-06-28</td>\n",
       "      <td>21:30:00</td>\n",
       "      <td>Europe/Madrid</td>\n",
       "      <td>onsale</td>\n",
       "      <td>Z598xZ2qZ6Fe1</td>\n",
       "      <td>...</td>\n",
       "      <td>28022.0</td>\n",
       "      <td>40.43624</td>\n",
       "      <td>-3.59947</td>\n",
       "      <td>Music</td>\n",
       "      <td>Rock</td>\n",
       "      <td>Pop</td>\n",
       "      <td>standard</td>\n",
       "      <td>EUR</td>\n",
       "      <td>65.0</td>\n",
       "      <td>260.0</td>\n",
       "    </tr>\n",
       "    <tr>\n",
       "      <th>8</th>\n",
       "      <td>Z698xZ2qZa13R</td>\n",
       "      <td>Imagine Dragons: LOOM World Tour | VIP Packages</td>\n",
       "      <td>event</td>\n",
       "      <td>https://www.ticketmaster.es/event/imagine-drag...</td>\n",
       "      <td>en-us</td>\n",
       "      <td>2025-07-01</td>\n",
       "      <td>21:30:00</td>\n",
       "      <td>Europe/Madrid</td>\n",
       "      <td>onsale</td>\n",
       "      <td>Z598xZ2qZd7eF</td>\n",
       "      <td>...</td>\n",
       "      <td>8038.0</td>\n",
       "      <td>41.36476</td>\n",
       "      <td>2.15565</td>\n",
       "      <td>Music</td>\n",
       "      <td>Rock</td>\n",
       "      <td>Pop</td>\n",
       "      <td>standard</td>\n",
       "      <td>EUR</td>\n",
       "      <td>297.0</td>\n",
       "      <td>6757.5</td>\n",
       "    </tr>\n",
       "    <tr>\n",
       "      <th>...</th>\n",
       "      <td>...</td>\n",
       "      <td>...</td>\n",
       "      <td>...</td>\n",
       "      <td>...</td>\n",
       "      <td>...</td>\n",
       "      <td>...</td>\n",
       "      <td>...</td>\n",
       "      <td>...</td>\n",
       "      <td>...</td>\n",
       "      <td>...</td>\n",
       "      <td>...</td>\n",
       "      <td>...</td>\n",
       "      <td>...</td>\n",
       "      <td>...</td>\n",
       "      <td>...</td>\n",
       "      <td>...</td>\n",
       "      <td>...</td>\n",
       "      <td>...</td>\n",
       "      <td>...</td>\n",
       "      <td>...</td>\n",
       "      <td>...</td>\n",
       "    </tr>\n",
       "    <tr>\n",
       "      <th>338</th>\n",
       "      <td>Z698xZ2qZ16vOg_prK</td>\n",
       "      <td>Jamiroquai - The Heels Of Steel Tour | VIP Pac...</td>\n",
       "      <td>event</td>\n",
       "      <td>https://www.ticketmaster.es/event/jamiroquai-t...</td>\n",
       "      <td>en-us</td>\n",
       "      <td>2025-11-06</td>\n",
       "      <td>21:00:00</td>\n",
       "      <td>Europe/Madrid</td>\n",
       "      <td>onsale</td>\n",
       "      <td>Z598xZ2qZe6d7</td>\n",
       "      <td>...</td>\n",
       "      <td>8038.0</td>\n",
       "      <td>41.36337</td>\n",
       "      <td>2.15259</td>\n",
       "      <td>Music</td>\n",
       "      <td>Rock</td>\n",
       "      <td>Pop</td>\n",
       "      <td>standard</td>\n",
       "      <td>EUR</td>\n",
       "      <td>205.0</td>\n",
       "      <td>215.0</td>\n",
       "    </tr>\n",
       "    <tr>\n",
       "      <th>340</th>\n",
       "      <td>Z698xZ2qZ16vaY1d08</td>\n",
       "      <td>Jamiroquai - The Heels Of Steel Tour</td>\n",
       "      <td>event</td>\n",
       "      <td>https://www.ticketmaster.es/event/jamiroquai-t...</td>\n",
       "      <td>en-us</td>\n",
       "      <td>2025-11-06</td>\n",
       "      <td>21:00:00</td>\n",
       "      <td>Europe/Madrid</td>\n",
       "      <td>onsale</td>\n",
       "      <td>Z598xZ2qZe6d7</td>\n",
       "      <td>...</td>\n",
       "      <td>8038.0</td>\n",
       "      <td>41.36337</td>\n",
       "      <td>2.15259</td>\n",
       "      <td>Music</td>\n",
       "      <td>Rock</td>\n",
       "      <td>Pop</td>\n",
       "      <td>standard</td>\n",
       "      <td>EUR</td>\n",
       "      <td>60.0</td>\n",
       "      <td>105.0</td>\n",
       "    </tr>\n",
       "    <tr>\n",
       "      <th>342</th>\n",
       "      <td>Z698xZ2qZ16vO4Q4fF</td>\n",
       "      <td>OneRepublic - Escape to Europe 2025</td>\n",
       "      <td>event</td>\n",
       "      <td>https://www.ticketmaster.es/event/onerepublic-...</td>\n",
       "      <td>en-us</td>\n",
       "      <td>2025-11-14</td>\n",
       "      <td>21:00:00</td>\n",
       "      <td>Europe/Madrid</td>\n",
       "      <td>onsale</td>\n",
       "      <td>Z598xZ2qZe7v1</td>\n",
       "      <td>...</td>\n",
       "      <td>28025.0</td>\n",
       "      <td>40.38600</td>\n",
       "      <td>-3.73850</td>\n",
       "      <td>Music</td>\n",
       "      <td>Rock</td>\n",
       "      <td>Pop</td>\n",
       "      <td>standard</td>\n",
       "      <td>EUR</td>\n",
       "      <td>60.0</td>\n",
       "      <td>176.0</td>\n",
       "    </tr>\n",
       "    <tr>\n",
       "      <th>345</th>\n",
       "      <td>Z698xZ2qZ1kfpaV80</td>\n",
       "      <td>OneRepublic - Escape to Europe 2025 | Paquetes...</td>\n",
       "      <td>event</td>\n",
       "      <td>https://www.ticketmaster.es/event/onerepublic-...</td>\n",
       "      <td>en-us</td>\n",
       "      <td>2025-11-14</td>\n",
       "      <td>21:00:00</td>\n",
       "      <td>Europe/Madrid</td>\n",
       "      <td>onsale</td>\n",
       "      <td>Z598xZ2qZe7v1</td>\n",
       "      <td>...</td>\n",
       "      <td>28025.0</td>\n",
       "      <td>40.38600</td>\n",
       "      <td>-3.73850</td>\n",
       "      <td>Music</td>\n",
       "      <td>Rock</td>\n",
       "      <td>Pop</td>\n",
       "      <td>standard</td>\n",
       "      <td>EUR</td>\n",
       "      <td>175.0</td>\n",
       "      <td>285.0</td>\n",
       "    </tr>\n",
       "    <tr>\n",
       "      <th>347</th>\n",
       "      <td>Z198xZ2qZkA7</td>\n",
       "      <td>FLEX PRUEBAS IMPRESION ENTRADAS.</td>\n",
       "      <td>event</td>\n",
       "      <td>https://www.ticketmaster.es/event/flex-pruebas...</td>\n",
       "      <td>en-us</td>\n",
       "      <td>2025-12-31</td>\n",
       "      <td>21:00:00</td>\n",
       "      <td>Europe/Madrid</td>\n",
       "      <td>onsale</td>\n",
       "      <td>Z598xZ2qZe6d7</td>\n",
       "      <td>...</td>\n",
       "      <td>8038.0</td>\n",
       "      <td>41.36337</td>\n",
       "      <td>2.15259</td>\n",
       "      <td>Music</td>\n",
       "      <td>Rock</td>\n",
       "      <td>Pop</td>\n",
       "      <td>standard</td>\n",
       "      <td>EUR</td>\n",
       "      <td>0.5</td>\n",
       "      <td>0.5</td>\n",
       "    </tr>\n",
       "  </tbody>\n",
       "</table>\n",
       "<p>174 rows × 25 columns</p>\n",
       "</div>"
      ]
     },
     "execution_count": 82,
     "metadata": {},
     "output_type": "execute_result"
    }
   ],
   "execution_count": 82
  },
  {
   "metadata": {
    "ExecuteTime": {
     "end_time": "2024-12-01T20:43:05.095055Z",
     "start_time": "2024-12-01T20:43:05.072143Z"
    }
   },
   "cell_type": "code",
   "source": [
    "grouped = events_prices_df[events_prices_df['segment_name']=='Music'].groupby(\"sub_genre_name\").agg(\n",
    "    avg_min_price=(\"min_price\", \"mean\"),\n",
    "    avg_max_price=(\"max_price\", \"mean\"),\n",
    "    count=(\"event_id\", \"size\")\n",
    ").reset_index()"
   ],
   "id": "a7a250e4b53c71c7",
   "outputs": [],
   "execution_count": 180
  },
  {
   "metadata": {
    "ExecuteTime": {
     "end_time": "2024-12-01T20:43:06.005939Z",
     "start_time": "2024-12-01T20:43:05.948977Z"
    }
   },
   "cell_type": "code",
   "source": [
    "fig = px.scatter(\n",
    "    grouped,\n",
    "    x=\"sub_genre_name\",\n",
    "    y=\"avg_min_price\",\n",
    "    size=\"count\",\n",
    "    size_max=100,\n",
    "    hover_name=\"sub_genre_name\",\n",
    "    hover_data={\"count\": True, \"avg_max_price\": True},\n",
    "    title=\"Bubble Plot of Sub-Genre and Price Ranges\",\n",
    "    labels={\n",
    "        \"sub_genre_name\": \"Sub-Genre\",\n",
    "        \"avg_min_price\": \"Average Min Price\",\n",
    "        \"count\": \"Number of Events\"\n",
    "    }\n",
    ")\n",
    "fig.update_layout(\n",
    "    xaxis_title=\"Sub-Genre\",\n",
    "    yaxis_title=\"Average Min Price\",\n",
    "    xaxis_tickangle=45,\n",
    "    height=600,\n",
    "    width=1000\n",
    ")\n",
    "\n",
    "fig.show()\n"
   ],
   "id": "759e80a20800b2af",
   "outputs": [
    {
     "data": {
      "application/vnd.plotly.v1+json": {
       "data": [
        {
         "customdata": [
          [
           1.0,
           50.0
          ],
          [
           11.0,
           49.81818181818182
          ],
          [
           2.0,
           67.0
          ],
          [
           3.0,
           33.333333333333336
          ],
          [
           2.0,
           28.5
          ],
          [
           1.0,
           20.0
          ],
          [
           6.0,
           82.75
          ],
          [
           106.0,
           262.66509433962267
          ],
          [
           3.0,
           338.69
          ]
         ],
         "hovertemplate": "<b>%{hovertext}</b><br><br>Sub-Genre=%{x}<br>Average Min Price=%{y}<br>Number of Events=%{customdata[0]}<br>avg_max_price=%{customdata[1]}<extra></extra>",
         "hovertext": [
          "African Pop",
          "Alternative Rock",
          "Classical/Vocal",
          "Dance/Electronic",
          "Hard Rock",
          "Hip-Hop/Rap",
          "Other",
          "Pop",
          "Undefined"
         ],
         "legendgroup": "",
         "marker": {
          "color": "#636efa",
          "size": [
           1,
           11,
           2,
           3,
           2,
           1,
           6,
           106,
           3
          ],
          "sizemode": "area",
          "sizeref": 0.0106,
          "symbol": "circle"
         },
         "mode": "markers",
         "name": "",
         "orientation": "v",
         "showlegend": false,
         "x": [
          "African Pop",
          "Alternative Rock",
          "Classical/Vocal",
          "Dance/Electronic",
          "Hard Rock",
          "Hip-Hop/Rap",
          "Other",
          "Pop",
          "Undefined"
         ],
         "xaxis": "x",
         "y": [
          50.0,
          35.27272727272727,
          36.3,
          33.333333333333336,
          28.5,
          20.0,
          34.31666666666667,
          72.14622641509433,
          31.426666666666666
         ],
         "yaxis": "y",
         "type": "scatter"
        }
       ],
       "layout": {
        "template": {
         "data": {
          "histogram2dcontour": [
           {
            "type": "histogram2dcontour",
            "colorbar": {
             "outlinewidth": 0,
             "ticks": ""
            },
            "colorscale": [
             [
              0.0,
              "#0d0887"
             ],
             [
              0.1111111111111111,
              "#46039f"
             ],
             [
              0.2222222222222222,
              "#7201a8"
             ],
             [
              0.3333333333333333,
              "#9c179e"
             ],
             [
              0.4444444444444444,
              "#bd3786"
             ],
             [
              0.5555555555555556,
              "#d8576b"
             ],
             [
              0.6666666666666666,
              "#ed7953"
             ],
             [
              0.7777777777777778,
              "#fb9f3a"
             ],
             [
              0.8888888888888888,
              "#fdca26"
             ],
             [
              1.0,
              "#f0f921"
             ]
            ]
           }
          ],
          "choropleth": [
           {
            "type": "choropleth",
            "colorbar": {
             "outlinewidth": 0,
             "ticks": ""
            }
           }
          ],
          "histogram2d": [
           {
            "type": "histogram2d",
            "colorbar": {
             "outlinewidth": 0,
             "ticks": ""
            },
            "colorscale": [
             [
              0.0,
              "#0d0887"
             ],
             [
              0.1111111111111111,
              "#46039f"
             ],
             [
              0.2222222222222222,
              "#7201a8"
             ],
             [
              0.3333333333333333,
              "#9c179e"
             ],
             [
              0.4444444444444444,
              "#bd3786"
             ],
             [
              0.5555555555555556,
              "#d8576b"
             ],
             [
              0.6666666666666666,
              "#ed7953"
             ],
             [
              0.7777777777777778,
              "#fb9f3a"
             ],
             [
              0.8888888888888888,
              "#fdca26"
             ],
             [
              1.0,
              "#f0f921"
             ]
            ]
           }
          ],
          "heatmap": [
           {
            "type": "heatmap",
            "colorbar": {
             "outlinewidth": 0,
             "ticks": ""
            },
            "colorscale": [
             [
              0.0,
              "#0d0887"
             ],
             [
              0.1111111111111111,
              "#46039f"
             ],
             [
              0.2222222222222222,
              "#7201a8"
             ],
             [
              0.3333333333333333,
              "#9c179e"
             ],
             [
              0.4444444444444444,
              "#bd3786"
             ],
             [
              0.5555555555555556,
              "#d8576b"
             ],
             [
              0.6666666666666666,
              "#ed7953"
             ],
             [
              0.7777777777777778,
              "#fb9f3a"
             ],
             [
              0.8888888888888888,
              "#fdca26"
             ],
             [
              1.0,
              "#f0f921"
             ]
            ]
           }
          ],
          "heatmapgl": [
           {
            "type": "heatmapgl",
            "colorbar": {
             "outlinewidth": 0,
             "ticks": ""
            },
            "colorscale": [
             [
              0.0,
              "#0d0887"
             ],
             [
              0.1111111111111111,
              "#46039f"
             ],
             [
              0.2222222222222222,
              "#7201a8"
             ],
             [
              0.3333333333333333,
              "#9c179e"
             ],
             [
              0.4444444444444444,
              "#bd3786"
             ],
             [
              0.5555555555555556,
              "#d8576b"
             ],
             [
              0.6666666666666666,
              "#ed7953"
             ],
             [
              0.7777777777777778,
              "#fb9f3a"
             ],
             [
              0.8888888888888888,
              "#fdca26"
             ],
             [
              1.0,
              "#f0f921"
             ]
            ]
           }
          ],
          "contourcarpet": [
           {
            "type": "contourcarpet",
            "colorbar": {
             "outlinewidth": 0,
             "ticks": ""
            }
           }
          ],
          "contour": [
           {
            "type": "contour",
            "colorbar": {
             "outlinewidth": 0,
             "ticks": ""
            },
            "colorscale": [
             [
              0.0,
              "#0d0887"
             ],
             [
              0.1111111111111111,
              "#46039f"
             ],
             [
              0.2222222222222222,
              "#7201a8"
             ],
             [
              0.3333333333333333,
              "#9c179e"
             ],
             [
              0.4444444444444444,
              "#bd3786"
             ],
             [
              0.5555555555555556,
              "#d8576b"
             ],
             [
              0.6666666666666666,
              "#ed7953"
             ],
             [
              0.7777777777777778,
              "#fb9f3a"
             ],
             [
              0.8888888888888888,
              "#fdca26"
             ],
             [
              1.0,
              "#f0f921"
             ]
            ]
           }
          ],
          "surface": [
           {
            "type": "surface",
            "colorbar": {
             "outlinewidth": 0,
             "ticks": ""
            },
            "colorscale": [
             [
              0.0,
              "#0d0887"
             ],
             [
              0.1111111111111111,
              "#46039f"
             ],
             [
              0.2222222222222222,
              "#7201a8"
             ],
             [
              0.3333333333333333,
              "#9c179e"
             ],
             [
              0.4444444444444444,
              "#bd3786"
             ],
             [
              0.5555555555555556,
              "#d8576b"
             ],
             [
              0.6666666666666666,
              "#ed7953"
             ],
             [
              0.7777777777777778,
              "#fb9f3a"
             ],
             [
              0.8888888888888888,
              "#fdca26"
             ],
             [
              1.0,
              "#f0f921"
             ]
            ]
           }
          ],
          "mesh3d": [
           {
            "type": "mesh3d",
            "colorbar": {
             "outlinewidth": 0,
             "ticks": ""
            }
           }
          ],
          "scatter": [
           {
            "fillpattern": {
             "fillmode": "overlay",
             "size": 10,
             "solidity": 0.2
            },
            "type": "scatter"
           }
          ],
          "parcoords": [
           {
            "type": "parcoords",
            "line": {
             "colorbar": {
              "outlinewidth": 0,
              "ticks": ""
             }
            }
           }
          ],
          "scatterpolargl": [
           {
            "type": "scatterpolargl",
            "marker": {
             "colorbar": {
              "outlinewidth": 0,
              "ticks": ""
             }
            }
           }
          ],
          "bar": [
           {
            "error_x": {
             "color": "#2a3f5f"
            },
            "error_y": {
             "color": "#2a3f5f"
            },
            "marker": {
             "line": {
              "color": "#E5ECF6",
              "width": 0.5
             },
             "pattern": {
              "fillmode": "overlay",
              "size": 10,
              "solidity": 0.2
             }
            },
            "type": "bar"
           }
          ],
          "scattergeo": [
           {
            "type": "scattergeo",
            "marker": {
             "colorbar": {
              "outlinewidth": 0,
              "ticks": ""
             }
            }
           }
          ],
          "scatterpolar": [
           {
            "type": "scatterpolar",
            "marker": {
             "colorbar": {
              "outlinewidth": 0,
              "ticks": ""
             }
            }
           }
          ],
          "histogram": [
           {
            "marker": {
             "pattern": {
              "fillmode": "overlay",
              "size": 10,
              "solidity": 0.2
             }
            },
            "type": "histogram"
           }
          ],
          "scattergl": [
           {
            "type": "scattergl",
            "marker": {
             "colorbar": {
              "outlinewidth": 0,
              "ticks": ""
             }
            }
           }
          ],
          "scatter3d": [
           {
            "type": "scatter3d",
            "line": {
             "colorbar": {
              "outlinewidth": 0,
              "ticks": ""
             }
            },
            "marker": {
             "colorbar": {
              "outlinewidth": 0,
              "ticks": ""
             }
            }
           }
          ],
          "scattermapbox": [
           {
            "type": "scattermapbox",
            "marker": {
             "colorbar": {
              "outlinewidth": 0,
              "ticks": ""
             }
            }
           }
          ],
          "scatterternary": [
           {
            "type": "scatterternary",
            "marker": {
             "colorbar": {
              "outlinewidth": 0,
              "ticks": ""
             }
            }
           }
          ],
          "scattercarpet": [
           {
            "type": "scattercarpet",
            "marker": {
             "colorbar": {
              "outlinewidth": 0,
              "ticks": ""
             }
            }
           }
          ],
          "carpet": [
           {
            "aaxis": {
             "endlinecolor": "#2a3f5f",
             "gridcolor": "white",
             "linecolor": "white",
             "minorgridcolor": "white",
             "startlinecolor": "#2a3f5f"
            },
            "baxis": {
             "endlinecolor": "#2a3f5f",
             "gridcolor": "white",
             "linecolor": "white",
             "minorgridcolor": "white",
             "startlinecolor": "#2a3f5f"
            },
            "type": "carpet"
           }
          ],
          "table": [
           {
            "cells": {
             "fill": {
              "color": "#EBF0F8"
             },
             "line": {
              "color": "white"
             }
            },
            "header": {
             "fill": {
              "color": "#C8D4E3"
             },
             "line": {
              "color": "white"
             }
            },
            "type": "table"
           }
          ],
          "barpolar": [
           {
            "marker": {
             "line": {
              "color": "#E5ECF6",
              "width": 0.5
             },
             "pattern": {
              "fillmode": "overlay",
              "size": 10,
              "solidity": 0.2
             }
            },
            "type": "barpolar"
           }
          ],
          "pie": [
           {
            "automargin": true,
            "type": "pie"
           }
          ]
         },
         "layout": {
          "autotypenumbers": "strict",
          "colorway": [
           "#636efa",
           "#EF553B",
           "#00cc96",
           "#ab63fa",
           "#FFA15A",
           "#19d3f3",
           "#FF6692",
           "#B6E880",
           "#FF97FF",
           "#FECB52"
          ],
          "font": {
           "color": "#2a3f5f"
          },
          "hovermode": "closest",
          "hoverlabel": {
           "align": "left"
          },
          "paper_bgcolor": "white",
          "plot_bgcolor": "#E5ECF6",
          "polar": {
           "bgcolor": "#E5ECF6",
           "angularaxis": {
            "gridcolor": "white",
            "linecolor": "white",
            "ticks": ""
           },
           "radialaxis": {
            "gridcolor": "white",
            "linecolor": "white",
            "ticks": ""
           }
          },
          "ternary": {
           "bgcolor": "#E5ECF6",
           "aaxis": {
            "gridcolor": "white",
            "linecolor": "white",
            "ticks": ""
           },
           "baxis": {
            "gridcolor": "white",
            "linecolor": "white",
            "ticks": ""
           },
           "caxis": {
            "gridcolor": "white",
            "linecolor": "white",
            "ticks": ""
           }
          },
          "coloraxis": {
           "colorbar": {
            "outlinewidth": 0,
            "ticks": ""
           }
          },
          "colorscale": {
           "sequential": [
            [
             0.0,
             "#0d0887"
            ],
            [
             0.1111111111111111,
             "#46039f"
            ],
            [
             0.2222222222222222,
             "#7201a8"
            ],
            [
             0.3333333333333333,
             "#9c179e"
            ],
            [
             0.4444444444444444,
             "#bd3786"
            ],
            [
             0.5555555555555556,
             "#d8576b"
            ],
            [
             0.6666666666666666,
             "#ed7953"
            ],
            [
             0.7777777777777778,
             "#fb9f3a"
            ],
            [
             0.8888888888888888,
             "#fdca26"
            ],
            [
             1.0,
             "#f0f921"
            ]
           ],
           "sequentialminus": [
            [
             0.0,
             "#0d0887"
            ],
            [
             0.1111111111111111,
             "#46039f"
            ],
            [
             0.2222222222222222,
             "#7201a8"
            ],
            [
             0.3333333333333333,
             "#9c179e"
            ],
            [
             0.4444444444444444,
             "#bd3786"
            ],
            [
             0.5555555555555556,
             "#d8576b"
            ],
            [
             0.6666666666666666,
             "#ed7953"
            ],
            [
             0.7777777777777778,
             "#fb9f3a"
            ],
            [
             0.8888888888888888,
             "#fdca26"
            ],
            [
             1.0,
             "#f0f921"
            ]
           ],
           "diverging": [
            [
             0,
             "#8e0152"
            ],
            [
             0.1,
             "#c51b7d"
            ],
            [
             0.2,
             "#de77ae"
            ],
            [
             0.3,
             "#f1b6da"
            ],
            [
             0.4,
             "#fde0ef"
            ],
            [
             0.5,
             "#f7f7f7"
            ],
            [
             0.6,
             "#e6f5d0"
            ],
            [
             0.7,
             "#b8e186"
            ],
            [
             0.8,
             "#7fbc41"
            ],
            [
             0.9,
             "#4d9221"
            ],
            [
             1,
             "#276419"
            ]
           ]
          },
          "xaxis": {
           "gridcolor": "white",
           "linecolor": "white",
           "ticks": "",
           "title": {
            "standoff": 15
           },
           "zerolinecolor": "white",
           "automargin": true,
           "zerolinewidth": 2
          },
          "yaxis": {
           "gridcolor": "white",
           "linecolor": "white",
           "ticks": "",
           "title": {
            "standoff": 15
           },
           "zerolinecolor": "white",
           "automargin": true,
           "zerolinewidth": 2
          },
          "scene": {
           "xaxis": {
            "backgroundcolor": "#E5ECF6",
            "gridcolor": "white",
            "linecolor": "white",
            "showbackground": true,
            "ticks": "",
            "zerolinecolor": "white",
            "gridwidth": 2
           },
           "yaxis": {
            "backgroundcolor": "#E5ECF6",
            "gridcolor": "white",
            "linecolor": "white",
            "showbackground": true,
            "ticks": "",
            "zerolinecolor": "white",
            "gridwidth": 2
           },
           "zaxis": {
            "backgroundcolor": "#E5ECF6",
            "gridcolor": "white",
            "linecolor": "white",
            "showbackground": true,
            "ticks": "",
            "zerolinecolor": "white",
            "gridwidth": 2
           }
          },
          "shapedefaults": {
           "line": {
            "color": "#2a3f5f"
           }
          },
          "annotationdefaults": {
           "arrowcolor": "#2a3f5f",
           "arrowhead": 0,
           "arrowwidth": 1
          },
          "geo": {
           "bgcolor": "white",
           "landcolor": "#E5ECF6",
           "subunitcolor": "white",
           "showland": true,
           "showlakes": true,
           "lakecolor": "white"
          },
          "title": {
           "x": 0.05
          },
          "mapbox": {
           "style": "light"
          }
         }
        },
        "xaxis": {
         "anchor": "y",
         "domain": [
          0.0,
          1.0
         ],
         "title": {
          "text": "Sub-Genre"
         },
         "tickangle": 45
        },
        "yaxis": {
         "anchor": "x",
         "domain": [
          0.0,
          1.0
         ],
         "title": {
          "text": "Average Min Price"
         }
        },
        "legend": {
         "tracegroupgap": 0,
         "itemsizing": "constant"
        },
        "title": {
         "text": "Bubble Plot of Sub-Genre and Price Ranges"
        },
        "height": 600,
        "width": 1000
       },
       "config": {
        "plotlyServerURL": "https://plot.ly"
       }
      },
      "text/html": [
       "<div>                            <div id=\"29d6d40c-53ca-462a-9699-f3fbeb10b4b8\" class=\"plotly-graph-div\" style=\"height:600px; width:1000px;\"></div>            <script type=\"text/javascript\">                require([\"plotly\"], function(Plotly) {                    window.PLOTLYENV=window.PLOTLYENV || {};                                    if (document.getElementById(\"29d6d40c-53ca-462a-9699-f3fbeb10b4b8\")) {                    Plotly.newPlot(                        \"29d6d40c-53ca-462a-9699-f3fbeb10b4b8\",                        [{\"customdata\":[[1.0,50.0],[11.0,49.81818181818182],[2.0,67.0],[3.0,33.333333333333336],[2.0,28.5],[1.0,20.0],[6.0,82.75],[106.0,262.66509433962267],[3.0,338.69]],\"hovertemplate\":\"\\u003cb\\u003e%{hovertext}\\u003c\\u002fb\\u003e\\u003cbr\\u003e\\u003cbr\\u003eSub-Genre=%{x}\\u003cbr\\u003eAverage Min Price=%{y}\\u003cbr\\u003eNumber of Events=%{customdata[0]}\\u003cbr\\u003eavg_max_price=%{customdata[1]}\\u003cextra\\u003e\\u003c\\u002fextra\\u003e\",\"hovertext\":[\"African Pop\",\"Alternative Rock\",\"Classical\\u002fVocal\",\"Dance\\u002fElectronic\",\"Hard Rock\",\"Hip-Hop\\u002fRap\",\"Other\",\"Pop\",\"Undefined\"],\"legendgroup\":\"\",\"marker\":{\"color\":\"#636efa\",\"size\":[1,11,2,3,2,1,6,106,3],\"sizemode\":\"area\",\"sizeref\":0.0106,\"symbol\":\"circle\"},\"mode\":\"markers\",\"name\":\"\",\"orientation\":\"v\",\"showlegend\":false,\"x\":[\"African Pop\",\"Alternative Rock\",\"Classical\\u002fVocal\",\"Dance\\u002fElectronic\",\"Hard Rock\",\"Hip-Hop\\u002fRap\",\"Other\",\"Pop\",\"Undefined\"],\"xaxis\":\"x\",\"y\":[50.0,35.27272727272727,36.3,33.333333333333336,28.5,20.0,34.31666666666667,72.14622641509433,31.426666666666666],\"yaxis\":\"y\",\"type\":\"scatter\"}],                        {\"template\":{\"data\":{\"histogram2dcontour\":[{\"type\":\"histogram2dcontour\",\"colorbar\":{\"outlinewidth\":0,\"ticks\":\"\"},\"colorscale\":[[0.0,\"#0d0887\"],[0.1111111111111111,\"#46039f\"],[0.2222222222222222,\"#7201a8\"],[0.3333333333333333,\"#9c179e\"],[0.4444444444444444,\"#bd3786\"],[0.5555555555555556,\"#d8576b\"],[0.6666666666666666,\"#ed7953\"],[0.7777777777777778,\"#fb9f3a\"],[0.8888888888888888,\"#fdca26\"],[1.0,\"#f0f921\"]]}],\"choropleth\":[{\"type\":\"choropleth\",\"colorbar\":{\"outlinewidth\":0,\"ticks\":\"\"}}],\"histogram2d\":[{\"type\":\"histogram2d\",\"colorbar\":{\"outlinewidth\":0,\"ticks\":\"\"},\"colorscale\":[[0.0,\"#0d0887\"],[0.1111111111111111,\"#46039f\"],[0.2222222222222222,\"#7201a8\"],[0.3333333333333333,\"#9c179e\"],[0.4444444444444444,\"#bd3786\"],[0.5555555555555556,\"#d8576b\"],[0.6666666666666666,\"#ed7953\"],[0.7777777777777778,\"#fb9f3a\"],[0.8888888888888888,\"#fdca26\"],[1.0,\"#f0f921\"]]}],\"heatmap\":[{\"type\":\"heatmap\",\"colorbar\":{\"outlinewidth\":0,\"ticks\":\"\"},\"colorscale\":[[0.0,\"#0d0887\"],[0.1111111111111111,\"#46039f\"],[0.2222222222222222,\"#7201a8\"],[0.3333333333333333,\"#9c179e\"],[0.4444444444444444,\"#bd3786\"],[0.5555555555555556,\"#d8576b\"],[0.6666666666666666,\"#ed7953\"],[0.7777777777777778,\"#fb9f3a\"],[0.8888888888888888,\"#fdca26\"],[1.0,\"#f0f921\"]]}],\"heatmapgl\":[{\"type\":\"heatmapgl\",\"colorbar\":{\"outlinewidth\":0,\"ticks\":\"\"},\"colorscale\":[[0.0,\"#0d0887\"],[0.1111111111111111,\"#46039f\"],[0.2222222222222222,\"#7201a8\"],[0.3333333333333333,\"#9c179e\"],[0.4444444444444444,\"#bd3786\"],[0.5555555555555556,\"#d8576b\"],[0.6666666666666666,\"#ed7953\"],[0.7777777777777778,\"#fb9f3a\"],[0.8888888888888888,\"#fdca26\"],[1.0,\"#f0f921\"]]}],\"contourcarpet\":[{\"type\":\"contourcarpet\",\"colorbar\":{\"outlinewidth\":0,\"ticks\":\"\"}}],\"contour\":[{\"type\":\"contour\",\"colorbar\":{\"outlinewidth\":0,\"ticks\":\"\"},\"colorscale\":[[0.0,\"#0d0887\"],[0.1111111111111111,\"#46039f\"],[0.2222222222222222,\"#7201a8\"],[0.3333333333333333,\"#9c179e\"],[0.4444444444444444,\"#bd3786\"],[0.5555555555555556,\"#d8576b\"],[0.6666666666666666,\"#ed7953\"],[0.7777777777777778,\"#fb9f3a\"],[0.8888888888888888,\"#fdca26\"],[1.0,\"#f0f921\"]]}],\"surface\":[{\"type\":\"surface\",\"colorbar\":{\"outlinewidth\":0,\"ticks\":\"\"},\"colorscale\":[[0.0,\"#0d0887\"],[0.1111111111111111,\"#46039f\"],[0.2222222222222222,\"#7201a8\"],[0.3333333333333333,\"#9c179e\"],[0.4444444444444444,\"#bd3786\"],[0.5555555555555556,\"#d8576b\"],[0.6666666666666666,\"#ed7953\"],[0.7777777777777778,\"#fb9f3a\"],[0.8888888888888888,\"#fdca26\"],[1.0,\"#f0f921\"]]}],\"mesh3d\":[{\"type\":\"mesh3d\",\"colorbar\":{\"outlinewidth\":0,\"ticks\":\"\"}}],\"scatter\":[{\"fillpattern\":{\"fillmode\":\"overlay\",\"size\":10,\"solidity\":0.2},\"type\":\"scatter\"}],\"parcoords\":[{\"type\":\"parcoords\",\"line\":{\"colorbar\":{\"outlinewidth\":0,\"ticks\":\"\"}}}],\"scatterpolargl\":[{\"type\":\"scatterpolargl\",\"marker\":{\"colorbar\":{\"outlinewidth\":0,\"ticks\":\"\"}}}],\"bar\":[{\"error_x\":{\"color\":\"#2a3f5f\"},\"error_y\":{\"color\":\"#2a3f5f\"},\"marker\":{\"line\":{\"color\":\"#E5ECF6\",\"width\":0.5},\"pattern\":{\"fillmode\":\"overlay\",\"size\":10,\"solidity\":0.2}},\"type\":\"bar\"}],\"scattergeo\":[{\"type\":\"scattergeo\",\"marker\":{\"colorbar\":{\"outlinewidth\":0,\"ticks\":\"\"}}}],\"scatterpolar\":[{\"type\":\"scatterpolar\",\"marker\":{\"colorbar\":{\"outlinewidth\":0,\"ticks\":\"\"}}}],\"histogram\":[{\"marker\":{\"pattern\":{\"fillmode\":\"overlay\",\"size\":10,\"solidity\":0.2}},\"type\":\"histogram\"}],\"scattergl\":[{\"type\":\"scattergl\",\"marker\":{\"colorbar\":{\"outlinewidth\":0,\"ticks\":\"\"}}}],\"scatter3d\":[{\"type\":\"scatter3d\",\"line\":{\"colorbar\":{\"outlinewidth\":0,\"ticks\":\"\"}},\"marker\":{\"colorbar\":{\"outlinewidth\":0,\"ticks\":\"\"}}}],\"scattermapbox\":[{\"type\":\"scattermapbox\",\"marker\":{\"colorbar\":{\"outlinewidth\":0,\"ticks\":\"\"}}}],\"scatterternary\":[{\"type\":\"scatterternary\",\"marker\":{\"colorbar\":{\"outlinewidth\":0,\"ticks\":\"\"}}}],\"scattercarpet\":[{\"type\":\"scattercarpet\",\"marker\":{\"colorbar\":{\"outlinewidth\":0,\"ticks\":\"\"}}}],\"carpet\":[{\"aaxis\":{\"endlinecolor\":\"#2a3f5f\",\"gridcolor\":\"white\",\"linecolor\":\"white\",\"minorgridcolor\":\"white\",\"startlinecolor\":\"#2a3f5f\"},\"baxis\":{\"endlinecolor\":\"#2a3f5f\",\"gridcolor\":\"white\",\"linecolor\":\"white\",\"minorgridcolor\":\"white\",\"startlinecolor\":\"#2a3f5f\"},\"type\":\"carpet\"}],\"table\":[{\"cells\":{\"fill\":{\"color\":\"#EBF0F8\"},\"line\":{\"color\":\"white\"}},\"header\":{\"fill\":{\"color\":\"#C8D4E3\"},\"line\":{\"color\":\"white\"}},\"type\":\"table\"}],\"barpolar\":[{\"marker\":{\"line\":{\"color\":\"#E5ECF6\",\"width\":0.5},\"pattern\":{\"fillmode\":\"overlay\",\"size\":10,\"solidity\":0.2}},\"type\":\"barpolar\"}],\"pie\":[{\"automargin\":true,\"type\":\"pie\"}]},\"layout\":{\"autotypenumbers\":\"strict\",\"colorway\":[\"#636efa\",\"#EF553B\",\"#00cc96\",\"#ab63fa\",\"#FFA15A\",\"#19d3f3\",\"#FF6692\",\"#B6E880\",\"#FF97FF\",\"#FECB52\"],\"font\":{\"color\":\"#2a3f5f\"},\"hovermode\":\"closest\",\"hoverlabel\":{\"align\":\"left\"},\"paper_bgcolor\":\"white\",\"plot_bgcolor\":\"#E5ECF6\",\"polar\":{\"bgcolor\":\"#E5ECF6\",\"angularaxis\":{\"gridcolor\":\"white\",\"linecolor\":\"white\",\"ticks\":\"\"},\"radialaxis\":{\"gridcolor\":\"white\",\"linecolor\":\"white\",\"ticks\":\"\"}},\"ternary\":{\"bgcolor\":\"#E5ECF6\",\"aaxis\":{\"gridcolor\":\"white\",\"linecolor\":\"white\",\"ticks\":\"\"},\"baxis\":{\"gridcolor\":\"white\",\"linecolor\":\"white\",\"ticks\":\"\"},\"caxis\":{\"gridcolor\":\"white\",\"linecolor\":\"white\",\"ticks\":\"\"}},\"coloraxis\":{\"colorbar\":{\"outlinewidth\":0,\"ticks\":\"\"}},\"colorscale\":{\"sequential\":[[0.0,\"#0d0887\"],[0.1111111111111111,\"#46039f\"],[0.2222222222222222,\"#7201a8\"],[0.3333333333333333,\"#9c179e\"],[0.4444444444444444,\"#bd3786\"],[0.5555555555555556,\"#d8576b\"],[0.6666666666666666,\"#ed7953\"],[0.7777777777777778,\"#fb9f3a\"],[0.8888888888888888,\"#fdca26\"],[1.0,\"#f0f921\"]],\"sequentialminus\":[[0.0,\"#0d0887\"],[0.1111111111111111,\"#46039f\"],[0.2222222222222222,\"#7201a8\"],[0.3333333333333333,\"#9c179e\"],[0.4444444444444444,\"#bd3786\"],[0.5555555555555556,\"#d8576b\"],[0.6666666666666666,\"#ed7953\"],[0.7777777777777778,\"#fb9f3a\"],[0.8888888888888888,\"#fdca26\"],[1.0,\"#f0f921\"]],\"diverging\":[[0,\"#8e0152\"],[0.1,\"#c51b7d\"],[0.2,\"#de77ae\"],[0.3,\"#f1b6da\"],[0.4,\"#fde0ef\"],[0.5,\"#f7f7f7\"],[0.6,\"#e6f5d0\"],[0.7,\"#b8e186\"],[0.8,\"#7fbc41\"],[0.9,\"#4d9221\"],[1,\"#276419\"]]},\"xaxis\":{\"gridcolor\":\"white\",\"linecolor\":\"white\",\"ticks\":\"\",\"title\":{\"standoff\":15},\"zerolinecolor\":\"white\",\"automargin\":true,\"zerolinewidth\":2},\"yaxis\":{\"gridcolor\":\"white\",\"linecolor\":\"white\",\"ticks\":\"\",\"title\":{\"standoff\":15},\"zerolinecolor\":\"white\",\"automargin\":true,\"zerolinewidth\":2},\"scene\":{\"xaxis\":{\"backgroundcolor\":\"#E5ECF6\",\"gridcolor\":\"white\",\"linecolor\":\"white\",\"showbackground\":true,\"ticks\":\"\",\"zerolinecolor\":\"white\",\"gridwidth\":2},\"yaxis\":{\"backgroundcolor\":\"#E5ECF6\",\"gridcolor\":\"white\",\"linecolor\":\"white\",\"showbackground\":true,\"ticks\":\"\",\"zerolinecolor\":\"white\",\"gridwidth\":2},\"zaxis\":{\"backgroundcolor\":\"#E5ECF6\",\"gridcolor\":\"white\",\"linecolor\":\"white\",\"showbackground\":true,\"ticks\":\"\",\"zerolinecolor\":\"white\",\"gridwidth\":2}},\"shapedefaults\":{\"line\":{\"color\":\"#2a3f5f\"}},\"annotationdefaults\":{\"arrowcolor\":\"#2a3f5f\",\"arrowhead\":0,\"arrowwidth\":1},\"geo\":{\"bgcolor\":\"white\",\"landcolor\":\"#E5ECF6\",\"subunitcolor\":\"white\",\"showland\":true,\"showlakes\":true,\"lakecolor\":\"white\"},\"title\":{\"x\":0.05},\"mapbox\":{\"style\":\"light\"}}},\"xaxis\":{\"anchor\":\"y\",\"domain\":[0.0,1.0],\"title\":{\"text\":\"Sub-Genre\"},\"tickangle\":45},\"yaxis\":{\"anchor\":\"x\",\"domain\":[0.0,1.0],\"title\":{\"text\":\"Average Min Price\"}},\"legend\":{\"tracegroupgap\":0,\"itemsizing\":\"constant\"},\"title\":{\"text\":\"Bubble Plot of Sub-Genre and Price Ranges\"},\"height\":600,\"width\":1000},                        {\"responsive\": true}                    ).then(function(){\n",
       "                            \n",
       "var gd = document.getElementById('29d6d40c-53ca-462a-9699-f3fbeb10b4b8');\n",
       "var x = new MutationObserver(function (mutations, observer) {{\n",
       "        var display = window.getComputedStyle(gd).display;\n",
       "        if (!display || display === 'none') {{\n",
       "            console.log([gd, 'removed!']);\n",
       "            Plotly.purge(gd);\n",
       "            observer.disconnect();\n",
       "        }}\n",
       "}});\n",
       "\n",
       "// Listen for the removal of the full notebook cells\n",
       "var notebookContainer = gd.closest('#notebook-container');\n",
       "if (notebookContainer) {{\n",
       "    x.observe(notebookContainer, {childList: true});\n",
       "}}\n",
       "\n",
       "// Listen for the clearing of the current output cell\n",
       "var outputEl = gd.closest('.output');\n",
       "if (outputEl) {{\n",
       "    x.observe(outputEl, {childList: true});\n",
       "}}\n",
       "\n",
       "                        })                };                });            </script>        </div>"
      ]
     },
     "metadata": {},
     "output_type": "display_data"
    }
   ],
   "execution_count": 181
  },
  {
   "metadata": {
    "ExecuteTime": {
     "end_time": "2024-12-01T20:43:11.769963Z",
     "start_time": "2024-12-01T20:43:11.752404Z"
    }
   },
   "cell_type": "code",
   "source": [
    "grouped = events_prices_df.groupby(\"segment_name\").agg(\n",
    "    avg_min_price=(\"min_price\", \"mean\"),\n",
    "    avg_max_price=(\"max_price\", \"mean\"),\n",
    "    count=(\"event_id\", \"size\")  # Count the number of events per sub_genre\n",
    ").reset_index()"
   ],
   "id": "924ba6ccb815a7",
   "outputs": [],
   "execution_count": 183
  },
  {
   "metadata": {
    "ExecuteTime": {
     "end_time": "2024-12-01T20:43:12.563554Z",
     "start_time": "2024-12-01T20:43:12.519594Z"
    }
   },
   "cell_type": "code",
   "source": [
    "\n",
    "# Plot\n",
    "plt.figure(figsize=(12, 8))# Create a bubble plot\n",
    "fig = px.scatter(\n",
    "    grouped,\n",
    "    x=\"segment_name\",\n",
    "    y=\"avg_min_price\",\n",
    "    size=\"count\",\n",
    "    size_max=100,\n",
    "    hover_name=\"segment_name\",\n",
    "    hover_data={\"count\": True, \"avg_max_price\": True},\n",
    "    title=\"Bubble Plot of Segment and Price Ranges\",\n",
    "    labels={\n",
    "        \"segment_name\": \"Segment\",\n",
    "        \"avg_min_price\": \"Average Min Price\",\n",
    "        \"count\": \"Number of Events\"\n",
    "    }\n",
    ")\n",
    "\n",
    "# Update layout for better readability\n",
    "fig.update_layout(\n",
    "    xaxis_title=\"Segment\",\n",
    "    yaxis_title=\"Average Min Price\",\n",
    "    xaxis_tickangle=45,\n",
    "    height=600,\n",
    "    width=1000\n",
    ")\n",
    "\n",
    "# Show the plot\n",
    "fig.show()\n"
   ],
   "id": "1eed20cf92bcdef1",
   "outputs": [
    {
     "data": {
      "application/vnd.plotly.v1+json": {
       "data": [
        {
         "customdata": [
          [
           8.0,
           79.5
          ],
          [
           31.0,
           216.29032258064515
          ],
          [
           135.0,
           224.17829629629628
          ]
         ],
         "hovertemplate": "<b>%{hovertext}</b><br><br>Segment=%{x}<br>Average Min Price=%{y}<br>Number of Events=%{customdata[0]}<br>avg_max_price=%{customdata[1]}<extra></extra>",
         "hovertext": [
          "Arts & Theatre",
          "Miscellaneous",
          "Music"
         ],
         "legendgroup": "",
         "marker": {
          "color": "#636efa",
          "size": [
           8,
           31,
           135
          ],
          "sizemode": "area",
          "sizeref": 0.0135,
          "symbol": "circle"
         },
         "mode": "markers",
         "name": "",
         "orientation": "v",
         "showlegend": false,
         "x": [
          "Arts & Theatre",
          "Miscellaneous",
          "Music"
         ],
         "xaxis": "x",
         "y": [
          63.25,
          30.35483870967742,
          63.96503703703704
         ],
         "yaxis": "y",
         "type": "scatter"
        }
       ],
       "layout": {
        "template": {
         "data": {
          "histogram2dcontour": [
           {
            "type": "histogram2dcontour",
            "colorbar": {
             "outlinewidth": 0,
             "ticks": ""
            },
            "colorscale": [
             [
              0.0,
              "#0d0887"
             ],
             [
              0.1111111111111111,
              "#46039f"
             ],
             [
              0.2222222222222222,
              "#7201a8"
             ],
             [
              0.3333333333333333,
              "#9c179e"
             ],
             [
              0.4444444444444444,
              "#bd3786"
             ],
             [
              0.5555555555555556,
              "#d8576b"
             ],
             [
              0.6666666666666666,
              "#ed7953"
             ],
             [
              0.7777777777777778,
              "#fb9f3a"
             ],
             [
              0.8888888888888888,
              "#fdca26"
             ],
             [
              1.0,
              "#f0f921"
             ]
            ]
           }
          ],
          "choropleth": [
           {
            "type": "choropleth",
            "colorbar": {
             "outlinewidth": 0,
             "ticks": ""
            }
           }
          ],
          "histogram2d": [
           {
            "type": "histogram2d",
            "colorbar": {
             "outlinewidth": 0,
             "ticks": ""
            },
            "colorscale": [
             [
              0.0,
              "#0d0887"
             ],
             [
              0.1111111111111111,
              "#46039f"
             ],
             [
              0.2222222222222222,
              "#7201a8"
             ],
             [
              0.3333333333333333,
              "#9c179e"
             ],
             [
              0.4444444444444444,
              "#bd3786"
             ],
             [
              0.5555555555555556,
              "#d8576b"
             ],
             [
              0.6666666666666666,
              "#ed7953"
             ],
             [
              0.7777777777777778,
              "#fb9f3a"
             ],
             [
              0.8888888888888888,
              "#fdca26"
             ],
             [
              1.0,
              "#f0f921"
             ]
            ]
           }
          ],
          "heatmap": [
           {
            "type": "heatmap",
            "colorbar": {
             "outlinewidth": 0,
             "ticks": ""
            },
            "colorscale": [
             [
              0.0,
              "#0d0887"
             ],
             [
              0.1111111111111111,
              "#46039f"
             ],
             [
              0.2222222222222222,
              "#7201a8"
             ],
             [
              0.3333333333333333,
              "#9c179e"
             ],
             [
              0.4444444444444444,
              "#bd3786"
             ],
             [
              0.5555555555555556,
              "#d8576b"
             ],
             [
              0.6666666666666666,
              "#ed7953"
             ],
             [
              0.7777777777777778,
              "#fb9f3a"
             ],
             [
              0.8888888888888888,
              "#fdca26"
             ],
             [
              1.0,
              "#f0f921"
             ]
            ]
           }
          ],
          "heatmapgl": [
           {
            "type": "heatmapgl",
            "colorbar": {
             "outlinewidth": 0,
             "ticks": ""
            },
            "colorscale": [
             [
              0.0,
              "#0d0887"
             ],
             [
              0.1111111111111111,
              "#46039f"
             ],
             [
              0.2222222222222222,
              "#7201a8"
             ],
             [
              0.3333333333333333,
              "#9c179e"
             ],
             [
              0.4444444444444444,
              "#bd3786"
             ],
             [
              0.5555555555555556,
              "#d8576b"
             ],
             [
              0.6666666666666666,
              "#ed7953"
             ],
             [
              0.7777777777777778,
              "#fb9f3a"
             ],
             [
              0.8888888888888888,
              "#fdca26"
             ],
             [
              1.0,
              "#f0f921"
             ]
            ]
           }
          ],
          "contourcarpet": [
           {
            "type": "contourcarpet",
            "colorbar": {
             "outlinewidth": 0,
             "ticks": ""
            }
           }
          ],
          "contour": [
           {
            "type": "contour",
            "colorbar": {
             "outlinewidth": 0,
             "ticks": ""
            },
            "colorscale": [
             [
              0.0,
              "#0d0887"
             ],
             [
              0.1111111111111111,
              "#46039f"
             ],
             [
              0.2222222222222222,
              "#7201a8"
             ],
             [
              0.3333333333333333,
              "#9c179e"
             ],
             [
              0.4444444444444444,
              "#bd3786"
             ],
             [
              0.5555555555555556,
              "#d8576b"
             ],
             [
              0.6666666666666666,
              "#ed7953"
             ],
             [
              0.7777777777777778,
              "#fb9f3a"
             ],
             [
              0.8888888888888888,
              "#fdca26"
             ],
             [
              1.0,
              "#f0f921"
             ]
            ]
           }
          ],
          "surface": [
           {
            "type": "surface",
            "colorbar": {
             "outlinewidth": 0,
             "ticks": ""
            },
            "colorscale": [
             [
              0.0,
              "#0d0887"
             ],
             [
              0.1111111111111111,
              "#46039f"
             ],
             [
              0.2222222222222222,
              "#7201a8"
             ],
             [
              0.3333333333333333,
              "#9c179e"
             ],
             [
              0.4444444444444444,
              "#bd3786"
             ],
             [
              0.5555555555555556,
              "#d8576b"
             ],
             [
              0.6666666666666666,
              "#ed7953"
             ],
             [
              0.7777777777777778,
              "#fb9f3a"
             ],
             [
              0.8888888888888888,
              "#fdca26"
             ],
             [
              1.0,
              "#f0f921"
             ]
            ]
           }
          ],
          "mesh3d": [
           {
            "type": "mesh3d",
            "colorbar": {
             "outlinewidth": 0,
             "ticks": ""
            }
           }
          ],
          "scatter": [
           {
            "fillpattern": {
             "fillmode": "overlay",
             "size": 10,
             "solidity": 0.2
            },
            "type": "scatter"
           }
          ],
          "parcoords": [
           {
            "type": "parcoords",
            "line": {
             "colorbar": {
              "outlinewidth": 0,
              "ticks": ""
             }
            }
           }
          ],
          "scatterpolargl": [
           {
            "type": "scatterpolargl",
            "marker": {
             "colorbar": {
              "outlinewidth": 0,
              "ticks": ""
             }
            }
           }
          ],
          "bar": [
           {
            "error_x": {
             "color": "#2a3f5f"
            },
            "error_y": {
             "color": "#2a3f5f"
            },
            "marker": {
             "line": {
              "color": "#E5ECF6",
              "width": 0.5
             },
             "pattern": {
              "fillmode": "overlay",
              "size": 10,
              "solidity": 0.2
             }
            },
            "type": "bar"
           }
          ],
          "scattergeo": [
           {
            "type": "scattergeo",
            "marker": {
             "colorbar": {
              "outlinewidth": 0,
              "ticks": ""
             }
            }
           }
          ],
          "scatterpolar": [
           {
            "type": "scatterpolar",
            "marker": {
             "colorbar": {
              "outlinewidth": 0,
              "ticks": ""
             }
            }
           }
          ],
          "histogram": [
           {
            "marker": {
             "pattern": {
              "fillmode": "overlay",
              "size": 10,
              "solidity": 0.2
             }
            },
            "type": "histogram"
           }
          ],
          "scattergl": [
           {
            "type": "scattergl",
            "marker": {
             "colorbar": {
              "outlinewidth": 0,
              "ticks": ""
             }
            }
           }
          ],
          "scatter3d": [
           {
            "type": "scatter3d",
            "line": {
             "colorbar": {
              "outlinewidth": 0,
              "ticks": ""
             }
            },
            "marker": {
             "colorbar": {
              "outlinewidth": 0,
              "ticks": ""
             }
            }
           }
          ],
          "scattermapbox": [
           {
            "type": "scattermapbox",
            "marker": {
             "colorbar": {
              "outlinewidth": 0,
              "ticks": ""
             }
            }
           }
          ],
          "scatterternary": [
           {
            "type": "scatterternary",
            "marker": {
             "colorbar": {
              "outlinewidth": 0,
              "ticks": ""
             }
            }
           }
          ],
          "scattercarpet": [
           {
            "type": "scattercarpet",
            "marker": {
             "colorbar": {
              "outlinewidth": 0,
              "ticks": ""
             }
            }
           }
          ],
          "carpet": [
           {
            "aaxis": {
             "endlinecolor": "#2a3f5f",
             "gridcolor": "white",
             "linecolor": "white",
             "minorgridcolor": "white",
             "startlinecolor": "#2a3f5f"
            },
            "baxis": {
             "endlinecolor": "#2a3f5f",
             "gridcolor": "white",
             "linecolor": "white",
             "minorgridcolor": "white",
             "startlinecolor": "#2a3f5f"
            },
            "type": "carpet"
           }
          ],
          "table": [
           {
            "cells": {
             "fill": {
              "color": "#EBF0F8"
             },
             "line": {
              "color": "white"
             }
            },
            "header": {
             "fill": {
              "color": "#C8D4E3"
             },
             "line": {
              "color": "white"
             }
            },
            "type": "table"
           }
          ],
          "barpolar": [
           {
            "marker": {
             "line": {
              "color": "#E5ECF6",
              "width": 0.5
             },
             "pattern": {
              "fillmode": "overlay",
              "size": 10,
              "solidity": 0.2
             }
            },
            "type": "barpolar"
           }
          ],
          "pie": [
           {
            "automargin": true,
            "type": "pie"
           }
          ]
         },
         "layout": {
          "autotypenumbers": "strict",
          "colorway": [
           "#636efa",
           "#EF553B",
           "#00cc96",
           "#ab63fa",
           "#FFA15A",
           "#19d3f3",
           "#FF6692",
           "#B6E880",
           "#FF97FF",
           "#FECB52"
          ],
          "font": {
           "color": "#2a3f5f"
          },
          "hovermode": "closest",
          "hoverlabel": {
           "align": "left"
          },
          "paper_bgcolor": "white",
          "plot_bgcolor": "#E5ECF6",
          "polar": {
           "bgcolor": "#E5ECF6",
           "angularaxis": {
            "gridcolor": "white",
            "linecolor": "white",
            "ticks": ""
           },
           "radialaxis": {
            "gridcolor": "white",
            "linecolor": "white",
            "ticks": ""
           }
          },
          "ternary": {
           "bgcolor": "#E5ECF6",
           "aaxis": {
            "gridcolor": "white",
            "linecolor": "white",
            "ticks": ""
           },
           "baxis": {
            "gridcolor": "white",
            "linecolor": "white",
            "ticks": ""
           },
           "caxis": {
            "gridcolor": "white",
            "linecolor": "white",
            "ticks": ""
           }
          },
          "coloraxis": {
           "colorbar": {
            "outlinewidth": 0,
            "ticks": ""
           }
          },
          "colorscale": {
           "sequential": [
            [
             0.0,
             "#0d0887"
            ],
            [
             0.1111111111111111,
             "#46039f"
            ],
            [
             0.2222222222222222,
             "#7201a8"
            ],
            [
             0.3333333333333333,
             "#9c179e"
            ],
            [
             0.4444444444444444,
             "#bd3786"
            ],
            [
             0.5555555555555556,
             "#d8576b"
            ],
            [
             0.6666666666666666,
             "#ed7953"
            ],
            [
             0.7777777777777778,
             "#fb9f3a"
            ],
            [
             0.8888888888888888,
             "#fdca26"
            ],
            [
             1.0,
             "#f0f921"
            ]
           ],
           "sequentialminus": [
            [
             0.0,
             "#0d0887"
            ],
            [
             0.1111111111111111,
             "#46039f"
            ],
            [
             0.2222222222222222,
             "#7201a8"
            ],
            [
             0.3333333333333333,
             "#9c179e"
            ],
            [
             0.4444444444444444,
             "#bd3786"
            ],
            [
             0.5555555555555556,
             "#d8576b"
            ],
            [
             0.6666666666666666,
             "#ed7953"
            ],
            [
             0.7777777777777778,
             "#fb9f3a"
            ],
            [
             0.8888888888888888,
             "#fdca26"
            ],
            [
             1.0,
             "#f0f921"
            ]
           ],
           "diverging": [
            [
             0,
             "#8e0152"
            ],
            [
             0.1,
             "#c51b7d"
            ],
            [
             0.2,
             "#de77ae"
            ],
            [
             0.3,
             "#f1b6da"
            ],
            [
             0.4,
             "#fde0ef"
            ],
            [
             0.5,
             "#f7f7f7"
            ],
            [
             0.6,
             "#e6f5d0"
            ],
            [
             0.7,
             "#b8e186"
            ],
            [
             0.8,
             "#7fbc41"
            ],
            [
             0.9,
             "#4d9221"
            ],
            [
             1,
             "#276419"
            ]
           ]
          },
          "xaxis": {
           "gridcolor": "white",
           "linecolor": "white",
           "ticks": "",
           "title": {
            "standoff": 15
           },
           "zerolinecolor": "white",
           "automargin": true,
           "zerolinewidth": 2
          },
          "yaxis": {
           "gridcolor": "white",
           "linecolor": "white",
           "ticks": "",
           "title": {
            "standoff": 15
           },
           "zerolinecolor": "white",
           "automargin": true,
           "zerolinewidth": 2
          },
          "scene": {
           "xaxis": {
            "backgroundcolor": "#E5ECF6",
            "gridcolor": "white",
            "linecolor": "white",
            "showbackground": true,
            "ticks": "",
            "zerolinecolor": "white",
            "gridwidth": 2
           },
           "yaxis": {
            "backgroundcolor": "#E5ECF6",
            "gridcolor": "white",
            "linecolor": "white",
            "showbackground": true,
            "ticks": "",
            "zerolinecolor": "white",
            "gridwidth": 2
           },
           "zaxis": {
            "backgroundcolor": "#E5ECF6",
            "gridcolor": "white",
            "linecolor": "white",
            "showbackground": true,
            "ticks": "",
            "zerolinecolor": "white",
            "gridwidth": 2
           }
          },
          "shapedefaults": {
           "line": {
            "color": "#2a3f5f"
           }
          },
          "annotationdefaults": {
           "arrowcolor": "#2a3f5f",
           "arrowhead": 0,
           "arrowwidth": 1
          },
          "geo": {
           "bgcolor": "white",
           "landcolor": "#E5ECF6",
           "subunitcolor": "white",
           "showland": true,
           "showlakes": true,
           "lakecolor": "white"
          },
          "title": {
           "x": 0.05
          },
          "mapbox": {
           "style": "light"
          }
         }
        },
        "xaxis": {
         "anchor": "y",
         "domain": [
          0.0,
          1.0
         ],
         "title": {
          "text": "Segment"
         },
         "tickangle": 45
        },
        "yaxis": {
         "anchor": "x",
         "domain": [
          0.0,
          1.0
         ],
         "title": {
          "text": "Average Min Price"
         }
        },
        "legend": {
         "tracegroupgap": 0,
         "itemsizing": "constant"
        },
        "title": {
         "text": "Bubble Plot of Segment and Price Ranges"
        },
        "height": 600,
        "width": 1000
       },
       "config": {
        "plotlyServerURL": "https://plot.ly"
       }
      },
      "text/html": [
       "<div>                            <div id=\"a055503b-eba4-4b5d-8a64-b2549623b86c\" class=\"plotly-graph-div\" style=\"height:600px; width:1000px;\"></div>            <script type=\"text/javascript\">                require([\"plotly\"], function(Plotly) {                    window.PLOTLYENV=window.PLOTLYENV || {};                                    if (document.getElementById(\"a055503b-eba4-4b5d-8a64-b2549623b86c\")) {                    Plotly.newPlot(                        \"a055503b-eba4-4b5d-8a64-b2549623b86c\",                        [{\"customdata\":[[8.0,79.5],[31.0,216.29032258064515],[135.0,224.17829629629628]],\"hovertemplate\":\"\\u003cb\\u003e%{hovertext}\\u003c\\u002fb\\u003e\\u003cbr\\u003e\\u003cbr\\u003eSegment=%{x}\\u003cbr\\u003eAverage Min Price=%{y}\\u003cbr\\u003eNumber of Events=%{customdata[0]}\\u003cbr\\u003eavg_max_price=%{customdata[1]}\\u003cextra\\u003e\\u003c\\u002fextra\\u003e\",\"hovertext\":[\"Arts & Theatre\",\"Miscellaneous\",\"Music\"],\"legendgroup\":\"\",\"marker\":{\"color\":\"#636efa\",\"size\":[8,31,135],\"sizemode\":\"area\",\"sizeref\":0.0135,\"symbol\":\"circle\"},\"mode\":\"markers\",\"name\":\"\",\"orientation\":\"v\",\"showlegend\":false,\"x\":[\"Arts & Theatre\",\"Miscellaneous\",\"Music\"],\"xaxis\":\"x\",\"y\":[63.25,30.35483870967742,63.96503703703704],\"yaxis\":\"y\",\"type\":\"scatter\"}],                        {\"template\":{\"data\":{\"histogram2dcontour\":[{\"type\":\"histogram2dcontour\",\"colorbar\":{\"outlinewidth\":0,\"ticks\":\"\"},\"colorscale\":[[0.0,\"#0d0887\"],[0.1111111111111111,\"#46039f\"],[0.2222222222222222,\"#7201a8\"],[0.3333333333333333,\"#9c179e\"],[0.4444444444444444,\"#bd3786\"],[0.5555555555555556,\"#d8576b\"],[0.6666666666666666,\"#ed7953\"],[0.7777777777777778,\"#fb9f3a\"],[0.8888888888888888,\"#fdca26\"],[1.0,\"#f0f921\"]]}],\"choropleth\":[{\"type\":\"choropleth\",\"colorbar\":{\"outlinewidth\":0,\"ticks\":\"\"}}],\"histogram2d\":[{\"type\":\"histogram2d\",\"colorbar\":{\"outlinewidth\":0,\"ticks\":\"\"},\"colorscale\":[[0.0,\"#0d0887\"],[0.1111111111111111,\"#46039f\"],[0.2222222222222222,\"#7201a8\"],[0.3333333333333333,\"#9c179e\"],[0.4444444444444444,\"#bd3786\"],[0.5555555555555556,\"#d8576b\"],[0.6666666666666666,\"#ed7953\"],[0.7777777777777778,\"#fb9f3a\"],[0.8888888888888888,\"#fdca26\"],[1.0,\"#f0f921\"]]}],\"heatmap\":[{\"type\":\"heatmap\",\"colorbar\":{\"outlinewidth\":0,\"ticks\":\"\"},\"colorscale\":[[0.0,\"#0d0887\"],[0.1111111111111111,\"#46039f\"],[0.2222222222222222,\"#7201a8\"],[0.3333333333333333,\"#9c179e\"],[0.4444444444444444,\"#bd3786\"],[0.5555555555555556,\"#d8576b\"],[0.6666666666666666,\"#ed7953\"],[0.7777777777777778,\"#fb9f3a\"],[0.8888888888888888,\"#fdca26\"],[1.0,\"#f0f921\"]]}],\"heatmapgl\":[{\"type\":\"heatmapgl\",\"colorbar\":{\"outlinewidth\":0,\"ticks\":\"\"},\"colorscale\":[[0.0,\"#0d0887\"],[0.1111111111111111,\"#46039f\"],[0.2222222222222222,\"#7201a8\"],[0.3333333333333333,\"#9c179e\"],[0.4444444444444444,\"#bd3786\"],[0.5555555555555556,\"#d8576b\"],[0.6666666666666666,\"#ed7953\"],[0.7777777777777778,\"#fb9f3a\"],[0.8888888888888888,\"#fdca26\"],[1.0,\"#f0f921\"]]}],\"contourcarpet\":[{\"type\":\"contourcarpet\",\"colorbar\":{\"outlinewidth\":0,\"ticks\":\"\"}}],\"contour\":[{\"type\":\"contour\",\"colorbar\":{\"outlinewidth\":0,\"ticks\":\"\"},\"colorscale\":[[0.0,\"#0d0887\"],[0.1111111111111111,\"#46039f\"],[0.2222222222222222,\"#7201a8\"],[0.3333333333333333,\"#9c179e\"],[0.4444444444444444,\"#bd3786\"],[0.5555555555555556,\"#d8576b\"],[0.6666666666666666,\"#ed7953\"],[0.7777777777777778,\"#fb9f3a\"],[0.8888888888888888,\"#fdca26\"],[1.0,\"#f0f921\"]]}],\"surface\":[{\"type\":\"surface\",\"colorbar\":{\"outlinewidth\":0,\"ticks\":\"\"},\"colorscale\":[[0.0,\"#0d0887\"],[0.1111111111111111,\"#46039f\"],[0.2222222222222222,\"#7201a8\"],[0.3333333333333333,\"#9c179e\"],[0.4444444444444444,\"#bd3786\"],[0.5555555555555556,\"#d8576b\"],[0.6666666666666666,\"#ed7953\"],[0.7777777777777778,\"#fb9f3a\"],[0.8888888888888888,\"#fdca26\"],[1.0,\"#f0f921\"]]}],\"mesh3d\":[{\"type\":\"mesh3d\",\"colorbar\":{\"outlinewidth\":0,\"ticks\":\"\"}}],\"scatter\":[{\"fillpattern\":{\"fillmode\":\"overlay\",\"size\":10,\"solidity\":0.2},\"type\":\"scatter\"}],\"parcoords\":[{\"type\":\"parcoords\",\"line\":{\"colorbar\":{\"outlinewidth\":0,\"ticks\":\"\"}}}],\"scatterpolargl\":[{\"type\":\"scatterpolargl\",\"marker\":{\"colorbar\":{\"outlinewidth\":0,\"ticks\":\"\"}}}],\"bar\":[{\"error_x\":{\"color\":\"#2a3f5f\"},\"error_y\":{\"color\":\"#2a3f5f\"},\"marker\":{\"line\":{\"color\":\"#E5ECF6\",\"width\":0.5},\"pattern\":{\"fillmode\":\"overlay\",\"size\":10,\"solidity\":0.2}},\"type\":\"bar\"}],\"scattergeo\":[{\"type\":\"scattergeo\",\"marker\":{\"colorbar\":{\"outlinewidth\":0,\"ticks\":\"\"}}}],\"scatterpolar\":[{\"type\":\"scatterpolar\",\"marker\":{\"colorbar\":{\"outlinewidth\":0,\"ticks\":\"\"}}}],\"histogram\":[{\"marker\":{\"pattern\":{\"fillmode\":\"overlay\",\"size\":10,\"solidity\":0.2}},\"type\":\"histogram\"}],\"scattergl\":[{\"type\":\"scattergl\",\"marker\":{\"colorbar\":{\"outlinewidth\":0,\"ticks\":\"\"}}}],\"scatter3d\":[{\"type\":\"scatter3d\",\"line\":{\"colorbar\":{\"outlinewidth\":0,\"ticks\":\"\"}},\"marker\":{\"colorbar\":{\"outlinewidth\":0,\"ticks\":\"\"}}}],\"scattermapbox\":[{\"type\":\"scattermapbox\",\"marker\":{\"colorbar\":{\"outlinewidth\":0,\"ticks\":\"\"}}}],\"scatterternary\":[{\"type\":\"scatterternary\",\"marker\":{\"colorbar\":{\"outlinewidth\":0,\"ticks\":\"\"}}}],\"scattercarpet\":[{\"type\":\"scattercarpet\",\"marker\":{\"colorbar\":{\"outlinewidth\":0,\"ticks\":\"\"}}}],\"carpet\":[{\"aaxis\":{\"endlinecolor\":\"#2a3f5f\",\"gridcolor\":\"white\",\"linecolor\":\"white\",\"minorgridcolor\":\"white\",\"startlinecolor\":\"#2a3f5f\"},\"baxis\":{\"endlinecolor\":\"#2a3f5f\",\"gridcolor\":\"white\",\"linecolor\":\"white\",\"minorgridcolor\":\"white\",\"startlinecolor\":\"#2a3f5f\"},\"type\":\"carpet\"}],\"table\":[{\"cells\":{\"fill\":{\"color\":\"#EBF0F8\"},\"line\":{\"color\":\"white\"}},\"header\":{\"fill\":{\"color\":\"#C8D4E3\"},\"line\":{\"color\":\"white\"}},\"type\":\"table\"}],\"barpolar\":[{\"marker\":{\"line\":{\"color\":\"#E5ECF6\",\"width\":0.5},\"pattern\":{\"fillmode\":\"overlay\",\"size\":10,\"solidity\":0.2}},\"type\":\"barpolar\"}],\"pie\":[{\"automargin\":true,\"type\":\"pie\"}]},\"layout\":{\"autotypenumbers\":\"strict\",\"colorway\":[\"#636efa\",\"#EF553B\",\"#00cc96\",\"#ab63fa\",\"#FFA15A\",\"#19d3f3\",\"#FF6692\",\"#B6E880\",\"#FF97FF\",\"#FECB52\"],\"font\":{\"color\":\"#2a3f5f\"},\"hovermode\":\"closest\",\"hoverlabel\":{\"align\":\"left\"},\"paper_bgcolor\":\"white\",\"plot_bgcolor\":\"#E5ECF6\",\"polar\":{\"bgcolor\":\"#E5ECF6\",\"angularaxis\":{\"gridcolor\":\"white\",\"linecolor\":\"white\",\"ticks\":\"\"},\"radialaxis\":{\"gridcolor\":\"white\",\"linecolor\":\"white\",\"ticks\":\"\"}},\"ternary\":{\"bgcolor\":\"#E5ECF6\",\"aaxis\":{\"gridcolor\":\"white\",\"linecolor\":\"white\",\"ticks\":\"\"},\"baxis\":{\"gridcolor\":\"white\",\"linecolor\":\"white\",\"ticks\":\"\"},\"caxis\":{\"gridcolor\":\"white\",\"linecolor\":\"white\",\"ticks\":\"\"}},\"coloraxis\":{\"colorbar\":{\"outlinewidth\":0,\"ticks\":\"\"}},\"colorscale\":{\"sequential\":[[0.0,\"#0d0887\"],[0.1111111111111111,\"#46039f\"],[0.2222222222222222,\"#7201a8\"],[0.3333333333333333,\"#9c179e\"],[0.4444444444444444,\"#bd3786\"],[0.5555555555555556,\"#d8576b\"],[0.6666666666666666,\"#ed7953\"],[0.7777777777777778,\"#fb9f3a\"],[0.8888888888888888,\"#fdca26\"],[1.0,\"#f0f921\"]],\"sequentialminus\":[[0.0,\"#0d0887\"],[0.1111111111111111,\"#46039f\"],[0.2222222222222222,\"#7201a8\"],[0.3333333333333333,\"#9c179e\"],[0.4444444444444444,\"#bd3786\"],[0.5555555555555556,\"#d8576b\"],[0.6666666666666666,\"#ed7953\"],[0.7777777777777778,\"#fb9f3a\"],[0.8888888888888888,\"#fdca26\"],[1.0,\"#f0f921\"]],\"diverging\":[[0,\"#8e0152\"],[0.1,\"#c51b7d\"],[0.2,\"#de77ae\"],[0.3,\"#f1b6da\"],[0.4,\"#fde0ef\"],[0.5,\"#f7f7f7\"],[0.6,\"#e6f5d0\"],[0.7,\"#b8e186\"],[0.8,\"#7fbc41\"],[0.9,\"#4d9221\"],[1,\"#276419\"]]},\"xaxis\":{\"gridcolor\":\"white\",\"linecolor\":\"white\",\"ticks\":\"\",\"title\":{\"standoff\":15},\"zerolinecolor\":\"white\",\"automargin\":true,\"zerolinewidth\":2},\"yaxis\":{\"gridcolor\":\"white\",\"linecolor\":\"white\",\"ticks\":\"\",\"title\":{\"standoff\":15},\"zerolinecolor\":\"white\",\"automargin\":true,\"zerolinewidth\":2},\"scene\":{\"xaxis\":{\"backgroundcolor\":\"#E5ECF6\",\"gridcolor\":\"white\",\"linecolor\":\"white\",\"showbackground\":true,\"ticks\":\"\",\"zerolinecolor\":\"white\",\"gridwidth\":2},\"yaxis\":{\"backgroundcolor\":\"#E5ECF6\",\"gridcolor\":\"white\",\"linecolor\":\"white\",\"showbackground\":true,\"ticks\":\"\",\"zerolinecolor\":\"white\",\"gridwidth\":2},\"zaxis\":{\"backgroundcolor\":\"#E5ECF6\",\"gridcolor\":\"white\",\"linecolor\":\"white\",\"showbackground\":true,\"ticks\":\"\",\"zerolinecolor\":\"white\",\"gridwidth\":2}},\"shapedefaults\":{\"line\":{\"color\":\"#2a3f5f\"}},\"annotationdefaults\":{\"arrowcolor\":\"#2a3f5f\",\"arrowhead\":0,\"arrowwidth\":1},\"geo\":{\"bgcolor\":\"white\",\"landcolor\":\"#E5ECF6\",\"subunitcolor\":\"white\",\"showland\":true,\"showlakes\":true,\"lakecolor\":\"white\"},\"title\":{\"x\":0.05},\"mapbox\":{\"style\":\"light\"}}},\"xaxis\":{\"anchor\":\"y\",\"domain\":[0.0,1.0],\"title\":{\"text\":\"Segment\"},\"tickangle\":45},\"yaxis\":{\"anchor\":\"x\",\"domain\":[0.0,1.0],\"title\":{\"text\":\"Average Min Price\"}},\"legend\":{\"tracegroupgap\":0,\"itemsizing\":\"constant\"},\"title\":{\"text\":\"Bubble Plot of Segment and Price Ranges\"},\"height\":600,\"width\":1000},                        {\"responsive\": true}                    ).then(function(){\n",
       "                            \n",
       "var gd = document.getElementById('a055503b-eba4-4b5d-8a64-b2549623b86c');\n",
       "var x = new MutationObserver(function (mutations, observer) {{\n",
       "        var display = window.getComputedStyle(gd).display;\n",
       "        if (!display || display === 'none') {{\n",
       "            console.log([gd, 'removed!']);\n",
       "            Plotly.purge(gd);\n",
       "            observer.disconnect();\n",
       "        }}\n",
       "}});\n",
       "\n",
       "// Listen for the removal of the full notebook cells\n",
       "var notebookContainer = gd.closest('#notebook-container');\n",
       "if (notebookContainer) {{\n",
       "    x.observe(notebookContainer, {childList: true});\n",
       "}}\n",
       "\n",
       "// Listen for the clearing of the current output cell\n",
       "var outputEl = gd.closest('.output');\n",
       "if (outputEl) {{\n",
       "    x.observe(outputEl, {childList: true});\n",
       "}}\n",
       "\n",
       "                        })                };                });            </script>        </div>"
      ]
     },
     "metadata": {},
     "output_type": "display_data"
    },
    {
     "data": {
      "text/plain": [
       "<Figure size 1200x800 with 0 Axes>"
      ]
     },
     "metadata": {},
     "output_type": "display_data"
    }
   ],
   "execution_count": 184
  },
  {
   "metadata": {},
   "cell_type": "markdown",
   "source": "## Analysis 4: Venue locations in Madrid",
   "id": "d8e5b4ebb633c2cb"
  },
  {
   "metadata": {
    "ExecuteTime": {
     "end_time": "2024-12-01T20:43:27.623564Z",
     "start_time": "2024-12-01T20:43:27.604171Z"
    }
   },
   "cell_type": "code",
   "source": [
    "madrid_data = events_prices_df[events_prices_df['venue_state'] == 'Madrid']\n",
    "madrid_data = madrid_data[madrid_data['segment_name'] == 'Music']\n",
    "\n",
    "venues_count = madrid_data.groupby(['venue_id', 'venue_name', 'venue_latitude', 'venue_longitude', 'sub_genre_name']).size().reset_index(name='event_count')"
   ],
   "id": "e3254ad6ea915659",
   "outputs": [],
   "execution_count": 185
  },
  {
   "metadata": {
    "ExecuteTime": {
     "end_time": "2024-12-01T20:43:37.601969Z",
     "start_time": "2024-12-01T20:43:37.513967Z"
    }
   },
   "cell_type": "code",
   "source": [
    "fig = px.scatter_mapbox(\n",
    "    venues_count,\n",
    "    lat=\"venue_latitude\",\n",
    "    lon=\"venue_longitude\",\n",
    "    size=\"event_count\",  \n",
    "    hover_name=\"venue_name\",\n",
    "    hover_data={\"event_count\": True},\n",
    "    color=\"sub_genre_name\",  \n",
    "    size_max=50,\n",
    "    title=\"Count of Events by Venue in Madrid\"\n",
    ")\n",
    "\n",
    "fig.update_layout(\n",
    "    mapbox_style=\"carto-positron\",\n",
    "    mapbox_zoom=11,\n",
    "    mapbox_center={\"lat\": madrid_data['venue_latitude'].mean(), \"lon\": madrid_data['venue_longitude'].mean()},\n",
    "    margin={\"r\": 0, \"t\": 30, \"l\": 0, \"b\": 0},\n",
    "    height=600,\n",
    "    width=1000\n",
    ")\n",
    "\n",
    "# Show the map\n",
    "fig.show()\n"
   ],
   "id": "87d71f86c502d77f",
   "outputs": [
    {
     "data": {
      "application/vnd.plotly.v1+json": {
       "data": [
        {
         "customdata": [
          [
           1
          ],
          [
           1
          ],
          [
           1
          ]
         ],
         "hovertemplate": "<b>%{hovertext}</b><br><br>sub_genre_name=Other<br>event_count=%{customdata[0]}<br>venue_latitude=%{lat}<br>venue_longitude=%{lon}<extra></extra>",
         "hovertext": [
          "Teatro Barceló",
          "Sala Changó",
          "WiZink Center"
         ],
         "lat": [
          40.42684,
          40.43176,
          40.42394
         ],
         "legendgroup": "Other",
         "lon": [
          -3.7,
          -3.6982,
          -3.6758
         ],
         "marker": {
          "color": "#636efa",
          "size": [
           1,
           1,
           1
          ],
          "sizemode": "area",
          "sizeref": 0.008
         },
         "mode": "markers",
         "name": "Other",
         "showlegend": true,
         "subplot": "mapbox",
         "type": "scattermapbox"
        },
        {
         "customdata": [
          [
           1
          ],
          [
           1
          ],
          [
           3
          ],
          [
           6
          ],
          [
           2
          ],
          [
           20
          ],
          [
           5
          ],
          [
           2
          ],
          [
           2
          ],
          [
           1
          ],
          [
           5
          ]
         ],
         "hovertemplate": "<b>%{hovertext}</b><br><br>sub_genre_name=Pop<br>event_count=%{customdata[0]}<br>venue_latitude=%{lat}<br>venue_longitude=%{lon}<extra></extra>",
         "hovertext": [
          "Teatro Barceló",
          "Sala Mon Live",
          "Sala But",
          "La Riviera",
          "Moby Dick Club",
          "WiZink Center",
          "Estadio Riyadh Air Metropolitano",
          "Sala Villanos",
          "Palacio Municipal - IFEMA MADRID",
          "Sala Nazca",
          "Palacio Vistalegre"
         ],
         "lat": [
          40.42684,
          40.4359,
          40.42703,
          40.413,
          40.45449,
          40.42394,
          40.43624,
          40.40397,
          40.46218,
          40.45146,
          40.386
         ],
         "legendgroup": "Pop",
         "lon": [
          -3.7,
          -3.7165,
          -3.69969,
          -3.72215,
          -3.69404,
          -3.6758,
          -3.59947,
          -3.78242,
          -3.61687,
          -3.69482,
          -3.7385
         ],
         "marker": {
          "color": "#EF553B",
          "size": [
           1,
           1,
           3,
           6,
           2,
           20,
           5,
           2,
           2,
           1,
           5
          ],
          "sizemode": "area",
          "sizeref": 0.008
         },
         "mode": "markers",
         "name": "Pop",
         "showlegend": true,
         "subplot": "mapbox",
         "type": "scattermapbox"
        },
        {
         "customdata": [
          [
           2
          ],
          [
           1
          ],
          [
           2
          ]
         ],
         "hovertemplate": "<b>%{hovertext}</b><br><br>sub_genre_name=Alternative Rock<br>event_count=%{customdata[0]}<br>venue_latitude=%{lat}<br>venue_longitude=%{lon}<extra></extra>",
         "hovertext": [
          "La Riviera",
          "WiZink Center",
          "Sala Villanos"
         ],
         "lat": [
          40.413,
          40.42394,
          40.40397
         ],
         "legendgroup": "Alternative Rock",
         "lon": [
          -3.72215,
          -3.6758,
          -3.78242
         ],
         "marker": {
          "color": "#00cc96",
          "size": [
           2,
           1,
           2
          ],
          "sizemode": "area",
          "sizeref": 0.008
         },
         "mode": "markers",
         "name": "Alternative Rock",
         "showlegend": true,
         "subplot": "mapbox",
         "type": "scattermapbox"
        },
        {
         "customdata": [
          [
           1
          ]
         ],
         "hovertemplate": "<b>%{hovertext}</b><br><br>sub_genre_name=Dance/Electronic<br>event_count=%{customdata[0]}<br>venue_latitude=%{lat}<br>venue_longitude=%{lon}<extra></extra>",
         "hovertext": [
          "La Riviera"
         ],
         "lat": [
          40.413
         ],
         "legendgroup": "Dance/Electronic",
         "lon": [
          -3.72215
         ],
         "marker": {
          "color": "#ab63fa",
          "size": [
           1
          ],
          "sizemode": "area",
          "sizeref": 0.008
         },
         "mode": "markers",
         "name": "Dance/Electronic",
         "showlegend": true,
         "subplot": "mapbox",
         "type": "scattermapbox"
        },
        {
         "customdata": [
          [
           1
          ]
         ],
         "hovertemplate": "<b>%{hovertext}</b><br><br>sub_genre_name=Hard Rock<br>event_count=%{customdata[0]}<br>venue_latitude=%{lat}<br>venue_longitude=%{lon}<extra></extra>",
         "hovertext": [
          "LA SALA (WIZINK CENTER)"
         ],
         "lat": [
          40.42419
         ],
         "legendgroup": "Hard Rock",
         "lon": [
          -3.67351
         ],
         "marker": {
          "color": "#FFA15A",
          "size": [
           1
          ],
          "sizemode": "area",
          "sizeref": 0.008
         },
         "mode": "markers",
         "name": "Hard Rock",
         "showlegend": true,
         "subplot": "mapbox",
         "type": "scattermapbox"
        },
        {
         "customdata": [
          [
           2
          ]
         ],
         "hovertemplate": "<b>%{hovertext}</b><br><br>sub_genre_name=Undefined<br>event_count=%{customdata[0]}<br>venue_latitude=%{lat}<br>venue_longitude=%{lon}<extra></extra>",
         "hovertext": [
          "IFEMA"
         ],
         "lat": [
          40.46423
         ],
         "legendgroup": "Undefined",
         "lon": [
          -3.61532
         ],
         "marker": {
          "color": "#19d3f3",
          "size": [
           2
          ],
          "sizemode": "area",
          "sizeref": 0.008
         },
         "mode": "markers",
         "name": "Undefined",
         "showlegend": true,
         "subplot": "mapbox",
         "type": "scattermapbox"
        }
       ],
       "layout": {
        "template": {
         "data": {
          "histogram2dcontour": [
           {
            "type": "histogram2dcontour",
            "colorbar": {
             "outlinewidth": 0,
             "ticks": ""
            },
            "colorscale": [
             [
              0.0,
              "#0d0887"
             ],
             [
              0.1111111111111111,
              "#46039f"
             ],
             [
              0.2222222222222222,
              "#7201a8"
             ],
             [
              0.3333333333333333,
              "#9c179e"
             ],
             [
              0.4444444444444444,
              "#bd3786"
             ],
             [
              0.5555555555555556,
              "#d8576b"
             ],
             [
              0.6666666666666666,
              "#ed7953"
             ],
             [
              0.7777777777777778,
              "#fb9f3a"
             ],
             [
              0.8888888888888888,
              "#fdca26"
             ],
             [
              1.0,
              "#f0f921"
             ]
            ]
           }
          ],
          "choropleth": [
           {
            "type": "choropleth",
            "colorbar": {
             "outlinewidth": 0,
             "ticks": ""
            }
           }
          ],
          "histogram2d": [
           {
            "type": "histogram2d",
            "colorbar": {
             "outlinewidth": 0,
             "ticks": ""
            },
            "colorscale": [
             [
              0.0,
              "#0d0887"
             ],
             [
              0.1111111111111111,
              "#46039f"
             ],
             [
              0.2222222222222222,
              "#7201a8"
             ],
             [
              0.3333333333333333,
              "#9c179e"
             ],
             [
              0.4444444444444444,
              "#bd3786"
             ],
             [
              0.5555555555555556,
              "#d8576b"
             ],
             [
              0.6666666666666666,
              "#ed7953"
             ],
             [
              0.7777777777777778,
              "#fb9f3a"
             ],
             [
              0.8888888888888888,
              "#fdca26"
             ],
             [
              1.0,
              "#f0f921"
             ]
            ]
           }
          ],
          "heatmap": [
           {
            "type": "heatmap",
            "colorbar": {
             "outlinewidth": 0,
             "ticks": ""
            },
            "colorscale": [
             [
              0.0,
              "#0d0887"
             ],
             [
              0.1111111111111111,
              "#46039f"
             ],
             [
              0.2222222222222222,
              "#7201a8"
             ],
             [
              0.3333333333333333,
              "#9c179e"
             ],
             [
              0.4444444444444444,
              "#bd3786"
             ],
             [
              0.5555555555555556,
              "#d8576b"
             ],
             [
              0.6666666666666666,
              "#ed7953"
             ],
             [
              0.7777777777777778,
              "#fb9f3a"
             ],
             [
              0.8888888888888888,
              "#fdca26"
             ],
             [
              1.0,
              "#f0f921"
             ]
            ]
           }
          ],
          "heatmapgl": [
           {
            "type": "heatmapgl",
            "colorbar": {
             "outlinewidth": 0,
             "ticks": ""
            },
            "colorscale": [
             [
              0.0,
              "#0d0887"
             ],
             [
              0.1111111111111111,
              "#46039f"
             ],
             [
              0.2222222222222222,
              "#7201a8"
             ],
             [
              0.3333333333333333,
              "#9c179e"
             ],
             [
              0.4444444444444444,
              "#bd3786"
             ],
             [
              0.5555555555555556,
              "#d8576b"
             ],
             [
              0.6666666666666666,
              "#ed7953"
             ],
             [
              0.7777777777777778,
              "#fb9f3a"
             ],
             [
              0.8888888888888888,
              "#fdca26"
             ],
             [
              1.0,
              "#f0f921"
             ]
            ]
           }
          ],
          "contourcarpet": [
           {
            "type": "contourcarpet",
            "colorbar": {
             "outlinewidth": 0,
             "ticks": ""
            }
           }
          ],
          "contour": [
           {
            "type": "contour",
            "colorbar": {
             "outlinewidth": 0,
             "ticks": ""
            },
            "colorscale": [
             [
              0.0,
              "#0d0887"
             ],
             [
              0.1111111111111111,
              "#46039f"
             ],
             [
              0.2222222222222222,
              "#7201a8"
             ],
             [
              0.3333333333333333,
              "#9c179e"
             ],
             [
              0.4444444444444444,
              "#bd3786"
             ],
             [
              0.5555555555555556,
              "#d8576b"
             ],
             [
              0.6666666666666666,
              "#ed7953"
             ],
             [
              0.7777777777777778,
              "#fb9f3a"
             ],
             [
              0.8888888888888888,
              "#fdca26"
             ],
             [
              1.0,
              "#f0f921"
             ]
            ]
           }
          ],
          "surface": [
           {
            "type": "surface",
            "colorbar": {
             "outlinewidth": 0,
             "ticks": ""
            },
            "colorscale": [
             [
              0.0,
              "#0d0887"
             ],
             [
              0.1111111111111111,
              "#46039f"
             ],
             [
              0.2222222222222222,
              "#7201a8"
             ],
             [
              0.3333333333333333,
              "#9c179e"
             ],
             [
              0.4444444444444444,
              "#bd3786"
             ],
             [
              0.5555555555555556,
              "#d8576b"
             ],
             [
              0.6666666666666666,
              "#ed7953"
             ],
             [
              0.7777777777777778,
              "#fb9f3a"
             ],
             [
              0.8888888888888888,
              "#fdca26"
             ],
             [
              1.0,
              "#f0f921"
             ]
            ]
           }
          ],
          "mesh3d": [
           {
            "type": "mesh3d",
            "colorbar": {
             "outlinewidth": 0,
             "ticks": ""
            }
           }
          ],
          "scatter": [
           {
            "fillpattern": {
             "fillmode": "overlay",
             "size": 10,
             "solidity": 0.2
            },
            "type": "scatter"
           }
          ],
          "parcoords": [
           {
            "type": "parcoords",
            "line": {
             "colorbar": {
              "outlinewidth": 0,
              "ticks": ""
             }
            }
           }
          ],
          "scatterpolargl": [
           {
            "type": "scatterpolargl",
            "marker": {
             "colorbar": {
              "outlinewidth": 0,
              "ticks": ""
             }
            }
           }
          ],
          "bar": [
           {
            "error_x": {
             "color": "#2a3f5f"
            },
            "error_y": {
             "color": "#2a3f5f"
            },
            "marker": {
             "line": {
              "color": "#E5ECF6",
              "width": 0.5
             },
             "pattern": {
              "fillmode": "overlay",
              "size": 10,
              "solidity": 0.2
             }
            },
            "type": "bar"
           }
          ],
          "scattergeo": [
           {
            "type": "scattergeo",
            "marker": {
             "colorbar": {
              "outlinewidth": 0,
              "ticks": ""
             }
            }
           }
          ],
          "scatterpolar": [
           {
            "type": "scatterpolar",
            "marker": {
             "colorbar": {
              "outlinewidth": 0,
              "ticks": ""
             }
            }
           }
          ],
          "histogram": [
           {
            "marker": {
             "pattern": {
              "fillmode": "overlay",
              "size": 10,
              "solidity": 0.2
             }
            },
            "type": "histogram"
           }
          ],
          "scattergl": [
           {
            "type": "scattergl",
            "marker": {
             "colorbar": {
              "outlinewidth": 0,
              "ticks": ""
             }
            }
           }
          ],
          "scatter3d": [
           {
            "type": "scatter3d",
            "line": {
             "colorbar": {
              "outlinewidth": 0,
              "ticks": ""
             }
            },
            "marker": {
             "colorbar": {
              "outlinewidth": 0,
              "ticks": ""
             }
            }
           }
          ],
          "scattermapbox": [
           {
            "type": "scattermapbox",
            "marker": {
             "colorbar": {
              "outlinewidth": 0,
              "ticks": ""
             }
            }
           }
          ],
          "scatterternary": [
           {
            "type": "scatterternary",
            "marker": {
             "colorbar": {
              "outlinewidth": 0,
              "ticks": ""
             }
            }
           }
          ],
          "scattercarpet": [
           {
            "type": "scattercarpet",
            "marker": {
             "colorbar": {
              "outlinewidth": 0,
              "ticks": ""
             }
            }
           }
          ],
          "carpet": [
           {
            "aaxis": {
             "endlinecolor": "#2a3f5f",
             "gridcolor": "white",
             "linecolor": "white",
             "minorgridcolor": "white",
             "startlinecolor": "#2a3f5f"
            },
            "baxis": {
             "endlinecolor": "#2a3f5f",
             "gridcolor": "white",
             "linecolor": "white",
             "minorgridcolor": "white",
             "startlinecolor": "#2a3f5f"
            },
            "type": "carpet"
           }
          ],
          "table": [
           {
            "cells": {
             "fill": {
              "color": "#EBF0F8"
             },
             "line": {
              "color": "white"
             }
            },
            "header": {
             "fill": {
              "color": "#C8D4E3"
             },
             "line": {
              "color": "white"
             }
            },
            "type": "table"
           }
          ],
          "barpolar": [
           {
            "marker": {
             "line": {
              "color": "#E5ECF6",
              "width": 0.5
             },
             "pattern": {
              "fillmode": "overlay",
              "size": 10,
              "solidity": 0.2
             }
            },
            "type": "barpolar"
           }
          ],
          "pie": [
           {
            "automargin": true,
            "type": "pie"
           }
          ]
         },
         "layout": {
          "autotypenumbers": "strict",
          "colorway": [
           "#636efa",
           "#EF553B",
           "#00cc96",
           "#ab63fa",
           "#FFA15A",
           "#19d3f3",
           "#FF6692",
           "#B6E880",
           "#FF97FF",
           "#FECB52"
          ],
          "font": {
           "color": "#2a3f5f"
          },
          "hovermode": "closest",
          "hoverlabel": {
           "align": "left"
          },
          "paper_bgcolor": "white",
          "plot_bgcolor": "#E5ECF6",
          "polar": {
           "bgcolor": "#E5ECF6",
           "angularaxis": {
            "gridcolor": "white",
            "linecolor": "white",
            "ticks": ""
           },
           "radialaxis": {
            "gridcolor": "white",
            "linecolor": "white",
            "ticks": ""
           }
          },
          "ternary": {
           "bgcolor": "#E5ECF6",
           "aaxis": {
            "gridcolor": "white",
            "linecolor": "white",
            "ticks": ""
           },
           "baxis": {
            "gridcolor": "white",
            "linecolor": "white",
            "ticks": ""
           },
           "caxis": {
            "gridcolor": "white",
            "linecolor": "white",
            "ticks": ""
           }
          },
          "coloraxis": {
           "colorbar": {
            "outlinewidth": 0,
            "ticks": ""
           }
          },
          "colorscale": {
           "sequential": [
            [
             0.0,
             "#0d0887"
            ],
            [
             0.1111111111111111,
             "#46039f"
            ],
            [
             0.2222222222222222,
             "#7201a8"
            ],
            [
             0.3333333333333333,
             "#9c179e"
            ],
            [
             0.4444444444444444,
             "#bd3786"
            ],
            [
             0.5555555555555556,
             "#d8576b"
            ],
            [
             0.6666666666666666,
             "#ed7953"
            ],
            [
             0.7777777777777778,
             "#fb9f3a"
            ],
            [
             0.8888888888888888,
             "#fdca26"
            ],
            [
             1.0,
             "#f0f921"
            ]
           ],
           "sequentialminus": [
            [
             0.0,
             "#0d0887"
            ],
            [
             0.1111111111111111,
             "#46039f"
            ],
            [
             0.2222222222222222,
             "#7201a8"
            ],
            [
             0.3333333333333333,
             "#9c179e"
            ],
            [
             0.4444444444444444,
             "#bd3786"
            ],
            [
             0.5555555555555556,
             "#d8576b"
            ],
            [
             0.6666666666666666,
             "#ed7953"
            ],
            [
             0.7777777777777778,
             "#fb9f3a"
            ],
            [
             0.8888888888888888,
             "#fdca26"
            ],
            [
             1.0,
             "#f0f921"
            ]
           ],
           "diverging": [
            [
             0,
             "#8e0152"
            ],
            [
             0.1,
             "#c51b7d"
            ],
            [
             0.2,
             "#de77ae"
            ],
            [
             0.3,
             "#f1b6da"
            ],
            [
             0.4,
             "#fde0ef"
            ],
            [
             0.5,
             "#f7f7f7"
            ],
            [
             0.6,
             "#e6f5d0"
            ],
            [
             0.7,
             "#b8e186"
            ],
            [
             0.8,
             "#7fbc41"
            ],
            [
             0.9,
             "#4d9221"
            ],
            [
             1,
             "#276419"
            ]
           ]
          },
          "xaxis": {
           "gridcolor": "white",
           "linecolor": "white",
           "ticks": "",
           "title": {
            "standoff": 15
           },
           "zerolinecolor": "white",
           "automargin": true,
           "zerolinewidth": 2
          },
          "yaxis": {
           "gridcolor": "white",
           "linecolor": "white",
           "ticks": "",
           "title": {
            "standoff": 15
           },
           "zerolinecolor": "white",
           "automargin": true,
           "zerolinewidth": 2
          },
          "scene": {
           "xaxis": {
            "backgroundcolor": "#E5ECF6",
            "gridcolor": "white",
            "linecolor": "white",
            "showbackground": true,
            "ticks": "",
            "zerolinecolor": "white",
            "gridwidth": 2
           },
           "yaxis": {
            "backgroundcolor": "#E5ECF6",
            "gridcolor": "white",
            "linecolor": "white",
            "showbackground": true,
            "ticks": "",
            "zerolinecolor": "white",
            "gridwidth": 2
           },
           "zaxis": {
            "backgroundcolor": "#E5ECF6",
            "gridcolor": "white",
            "linecolor": "white",
            "showbackground": true,
            "ticks": "",
            "zerolinecolor": "white",
            "gridwidth": 2
           }
          },
          "shapedefaults": {
           "line": {
            "color": "#2a3f5f"
           }
          },
          "annotationdefaults": {
           "arrowcolor": "#2a3f5f",
           "arrowhead": 0,
           "arrowwidth": 1
          },
          "geo": {
           "bgcolor": "white",
           "landcolor": "#E5ECF6",
           "subunitcolor": "white",
           "showland": true,
           "showlakes": true,
           "lakecolor": "white"
          },
          "title": {
           "x": 0.05
          },
          "mapbox": {
           "style": "light"
          }
         }
        },
        "mapbox": {
         "domain": {
          "x": [
           0.0,
           1.0
          ],
          "y": [
           0.0,
           1.0
          ]
         },
         "center": {
          "lat": 40.423510666666665,
          "lon": -3.688684
         },
         "zoom": 11,
         "style": "carto-positron"
        },
        "legend": {
         "title": {
          "text": "sub_genre_name"
         },
         "tracegroupgap": 0,
         "itemsizing": "constant"
        },
        "title": {
         "text": "Count of Events by Venue in Madrid"
        },
        "margin": {
         "r": 0,
         "t": 30,
         "l": 0,
         "b": 0
        },
        "height": 600,
        "width": 1000
       },
       "config": {
        "plotlyServerURL": "https://plot.ly"
       }
      },
      "text/html": [
       "<div>                            <div id=\"edcccf76-9216-4c5b-af36-2585d82d7ed9\" class=\"plotly-graph-div\" style=\"height:600px; width:1000px;\"></div>            <script type=\"text/javascript\">                require([\"plotly\"], function(Plotly) {                    window.PLOTLYENV=window.PLOTLYENV || {};                                    if (document.getElementById(\"edcccf76-9216-4c5b-af36-2585d82d7ed9\")) {                    Plotly.newPlot(                        \"edcccf76-9216-4c5b-af36-2585d82d7ed9\",                        [{\"customdata\":[[1],[1],[1]],\"hovertemplate\":\"\\u003cb\\u003e%{hovertext}\\u003c\\u002fb\\u003e\\u003cbr\\u003e\\u003cbr\\u003esub_genre_name=Other\\u003cbr\\u003eevent_count=%{customdata[0]}\\u003cbr\\u003evenue_latitude=%{lat}\\u003cbr\\u003evenue_longitude=%{lon}\\u003cextra\\u003e\\u003c\\u002fextra\\u003e\",\"hovertext\":[\"Teatro Barcel\\u00f3\",\"Sala Chang\\u00f3\",\"WiZink Center\"],\"lat\":[40.42684,40.43176,40.42394],\"legendgroup\":\"Other\",\"lon\":[-3.7,-3.6982,-3.6758],\"marker\":{\"color\":\"#636efa\",\"size\":[1,1,1],\"sizemode\":\"area\",\"sizeref\":0.008},\"mode\":\"markers\",\"name\":\"Other\",\"showlegend\":true,\"subplot\":\"mapbox\",\"type\":\"scattermapbox\"},{\"customdata\":[[1],[1],[3],[6],[2],[20],[5],[2],[2],[1],[5]],\"hovertemplate\":\"\\u003cb\\u003e%{hovertext}\\u003c\\u002fb\\u003e\\u003cbr\\u003e\\u003cbr\\u003esub_genre_name=Pop\\u003cbr\\u003eevent_count=%{customdata[0]}\\u003cbr\\u003evenue_latitude=%{lat}\\u003cbr\\u003evenue_longitude=%{lon}\\u003cextra\\u003e\\u003c\\u002fextra\\u003e\",\"hovertext\":[\"Teatro Barcel\\u00f3\",\"Sala Mon Live\",\"Sala But\",\"La Riviera\",\"Moby Dick Club\",\"WiZink Center\",\"Estadio Riyadh Air Metropolitano\",\"Sala Villanos\",\"Palacio Municipal - IFEMA MADRID\",\"Sala Nazca\",\"Palacio Vistalegre\"],\"lat\":[40.42684,40.4359,40.42703,40.413,40.45449,40.42394,40.43624,40.40397,40.46218,40.45146,40.386],\"legendgroup\":\"Pop\",\"lon\":[-3.7,-3.7165,-3.69969,-3.72215,-3.69404,-3.6758,-3.59947,-3.78242,-3.61687,-3.69482,-3.7385],\"marker\":{\"color\":\"#EF553B\",\"size\":[1,1,3,6,2,20,5,2,2,1,5],\"sizemode\":\"area\",\"sizeref\":0.008},\"mode\":\"markers\",\"name\":\"Pop\",\"showlegend\":true,\"subplot\":\"mapbox\",\"type\":\"scattermapbox\"},{\"customdata\":[[2],[1],[2]],\"hovertemplate\":\"\\u003cb\\u003e%{hovertext}\\u003c\\u002fb\\u003e\\u003cbr\\u003e\\u003cbr\\u003esub_genre_name=Alternative Rock\\u003cbr\\u003eevent_count=%{customdata[0]}\\u003cbr\\u003evenue_latitude=%{lat}\\u003cbr\\u003evenue_longitude=%{lon}\\u003cextra\\u003e\\u003c\\u002fextra\\u003e\",\"hovertext\":[\"La Riviera\",\"WiZink Center\",\"Sala Villanos\"],\"lat\":[40.413,40.42394,40.40397],\"legendgroup\":\"Alternative Rock\",\"lon\":[-3.72215,-3.6758,-3.78242],\"marker\":{\"color\":\"#00cc96\",\"size\":[2,1,2],\"sizemode\":\"area\",\"sizeref\":0.008},\"mode\":\"markers\",\"name\":\"Alternative Rock\",\"showlegend\":true,\"subplot\":\"mapbox\",\"type\":\"scattermapbox\"},{\"customdata\":[[1]],\"hovertemplate\":\"\\u003cb\\u003e%{hovertext}\\u003c\\u002fb\\u003e\\u003cbr\\u003e\\u003cbr\\u003esub_genre_name=Dance\\u002fElectronic\\u003cbr\\u003eevent_count=%{customdata[0]}\\u003cbr\\u003evenue_latitude=%{lat}\\u003cbr\\u003evenue_longitude=%{lon}\\u003cextra\\u003e\\u003c\\u002fextra\\u003e\",\"hovertext\":[\"La Riviera\"],\"lat\":[40.413],\"legendgroup\":\"Dance\\u002fElectronic\",\"lon\":[-3.72215],\"marker\":{\"color\":\"#ab63fa\",\"size\":[1],\"sizemode\":\"area\",\"sizeref\":0.008},\"mode\":\"markers\",\"name\":\"Dance\\u002fElectronic\",\"showlegend\":true,\"subplot\":\"mapbox\",\"type\":\"scattermapbox\"},{\"customdata\":[[1]],\"hovertemplate\":\"\\u003cb\\u003e%{hovertext}\\u003c\\u002fb\\u003e\\u003cbr\\u003e\\u003cbr\\u003esub_genre_name=Hard Rock\\u003cbr\\u003eevent_count=%{customdata[0]}\\u003cbr\\u003evenue_latitude=%{lat}\\u003cbr\\u003evenue_longitude=%{lon}\\u003cextra\\u003e\\u003c\\u002fextra\\u003e\",\"hovertext\":[\"LA SALA (WIZINK CENTER)\"],\"lat\":[40.42419],\"legendgroup\":\"Hard Rock\",\"lon\":[-3.67351],\"marker\":{\"color\":\"#FFA15A\",\"size\":[1],\"sizemode\":\"area\",\"sizeref\":0.008},\"mode\":\"markers\",\"name\":\"Hard Rock\",\"showlegend\":true,\"subplot\":\"mapbox\",\"type\":\"scattermapbox\"},{\"customdata\":[[2]],\"hovertemplate\":\"\\u003cb\\u003e%{hovertext}\\u003c\\u002fb\\u003e\\u003cbr\\u003e\\u003cbr\\u003esub_genre_name=Undefined\\u003cbr\\u003eevent_count=%{customdata[0]}\\u003cbr\\u003evenue_latitude=%{lat}\\u003cbr\\u003evenue_longitude=%{lon}\\u003cextra\\u003e\\u003c\\u002fextra\\u003e\",\"hovertext\":[\"IFEMA\"],\"lat\":[40.46423],\"legendgroup\":\"Undefined\",\"lon\":[-3.61532],\"marker\":{\"color\":\"#19d3f3\",\"size\":[2],\"sizemode\":\"area\",\"sizeref\":0.008},\"mode\":\"markers\",\"name\":\"Undefined\",\"showlegend\":true,\"subplot\":\"mapbox\",\"type\":\"scattermapbox\"}],                        {\"template\":{\"data\":{\"histogram2dcontour\":[{\"type\":\"histogram2dcontour\",\"colorbar\":{\"outlinewidth\":0,\"ticks\":\"\"},\"colorscale\":[[0.0,\"#0d0887\"],[0.1111111111111111,\"#46039f\"],[0.2222222222222222,\"#7201a8\"],[0.3333333333333333,\"#9c179e\"],[0.4444444444444444,\"#bd3786\"],[0.5555555555555556,\"#d8576b\"],[0.6666666666666666,\"#ed7953\"],[0.7777777777777778,\"#fb9f3a\"],[0.8888888888888888,\"#fdca26\"],[1.0,\"#f0f921\"]]}],\"choropleth\":[{\"type\":\"choropleth\",\"colorbar\":{\"outlinewidth\":0,\"ticks\":\"\"}}],\"histogram2d\":[{\"type\":\"histogram2d\",\"colorbar\":{\"outlinewidth\":0,\"ticks\":\"\"},\"colorscale\":[[0.0,\"#0d0887\"],[0.1111111111111111,\"#46039f\"],[0.2222222222222222,\"#7201a8\"],[0.3333333333333333,\"#9c179e\"],[0.4444444444444444,\"#bd3786\"],[0.5555555555555556,\"#d8576b\"],[0.6666666666666666,\"#ed7953\"],[0.7777777777777778,\"#fb9f3a\"],[0.8888888888888888,\"#fdca26\"],[1.0,\"#f0f921\"]]}],\"heatmap\":[{\"type\":\"heatmap\",\"colorbar\":{\"outlinewidth\":0,\"ticks\":\"\"},\"colorscale\":[[0.0,\"#0d0887\"],[0.1111111111111111,\"#46039f\"],[0.2222222222222222,\"#7201a8\"],[0.3333333333333333,\"#9c179e\"],[0.4444444444444444,\"#bd3786\"],[0.5555555555555556,\"#d8576b\"],[0.6666666666666666,\"#ed7953\"],[0.7777777777777778,\"#fb9f3a\"],[0.8888888888888888,\"#fdca26\"],[1.0,\"#f0f921\"]]}],\"heatmapgl\":[{\"type\":\"heatmapgl\",\"colorbar\":{\"outlinewidth\":0,\"ticks\":\"\"},\"colorscale\":[[0.0,\"#0d0887\"],[0.1111111111111111,\"#46039f\"],[0.2222222222222222,\"#7201a8\"],[0.3333333333333333,\"#9c179e\"],[0.4444444444444444,\"#bd3786\"],[0.5555555555555556,\"#d8576b\"],[0.6666666666666666,\"#ed7953\"],[0.7777777777777778,\"#fb9f3a\"],[0.8888888888888888,\"#fdca26\"],[1.0,\"#f0f921\"]]}],\"contourcarpet\":[{\"type\":\"contourcarpet\",\"colorbar\":{\"outlinewidth\":0,\"ticks\":\"\"}}],\"contour\":[{\"type\":\"contour\",\"colorbar\":{\"outlinewidth\":0,\"ticks\":\"\"},\"colorscale\":[[0.0,\"#0d0887\"],[0.1111111111111111,\"#46039f\"],[0.2222222222222222,\"#7201a8\"],[0.3333333333333333,\"#9c179e\"],[0.4444444444444444,\"#bd3786\"],[0.5555555555555556,\"#d8576b\"],[0.6666666666666666,\"#ed7953\"],[0.7777777777777778,\"#fb9f3a\"],[0.8888888888888888,\"#fdca26\"],[1.0,\"#f0f921\"]]}],\"surface\":[{\"type\":\"surface\",\"colorbar\":{\"outlinewidth\":0,\"ticks\":\"\"},\"colorscale\":[[0.0,\"#0d0887\"],[0.1111111111111111,\"#46039f\"],[0.2222222222222222,\"#7201a8\"],[0.3333333333333333,\"#9c179e\"],[0.4444444444444444,\"#bd3786\"],[0.5555555555555556,\"#d8576b\"],[0.6666666666666666,\"#ed7953\"],[0.7777777777777778,\"#fb9f3a\"],[0.8888888888888888,\"#fdca26\"],[1.0,\"#f0f921\"]]}],\"mesh3d\":[{\"type\":\"mesh3d\",\"colorbar\":{\"outlinewidth\":0,\"ticks\":\"\"}}],\"scatter\":[{\"fillpattern\":{\"fillmode\":\"overlay\",\"size\":10,\"solidity\":0.2},\"type\":\"scatter\"}],\"parcoords\":[{\"type\":\"parcoords\",\"line\":{\"colorbar\":{\"outlinewidth\":0,\"ticks\":\"\"}}}],\"scatterpolargl\":[{\"type\":\"scatterpolargl\",\"marker\":{\"colorbar\":{\"outlinewidth\":0,\"ticks\":\"\"}}}],\"bar\":[{\"error_x\":{\"color\":\"#2a3f5f\"},\"error_y\":{\"color\":\"#2a3f5f\"},\"marker\":{\"line\":{\"color\":\"#E5ECF6\",\"width\":0.5},\"pattern\":{\"fillmode\":\"overlay\",\"size\":10,\"solidity\":0.2}},\"type\":\"bar\"}],\"scattergeo\":[{\"type\":\"scattergeo\",\"marker\":{\"colorbar\":{\"outlinewidth\":0,\"ticks\":\"\"}}}],\"scatterpolar\":[{\"type\":\"scatterpolar\",\"marker\":{\"colorbar\":{\"outlinewidth\":0,\"ticks\":\"\"}}}],\"histogram\":[{\"marker\":{\"pattern\":{\"fillmode\":\"overlay\",\"size\":10,\"solidity\":0.2}},\"type\":\"histogram\"}],\"scattergl\":[{\"type\":\"scattergl\",\"marker\":{\"colorbar\":{\"outlinewidth\":0,\"ticks\":\"\"}}}],\"scatter3d\":[{\"type\":\"scatter3d\",\"line\":{\"colorbar\":{\"outlinewidth\":0,\"ticks\":\"\"}},\"marker\":{\"colorbar\":{\"outlinewidth\":0,\"ticks\":\"\"}}}],\"scattermapbox\":[{\"type\":\"scattermapbox\",\"marker\":{\"colorbar\":{\"outlinewidth\":0,\"ticks\":\"\"}}}],\"scatterternary\":[{\"type\":\"scatterternary\",\"marker\":{\"colorbar\":{\"outlinewidth\":0,\"ticks\":\"\"}}}],\"scattercarpet\":[{\"type\":\"scattercarpet\",\"marker\":{\"colorbar\":{\"outlinewidth\":0,\"ticks\":\"\"}}}],\"carpet\":[{\"aaxis\":{\"endlinecolor\":\"#2a3f5f\",\"gridcolor\":\"white\",\"linecolor\":\"white\",\"minorgridcolor\":\"white\",\"startlinecolor\":\"#2a3f5f\"},\"baxis\":{\"endlinecolor\":\"#2a3f5f\",\"gridcolor\":\"white\",\"linecolor\":\"white\",\"minorgridcolor\":\"white\",\"startlinecolor\":\"#2a3f5f\"},\"type\":\"carpet\"}],\"table\":[{\"cells\":{\"fill\":{\"color\":\"#EBF0F8\"},\"line\":{\"color\":\"white\"}},\"header\":{\"fill\":{\"color\":\"#C8D4E3\"},\"line\":{\"color\":\"white\"}},\"type\":\"table\"}],\"barpolar\":[{\"marker\":{\"line\":{\"color\":\"#E5ECF6\",\"width\":0.5},\"pattern\":{\"fillmode\":\"overlay\",\"size\":10,\"solidity\":0.2}},\"type\":\"barpolar\"}],\"pie\":[{\"automargin\":true,\"type\":\"pie\"}]},\"layout\":{\"autotypenumbers\":\"strict\",\"colorway\":[\"#636efa\",\"#EF553B\",\"#00cc96\",\"#ab63fa\",\"#FFA15A\",\"#19d3f3\",\"#FF6692\",\"#B6E880\",\"#FF97FF\",\"#FECB52\"],\"font\":{\"color\":\"#2a3f5f\"},\"hovermode\":\"closest\",\"hoverlabel\":{\"align\":\"left\"},\"paper_bgcolor\":\"white\",\"plot_bgcolor\":\"#E5ECF6\",\"polar\":{\"bgcolor\":\"#E5ECF6\",\"angularaxis\":{\"gridcolor\":\"white\",\"linecolor\":\"white\",\"ticks\":\"\"},\"radialaxis\":{\"gridcolor\":\"white\",\"linecolor\":\"white\",\"ticks\":\"\"}},\"ternary\":{\"bgcolor\":\"#E5ECF6\",\"aaxis\":{\"gridcolor\":\"white\",\"linecolor\":\"white\",\"ticks\":\"\"},\"baxis\":{\"gridcolor\":\"white\",\"linecolor\":\"white\",\"ticks\":\"\"},\"caxis\":{\"gridcolor\":\"white\",\"linecolor\":\"white\",\"ticks\":\"\"}},\"coloraxis\":{\"colorbar\":{\"outlinewidth\":0,\"ticks\":\"\"}},\"colorscale\":{\"sequential\":[[0.0,\"#0d0887\"],[0.1111111111111111,\"#46039f\"],[0.2222222222222222,\"#7201a8\"],[0.3333333333333333,\"#9c179e\"],[0.4444444444444444,\"#bd3786\"],[0.5555555555555556,\"#d8576b\"],[0.6666666666666666,\"#ed7953\"],[0.7777777777777778,\"#fb9f3a\"],[0.8888888888888888,\"#fdca26\"],[1.0,\"#f0f921\"]],\"sequentialminus\":[[0.0,\"#0d0887\"],[0.1111111111111111,\"#46039f\"],[0.2222222222222222,\"#7201a8\"],[0.3333333333333333,\"#9c179e\"],[0.4444444444444444,\"#bd3786\"],[0.5555555555555556,\"#d8576b\"],[0.6666666666666666,\"#ed7953\"],[0.7777777777777778,\"#fb9f3a\"],[0.8888888888888888,\"#fdca26\"],[1.0,\"#f0f921\"]],\"diverging\":[[0,\"#8e0152\"],[0.1,\"#c51b7d\"],[0.2,\"#de77ae\"],[0.3,\"#f1b6da\"],[0.4,\"#fde0ef\"],[0.5,\"#f7f7f7\"],[0.6,\"#e6f5d0\"],[0.7,\"#b8e186\"],[0.8,\"#7fbc41\"],[0.9,\"#4d9221\"],[1,\"#276419\"]]},\"xaxis\":{\"gridcolor\":\"white\",\"linecolor\":\"white\",\"ticks\":\"\",\"title\":{\"standoff\":15},\"zerolinecolor\":\"white\",\"automargin\":true,\"zerolinewidth\":2},\"yaxis\":{\"gridcolor\":\"white\",\"linecolor\":\"white\",\"ticks\":\"\",\"title\":{\"standoff\":15},\"zerolinecolor\":\"white\",\"automargin\":true,\"zerolinewidth\":2},\"scene\":{\"xaxis\":{\"backgroundcolor\":\"#E5ECF6\",\"gridcolor\":\"white\",\"linecolor\":\"white\",\"showbackground\":true,\"ticks\":\"\",\"zerolinecolor\":\"white\",\"gridwidth\":2},\"yaxis\":{\"backgroundcolor\":\"#E5ECF6\",\"gridcolor\":\"white\",\"linecolor\":\"white\",\"showbackground\":true,\"ticks\":\"\",\"zerolinecolor\":\"white\",\"gridwidth\":2},\"zaxis\":{\"backgroundcolor\":\"#E5ECF6\",\"gridcolor\":\"white\",\"linecolor\":\"white\",\"showbackground\":true,\"ticks\":\"\",\"zerolinecolor\":\"white\",\"gridwidth\":2}},\"shapedefaults\":{\"line\":{\"color\":\"#2a3f5f\"}},\"annotationdefaults\":{\"arrowcolor\":\"#2a3f5f\",\"arrowhead\":0,\"arrowwidth\":1},\"geo\":{\"bgcolor\":\"white\",\"landcolor\":\"#E5ECF6\",\"subunitcolor\":\"white\",\"showland\":true,\"showlakes\":true,\"lakecolor\":\"white\"},\"title\":{\"x\":0.05},\"mapbox\":{\"style\":\"light\"}}},\"mapbox\":{\"domain\":{\"x\":[0.0,1.0],\"y\":[0.0,1.0]},\"center\":{\"lat\":40.423510666666665,\"lon\":-3.688684},\"zoom\":11,\"style\":\"carto-positron\"},\"legend\":{\"title\":{\"text\":\"sub_genre_name\"},\"tracegroupgap\":0,\"itemsizing\":\"constant\"},\"title\":{\"text\":\"Count of Events by Venue in Madrid\"},\"margin\":{\"r\":0,\"t\":30,\"l\":0,\"b\":0},\"height\":600,\"width\":1000},                        {\"responsive\": true}                    ).then(function(){\n",
       "                            \n",
       "var gd = document.getElementById('edcccf76-9216-4c5b-af36-2585d82d7ed9');\n",
       "var x = new MutationObserver(function (mutations, observer) {{\n",
       "        var display = window.getComputedStyle(gd).display;\n",
       "        if (!display || display === 'none') {{\n",
       "            console.log([gd, 'removed!']);\n",
       "            Plotly.purge(gd);\n",
       "            observer.disconnect();\n",
       "        }}\n",
       "}});\n",
       "\n",
       "// Listen for the removal of the full notebook cells\n",
       "var notebookContainer = gd.closest('#notebook-container');\n",
       "if (notebookContainer) {{\n",
       "    x.observe(notebookContainer, {childList: true});\n",
       "}}\n",
       "\n",
       "// Listen for the clearing of the current output cell\n",
       "var outputEl = gd.closest('.output');\n",
       "if (outputEl) {{\n",
       "    x.observe(outputEl, {childList: true});\n",
       "}}\n",
       "\n",
       "                        })                };                });            </script>        </div>"
      ]
     },
     "metadata": {},
     "output_type": "display_data"
    }
   ],
   "execution_count": 186
  },
  {
   "metadata": {},
   "cell_type": "markdown",
   "source": "## Analysis 5: Prices by venue",
   "id": "ec953cbb16d8b878"
  },
  {
   "metadata": {
    "ExecuteTime": {
     "end_time": "2024-12-01T20:24:12.670462Z",
     "start_time": "2024-12-01T20:24:12.603143Z"
    }
   },
   "cell_type": "code",
   "source": [
    "# Filter data for Madrid\n",
    "madrid_data = events_prices_df[events_prices_df['venue_city'] == 'Madrid']\n",
    "\n",
    "# Aggregate data by venue, min_price, and max_price\n",
    "venues_data = madrid_data.groupby(['venue_id', 'venue_name', 'venue_latitude', 'venue_longitude']).agg(\n",
    "    min_price=('min_price', 'mean'),\n",
    "    max_price=('max_price', 'mean')\n",
    ").reset_index()\n",
    "\n",
    "# Define colors and labels for price types\n",
    "price_types = ['min_price', 'max_price']\n",
    "colors = ['rgb(33,113,181)', 'rgb(239,138,98)']\n",
    "\n",
    "# Create a figure\n",
    "fig = go.Figure()\n",
    "\n",
    "# Add layers for each price type\n",
    "for i, price_type in enumerate(price_types):\n",
    "    fig.add_trace(go.Scattermapbox(\n",
    "        lat=venues_data['venue_latitude'],\n",
    "        lon=venues_data['venue_longitude'],\n",
    "        mode='markers',\n",
    "        marker=go.scattermapbox.Marker(\n",
    "            size=venues_data[price_type] / 4,  # Scale size\n",
    "            color=colors[i],\n",
    "            opacity=0.6\n",
    "        ),\n",
    "        text=venues_data.apply(lambda row: f\"{row['venue_name']}<br>{price_type.title().replace('_', ' ')}: {row[price_type]:.2f}\", axis=1),\n",
    "        name=price_type.title().replace('_', ' ')\n",
    "    ))\n",
    "\n",
    "# Update layout to mimic the px.scatter_mapbox style\n",
    "fig.update_layout(\n",
    "    mapbox=dict(\n",
    "        style=\"carto-positron\",\n",
    "        zoom=11,\n",
    "        center={\"lat\": madrid_data['venue_latitude'].mean(), \"lon\": madrid_data['venue_longitude'].mean()}\n",
    "    ),\n",
    "    margin={\"r\": 0, \"t\": 40, \"l\": 0, \"b\": 0},\n",
    "    title=\"Bubble Map of Min and Max Prices by Venue in Madrid\",\n",
    "    legend=dict(traceorder=\"reversed\"),\n",
    "    height=600,\n",
    "    width=1000\n",
    ")\n",
    "\n",
    "# Show the map\n",
    "fig.show()\n"
   ],
   "id": "76157132792af8f5",
   "outputs": [
    {
     "data": {
      "application/vnd.plotly.v1+json": {
       "data": [
        {
         "lat": [
          40.42684,
          40.4359,
          40.42703,
          40.413,
          40.45449,
          40.43176,
          40.42394,
          40.41003,
          40.43624,
          40.42419,
          40.46423,
          40.40397,
          40.43187,
          40.46218,
          40.45146,
          40.386
         ],
         "lon": [
          -3.7,
          -3.7165,
          -3.69969,
          -3.72215,
          -3.69404,
          -3.6982,
          -3.6758,
          -3.70616,
          -3.59947,
          -3.67351,
          -3.61532,
          -3.78242,
          -3.69825,
          -3.61687,
          -3.69482,
          -3.7385
         ],
         "marker": {
          "color": "rgb(33,113,181)",
          "opacity": 0.6,
          "size": [
           6.375,
           6.25,
           7.166666666666667,
           8.722222222222221,
           13.625,
           6.5,
           21.494318181818183,
           5.75,
           24.35,
           8.0,
           9.285,
           8.5,
           16.6,
           26.875,
           5.75,
           31.75
          ]
         },
         "mode": "markers",
         "name": "Min Price",
         "text": [
          "Teatro Barceló<br>Min Price: 25.50",
          "Sala Mon Live<br>Min Price: 25.00",
          "Sala But<br>Min Price: 28.67",
          "La Riviera<br>Min Price: 34.89",
          "Moby Dick Club<br>Min Price: 54.50",
          "Sala Changó<br>Min Price: 26.00",
          "WiZink Center<br>Min Price: 85.98",
          "Teatro Pavón<br>Min Price: 23.00",
          "Estadio Riyadh Air Metropolitano<br>Min Price: 97.40",
          "LA SALA (WIZINK CENTER)<br>Min Price: 32.00",
          "IFEMA<br>Min Price: 37.14",
          "Sala Villanos<br>Min Price: 34.00",
          "Teatros Luchana (Sala 2)<br>Min Price: 66.40",
          "Palacio Municipal - IFEMA MADRID<br>Min Price: 107.50",
          "Sala Nazca<br>Min Price: 23.00",
          "Palacio Vistalegre<br>Min Price: 127.00"
         ],
         "type": "scattermapbox"
        },
        {
         "lat": [
          40.42684,
          40.4359,
          40.42703,
          40.413,
          40.45449,
          40.43176,
          40.42394,
          40.41003,
          40.43624,
          40.42419,
          40.46423,
          40.40397,
          40.43187,
          40.46218,
          40.45146,
          40.386
         ],
         "lon": [
          -3.7,
          -3.7165,
          -3.69969,
          -3.72215,
          -3.69404,
          -3.6982,
          -3.6758,
          -3.70616,
          -3.59947,
          -3.67351,
          -3.61532,
          -3.78242,
          -3.69825,
          -3.61687,
          -3.69482,
          -3.7385
         ],
         "marker": {
          "color": "rgb(239,138,98)",
          "opacity": 0.6,
          "size": [
           6.375,
           6.25,
           7.166666666666667,
           8.722222222222221,
           13.625,
           6.5,
           61.32386363636363,
           7.0,
           373.875,
           8.0,
           95.75874999999999,
           8.5,
           22.85,
           44.375,
           5.75,
           55.9
          ]
         },
         "mode": "markers",
         "name": "Max Price",
         "text": [
          "Teatro Barceló<br>Max Price: 25.50",
          "Sala Mon Live<br>Max Price: 25.00",
          "Sala But<br>Max Price: 28.67",
          "La Riviera<br>Max Price: 34.89",
          "Moby Dick Club<br>Max Price: 54.50",
          "Sala Changó<br>Max Price: 26.00",
          "WiZink Center<br>Max Price: 245.30",
          "Teatro Pavón<br>Max Price: 28.00",
          "Estadio Riyadh Air Metropolitano<br>Max Price: 1495.50",
          "LA SALA (WIZINK CENTER)<br>Max Price: 32.00",
          "IFEMA<br>Max Price: 383.03",
          "Sala Villanos<br>Max Price: 34.00",
          "Teatros Luchana (Sala 2)<br>Max Price: 91.40",
          "Palacio Municipal - IFEMA MADRID<br>Max Price: 177.50",
          "Sala Nazca<br>Max Price: 23.00",
          "Palacio Vistalegre<br>Max Price: 223.60"
         ],
         "type": "scattermapbox"
        }
       ],
       "layout": {
        "template": {
         "data": {
          "histogram2dcontour": [
           {
            "type": "histogram2dcontour",
            "colorbar": {
             "outlinewidth": 0,
             "ticks": ""
            },
            "colorscale": [
             [
              0.0,
              "#0d0887"
             ],
             [
              0.1111111111111111,
              "#46039f"
             ],
             [
              0.2222222222222222,
              "#7201a8"
             ],
             [
              0.3333333333333333,
              "#9c179e"
             ],
             [
              0.4444444444444444,
              "#bd3786"
             ],
             [
              0.5555555555555556,
              "#d8576b"
             ],
             [
              0.6666666666666666,
              "#ed7953"
             ],
             [
              0.7777777777777778,
              "#fb9f3a"
             ],
             [
              0.8888888888888888,
              "#fdca26"
             ],
             [
              1.0,
              "#f0f921"
             ]
            ]
           }
          ],
          "choropleth": [
           {
            "type": "choropleth",
            "colorbar": {
             "outlinewidth": 0,
             "ticks": ""
            }
           }
          ],
          "histogram2d": [
           {
            "type": "histogram2d",
            "colorbar": {
             "outlinewidth": 0,
             "ticks": ""
            },
            "colorscale": [
             [
              0.0,
              "#0d0887"
             ],
             [
              0.1111111111111111,
              "#46039f"
             ],
             [
              0.2222222222222222,
              "#7201a8"
             ],
             [
              0.3333333333333333,
              "#9c179e"
             ],
             [
              0.4444444444444444,
              "#bd3786"
             ],
             [
              0.5555555555555556,
              "#d8576b"
             ],
             [
              0.6666666666666666,
              "#ed7953"
             ],
             [
              0.7777777777777778,
              "#fb9f3a"
             ],
             [
              0.8888888888888888,
              "#fdca26"
             ],
             [
              1.0,
              "#f0f921"
             ]
            ]
           }
          ],
          "heatmap": [
           {
            "type": "heatmap",
            "colorbar": {
             "outlinewidth": 0,
             "ticks": ""
            },
            "colorscale": [
             [
              0.0,
              "#0d0887"
             ],
             [
              0.1111111111111111,
              "#46039f"
             ],
             [
              0.2222222222222222,
              "#7201a8"
             ],
             [
              0.3333333333333333,
              "#9c179e"
             ],
             [
              0.4444444444444444,
              "#bd3786"
             ],
             [
              0.5555555555555556,
              "#d8576b"
             ],
             [
              0.6666666666666666,
              "#ed7953"
             ],
             [
              0.7777777777777778,
              "#fb9f3a"
             ],
             [
              0.8888888888888888,
              "#fdca26"
             ],
             [
              1.0,
              "#f0f921"
             ]
            ]
           }
          ],
          "heatmapgl": [
           {
            "type": "heatmapgl",
            "colorbar": {
             "outlinewidth": 0,
             "ticks": ""
            },
            "colorscale": [
             [
              0.0,
              "#0d0887"
             ],
             [
              0.1111111111111111,
              "#46039f"
             ],
             [
              0.2222222222222222,
              "#7201a8"
             ],
             [
              0.3333333333333333,
              "#9c179e"
             ],
             [
              0.4444444444444444,
              "#bd3786"
             ],
             [
              0.5555555555555556,
              "#d8576b"
             ],
             [
              0.6666666666666666,
              "#ed7953"
             ],
             [
              0.7777777777777778,
              "#fb9f3a"
             ],
             [
              0.8888888888888888,
              "#fdca26"
             ],
             [
              1.0,
              "#f0f921"
             ]
            ]
           }
          ],
          "contourcarpet": [
           {
            "type": "contourcarpet",
            "colorbar": {
             "outlinewidth": 0,
             "ticks": ""
            }
           }
          ],
          "contour": [
           {
            "type": "contour",
            "colorbar": {
             "outlinewidth": 0,
             "ticks": ""
            },
            "colorscale": [
             [
              0.0,
              "#0d0887"
             ],
             [
              0.1111111111111111,
              "#46039f"
             ],
             [
              0.2222222222222222,
              "#7201a8"
             ],
             [
              0.3333333333333333,
              "#9c179e"
             ],
             [
              0.4444444444444444,
              "#bd3786"
             ],
             [
              0.5555555555555556,
              "#d8576b"
             ],
             [
              0.6666666666666666,
              "#ed7953"
             ],
             [
              0.7777777777777778,
              "#fb9f3a"
             ],
             [
              0.8888888888888888,
              "#fdca26"
             ],
             [
              1.0,
              "#f0f921"
             ]
            ]
           }
          ],
          "surface": [
           {
            "type": "surface",
            "colorbar": {
             "outlinewidth": 0,
             "ticks": ""
            },
            "colorscale": [
             [
              0.0,
              "#0d0887"
             ],
             [
              0.1111111111111111,
              "#46039f"
             ],
             [
              0.2222222222222222,
              "#7201a8"
             ],
             [
              0.3333333333333333,
              "#9c179e"
             ],
             [
              0.4444444444444444,
              "#bd3786"
             ],
             [
              0.5555555555555556,
              "#d8576b"
             ],
             [
              0.6666666666666666,
              "#ed7953"
             ],
             [
              0.7777777777777778,
              "#fb9f3a"
             ],
             [
              0.8888888888888888,
              "#fdca26"
             ],
             [
              1.0,
              "#f0f921"
             ]
            ]
           }
          ],
          "mesh3d": [
           {
            "type": "mesh3d",
            "colorbar": {
             "outlinewidth": 0,
             "ticks": ""
            }
           }
          ],
          "scatter": [
           {
            "fillpattern": {
             "fillmode": "overlay",
             "size": 10,
             "solidity": 0.2
            },
            "type": "scatter"
           }
          ],
          "parcoords": [
           {
            "type": "parcoords",
            "line": {
             "colorbar": {
              "outlinewidth": 0,
              "ticks": ""
             }
            }
           }
          ],
          "scatterpolargl": [
           {
            "type": "scatterpolargl",
            "marker": {
             "colorbar": {
              "outlinewidth": 0,
              "ticks": ""
             }
            }
           }
          ],
          "bar": [
           {
            "error_x": {
             "color": "#2a3f5f"
            },
            "error_y": {
             "color": "#2a3f5f"
            },
            "marker": {
             "line": {
              "color": "#E5ECF6",
              "width": 0.5
             },
             "pattern": {
              "fillmode": "overlay",
              "size": 10,
              "solidity": 0.2
             }
            },
            "type": "bar"
           }
          ],
          "scattergeo": [
           {
            "type": "scattergeo",
            "marker": {
             "colorbar": {
              "outlinewidth": 0,
              "ticks": ""
             }
            }
           }
          ],
          "scatterpolar": [
           {
            "type": "scatterpolar",
            "marker": {
             "colorbar": {
              "outlinewidth": 0,
              "ticks": ""
             }
            }
           }
          ],
          "histogram": [
           {
            "marker": {
             "pattern": {
              "fillmode": "overlay",
              "size": 10,
              "solidity": 0.2
             }
            },
            "type": "histogram"
           }
          ],
          "scattergl": [
           {
            "type": "scattergl",
            "marker": {
             "colorbar": {
              "outlinewidth": 0,
              "ticks": ""
             }
            }
           }
          ],
          "scatter3d": [
           {
            "type": "scatter3d",
            "line": {
             "colorbar": {
              "outlinewidth": 0,
              "ticks": ""
             }
            },
            "marker": {
             "colorbar": {
              "outlinewidth": 0,
              "ticks": ""
             }
            }
           }
          ],
          "scattermapbox": [
           {
            "type": "scattermapbox",
            "marker": {
             "colorbar": {
              "outlinewidth": 0,
              "ticks": ""
             }
            }
           }
          ],
          "scatterternary": [
           {
            "type": "scatterternary",
            "marker": {
             "colorbar": {
              "outlinewidth": 0,
              "ticks": ""
             }
            }
           }
          ],
          "scattercarpet": [
           {
            "type": "scattercarpet",
            "marker": {
             "colorbar": {
              "outlinewidth": 0,
              "ticks": ""
             }
            }
           }
          ],
          "carpet": [
           {
            "aaxis": {
             "endlinecolor": "#2a3f5f",
             "gridcolor": "white",
             "linecolor": "white",
             "minorgridcolor": "white",
             "startlinecolor": "#2a3f5f"
            },
            "baxis": {
             "endlinecolor": "#2a3f5f",
             "gridcolor": "white",
             "linecolor": "white",
             "minorgridcolor": "white",
             "startlinecolor": "#2a3f5f"
            },
            "type": "carpet"
           }
          ],
          "table": [
           {
            "cells": {
             "fill": {
              "color": "#EBF0F8"
             },
             "line": {
              "color": "white"
             }
            },
            "header": {
             "fill": {
              "color": "#C8D4E3"
             },
             "line": {
              "color": "white"
             }
            },
            "type": "table"
           }
          ],
          "barpolar": [
           {
            "marker": {
             "line": {
              "color": "#E5ECF6",
              "width": 0.5
             },
             "pattern": {
              "fillmode": "overlay",
              "size": 10,
              "solidity": 0.2
             }
            },
            "type": "barpolar"
           }
          ],
          "pie": [
           {
            "automargin": true,
            "type": "pie"
           }
          ]
         },
         "layout": {
          "autotypenumbers": "strict",
          "colorway": [
           "#636efa",
           "#EF553B",
           "#00cc96",
           "#ab63fa",
           "#FFA15A",
           "#19d3f3",
           "#FF6692",
           "#B6E880",
           "#FF97FF",
           "#FECB52"
          ],
          "font": {
           "color": "#2a3f5f"
          },
          "hovermode": "closest",
          "hoverlabel": {
           "align": "left"
          },
          "paper_bgcolor": "white",
          "plot_bgcolor": "#E5ECF6",
          "polar": {
           "bgcolor": "#E5ECF6",
           "angularaxis": {
            "gridcolor": "white",
            "linecolor": "white",
            "ticks": ""
           },
           "radialaxis": {
            "gridcolor": "white",
            "linecolor": "white",
            "ticks": ""
           }
          },
          "ternary": {
           "bgcolor": "#E5ECF6",
           "aaxis": {
            "gridcolor": "white",
            "linecolor": "white",
            "ticks": ""
           },
           "baxis": {
            "gridcolor": "white",
            "linecolor": "white",
            "ticks": ""
           },
           "caxis": {
            "gridcolor": "white",
            "linecolor": "white",
            "ticks": ""
           }
          },
          "coloraxis": {
           "colorbar": {
            "outlinewidth": 0,
            "ticks": ""
           }
          },
          "colorscale": {
           "sequential": [
            [
             0.0,
             "#0d0887"
            ],
            [
             0.1111111111111111,
             "#46039f"
            ],
            [
             0.2222222222222222,
             "#7201a8"
            ],
            [
             0.3333333333333333,
             "#9c179e"
            ],
            [
             0.4444444444444444,
             "#bd3786"
            ],
            [
             0.5555555555555556,
             "#d8576b"
            ],
            [
             0.6666666666666666,
             "#ed7953"
            ],
            [
             0.7777777777777778,
             "#fb9f3a"
            ],
            [
             0.8888888888888888,
             "#fdca26"
            ],
            [
             1.0,
             "#f0f921"
            ]
           ],
           "sequentialminus": [
            [
             0.0,
             "#0d0887"
            ],
            [
             0.1111111111111111,
             "#46039f"
            ],
            [
             0.2222222222222222,
             "#7201a8"
            ],
            [
             0.3333333333333333,
             "#9c179e"
            ],
            [
             0.4444444444444444,
             "#bd3786"
            ],
            [
             0.5555555555555556,
             "#d8576b"
            ],
            [
             0.6666666666666666,
             "#ed7953"
            ],
            [
             0.7777777777777778,
             "#fb9f3a"
            ],
            [
             0.8888888888888888,
             "#fdca26"
            ],
            [
             1.0,
             "#f0f921"
            ]
           ],
           "diverging": [
            [
             0,
             "#8e0152"
            ],
            [
             0.1,
             "#c51b7d"
            ],
            [
             0.2,
             "#de77ae"
            ],
            [
             0.3,
             "#f1b6da"
            ],
            [
             0.4,
             "#fde0ef"
            ],
            [
             0.5,
             "#f7f7f7"
            ],
            [
             0.6,
             "#e6f5d0"
            ],
            [
             0.7,
             "#b8e186"
            ],
            [
             0.8,
             "#7fbc41"
            ],
            [
             0.9,
             "#4d9221"
            ],
            [
             1,
             "#276419"
            ]
           ]
          },
          "xaxis": {
           "gridcolor": "white",
           "linecolor": "white",
           "ticks": "",
           "title": {
            "standoff": 15
           },
           "zerolinecolor": "white",
           "automargin": true,
           "zerolinewidth": 2
          },
          "yaxis": {
           "gridcolor": "white",
           "linecolor": "white",
           "ticks": "",
           "title": {
            "standoff": 15
           },
           "zerolinecolor": "white",
           "automargin": true,
           "zerolinewidth": 2
          },
          "scene": {
           "xaxis": {
            "backgroundcolor": "#E5ECF6",
            "gridcolor": "white",
            "linecolor": "white",
            "showbackground": true,
            "ticks": "",
            "zerolinecolor": "white",
            "gridwidth": 2
           },
           "yaxis": {
            "backgroundcolor": "#E5ECF6",
            "gridcolor": "white",
            "linecolor": "white",
            "showbackground": true,
            "ticks": "",
            "zerolinecolor": "white",
            "gridwidth": 2
           },
           "zaxis": {
            "backgroundcolor": "#E5ECF6",
            "gridcolor": "white",
            "linecolor": "white",
            "showbackground": true,
            "ticks": "",
            "zerolinecolor": "white",
            "gridwidth": 2
           }
          },
          "shapedefaults": {
           "line": {
            "color": "#2a3f5f"
           }
          },
          "annotationdefaults": {
           "arrowcolor": "#2a3f5f",
           "arrowhead": 0,
           "arrowwidth": 1
          },
          "geo": {
           "bgcolor": "white",
           "landcolor": "#E5ECF6",
           "subunitcolor": "white",
           "showland": true,
           "showlakes": true,
           "lakecolor": "white"
          },
          "title": {
           "x": 0.05
          },
          "mapbox": {
           "style": "light"
          }
         }
        },
        "mapbox": {
         "center": {
          "lat": 40.4239396969697,
          "lon": -3.6896734848484845
         },
         "style": "carto-positron",
         "zoom": 11
        },
        "margin": {
         "r": 0,
         "t": 40,
         "l": 0,
         "b": 0
        },
        "legend": {
         "traceorder": "reversed"
        },
        "title": {
         "text": "Bubble Map of Min and Max Prices by Venue in Madrid"
        },
        "height": 600,
        "width": 1000
       },
       "config": {
        "plotlyServerURL": "https://plot.ly"
       }
      },
      "text/html": [
       "<div>                            <div id=\"88cad4aa-15b3-42f6-83f2-d01e9ee91314\" class=\"plotly-graph-div\" style=\"height:600px; width:1000px;\"></div>            <script type=\"text/javascript\">                require([\"plotly\"], function(Plotly) {                    window.PLOTLYENV=window.PLOTLYENV || {};                                    if (document.getElementById(\"88cad4aa-15b3-42f6-83f2-d01e9ee91314\")) {                    Plotly.newPlot(                        \"88cad4aa-15b3-42f6-83f2-d01e9ee91314\",                        [{\"lat\":[40.42684,40.4359,40.42703,40.413,40.45449,40.43176,40.42394,40.41003,40.43624,40.42419,40.46423,40.40397,40.43187,40.46218,40.45146,40.386],\"lon\":[-3.7,-3.7165,-3.69969,-3.72215,-3.69404,-3.6982,-3.6758,-3.70616,-3.59947,-3.67351,-3.61532,-3.78242,-3.69825,-3.61687,-3.69482,-3.7385],\"marker\":{\"color\":\"rgb(33,113,181)\",\"opacity\":0.6,\"size\":[6.375,6.25,7.166666666666667,8.722222222222221,13.625,6.5,21.494318181818183,5.75,24.35,8.0,9.285,8.5,16.6,26.875,5.75,31.75]},\"mode\":\"markers\",\"name\":\"Min Price\",\"text\":[\"Teatro Barcel\\u00f3\\u003cbr\\u003eMin Price: 25.50\",\"Sala Mon Live\\u003cbr\\u003eMin Price: 25.00\",\"Sala But\\u003cbr\\u003eMin Price: 28.67\",\"La Riviera\\u003cbr\\u003eMin Price: 34.89\",\"Moby Dick Club\\u003cbr\\u003eMin Price: 54.50\",\"Sala Chang\\u00f3\\u003cbr\\u003eMin Price: 26.00\",\"WiZink Center\\u003cbr\\u003eMin Price: 85.98\",\"Teatro Pav\\u00f3n\\u003cbr\\u003eMin Price: 23.00\",\"Estadio Riyadh Air Metropolitano\\u003cbr\\u003eMin Price: 97.40\",\"LA SALA (WIZINK CENTER)\\u003cbr\\u003eMin Price: 32.00\",\"IFEMA\\u003cbr\\u003eMin Price: 37.14\",\"Sala Villanos\\u003cbr\\u003eMin Price: 34.00\",\"Teatros Luchana (Sala 2)\\u003cbr\\u003eMin Price: 66.40\",\"Palacio Municipal - IFEMA MADRID\\u003cbr\\u003eMin Price: 107.50\",\"Sala Nazca\\u003cbr\\u003eMin Price: 23.00\",\"Palacio Vistalegre\\u003cbr\\u003eMin Price: 127.00\"],\"type\":\"scattermapbox\"},{\"lat\":[40.42684,40.4359,40.42703,40.413,40.45449,40.43176,40.42394,40.41003,40.43624,40.42419,40.46423,40.40397,40.43187,40.46218,40.45146,40.386],\"lon\":[-3.7,-3.7165,-3.69969,-3.72215,-3.69404,-3.6982,-3.6758,-3.70616,-3.59947,-3.67351,-3.61532,-3.78242,-3.69825,-3.61687,-3.69482,-3.7385],\"marker\":{\"color\":\"rgb(239,138,98)\",\"opacity\":0.6,\"size\":[6.375,6.25,7.166666666666667,8.722222222222221,13.625,6.5,61.32386363636363,7.0,373.875,8.0,95.75874999999999,8.5,22.85,44.375,5.75,55.9]},\"mode\":\"markers\",\"name\":\"Max Price\",\"text\":[\"Teatro Barcel\\u00f3\\u003cbr\\u003eMax Price: 25.50\",\"Sala Mon Live\\u003cbr\\u003eMax Price: 25.00\",\"Sala But\\u003cbr\\u003eMax Price: 28.67\",\"La Riviera\\u003cbr\\u003eMax Price: 34.89\",\"Moby Dick Club\\u003cbr\\u003eMax Price: 54.50\",\"Sala Chang\\u00f3\\u003cbr\\u003eMax Price: 26.00\",\"WiZink Center\\u003cbr\\u003eMax Price: 245.30\",\"Teatro Pav\\u00f3n\\u003cbr\\u003eMax Price: 28.00\",\"Estadio Riyadh Air Metropolitano\\u003cbr\\u003eMax Price: 1495.50\",\"LA SALA (WIZINK CENTER)\\u003cbr\\u003eMax Price: 32.00\",\"IFEMA\\u003cbr\\u003eMax Price: 383.03\",\"Sala Villanos\\u003cbr\\u003eMax Price: 34.00\",\"Teatros Luchana (Sala 2)\\u003cbr\\u003eMax Price: 91.40\",\"Palacio Municipal - IFEMA MADRID\\u003cbr\\u003eMax Price: 177.50\",\"Sala Nazca\\u003cbr\\u003eMax Price: 23.00\",\"Palacio Vistalegre\\u003cbr\\u003eMax Price: 223.60\"],\"type\":\"scattermapbox\"}],                        {\"template\":{\"data\":{\"histogram2dcontour\":[{\"type\":\"histogram2dcontour\",\"colorbar\":{\"outlinewidth\":0,\"ticks\":\"\"},\"colorscale\":[[0.0,\"#0d0887\"],[0.1111111111111111,\"#46039f\"],[0.2222222222222222,\"#7201a8\"],[0.3333333333333333,\"#9c179e\"],[0.4444444444444444,\"#bd3786\"],[0.5555555555555556,\"#d8576b\"],[0.6666666666666666,\"#ed7953\"],[0.7777777777777778,\"#fb9f3a\"],[0.8888888888888888,\"#fdca26\"],[1.0,\"#f0f921\"]]}],\"choropleth\":[{\"type\":\"choropleth\",\"colorbar\":{\"outlinewidth\":0,\"ticks\":\"\"}}],\"histogram2d\":[{\"type\":\"histogram2d\",\"colorbar\":{\"outlinewidth\":0,\"ticks\":\"\"},\"colorscale\":[[0.0,\"#0d0887\"],[0.1111111111111111,\"#46039f\"],[0.2222222222222222,\"#7201a8\"],[0.3333333333333333,\"#9c179e\"],[0.4444444444444444,\"#bd3786\"],[0.5555555555555556,\"#d8576b\"],[0.6666666666666666,\"#ed7953\"],[0.7777777777777778,\"#fb9f3a\"],[0.8888888888888888,\"#fdca26\"],[1.0,\"#f0f921\"]]}],\"heatmap\":[{\"type\":\"heatmap\",\"colorbar\":{\"outlinewidth\":0,\"ticks\":\"\"},\"colorscale\":[[0.0,\"#0d0887\"],[0.1111111111111111,\"#46039f\"],[0.2222222222222222,\"#7201a8\"],[0.3333333333333333,\"#9c179e\"],[0.4444444444444444,\"#bd3786\"],[0.5555555555555556,\"#d8576b\"],[0.6666666666666666,\"#ed7953\"],[0.7777777777777778,\"#fb9f3a\"],[0.8888888888888888,\"#fdca26\"],[1.0,\"#f0f921\"]]}],\"heatmapgl\":[{\"type\":\"heatmapgl\",\"colorbar\":{\"outlinewidth\":0,\"ticks\":\"\"},\"colorscale\":[[0.0,\"#0d0887\"],[0.1111111111111111,\"#46039f\"],[0.2222222222222222,\"#7201a8\"],[0.3333333333333333,\"#9c179e\"],[0.4444444444444444,\"#bd3786\"],[0.5555555555555556,\"#d8576b\"],[0.6666666666666666,\"#ed7953\"],[0.7777777777777778,\"#fb9f3a\"],[0.8888888888888888,\"#fdca26\"],[1.0,\"#f0f921\"]]}],\"contourcarpet\":[{\"type\":\"contourcarpet\",\"colorbar\":{\"outlinewidth\":0,\"ticks\":\"\"}}],\"contour\":[{\"type\":\"contour\",\"colorbar\":{\"outlinewidth\":0,\"ticks\":\"\"},\"colorscale\":[[0.0,\"#0d0887\"],[0.1111111111111111,\"#46039f\"],[0.2222222222222222,\"#7201a8\"],[0.3333333333333333,\"#9c179e\"],[0.4444444444444444,\"#bd3786\"],[0.5555555555555556,\"#d8576b\"],[0.6666666666666666,\"#ed7953\"],[0.7777777777777778,\"#fb9f3a\"],[0.8888888888888888,\"#fdca26\"],[1.0,\"#f0f921\"]]}],\"surface\":[{\"type\":\"surface\",\"colorbar\":{\"outlinewidth\":0,\"ticks\":\"\"},\"colorscale\":[[0.0,\"#0d0887\"],[0.1111111111111111,\"#46039f\"],[0.2222222222222222,\"#7201a8\"],[0.3333333333333333,\"#9c179e\"],[0.4444444444444444,\"#bd3786\"],[0.5555555555555556,\"#d8576b\"],[0.6666666666666666,\"#ed7953\"],[0.7777777777777778,\"#fb9f3a\"],[0.8888888888888888,\"#fdca26\"],[1.0,\"#f0f921\"]]}],\"mesh3d\":[{\"type\":\"mesh3d\",\"colorbar\":{\"outlinewidth\":0,\"ticks\":\"\"}}],\"scatter\":[{\"fillpattern\":{\"fillmode\":\"overlay\",\"size\":10,\"solidity\":0.2},\"type\":\"scatter\"}],\"parcoords\":[{\"type\":\"parcoords\",\"line\":{\"colorbar\":{\"outlinewidth\":0,\"ticks\":\"\"}}}],\"scatterpolargl\":[{\"type\":\"scatterpolargl\",\"marker\":{\"colorbar\":{\"outlinewidth\":0,\"ticks\":\"\"}}}],\"bar\":[{\"error_x\":{\"color\":\"#2a3f5f\"},\"error_y\":{\"color\":\"#2a3f5f\"},\"marker\":{\"line\":{\"color\":\"#E5ECF6\",\"width\":0.5},\"pattern\":{\"fillmode\":\"overlay\",\"size\":10,\"solidity\":0.2}},\"type\":\"bar\"}],\"scattergeo\":[{\"type\":\"scattergeo\",\"marker\":{\"colorbar\":{\"outlinewidth\":0,\"ticks\":\"\"}}}],\"scatterpolar\":[{\"type\":\"scatterpolar\",\"marker\":{\"colorbar\":{\"outlinewidth\":0,\"ticks\":\"\"}}}],\"histogram\":[{\"marker\":{\"pattern\":{\"fillmode\":\"overlay\",\"size\":10,\"solidity\":0.2}},\"type\":\"histogram\"}],\"scattergl\":[{\"type\":\"scattergl\",\"marker\":{\"colorbar\":{\"outlinewidth\":0,\"ticks\":\"\"}}}],\"scatter3d\":[{\"type\":\"scatter3d\",\"line\":{\"colorbar\":{\"outlinewidth\":0,\"ticks\":\"\"}},\"marker\":{\"colorbar\":{\"outlinewidth\":0,\"ticks\":\"\"}}}],\"scattermapbox\":[{\"type\":\"scattermapbox\",\"marker\":{\"colorbar\":{\"outlinewidth\":0,\"ticks\":\"\"}}}],\"scatterternary\":[{\"type\":\"scatterternary\",\"marker\":{\"colorbar\":{\"outlinewidth\":0,\"ticks\":\"\"}}}],\"scattercarpet\":[{\"type\":\"scattercarpet\",\"marker\":{\"colorbar\":{\"outlinewidth\":0,\"ticks\":\"\"}}}],\"carpet\":[{\"aaxis\":{\"endlinecolor\":\"#2a3f5f\",\"gridcolor\":\"white\",\"linecolor\":\"white\",\"minorgridcolor\":\"white\",\"startlinecolor\":\"#2a3f5f\"},\"baxis\":{\"endlinecolor\":\"#2a3f5f\",\"gridcolor\":\"white\",\"linecolor\":\"white\",\"minorgridcolor\":\"white\",\"startlinecolor\":\"#2a3f5f\"},\"type\":\"carpet\"}],\"table\":[{\"cells\":{\"fill\":{\"color\":\"#EBF0F8\"},\"line\":{\"color\":\"white\"}},\"header\":{\"fill\":{\"color\":\"#C8D4E3\"},\"line\":{\"color\":\"white\"}},\"type\":\"table\"}],\"barpolar\":[{\"marker\":{\"line\":{\"color\":\"#E5ECF6\",\"width\":0.5},\"pattern\":{\"fillmode\":\"overlay\",\"size\":10,\"solidity\":0.2}},\"type\":\"barpolar\"}],\"pie\":[{\"automargin\":true,\"type\":\"pie\"}]},\"layout\":{\"autotypenumbers\":\"strict\",\"colorway\":[\"#636efa\",\"#EF553B\",\"#00cc96\",\"#ab63fa\",\"#FFA15A\",\"#19d3f3\",\"#FF6692\",\"#B6E880\",\"#FF97FF\",\"#FECB52\"],\"font\":{\"color\":\"#2a3f5f\"},\"hovermode\":\"closest\",\"hoverlabel\":{\"align\":\"left\"},\"paper_bgcolor\":\"white\",\"plot_bgcolor\":\"#E5ECF6\",\"polar\":{\"bgcolor\":\"#E5ECF6\",\"angularaxis\":{\"gridcolor\":\"white\",\"linecolor\":\"white\",\"ticks\":\"\"},\"radialaxis\":{\"gridcolor\":\"white\",\"linecolor\":\"white\",\"ticks\":\"\"}},\"ternary\":{\"bgcolor\":\"#E5ECF6\",\"aaxis\":{\"gridcolor\":\"white\",\"linecolor\":\"white\",\"ticks\":\"\"},\"baxis\":{\"gridcolor\":\"white\",\"linecolor\":\"white\",\"ticks\":\"\"},\"caxis\":{\"gridcolor\":\"white\",\"linecolor\":\"white\",\"ticks\":\"\"}},\"coloraxis\":{\"colorbar\":{\"outlinewidth\":0,\"ticks\":\"\"}},\"colorscale\":{\"sequential\":[[0.0,\"#0d0887\"],[0.1111111111111111,\"#46039f\"],[0.2222222222222222,\"#7201a8\"],[0.3333333333333333,\"#9c179e\"],[0.4444444444444444,\"#bd3786\"],[0.5555555555555556,\"#d8576b\"],[0.6666666666666666,\"#ed7953\"],[0.7777777777777778,\"#fb9f3a\"],[0.8888888888888888,\"#fdca26\"],[1.0,\"#f0f921\"]],\"sequentialminus\":[[0.0,\"#0d0887\"],[0.1111111111111111,\"#46039f\"],[0.2222222222222222,\"#7201a8\"],[0.3333333333333333,\"#9c179e\"],[0.4444444444444444,\"#bd3786\"],[0.5555555555555556,\"#d8576b\"],[0.6666666666666666,\"#ed7953\"],[0.7777777777777778,\"#fb9f3a\"],[0.8888888888888888,\"#fdca26\"],[1.0,\"#f0f921\"]],\"diverging\":[[0,\"#8e0152\"],[0.1,\"#c51b7d\"],[0.2,\"#de77ae\"],[0.3,\"#f1b6da\"],[0.4,\"#fde0ef\"],[0.5,\"#f7f7f7\"],[0.6,\"#e6f5d0\"],[0.7,\"#b8e186\"],[0.8,\"#7fbc41\"],[0.9,\"#4d9221\"],[1,\"#276419\"]]},\"xaxis\":{\"gridcolor\":\"white\",\"linecolor\":\"white\",\"ticks\":\"\",\"title\":{\"standoff\":15},\"zerolinecolor\":\"white\",\"automargin\":true,\"zerolinewidth\":2},\"yaxis\":{\"gridcolor\":\"white\",\"linecolor\":\"white\",\"ticks\":\"\",\"title\":{\"standoff\":15},\"zerolinecolor\":\"white\",\"automargin\":true,\"zerolinewidth\":2},\"scene\":{\"xaxis\":{\"backgroundcolor\":\"#E5ECF6\",\"gridcolor\":\"white\",\"linecolor\":\"white\",\"showbackground\":true,\"ticks\":\"\",\"zerolinecolor\":\"white\",\"gridwidth\":2},\"yaxis\":{\"backgroundcolor\":\"#E5ECF6\",\"gridcolor\":\"white\",\"linecolor\":\"white\",\"showbackground\":true,\"ticks\":\"\",\"zerolinecolor\":\"white\",\"gridwidth\":2},\"zaxis\":{\"backgroundcolor\":\"#E5ECF6\",\"gridcolor\":\"white\",\"linecolor\":\"white\",\"showbackground\":true,\"ticks\":\"\",\"zerolinecolor\":\"white\",\"gridwidth\":2}},\"shapedefaults\":{\"line\":{\"color\":\"#2a3f5f\"}},\"annotationdefaults\":{\"arrowcolor\":\"#2a3f5f\",\"arrowhead\":0,\"arrowwidth\":1},\"geo\":{\"bgcolor\":\"white\",\"landcolor\":\"#E5ECF6\",\"subunitcolor\":\"white\",\"showland\":true,\"showlakes\":true,\"lakecolor\":\"white\"},\"title\":{\"x\":0.05},\"mapbox\":{\"style\":\"light\"}}},\"mapbox\":{\"center\":{\"lat\":40.4239396969697,\"lon\":-3.6896734848484845},\"style\":\"carto-positron\",\"zoom\":11},\"margin\":{\"r\":0,\"t\":40,\"l\":0,\"b\":0},\"legend\":{\"traceorder\":\"reversed\"},\"title\":{\"text\":\"Bubble Map of Min and Max Prices by Venue in Madrid\"},\"height\":600,\"width\":1000},                        {\"responsive\": true}                    ).then(function(){\n",
       "                            \n",
       "var gd = document.getElementById('88cad4aa-15b3-42f6-83f2-d01e9ee91314');\n",
       "var x = new MutationObserver(function (mutations, observer) {{\n",
       "        var display = window.getComputedStyle(gd).display;\n",
       "        if (!display || display === 'none') {{\n",
       "            console.log([gd, 'removed!']);\n",
       "            Plotly.purge(gd);\n",
       "            observer.disconnect();\n",
       "        }}\n",
       "}});\n",
       "\n",
       "// Listen for the removal of the full notebook cells\n",
       "var notebookContainer = gd.closest('#notebook-container');\n",
       "if (notebookContainer) {{\n",
       "    x.observe(notebookContainer, {childList: true});\n",
       "}}\n",
       "\n",
       "// Listen for the clearing of the current output cell\n",
       "var outputEl = gd.closest('.output');\n",
       "if (outputEl) {{\n",
       "    x.observe(outputEl, {childList: true});\n",
       "}}\n",
       "\n",
       "                        })                };                });            </script>        </div>"
      ]
     },
     "metadata": {},
     "output_type": "display_data"
    }
   ],
   "execution_count": 152
  },
  {
   "metadata": {},
   "cell_type": "markdown",
   "source": "",
   "id": "a6d52c6b5b606377"
  }
 ],
 "metadata": {
  "kernelspec": {
   "display_name": "Python 3",
   "language": "python",
   "name": "python3"
  },
  "language_info": {
   "codemirror_mode": {
    "name": "ipython",
    "version": 2
   },
   "file_extension": ".py",
   "mimetype": "text/x-python",
   "name": "python",
   "nbconvert_exporter": "python",
   "pygments_lexer": "ipython2",
   "version": "2.7.6"
  }
 },
 "nbformat": 4,
 "nbformat_minor": 5
}
