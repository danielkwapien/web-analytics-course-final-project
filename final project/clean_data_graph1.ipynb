{
 "cells": [
  {
   "cell_type": "markdown",
   "metadata": {},
   "source": [
    "# Clead data for Graph 1\n"
   ]
  },
  {
   "cell_type": "markdown",
   "metadata": {},
   "source": [
    "# Performer-Genre Trends\n",
    "\n",
    "## Purpose\n",
    "Identify the popularity of different genres (e.g., music: pop, rock; sports: rugby, soccer) across the world by examining the performers and their associated genres. This graph will provide insights into:\n",
    "- **Universally appealing genres**: Genres with broad, global appeal.\n",
    "- **Locally preferred genres**: Genres that are popular in specific regions.\n",
    "\n",
    "## Analysis\n",
    "The graph will enable:\n",
    "- **Popularity Analysis**: Highlighting genres that are broadly popular based on performer count and genre connections.\n",
    "- **Niche Genres**: Identifying genres with limited appeal, primarily associated with a small number of performers.\n",
    "\n",
    "## Data Needed\n",
    "- **Performer Information**: Name and ID.\n",
    "- **Genre Information**: Type and ID.\n",
    "- **Relationships**: Connections between performers and the events they are associated with.\n",
    "\n",
    "## Metric\n",
    "**Degree Centrality**:  \n",
    "The number of connections a node has.  \n",
    "- In this context, the popularity of a genre will be measured based on the number of performers it is connected to.\n",
    "\n",
    "## Graph Type\n",
    "**Undirected Graph**:  \n",
    "- Represents the mutual relationship between performers and genres.\n",
    "- A performer belongs to a genre, and a genre represents its associated performers without implying directionality.\n",
    "\n",
    "## Sketch\n",
    "- **Nodes**: Performers and genres.\n",
    "- **Edges**: Connections between performers and their corresponding genres.\n"
   ]
  },
  {
   "cell_type": "code",
   "execution_count": 26,
   "metadata": {},
   "outputs": [
    {
     "name": "stdout",
     "output_type": "stream",
     "text": [
      "\n",
      "=== Genres ===\n",
      "      genre_id genre_name         sub_genre_id sub_genre_name\n",
      "0  KnvZfZ7vAeA       Rock  KZazBEonSMnZfZ7v6F1            Pop\n",
      "1  KnvZfZ7vAvl      Other  KZazBEonSMnZfZ7vk1I          Other\n",
      "2  KnvZfZ7vAAk  Wrestling  KZazBEonSMnZfZ7vFna      Wrestling\n",
      "3  KnvZfZ7vAev        Pop  KZazBEonSMnZfZ7vkJv    African Pop\n",
      "4  KnvZfZ7vAe6  Undefined  KZazBEonSMnZfZ7v6JI      Undefined\n",
      "\n",
      "=== Price_ranges ===\n",
      "        event_id                     type currency  min_price  max_price\n",
      "0  Z698xZ2qZa17W  standard including fees      EUR       51.0      554.5\n",
      "1  Z698xZ2qZa17W                 standard      EUR       45.0      500.0\n",
      "2  Z698xZ2qZa1Ad  standard including fees      EUR       51.0      558.5\n",
      "3  Z698xZ2qZa1Ad                 standard      EUR       45.0      500.0\n",
      "4  Z698xZ2qZa13A                 standard      EUR      297.0     6757.5\n",
      "\n",
      "=== Seat_maps ===\n",
      "        event_id                                         static_url\n",
      "0  Z698xZ2qZa17W  https://media.ticketmaster.eu/spain/937c9bcfe2...\n",
      "1  Z698xZ2qZa1Ad  https://media.ticketmaster.eu/spain/e16c1b14e1...\n",
      "2  Z698xZ2qZa13A  https://media.ticketmaster.eu/spain/bb08e4e8e6...\n",
      "3  Z698xZ2qZa18q  https://media.ticketmaster.eu/spain/0db1d3ddb1...\n",
      "4  Z698xZ2qZa13R  https://media.ticketmaster.eu/spain/d36b7c4cc9...\n",
      "\n",
      "=== Venues ===\n",
      "        venue_id                              name       city      state  \\\n",
      "0   Z198xZ2qZkek                     WiZink Center     Madrid     Madrid   \n",
      "1   Z198xZ2qZkek                     WiZink Center     Madrid     Madrid   \n",
      "2  Z598xZ2qZ6Fe1  Estadio Riyadh Air Metropolitano     Madrid     Madrid   \n",
      "3  Z598xZ2qZ6Fe1  Estadio Riyadh Air Metropolitano     Madrid     Madrid   \n",
      "4  Z598xZ2qZd7eF     Estadi Olímpic Lluis Companys  Barcelona  Barcelona   \n",
      "\n",
      "  country                  address  postalCode  latitude  longitude  \\\n",
      "0   Spain       Av. Felipe II, s/n     28009.0  40.42394   -3.67580   \n",
      "1   Spain       Av. Felipe II, s/n     28009.0  40.42394   -3.67580   \n",
      "2   Spain  Av. de Luis Aragonés, 4     28022.0  40.43624   -3.59947   \n",
      "3   Spain  Av. de Luis Aragonés, 4     28022.0  40.43624   -3.59947   \n",
      "4   Spain     Passeig Olímpic, 5-7      8038.0  41.36476    2.15565   \n",
      "\n",
      "   upcomingEvents  \n",
      "0              37  \n",
      "1              37  \n",
      "2               8  \n",
      "3               8  \n",
      "4               2  \n",
      "\n",
      "=== Artists ===\n",
      "     artist_id             name        type locale  \\\n",
      "0  K8vZ9171uq0   Paul McCartney  attraction  en-us   \n",
      "1  K8vZ9171uq0   Paul McCartney  attraction  en-us   \n",
      "2  K8vZ917GSz7  Imagine Dragons  attraction  en-us   \n",
      "3  K8vZ917GSz7  Imagine Dragons  attraction  en-us   \n",
      "4  K8vZ917GSz7  Imagine Dragons  attraction  en-us   \n",
      "\n",
      "                                      external_links  \n",
      "0  {'youtube': [{'url': 'https://www.youtube.com/...  \n",
      "1  {'youtube': [{'url': 'https://www.youtube.com/...  \n",
      "2  {'youtube': [{'url': 'https://www.youtube.com/...  \n",
      "3  {'youtube': [{'url': 'https://www.youtube.com/...  \n",
      "4  {'youtube': [{'url': 'https://www.youtube.com/...  \n",
      "\n",
      "=== Events ===\n",
      "        event_id                                             name   type  \\\n",
      "0  Z698xZ2qZa17W                    Paul McCartney: GOT BACK TOUR  event   \n",
      "1  Z698xZ2qZa1Ad                    Paul McCartney: GOT BACK TOUR  event   \n",
      "2  Z698xZ2qZa13A  Imagine Dragons: LOOM World Tour | VIP Packages  event   \n",
      "3  Z698xZ2qZa18q                 Imagine Dragons: LOOM World Tour  event   \n",
      "4  Z698xZ2qZa13R  Imagine Dragons: LOOM World Tour | VIP Packages  event   \n",
      "\n",
      "                                                 url locale  start_date  \\\n",
      "0  https://www.ticketmaster.es/event/paul-mccartn...  en-us  2024-12-09   \n",
      "1  https://www.ticketmaster.es/event/paul-mccartn...  en-us  2024-12-10   \n",
      "2  https://www.ticketmaster.es/event/imagine-drag...  en-us  2025-06-28   \n",
      "3  https://www.ticketmaster.es/event/imagine-drag...  en-us  2025-06-28   \n",
      "4  https://www.ticketmaster.es/event/imagine-drag...  en-us  2025-07-01   \n",
      "\n",
      "               end_date       timezone  status  span_multiple_days  \\\n",
      "0  2024-12-09T20:00:00Z  Europe/Madrid  onsale               False   \n",
      "1  2024-12-10T20:00:00Z  Europe/Madrid  onsale               False   \n",
      "2  2025-06-28T19:30:00Z  Europe/Madrid  onsale               False   \n",
      "3  2025-06-28T19:30:00Z  Europe/Madrid  onsale               False   \n",
      "4  2025-07-01T19:30:00Z  Europe/Madrid  onsale               False   \n",
      "\n",
      "        venue_id  \n",
      "0   Z198xZ2qZkek  \n",
      "1   Z198xZ2qZkek  \n",
      "2  Z598xZ2qZ6Fe1  \n",
      "3  Z598xZ2qZ6Fe1  \n",
      "4  Z598xZ2qZd7eF  \n"
     ]
    }
   ],
   "source": [
    "import pandas as pd\n",
    "\n",
    "# Define file paths\n",
    "file_paths = {\n",
    "    \"genres\": \"data/genres.csv\",\n",
    "    \"price_ranges\": \"data/price_ranges.csv\",\n",
    "    \"seat_maps\": \"data/seat_maps.csv\",\n",
    "    \"venues\": \"data/venues.csv\",\n",
    "    \"artists\": \"data/artists.csv\",\n",
    "    \"events\": \"data/events.csv\"\n",
    "}\n",
    "\n",
    "# Load the data into DataFrames\n",
    "dataframes = {name: pd.read_csv(path) for name, path in file_paths.items()}\n",
    "\n",
    "# Display the first few rows of each dataframe\n",
    "for name, df in dataframes.items():\n",
    "    print(f\"\\n=== {name.capitalize()} ===\")\n",
    "    print(df.head())\n"
   ]
  },
  {
   "cell_type": "code",
   "execution_count": 27,
   "metadata": {},
   "outputs": [
    {
     "name": "stdout",
     "output_type": "stream",
     "text": [
      "=== Genres Dataset ===\n",
      "Number of unique genres: 11\n",
      "Unique genres:\n",
      "['Rock' 'Other' 'Wrestling' 'Pop' 'Undefined' 'Classical' 'Alternative'\n",
      " 'Comedy' 'Dance/Electronic' 'Hip-Hop/Rap' 'Family']\n",
      "\n",
      "Number of unique sub-genres: 11\n",
      "Unique sub-genres:\n",
      "['Pop' 'Other' 'Wrestling' 'African Pop' 'Undefined' 'Classical/Vocal'\n",
      " 'Alternative Rock' 'Comedy' 'Dance/Electronic' 'Hip-Hop/Rap' 'Hard Rock']\n",
      "\n",
      "=== Artists Dataset ===\n",
      "Number of unique genres associated with artists: 1\n",
      "Unique genres in artists:\n",
      "['attraction']\n",
      "\n"
     ]
    }
   ],
   "source": [
    "# Analyze unique values and counts in genres and artists data\n",
    "genres_df = dataframes['genres']\n",
    "artists_df = dataframes['artists']\n",
    "\n",
    "# For genres dataset\n",
    "print(\"=== Genres Dataset ===\")\n",
    "print(f\"Number of unique genres: {genres_df['genre_name'].nunique()}\")\n",
    "print(f\"Unique genres:\\n{genres_df['genre_name'].unique()}\\n\")\n",
    "print(f\"Number of unique sub-genres: {genres_df['sub_genre_name'].nunique()}\")\n",
    "print(f\"Unique sub-genres:\\n{genres_df['sub_genre_name'].unique()}\\n\")\n",
    "\n",
    "# For artists dataset\n",
    "print(\"=== Artists Dataset ===\")\n",
    "print(f\"Number of unique genres associated with artists: {artists_df['type'].nunique()}\")\n",
    "print(f\"Unique genres in artists:\\n{artists_df['type'].unique()}\\n\")\n"
   ]
  },
  {
   "cell_type": "code",
   "execution_count": 28,
   "metadata": {},
   "outputs": [
    {
     "name": "stdout",
     "output_type": "stream",
     "text": [
      "       artist_name    artist_id genre_name     genre_id sub_genre_name  \\\n",
      "0   Paul McCartney  K8vZ9171uq0       Rock  KnvZfZ7vAeA            Pop   \n",
      "1   Paul McCartney  K8vZ9171uq0       Rock  KnvZfZ7vAeA            Pop   \n",
      "2  Imagine Dragons  K8vZ917GSz7       Rock  KnvZfZ7vAeA            Pop   \n",
      "3  Imagine Dragons  K8vZ917GSz7       Rock  KnvZfZ7vAeA            Pop   \n",
      "4  Imagine Dragons  K8vZ917GSz7       Rock  KnvZfZ7vAeA            Pop   \n",
      "\n",
      "          sub_genre_id  \n",
      "0  KZazBEonSMnZfZ7v6F1  \n",
      "1  KZazBEonSMnZfZ7v6F1  \n",
      "2  KZazBEonSMnZfZ7v6F1  \n",
      "3  KZazBEonSMnZfZ7v6F1  \n",
      "4  KZazBEonSMnZfZ7v6F1  \n"
     ]
    }
   ],
   "source": [
    "import json\n",
    "import pandas as pd\n",
    "\n",
    "\n",
    "with open('data/data.json', 'r') as f:\n",
    "    data = json.load(f)\n",
    "\n",
    "# Initialize a list to store artist-genre data\n",
    "artist_genre_data = []\n",
    "\n",
    "# Iterate over events\n",
    "events = data[\"_embedded\"][\"events\"]\n",
    "\n",
    "for event in events:\n",
    "    classifications = event.get(\"classifications\", [])\n",
    "\n",
    "    for classification in classifications:\n",
    "        \n",
    "        # Extract genre and sub-genre names and IDs\n",
    "        genre_name = classification.get(\"genre\", {}).get(\"name\")\n",
    "        genre_id = classification.get(\"genre\", {}).get(\"id\")\n",
    "        sub_genre_name = classification.get(\"subGenre\", {}).get(\"name\")\n",
    "        sub_genre_id = classification.get(\"subGenre\", {}).get(\"id\")\n",
    "        \n",
    "        # Extract artists\n",
    "        attractions = event.get(\"_embedded\", {}).get(\"attractions\", [])\n",
    "\n",
    "        for artist in attractions:\n",
    "            artist_name = artist.get(\"name\")\n",
    "            artist_id = artist.get(\"id\")\n",
    "            \n",
    "            # Append the extracted data to the list\n",
    "            artist_genre_data.append({\n",
    "                \"artist_name\": artist_name,\n",
    "                \"artist_id\": artist_id,\n",
    "                \"genre_name\": genre_name,\n",
    "                \"genre_id\": genre_id,\n",
    "                \"sub_genre_name\": sub_genre_name,\n",
    "                \"sub_genre_id\": sub_genre_id\n",
    "            })\n",
    "\n",
    "\n",
    "# Convert to DataFrame\n",
    "artist_genre_df = pd.DataFrame(artist_genre_data)\n",
    "\n",
    "# Display unique artist-genre associations\n",
    "print(artist_genre_df.head())\n"
   ]
  },
  {
   "cell_type": "code",
   "execution_count": 29,
   "metadata": {},
   "outputs": [
    {
     "name": "stdout",
     "output_type": "stream",
     "text": [
      "=== Unique Artists ===\n",
      "Number of unique artists: 77\n"
     ]
    }
   ],
   "source": [
    "# unique artists\n",
    "print(\"=== Unique Artists ===\")\n",
    "print(f\"Number of unique artists: {artist_genre_df['artist_name'].nunique()}\")"
   ]
  },
  {
   "cell_type": "code",
   "execution_count": 30,
   "metadata": {},
   "outputs": [
    {
     "name": "stdout",
     "output_type": "stream",
     "text": [
      "\n",
      "=== Unique Genres ===\n",
      "Number of unique genres: 10\n",
      "Unique genres:\n",
      "['Rock' 'Other' 'Wrestling' 'Undefined' 'Classical' 'Alternative' 'Comedy'\n",
      " 'Dance/Electronic' 'Hip-Hop/Rap' 'Family']\n"
     ]
    }
   ],
   "source": [
    "# unique genres\n",
    "print(\"\\n=== Unique Genres ===\")\n",
    "print(f\"Number of unique genres: {artist_genre_df['genre_name'].nunique()}\")\n",
    "print(f\"Unique genres:\\n{artist_genre_df['genre_name'].unique()}\")"
   ]
  },
  {
   "cell_type": "code",
   "execution_count": 31,
   "metadata": {},
   "outputs": [
    {
     "name": "stdout",
     "output_type": "stream",
     "text": [
      "\n",
      "=== Unique Sub-Genres ===\n",
      "Number of unique sub-genres: 10\n",
      "Unique sub-genres:\n",
      "['Pop' 'Other' 'Wrestling' 'Undefined' 'Classical/Vocal'\n",
      " 'Alternative Rock' 'Comedy' 'Dance/Electronic' 'Hip-Hop/Rap' 'Hard Rock']\n",
      "\n",
      "=== Genre Counts ===\n",
      "genre_name\n",
      "Rock                111\n",
      "Family               62\n",
      "Undefined            12\n",
      "Alternative          11\n",
      "Other                10\n",
      "Comedy                8\n",
      "Dance/Electronic      3\n",
      "Wrestling             2\n",
      "Classical             2\n",
      "Hip-Hop/Rap           1\n",
      "Name: count, dtype: int64\n",
      "\n",
      "=== Sub-Genre Counts ===\n",
      "sub_genre_name\n",
      "Pop                 109\n",
      "Other                72\n",
      "Undefined            12\n",
      "Alternative Rock     11\n",
      "Comedy                8\n",
      "Dance/Electronic      3\n",
      "Classical/Vocal       2\n",
      "Wrestling             2\n",
      "Hard Rock             2\n",
      "Hip-Hop/Rap           1\n",
      "Name: count, dtype: int64\n"
     ]
    }
   ],
   "source": [
    "# unique sub-genres\n",
    "print(\"\\n=== Unique Sub-Genres ===\")\n",
    "print(f\"Number of unique sub-genres: {artist_genre_df['sub_genre_name'].nunique()}\")\n",
    "print(f\"Unique sub-genres:\\n{artist_genre_df['sub_genre_name'].unique()}\")\n",
    "# count of instances of each genre\n",
    "print(\"\\n=== Genre Counts ===\")\n",
    "print(artist_genre_df['genre_name'].value_counts())\n",
    "# of each subgenre\n",
    "print(\"\\n=== Sub-Genre Counts ===\")\n",
    "print(artist_genre_df['sub_genre_name'].value_counts())"
   ]
  },
  {
   "cell_type": "code",
   "execution_count": 32,
   "metadata": {},
   "outputs": [
    {
     "name": "stdout",
     "output_type": "stream",
     "text": [
      "\n",
      "=== Unique Genre-Sub-Genre Associations ===\n",
      "          genre_name    sub_genre_name  count\n",
      "0        Alternative  Alternative Rock     11\n",
      "1          Classical   Classical/Vocal      2\n",
      "2             Comedy            Comedy      8\n",
      "3   Dance/Electronic  Dance/Electronic      3\n",
      "4             Family             Other     62\n",
      "5        Hip-Hop/Rap       Hip-Hop/Rap      1\n",
      "6              Other             Other     10\n",
      "7               Rock         Hard Rock      2\n",
      "8               Rock               Pop    109\n",
      "9          Undefined         Undefined     12\n",
      "10         Wrestling         Wrestling      2\n"
     ]
    }
   ],
   "source": [
    "# unqiue genre-subgenre associations\n",
    "print(\"\\n=== Unique Genre-Sub-Genre Associations ===\")\n",
    "unique_genre_sub_genre = artist_genre_df.groupby([\"genre_name\", \"sub_genre_name\"]).size().reset_index(name=\"count\")\n",
    "print(unique_genre_sub_genre)\n"
   ]
  },
  {
   "cell_type": "code",
   "execution_count": 33,
   "metadata": {},
   "outputs": [
    {
     "name": "stdout",
     "output_type": "stream",
     "text": [
      "\n",
      "=== Missing Values ===\n",
      "artist_name       0\n",
      "artist_id         0\n",
      "genre_name        0\n",
      "genre_id          0\n",
      "sub_genre_name    0\n",
      "sub_genre_id      0\n",
      "dtype: int64\n"
     ]
    }
   ],
   "source": [
    "# any missing values\n",
    "print(\"\\n=== Missing Values ===\")\n",
    "print(artist_genre_df.isnull().sum())"
   ]
  },
  {
   "cell_type": "code",
   "execution_count": 34,
   "metadata": {},
   "outputs": [
    {
     "name": "stdout",
     "output_type": "stream",
     "text": [
      "\n",
      "=== Artist-Genre Relationships ===\n",
      "                  artist_name genre_name  count\n",
      "13  Cirque du Soleil : Corteo     Family     31\n",
      "12           Cirque du Soleil     Family     31\n",
      "51                 Morgan Jay     Comedy      7\n",
      "14               Diego Torres       Rock      6\n",
      "5                   Anastacia       Rock      6\n",
      "..                        ...        ...    ...\n",
      "66                    Slimane       Rock      1\n",
      "63               Rebeka Brown  Undefined      1\n",
      "73          Twenty One Pilots      Other      1\n",
      "74          Twenty One Pilots       Rock      1\n",
      "76                     Weezer       Rock      1\n",
      "\n",
      "[79 rows x 3 columns]\n"
     ]
    }
   ],
   "source": [
    "# artist genre relationships\n",
    "print(\"\\n=== Artist-Genre Relationships ===\")\n",
    "artist_genre_relationships = artist_genre_df.groupby([\"artist_name\", \"genre_name\"]).size().reset_index(name=\"count\")\n",
    "# order by count\n",
    "print(artist_genre_relationships.sort_values(by=\"count\", ascending=False))"
   ]
  },
  {
   "cell_type": "markdown",
   "metadata": {},
   "source": [
    "basically the genere sub-gnere is redudnadant\n"
   ]
  },
  {
   "cell_type": "code",
   "execution_count": 35,
   "metadata": {},
   "outputs": [],
   "source": [
    "# column genre and subgeren with value Undefined reanme to Other\n",
    "artist_genre_df[\"genre_name\"] = artist_genre_df[\"genre_name\"].replace(\"Undefined\", \"Other\")\n",
    "artist_genre_df[\"sub_genre_name\"] = artist_genre_df[\"sub_genre_name\"].replace(\"Undefined\", \"Other\")"
   ]
  },
  {
   "cell_type": "code",
   "execution_count": 36,
   "metadata": {},
   "outputs": [
    {
     "name": "stdout",
     "output_type": "stream",
     "text": [
      "\n",
      "=== Unique Genres ===\n",
      "Number of unique genres: 9\n",
      "Unique genres:\n",
      "['Rock' 'Other' 'Wrestling' 'Classical' 'Alternative' 'Comedy'\n",
      " 'Dance/Electronic' 'Hip-Hop/Rap' 'Family']\n",
      "\n",
      "=== Unique Sub-Genres ===\n",
      "Number of unique sub-genres: 9\n",
      "Unique sub-genres:\n",
      "['Pop' 'Other' 'Wrestling' 'Classical/Vocal' 'Alternative Rock' 'Comedy'\n",
      " 'Dance/Electronic' 'Hip-Hop/Rap' 'Hard Rock']\n"
     ]
    }
   ],
   "source": [
    "# unique values in genre and subgenre   \n",
    "print(\"\\n=== Unique Genres ===\")\n",
    "print(f\"Number of unique genres: {artist_genre_df['genre_name'].nunique()}\")\n",
    "print(f\"Unique genres:\\n{artist_genre_df['genre_name'].unique()}\")\n",
    "print(\"\\n=== Unique Sub-Genres ===\")\n",
    "print(f\"Number of unique sub-genres: {artist_genre_df['sub_genre_name'].nunique()}\")\n",
    "print(f\"Unique sub-genres:\\n{artist_genre_df['sub_genre_name'].unique()}\")"
   ]
  },
  {
   "cell_type": "code",
   "execution_count": 37,
   "metadata": {},
   "outputs": [
    {
     "name": "stdout",
     "output_type": "stream",
     "text": [
      "\n",
      "=== Unique Genre-Sub-Genre Associations ===\n",
      "         genre_name    sub_genre_name  count\n",
      "8              Rock               Pop    109\n",
      "4            Family             Other     62\n",
      "6             Other             Other     22\n",
      "0       Alternative  Alternative Rock     11\n",
      "2            Comedy            Comedy      8\n",
      "3  Dance/Electronic  Dance/Electronic      3\n",
      "1         Classical   Classical/Vocal      2\n",
      "7              Rock         Hard Rock      2\n",
      "9         Wrestling         Wrestling      2\n",
      "5       Hip-Hop/Rap       Hip-Hop/Rap      1\n"
     ]
    }
   ],
   "source": [
    "# all combinations of genre and subgenre\n",
    "print(\"\\n=== Unique Genre-Sub-Genre Associations ===\")\n",
    "unique_genre_sub_genre = artist_genre_df.groupby([\"genre_name\", \"sub_genre_name\"]).size().reset_index(name=\"count\")\n",
    "print(unique_genre_sub_genre.sort_values(by=\"count\", ascending=False))"
   ]
  },
  {
   "cell_type": "code",
   "execution_count": 38,
   "metadata": {},
   "outputs": [
    {
     "name": "stdout",
     "output_type": "stream",
     "text": [
      "       artist_name    artist_id genre_name     genre_id sub_genre_name  \\\n",
      "0   Paul McCartney  K8vZ9171uq0       Rock  KnvZfZ7vAeA            Pop   \n",
      "1   Paul McCartney  K8vZ9171uq0       Rock  KnvZfZ7vAeA            Pop   \n",
      "2  Imagine Dragons  K8vZ917GSz7       Rock  KnvZfZ7vAeA            Pop   \n",
      "3  Imagine Dragons  K8vZ917GSz7       Rock  KnvZfZ7vAeA            Pop   \n",
      "4  Imagine Dragons  K8vZ917GSz7       Rock  KnvZfZ7vAeA            Pop   \n",
      "\n",
      "          sub_genre_id     Genre  \n",
      "0  KZazBEonSMnZfZ7v6F1  Rock/Pop  \n",
      "1  KZazBEonSMnZfZ7v6F1  Rock/Pop  \n",
      "2  KZazBEonSMnZfZ7v6F1  Rock/Pop  \n",
      "3  KZazBEonSMnZfZ7v6F1  Rock/Pop  \n",
      "4  KZazBEonSMnZfZ7v6F1  Rock/Pop  \n"
     ]
    }
   ],
   "source": [
    "genre_mapping = {\n",
    "    (\"Rock\", \"Pop\"): \"Rock/Pop\",\n",
    "    (\"Family\", \"Other\"): \"Family\",\n",
    "    (\"Other\", \"Other\"): \"Other\",\n",
    "    (\"Alternative\", \"Alternative Rock\"): \"Alternative Rock\",\n",
    "    (\"Comedy\", \"Comedy\"): \"Comedy\",\n",
    "    (\"Dance/Electronic\", \"Dance/Electronic\"): \"Dance/Electronic\",\n",
    "    (\"Classical\", \"Classical/Vocal\"): \"Classical/Vocal\",\n",
    "    (\"Rock\", \"Hard Rock\"): \"Hard Rock\",\n",
    "    (\"Wrestling\", \"Wrestling\"): \"Wrestling\",\n",
    "    (\"Hip-Hop/Rap\", \"Hip-Hop/Rap\"): \"Hip-Hop/Rap\"\n",
    "}\n",
    "\n",
    "# Create the new Genre column by mapping the tuples\n",
    "artist_genre_df[\"Genre\"] = artist_genre_df.apply(lambda row: genre_mapping.get((row[\"genre_name\"], row[\"sub_genre_name\"])), axis=1)\n",
    "\n",
    "print(artist_genre_df.head())"
   ]
  },
  {
   "cell_type": "code",
   "execution_count": 39,
   "metadata": {},
   "outputs": [
    {
     "name": "stdout",
     "output_type": "stream",
     "text": [
      "\n",
      "=== Unique Genres ===\n",
      "Number of unique genres: 10\n",
      "Unique genres:\n",
      "['Rock/Pop' 'Other' 'Wrestling' 'Classical/Vocal' 'Alternative Rock'\n",
      " 'Comedy' 'Dance/Electronic' 'Hip-Hop/Rap' 'Family' 'Hard Rock']\n"
     ]
    }
   ],
   "source": [
    "# print unique values in Genre\n",
    "print(\"\\n=== Unique Genres ===\")\n",
    "print(f\"Number of unique genres: {artist_genre_df['Genre'].nunique()}\") \n",
    "print(f\"Unique genres:\\n{artist_genre_df['Genre'].unique()}\")"
   ]
  },
  {
   "cell_type": "code",
   "execution_count": 40,
   "metadata": {},
   "outputs": [
    {
     "name": "stdout",
     "output_type": "stream",
     "text": [
      "\n",
      "=== Unique Genre-Sub-Genre Associations ===\n",
      "         genre_name    sub_genre_name             Genre  count\n",
      "8              Rock               Pop          Rock/Pop    109\n",
      "4            Family             Other            Family     62\n",
      "6             Other             Other             Other     22\n",
      "0       Alternative  Alternative Rock  Alternative Rock     11\n",
      "2            Comedy            Comedy            Comedy      8\n",
      "3  Dance/Electronic  Dance/Electronic  Dance/Electronic      3\n",
      "1         Classical   Classical/Vocal   Classical/Vocal      2\n",
      "7              Rock         Hard Rock         Hard Rock      2\n",
      "9         Wrestling         Wrestling         Wrestling      2\n",
      "5       Hip-Hop/Rap       Hip-Hop/Rap       Hip-Hop/Rap      1\n"
     ]
    }
   ],
   "source": [
    "# pirnt hte unique group by genre_name and sub_genre_name and Genre\n",
    "print(\"\\n=== Unique Genre-Sub-Genre Associations ===\")\n",
    "unique_genre_sub_genre = artist_genre_df.groupby([\"genre_name\", \"sub_genre_name\", \"Genre\"]).size().reset_index(name=\"count\")\n",
    "print(unique_genre_sub_genre.sort_values(by=\"count\", ascending=False))"
   ]
  },
  {
   "cell_type": "code",
   "execution_count": 41,
   "metadata": {},
   "outputs": [],
   "source": [
    "# save the artist-genre data to a CSV file\n",
    "artist_genre_df.to_csv(\"data/artist_genre_data.csv\", index=False)"
   ]
  }
 ],
 "metadata": {
  "kernelspec": {
   "display_name": "env",
   "language": "python",
   "name": "python3"
  },
  "language_info": {
   "codemirror_mode": {
    "name": "ipython",
    "version": 3
   },
   "file_extension": ".py",
   "mimetype": "text/x-python",
   "name": "python",
   "nbconvert_exporter": "python",
   "pygments_lexer": "ipython3",
   "version": "3.12.0"
  }
 },
 "nbformat": 4,
 "nbformat_minor": 2
}
